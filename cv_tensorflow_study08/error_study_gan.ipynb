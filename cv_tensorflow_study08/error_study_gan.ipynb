{
 "metadata": {
  "language_info": {
   "codemirror_mode": {
    "name": "ipython",
    "version": 3
   },
   "file_extension": ".py",
   "mimetype": "text/x-python",
   "name": "python",
   "nbconvert_exporter": "python",
   "pygments_lexer": "ipython3",
   "version": "3.8.2"
  },
  "orig_nbformat": 4,
  "kernelspec": {
   "name": "python3",
   "display_name": "Python 3.8.2 64-bit ('venv': venv)"
  },
  "interpreter": {
   "hash": "00e6ba363a83fc241c1ad136517a9a416cf32e748714f9042098e34e13f5dd77"
  }
 },
 "nbformat": 4,
 "nbformat_minor": 2,
 "cells": [
  {
   "source": [
    "## study_gan.ipynb"
   ],
   "cell_type": "markdown",
   "metadata": {}
  },
  {
   "cell_type": "code",
   "execution_count": 2,
   "metadata": {},
   "outputs": [],
   "source": [
    "import tensorflow as tf\n",
    "from tensorflow.keras import layers\n",
    "import numpy as np\n",
    "import matplotlib.pyplot as plt\n"
   ]
  },
  {
   "cell_type": "code",
   "execution_count": 3,
   "metadata": {},
   "outputs": [],
   "source": [
    "(train_images, train_ladels), (_, _) = tf.keras.datasets.mnist.load_data()"
   ]
  },
  {
   "cell_type": "code",
   "execution_count": 5,
   "metadata": {},
   "outputs": [
    {
     "output_type": "execute_result",
     "data": {
      "text/plain": [
       "((60000, 28, 28), (60000,))"
      ]
     },
     "metadata": {},
     "execution_count": 5
    }
   ],
   "source": [
    "train_images.shape, train_ladels.shape"
   ]
  },
  {
   "cell_type": "code",
   "execution_count": 7,
   "metadata": {},
   "outputs": [
    {
     "output_type": "stream",
     "name": "stdout",
     "text": [
      "31297\n0\n"
     ]
    },
    {
     "output_type": "execute_result",
     "data": {
      "text/plain": [
       "<matplotlib.image.AxesImage at 0x7fe09fdcfaf0>"
      ]
     },
     "metadata": {},
     "execution_count": 7
    },
    {
     "output_type": "display_data",
     "data": {
      "text/plain": "<Figure size 432x288 with 1 Axes>",
      "image/svg+xml": "<?xml version=\"1.0\" encoding=\"utf-8\" standalone=\"no\"?>\n<!DOCTYPE svg PUBLIC \"-//W3C//DTD SVG 1.1//EN\"\n  \"http://www.w3.org/Graphics/SVG/1.1/DTD/svg11.dtd\">\n<svg height=\"248.518125pt\" version=\"1.1\" viewBox=\"0 0 251.565 248.518125\" width=\"251.565pt\" xmlns=\"http://www.w3.org/2000/svg\" xmlns:xlink=\"http://www.w3.org/1999/xlink\">\n <metadata>\n  <rdf:RDF xmlns:cc=\"http://creativecommons.org/ns#\" xmlns:dc=\"http://purl.org/dc/elements/1.1/\" xmlns:rdf=\"http://www.w3.org/1999/02/22-rdf-syntax-ns#\">\n   <cc:Work>\n    <dc:type rdf:resource=\"http://purl.org/dc/dcmitype/StillImage\"/>\n    <dc:date>2021-07-11T09:43:00.640419</dc:date>\n    <dc:format>image/svg+xml</dc:format>\n    <dc:creator>\n     <cc:Agent>\n      <dc:title>Matplotlib v3.4.2, https://matplotlib.org/</dc:title>\n     </cc:Agent>\n    </dc:creator>\n   </cc:Work>\n  </rdf:RDF>\n </metadata>\n <defs>\n  <style type=\"text/css\">*{stroke-linecap:butt;stroke-linejoin:round;}</style>\n </defs>\n <g id=\"figure_1\">\n  <g id=\"patch_1\">\n   <path d=\"M 0 248.518125 \nL 251.565 248.518125 \nL 251.565 0 \nL 0 0 \nz\n\" style=\"fill:none;\"/>\n  </g>\n  <g id=\"axes_1\">\n   <g id=\"patch_2\">\n    <path d=\"M 26.925 224.64 \nL 244.365 224.64 \nL 244.365 7.2 \nL 26.925 7.2 \nz\n\" style=\"fill:#ffffff;\"/>\n   </g>\n   <g clip-path=\"url(#pb714692601)\">\n    <image height=\"218\" id=\"image6ae7a7b82e\" transform=\"scale(1 -1)translate(0 -218)\" width=\"218\" x=\"26.925\" xlink:href=\"data:image/png;base64,\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\" y=\"-6.64\"/>\n   </g>\n   <g id=\"matplotlib.axis_1\">\n    <g id=\"xtick_1\">\n     <g id=\"line2d_1\">\n      <defs>\n       <path d=\"M 0 0 \nL 0 3.5 \n\" id=\"ma37508cb98\" style=\"stroke:#000000;stroke-width:0.8;\"/>\n      </defs>\n      <g>\n       <use style=\"stroke:#000000;stroke-width:0.8;\" x=\"30.807857\" xlink:href=\"#ma37508cb98\" y=\"224.64\"/>\n      </g>\n     </g>\n     <g id=\"text_1\">\n      <!-- 0 -->\n      <g transform=\"translate(27.626607 239.238437)scale(0.1 -0.1)\">\n       <defs>\n        <path d=\"M 2034 4250 \nQ 1547 4250 1301 3770 \nQ 1056 3291 1056 2328 \nQ 1056 1369 1301 889 \nQ 1547 409 2034 409 \nQ 2525 409 2770 889 \nQ 3016 1369 3016 2328 \nQ 3016 3291 2770 3770 \nQ 2525 4250 2034 4250 \nz\nM 2034 4750 \nQ 2819 4750 3233 4129 \nQ 3647 3509 3647 2328 \nQ 3647 1150 3233 529 \nQ 2819 -91 2034 -91 \nQ 1250 -91 836 529 \nQ 422 1150 422 2328 \nQ 422 3509 836 4129 \nQ 1250 4750 2034 4750 \nz\n\" id=\"DejaVuSans-30\" transform=\"scale(0.015625)\"/>\n       </defs>\n       <use xlink:href=\"#DejaVuSans-30\"/>\n      </g>\n     </g>\n    </g>\n    <g id=\"xtick_2\">\n     <g id=\"line2d_2\">\n      <g>\n       <use style=\"stroke:#000000;stroke-width:0.8;\" x=\"69.636429\" xlink:href=\"#ma37508cb98\" y=\"224.64\"/>\n      </g>\n     </g>\n     <g id=\"text_2\">\n      <!-- 5 -->\n      <g transform=\"translate(66.455179 239.238437)scale(0.1 -0.1)\">\n       <defs>\n        <path d=\"M 691 4666 \nL 3169 4666 \nL 3169 4134 \nL 1269 4134 \nL 1269 2991 \nQ 1406 3038 1543 3061 \nQ 1681 3084 1819 3084 \nQ 2600 3084 3056 2656 \nQ 3513 2228 3513 1497 \nQ 3513 744 3044 326 \nQ 2575 -91 1722 -91 \nQ 1428 -91 1123 -41 \nQ 819 9 494 109 \nL 494 744 \nQ 775 591 1075 516 \nQ 1375 441 1709 441 \nQ 2250 441 2565 725 \nQ 2881 1009 2881 1497 \nQ 2881 1984 2565 2268 \nQ 2250 2553 1709 2553 \nQ 1456 2553 1204 2497 \nQ 953 2441 691 2322 \nL 691 4666 \nz\n\" id=\"DejaVuSans-35\" transform=\"scale(0.015625)\"/>\n       </defs>\n       <use xlink:href=\"#DejaVuSans-35\"/>\n      </g>\n     </g>\n    </g>\n    <g id=\"xtick_3\">\n     <g id=\"line2d_3\">\n      <g>\n       <use style=\"stroke:#000000;stroke-width:0.8;\" x=\"108.465\" xlink:href=\"#ma37508cb98\" y=\"224.64\"/>\n      </g>\n     </g>\n     <g id=\"text_3\">\n      <!-- 10 -->\n      <g transform=\"translate(102.1025 239.238437)scale(0.1 -0.1)\">\n       <defs>\n        <path d=\"M 794 531 \nL 1825 531 \nL 1825 4091 \nL 703 3866 \nL 703 4441 \nL 1819 4666 \nL 2450 4666 \nL 2450 531 \nL 3481 531 \nL 3481 0 \nL 794 0 \nL 794 531 \nz\n\" id=\"DejaVuSans-31\" transform=\"scale(0.015625)\"/>\n       </defs>\n       <use xlink:href=\"#DejaVuSans-31\"/>\n       <use x=\"63.623047\" xlink:href=\"#DejaVuSans-30\"/>\n      </g>\n     </g>\n    </g>\n    <g id=\"xtick_4\">\n     <g id=\"line2d_4\">\n      <g>\n       <use style=\"stroke:#000000;stroke-width:0.8;\" x=\"147.293571\" xlink:href=\"#ma37508cb98\" y=\"224.64\"/>\n      </g>\n     </g>\n     <g id=\"text_4\">\n      <!-- 15 -->\n      <g transform=\"translate(140.931071 239.238437)scale(0.1 -0.1)\">\n       <use xlink:href=\"#DejaVuSans-31\"/>\n       <use x=\"63.623047\" xlink:href=\"#DejaVuSans-35\"/>\n      </g>\n     </g>\n    </g>\n    <g id=\"xtick_5\">\n     <g id=\"line2d_5\">\n      <g>\n       <use style=\"stroke:#000000;stroke-width:0.8;\" x=\"186.122143\" xlink:href=\"#ma37508cb98\" y=\"224.64\"/>\n      </g>\n     </g>\n     <g id=\"text_5\">\n      <!-- 20 -->\n      <g transform=\"translate(179.759643 239.238437)scale(0.1 -0.1)\">\n       <defs>\n        <path d=\"M 1228 531 \nL 3431 531 \nL 3431 0 \nL 469 0 \nL 469 531 \nQ 828 903 1448 1529 \nQ 2069 2156 2228 2338 \nQ 2531 2678 2651 2914 \nQ 2772 3150 2772 3378 \nQ 2772 3750 2511 3984 \nQ 2250 4219 1831 4219 \nQ 1534 4219 1204 4116 \nQ 875 4013 500 3803 \nL 500 4441 \nQ 881 4594 1212 4672 \nQ 1544 4750 1819 4750 \nQ 2544 4750 2975 4387 \nQ 3406 4025 3406 3419 \nQ 3406 3131 3298 2873 \nQ 3191 2616 2906 2266 \nQ 2828 2175 2409 1742 \nQ 1991 1309 1228 531 \nz\n\" id=\"DejaVuSans-32\" transform=\"scale(0.015625)\"/>\n       </defs>\n       <use xlink:href=\"#DejaVuSans-32\"/>\n       <use x=\"63.623047\" xlink:href=\"#DejaVuSans-30\"/>\n      </g>\n     </g>\n    </g>\n    <g id=\"xtick_6\">\n     <g id=\"line2d_6\">\n      <g>\n       <use style=\"stroke:#000000;stroke-width:0.8;\" x=\"224.950714\" xlink:href=\"#ma37508cb98\" y=\"224.64\"/>\n      </g>\n     </g>\n     <g id=\"text_6\">\n      <!-- 25 -->\n      <g transform=\"translate(218.588214 239.238437)scale(0.1 -0.1)\">\n       <use xlink:href=\"#DejaVuSans-32\"/>\n       <use x=\"63.623047\" xlink:href=\"#DejaVuSans-35\"/>\n      </g>\n     </g>\n    </g>\n   </g>\n   <g id=\"matplotlib.axis_2\">\n    <g id=\"ytick_1\">\n     <g id=\"line2d_7\">\n      <defs>\n       <path d=\"M 0 0 \nL -3.5 0 \n\" id=\"m348277fffc\" style=\"stroke:#000000;stroke-width:0.8;\"/>\n      </defs>\n      <g>\n       <use style=\"stroke:#000000;stroke-width:0.8;\" x=\"26.925\" xlink:href=\"#m348277fffc\" y=\"11.082857\"/>\n      </g>\n     </g>\n     <g id=\"text_7\">\n      <!-- 0 -->\n      <g transform=\"translate(13.5625 14.882076)scale(0.1 -0.1)\">\n       <use xlink:href=\"#DejaVuSans-30\"/>\n      </g>\n     </g>\n    </g>\n    <g id=\"ytick_2\">\n     <g id=\"line2d_8\">\n      <g>\n       <use style=\"stroke:#000000;stroke-width:0.8;\" x=\"26.925\" xlink:href=\"#m348277fffc\" y=\"49.911429\"/>\n      </g>\n     </g>\n     <g id=\"text_8\">\n      <!-- 5 -->\n      <g transform=\"translate(13.5625 53.710647)scale(0.1 -0.1)\">\n       <use xlink:href=\"#DejaVuSans-35\"/>\n      </g>\n     </g>\n    </g>\n    <g id=\"ytick_3\">\n     <g id=\"line2d_9\">\n      <g>\n       <use style=\"stroke:#000000;stroke-width:0.8;\" x=\"26.925\" xlink:href=\"#m348277fffc\" y=\"88.74\"/>\n      </g>\n     </g>\n     <g id=\"text_9\">\n      <!-- 10 -->\n      <g transform=\"translate(7.2 92.539219)scale(0.1 -0.1)\">\n       <use xlink:href=\"#DejaVuSans-31\"/>\n       <use x=\"63.623047\" xlink:href=\"#DejaVuSans-30\"/>\n      </g>\n     </g>\n    </g>\n    <g id=\"ytick_4\">\n     <g id=\"line2d_10\">\n      <g>\n       <use style=\"stroke:#000000;stroke-width:0.8;\" x=\"26.925\" xlink:href=\"#m348277fffc\" y=\"127.568571\"/>\n      </g>\n     </g>\n     <g id=\"text_10\">\n      <!-- 15 -->\n      <g transform=\"translate(7.2 131.36779)scale(0.1 -0.1)\">\n       <use xlink:href=\"#DejaVuSans-31\"/>\n       <use x=\"63.623047\" xlink:href=\"#DejaVuSans-35\"/>\n      </g>\n     </g>\n    </g>\n    <g id=\"ytick_5\">\n     <g id=\"line2d_11\">\n      <g>\n       <use style=\"stroke:#000000;stroke-width:0.8;\" x=\"26.925\" xlink:href=\"#m348277fffc\" y=\"166.397143\"/>\n      </g>\n     </g>\n     <g id=\"text_11\">\n      <!-- 20 -->\n      <g transform=\"translate(7.2 170.196362)scale(0.1 -0.1)\">\n       <use xlink:href=\"#DejaVuSans-32\"/>\n       <use x=\"63.623047\" xlink:href=\"#DejaVuSans-30\"/>\n      </g>\n     </g>\n    </g>\n    <g id=\"ytick_6\">\n     <g id=\"line2d_12\">\n      <g>\n       <use style=\"stroke:#000000;stroke-width:0.8;\" x=\"26.925\" xlink:href=\"#m348277fffc\" y=\"205.225714\"/>\n      </g>\n     </g>\n     <g id=\"text_12\">\n      <!-- 25 -->\n      <g transform=\"translate(7.2 209.024933)scale(0.1 -0.1)\">\n       <use xlink:href=\"#DejaVuSans-32\"/>\n       <use x=\"63.623047\" xlink:href=\"#DejaVuSans-35\"/>\n      </g>\n     </g>\n    </g>\n   </g>\n   <g id=\"patch_3\">\n    <path d=\"M 26.925 224.64 \nL 26.925 7.2 \n\" style=\"fill:none;stroke:#000000;stroke-linecap:square;stroke-linejoin:miter;stroke-width:0.8;\"/>\n   </g>\n   <g id=\"patch_4\">\n    <path d=\"M 244.365 224.64 \nL 244.365 7.2 \n\" style=\"fill:none;stroke:#000000;stroke-linecap:square;stroke-linejoin:miter;stroke-width:0.8;\"/>\n   </g>\n   <g id=\"patch_5\">\n    <path d=\"M 26.925 224.64 \nL 244.365 224.64 \n\" style=\"fill:none;stroke:#000000;stroke-linecap:square;stroke-linejoin:miter;stroke-width:0.8;\"/>\n   </g>\n   <g id=\"patch_6\">\n    <path d=\"M 26.925 7.2 \nL 244.365 7.2 \n\" style=\"fill:none;stroke:#000000;stroke-linecap:square;stroke-linejoin:miter;stroke-width:0.8;\"/>\n   </g>\n  </g>\n </g>\n <defs>\n  <clipPath id=\"pb714692601\">\n   <rect height=\"217.44\" width=\"217.44\" x=\"26.925\" y=\"7.2\"/>\n  </clipPath>\n </defs>\n</svg>\n",
      "image/png": "[encoded data removed]"
     },
     "metadata": {
      "needs_background": "light"
     }
    }
   ],
   "source": [
    "i = np.random.randint(0, 60000) # 0 ~ 59,999\n",
    "print(i)\n",
    "print(train_ladels[i]) # 라벨\n",
    "plt.imshow(train_images[i], cmap=\"gray\")"
   ]
  },
  {
   "cell_type": "code",
   "execution_count": 8,
   "metadata": {},
   "outputs": [],
   "source": [
    "train_images = train_images.reshape(train_images.shape[0], 28, 28, 1).astype('float32')\n",
    "train_images = (train_images - 127.5) / 127.5 # 이미지를 [-1, 1]로 정규화합니다."
   ]
  },
  {
   "cell_type": "code",
   "execution_count": 9,
   "metadata": {},
   "outputs": [],
   "source": [
    "BUFFER_SIZE = 60000\n",
    "BATCH_SIZE = 256"
   ]
  },
  {
   "cell_type": "code",
   "execution_count": 10,
   "metadata": {},
   "outputs": [
    {
     "output_type": "stream",
     "name": "stderr",
     "text": [
      "2021-07-11 09:43:27.947442: I tensorflow/core/platform/cpu_feature_guard.cc:142] This TensorFlow binary is optimized with oneAPI Deep Neural Network Library (oneDNN) to use the following CPU instructions in performance-critical operations:  AVX2 FMA\nTo enable them in other operations, rebuild TensorFlow with the appropriate compiler flags.\n"
     ]
    }
   ],
   "source": [
    "# 데이터 배치를 만들고 섞습니다.\n",
    "train_dataset = tf.data.Dataset.from_tensor_slices(train_images).shuffle(BUFFER_SIZE).batch(BATCH_SIZE)"
   ]
  },
  {
   "cell_type": "code",
   "execution_count": 11,
   "metadata": {},
   "outputs": [],
   "source": [
    "def make_generator_model():\n",
    "    model = tf.keras.Sequential()\n",
    "    model.add(layers.Dense(7*7*256, use_bias=False, input_shape=(100,)))\n",
    "    model.add(layers.BatchNormalization())\n",
    "    model.add(layers.LeakyReLU())\n",
    "\n",
    "    model.add(layers.Reshape((7, 7, 256)))\n",
    "    assert model.output_shape == (None, 7, 7, 256) # 주목: 배치사이즈로 None이 주어집니다.\n",
    "\n",
    "    model.add(layers.Conv2DTranspose(128, (5, 5), strides=(1, 1), padding='same', use_bias=False))\n",
    "    assert model.output_shape == (None, 7, 7, 128)\n",
    "    model.add(layers.BatchNormalization())\n",
    "    model.add(layers.LeakyReLU())\n",
    "\n",
    "    model.add(layers.Conv2DTranspose(64, (5, 5), strides=(2, 2), padding='same', use_bias=False))\n",
    "    assert model.output_shape == (None, 14, 14, 64)\n",
    "    model.add(layers.BatchNormalization())\n",
    "    model.add(layers.LeakyReLU())\n",
    "\n",
    "    model.add(layers.Conv2DTranspose(1, (5, 5), strides=(2, 2), padding='same', use_bias=False, activation='tanh'))\n",
    "    assert model.output_shape == (None, 28, 28, 1)\n",
    "\n",
    "    return model"
   ]
  },
  {
   "cell_type": "code",
   "execution_count": 18,
   "metadata": {},
   "outputs": [],
   "source": [
    "generator = make_generator_model()\n",
    "\n",
    "noise = tf.random.normal([1, 100])\n",
    "generated_image = generator(noise, training=False)\n",
    "\n",
    "plt.imshow(generated_image[0, :, :, 0], cmap='gray')"
   ]
  },
  {
   "cell_type": "code",
   "execution_count": 12,
   "metadata": {},
   "outputs": [
    {
     "output_type": "execute_result",
     "data": {
      "text/plain": [
       "<matplotlib.image.AxesImage at 0x7fe0a08fd280>"
      ]
     },
     "metadata": {},
     "execution_count": 12
    },
    {
     "output_type": "display_data",
     "data": {
      "text/plain": "<Figure size 432x288 with 1 Axes>",
      "image/svg+xml": "<?xml version=\"1.0\" encoding=\"utf-8\" standalone=\"no\"?>\n<!DOCTYPE svg PUBLIC \"-//W3C//DTD SVG 1.1//EN\"\n  \"http://www.w3.org/Graphics/SVG/1.1/DTD/svg11.dtd\">\n<svg height=\"248.518125pt\" version=\"1.1\" viewBox=\"0 0 251.565 248.518125\" width=\"251.565pt\" xmlns=\"http://www.w3.org/2000/svg\" xmlns:xlink=\"http://www.w3.org/1999/xlink\">\n <metadata>\n  <rdf:RDF xmlns:cc=\"http://creativecommons.org/ns#\" xmlns:dc=\"http://purl.org/dc/elements/1.1/\" xmlns:rdf=\"http://www.w3.org/1999/02/22-rdf-syntax-ns#\">\n   <cc:Work>\n    <dc:type rdf:resource=\"http://purl.org/dc/dcmitype/StillImage\"/>\n    <dc:date>2021-07-11T09:44:07.998929</dc:date>\n    <dc:format>image/svg+xml</dc:format>\n    <dc:creator>\n     <cc:Agent>\n      <dc:title>Matplotlib v3.4.2, https://matplotlib.org/</dc:title>\n     </cc:Agent>\n    </dc:creator>\n   </cc:Work>\n  </rdf:RDF>\n </metadata>\n <defs>\n  <style type=\"text/css\">*{stroke-linecap:butt;stroke-linejoin:round;}</style>\n </defs>\n <g id=\"figure_1\">\n  <g id=\"patch_1\">\n   <path d=\"M 0 248.518125 \nL 251.565 248.518125 \nL 251.565 0 \nL 0 0 \nz\n\" style=\"fill:none;\"/>\n  </g>\n  <g id=\"axes_1\">\n   <g id=\"patch_2\">\n    <path d=\"M 26.925 224.64 \nL 244.365 224.64 \nL 244.365 7.2 \nL 26.925 7.2 \nz\n\" style=\"fill:#ffffff;\"/>\n   </g>\n   <g clip-path=\"url(#p0857bc6a3f)\">\n    <image height=\"218\" id=\"image27f31a8ad5\" transform=\"scale(1 -1)translate(0 -218)\" width=\"218\" x=\"26.925\" xlink:href=\"data:image/png;base64,\niVBORw0KGgoAAAANSUhEUgAAANoAAADaCAYAAADAHVzbAAAPOUlEQVR4nO3da2jW9RvH8e+93Zs7uDY3TaebzsNcnlam67BB5EhtlVApRUZJ4QMpyHoQET0ogiIkJAxLi6gRbVFOisKgs4VoabVp2tradO7g2Xnc5g76f/J/+v1cf+zP9ej9evrxup33fV/9YFfX95toaGi4EoQzZ86oOBw9ejSaJRIJWZuXlyfzQ4cOXXX9vHnzZG1XV5fMd+zYIfNFixbJvLu7O5oVFhbK2uHhYZkPDg7KXH0mIYRQXl4ezbZv3y5rKysrZZ6WliZz9W/btWuXrK2oqJD5wMCAzIuLi2Wu/u3W96mtrU3mKTIF8H9BowEOaDTAAY0GOKDRAAc0GuCARgMcJDZv3iznaBkZGfIF1EzImmscOXJE5hMnTpT5sWPHollnZ6esXbp0qcytWdbJkydlPn78+GjW3Nwsa1NTU2WenZ0t856eHplPmTIlmo0ZM0bWdnR0yDyZTMq8sbExms2ZM0fWWvPB06dPyzw/P1/m6vs2MjIia63vG080wAGNBjig0QAHNBrggEYDHNBogAMaDXCQvPbaa+Uf+PPPP2WuZmXWPlpKiu5za2estLQ0mm3atEnW9vf3y3z06NEyt+ZwdXV10SwrK0vWWnOwmpoamU+aNEnmX331VTQrKiqStWvWrJF5S0uLzA8fPhzNTpw4IWutueqpU6dkbs0n1Vw2NzdX1paUlMicJxrggEYDHNBogAMaDXBAowEOaDTAQeKTTz6RazKXLl2SL6B+7dna2iprc3JyZL5z506Z33///dHs4sWLslatioRgr7Jcd911Mlf/9t7eXllr/WzWuohVv3v37mhmfSZlZWUyt3429foHDx6Utddff73ML1++LPN/c4yftZrU1NQkc55ogAMaDXBAowEOaDTAAY0GOKDRAAc0GuAgaV2z8/nnn8v8xhtvjGbWTKavr0/m1gqPWgexZibWv8uayVjUqot1rJo1P1ywYIHMrau2Jk+eHM3q6+tlrXVtk3VcnTpi8JtvvpG1ixcvlvnZs2dlfuDAAZmrq7qqqqpk7ZUrchzNEw3wQKMBDmg0wAGNBjig0QAHNBrggEYDHCQ+/PBDOQBQ1w+FoOci1hxt7969Mrf2jw4dOhTNrDmYNT+cP3++zK1j1dQVQtZ7eu+998rcmrNlZmbK3JqzKdas6vjx4zIfO3ZsNLN2vsaNGyfzPXv2yLygoEDm6ri6efPmyVp1HVUIPNEAFzQa4IBGAxzQaIADGg1wQKMBDmg0wIE5R7PO2svLy4tm1szFmudY9epcx9raWllr7U1Z50KuWrVK5uq6K+vKp3feeUfmTzzxhMy//PJLmefn50ezbdu2ydpnn31W5s8995zM77777mhmXaU1depUmb/22msyX716tczVTpk1l+3o6JA5TzTAAY0GOKDRAAc0GuCARgMc0GiAAxoNcJC05gPWvEnt+Fj7P9bda9ZsoqioKJplZWXJ2oULF8pcnRkZgr3Ppv5+6964mpoamVvnE6pduBD053LXXXfJWmvH0Dr3UdWru/ZCsM/5vO+++2Q+d+5cmVvfGeXChQsy54kGOKDRAAc0GuCARgMc0GiAAxoNcJBUKxMhhJCSontRrcmo47tC0OsaIdjX+KgVHmu00NbWJvNNmzbJfO3atTJPTU2NZtb70tDQIPOXX35Z5ocPH5Z5IpGIZuvWrZO11hqMNfZIT0+PZl988YWsfeihh2RurVVZK0Dq+6RWskKw16p4ogEOaDTAAY0GOKDRAAc0GuCARgMc0GiAg8S7774rj5sbPXq0fAF1Dc9vv/0ma61VlOHhYZm3t7dHs3Pnzsna2bNny7ywsFDmpaWlMm9ubo5mxcXFsrarq0vm1rFs1rqHmrNZazBz5syRuXWdlfpcZs2aJWutK6HUNV4hhHDTTTfJXK3pWFeMWetkPNEABzQa4IBGAxzQaIADGg1wQKMBDmg0wEFS7SaFEEJjY6PMly9fHs3UTlYI9lU4ancpBH38WHZ2tqy15mjW9UTPP/+8zN96661o9uijj8ra33//Xebr16+X+WOPPSZztc/24osvytqZM2fK3Nq1U/OmnTt3ytqKigqZW3Pbzz77TOajRo2KZmVlZbJ2//79MueJBjig0QAHNBrggEYDHNBogAMaDXBAowEOEnV1dXIfzXwBMYezdnSs/SFrr0qdIZhMJmXtyMiIzK2rlZYtWyZzdSbl+PHjZW1nZ6fMrZ0wa540Y8aMaNbX1ydrJ0yYIPPz58/LXH2m06dPl7XWHt7WrVtlbu0YDg0NRbOJEyfKWuuqLJ5ogAMaDXBAowEOaDTAAY0GOKDRAAdJ63//b2pqkrlaLfjrr79krfXr2h07dsi8pKQkml1zzTWytry8XObvvfeezC3q173qPQshhBdeeEHmGzZskHllZaXM1fVEdXV1svbhhx+WeWZmpszVOOjVV1+VtWvWrJG5da2TOp4whBA+/fTTaGZ9n6zvMk80wAGNBjig0QAHNBrggEYDHNBogAMaDXCQ2LBhg1yTsVY61BVACxYskLXWEV3jxo2TuVrZ2Ldv31XXhhDCwoULZd7T0yPzI0eORLOUFP3fN+sYPmumc+WK3nxSR8JZx8lZVyctWrRI5m+++WY0U+s7IYQwODgoc2tua63JVFVVRTNr9chaD+KJBjig0QAHNBrggEYDHNBogAMaDXBAowEOkgUFBfIP/PDDDzJXVwTt2rVL1ubm5sr8jTfekPkzzzwTzb777jtZu3btWpmvWLFC5tZulPrZ3377bVlr7YRZe1sPPvigzNX79vTTT8va+vp6ma9bt07maofQmlUtWbJE5tb37eabb5a5Ov7QuoLMOiqPJxrggEYDHNBogAMaDXBAowEOaDTAAY0GOEisX79eLi9NmzZNvoDajVLn5IUQQl5ensxvueUWmSvDw8My7+7ulnlbW5vMn3rqKZm///770cyaXfb29sq8urpa5n/88YfM1T7c0aNHZe3AwIDMT5w4IXM1w1NnPoagdx9DsHfCrO+bmqOp+V8IIVy4cEHmPNEABzQa4IBGAxzQaIADGg1wQKMBDmg0wEHSOjtx586dMi8tLY1mNTU1sjYtLU3mLS0tMldnTlozl7Nnz8pcncsYQgidnZ0yV3M468zIr7/+Wua33367zNXdbCGEkJ6eHs0++ugjWfvSSy/J3JplqT3B119/XdY2NDTI3PrMrJ2yjRs3RrPVq1fL2vnz58ucJxrggEYDHNBogAMaDXBAowEOaDTAQWLjxo1yTaa8vFy+gPo1urVqYq1F3HrrrTJXv97fu3evrM3MzJS5Nfb4+++/Za7eF2uV5IEHHpD5jz/+KHNrvUhdvTR58mRZ29fXJ/Pdu3fL/OLFi9HM+q5ZqyhFRUUy37Fjh8zVqMq6psu6iosnGuCARgMc0GiAAxoNcECjAQ5oNMABjQY4SFrzpK1bt8pcrXxYc4+pU6fK3JpdHDt2LJr99NNPsnblypUyb29vl3kymZT57Nmzo1l2dras3bBhg8xra2tlftttt8l88+bN0eyDDz6QtXfccYfMW1tbZf7kk09Gs6ysLFk7NDQk859//lnm1pFx6vt2ww03yNr9+/fLnCca4IBGAxzQaIADGg1wQKMBDmg0wAGNBjhIbNmyRe6jHTx4UL7AlClTopm1m2RdX2RRM7ympiZZax11Z137ZM1Vtm3bFs2so+7mzZsn88HBQZnn5OTIfNSoUdHMmoPNmTNH5urqoxD07FP9XCHYe3qvvPKKzK39RnWtU0ZGhqxVe3Yh8EQDXNBogAMaDXBAowEOaDTAAY0GOKDRAAfJ/v5++QcGBgZkPjIyEs3mzp0ra60ZnTXTGTNmTDSzrtGxXnvfvn0yv3JFjh/l+YiXLl2Stda+2eOPPy7zpUuXylxdOWVd27Rs2TKZW/NHNTu1rquyzuq0PvMZM2bIXJ37WFZWJmuta8J4ogEOaDTAAY0GOKDRAAc0GuCARgMc0GiAg0RdXZ0cCFnzotTU1Gh2/vx5WTtt2jSZW2flqfvRLl++LGutGV51dbXMW1paZK5miNauXFVVlczPnTsn8++//17mY8eOjWZqJysEPTcNwZ6j/frrr9Fs8eLFstaaP3Z1dcncOmd0+vTp0ay3t1fWWt83nmiAAxoNcECjAQ5oNMABjQY4oNEAB8kzZ87IP2BdpXP69Olo1tHRIWtnzpwpc+vXsYWFhdHs22+/lbX33HOPzK1fwS9fvlzmd955ZzTbuHGjrF2/fr3MV6xYIXNrxWf16tXRzDouzjoqb8+ePTKfNGlSNFOjohD0OCeEED7++GOZW5+5uorL+rv/+ecfmfNEAxzQaIADGg1wQKMBDmg0wAGNBjig0QAHydzcXPkHrP/9f9y4cdFMXekUgn1EV0lJiczVSseECRNkrTU/tNaDtm/fLvO1a9dGMzV7/F/+buvYNLUGE4J+362/25p9FhUVyVzNZa3vmjWrsq6UKi4ulnl7e3s0U/O/EELo6+uTOU80wAGNBjig0QAHNBrggEYDHNBogAMaDXAQX8D5L2s/adasWdHMOqLLOj6su7tb5moGmJ6eLmubm5tlfuLECZmvWrVK5urfZh0XNzg4KHNr/mjNo9Qcz/q81ZFsIYTQ2Ngo88rKymhWX18va1euXClz6zO3dunUUXhLliyRtdbMlyca4IBGAxzQaIADGg1wQKMBDmg0wAGNBjhI1NbWygWknJwc+QJq5pOdnS1rL168KHNrB6i/vz+a9fT0yNr8/Pyrfu0Q7OuJBgYGopm1p2ddP2Sdf2i9b2rvSp2VGcK/O7cxBD37VO/Z/5JbV06NGTNG5up9tT6TU6dOyZwnGuCARgMc0GiAAxoNcECjAQ5oNMBB0lotSEnRvVhQUBDNrKuPKioqZJ6WlibzjIyMaNba2iprrXUPa4VHHbMXQgj79++PZp2dnbL25MmTMq+urpb5gQMHZK6OhLOOm3vkkUdkXltbK3P16//jx4/LWus4uV9++UXm1hGEav2ovLxc1lrHF/JEAxzQaIADGg1wQKMBDmg0wAGNBjig0QAHiS1btsjBSSKRkC+gjvCyrvCxrroZGRmRuVq5sK74SSb1SXtWrq4fCkHP4YaGhmTt6NGjr/q1Q7Bnn2p9Sc1FQ9ArNiHYqyjnz5+PZtYxef/2fbE+U/W+qZ87BPtn44kGOKDRAAc0GuCARgMc0GiAAxoNcECjAQ7+A5w2rBddEyGDAAAAAElFTkSuQmCC\" y=\"-6.64\"/>\n   </g>\n   <g id=\"matplotlib.axis_1\">\n    <g id=\"xtick_1\">\n     <g id=\"line2d_1\">\n      <defs>\n       <path d=\"M 0 0 \nL 0 3.5 \n\" id=\"m342d5fef2f\" style=\"stroke:#000000;stroke-width:0.8;\"/>\n      </defs>\n      <g>\n       <use style=\"stroke:#000000;stroke-width:0.8;\" x=\"30.807857\" xlink:href=\"#m342d5fef2f\" y=\"224.64\"/>\n      </g>\n     </g>\n     <g id=\"text_1\">\n      <!-- 0 -->\n      <g transform=\"translate(27.626607 239.238437)scale(0.1 -0.1)\">\n       <defs>\n        <path d=\"M 2034 4250 \nQ 1547 4250 1301 3770 \nQ 1056 3291 1056 2328 \nQ 1056 1369 1301 889 \nQ 1547 409 2034 409 \nQ 2525 409 2770 889 \nQ 3016 1369 3016 2328 \nQ 3016 3291 2770 3770 \nQ 2525 4250 2034 4250 \nz\nM 2034 4750 \nQ 2819 4750 3233 4129 \nQ 3647 3509 3647 2328 \nQ 3647 1150 3233 529 \nQ 2819 -91 2034 -91 \nQ 1250 -91 836 529 \nQ 422 1150 422 2328 \nQ 422 3509 836 4129 \nQ 1250 4750 2034 4750 \nz\n\" id=\"DejaVuSans-30\" transform=\"scale(0.015625)\"/>\n       </defs>\n       <use xlink:href=\"#DejaVuSans-30\"/>\n      </g>\n     </g>\n    </g>\n    <g id=\"xtick_2\">\n     <g id=\"line2d_2\">\n      <g>\n       <use style=\"stroke:#000000;stroke-width:0.8;\" x=\"69.636429\" xlink:href=\"#m342d5fef2f\" y=\"224.64\"/>\n      </g>\n     </g>\n     <g id=\"text_2\">\n      <!-- 5 -->\n      <g transform=\"translate(66.455179 239.238437)scale(0.1 -0.1)\">\n       <defs>\n        <path d=\"M 691 4666 \nL 3169 4666 \nL 3169 4134 \nL 1269 4134 \nL 1269 2991 \nQ 1406 3038 1543 3061 \nQ 1681 3084 1819 3084 \nQ 2600 3084 3056 2656 \nQ 3513 2228 3513 1497 \nQ 3513 744 3044 326 \nQ 2575 -91 1722 -91 \nQ 1428 -91 1123 -41 \nQ 819 9 494 109 \nL 494 744 \nQ 775 591 1075 516 \nQ 1375 441 1709 441 \nQ 2250 441 2565 725 \nQ 2881 1009 2881 1497 \nQ 2881 1984 2565 2268 \nQ 2250 2553 1709 2553 \nQ 1456 2553 1204 2497 \nQ 953 2441 691 2322 \nL 691 4666 \nz\n\" id=\"DejaVuSans-35\" transform=\"scale(0.015625)\"/>\n       </defs>\n       <use xlink:href=\"#DejaVuSans-35\"/>\n      </g>\n     </g>\n    </g>\n    <g id=\"xtick_3\">\n     <g id=\"line2d_3\">\n      <g>\n       <use style=\"stroke:#000000;stroke-width:0.8;\" x=\"108.465\" xlink:href=\"#m342d5fef2f\" y=\"224.64\"/>\n      </g>\n     </g>\n     <g id=\"text_3\">\n      <!-- 10 -->\n      <g transform=\"translate(102.1025 239.238437)scale(0.1 -0.1)\">\n       <defs>\n        <path d=\"M 794 531 \nL 1825 531 \nL 1825 4091 \nL 703 3866 \nL 703 4441 \nL 1819 4666 \nL 2450 4666 \nL 2450 531 \nL 3481 531 \nL 3481 0 \nL 794 0 \nL 794 531 \nz\n\" id=\"DejaVuSans-31\" transform=\"scale(0.015625)\"/>\n       </defs>\n       <use xlink:href=\"#DejaVuSans-31\"/>\n       <use x=\"63.623047\" xlink:href=\"#DejaVuSans-30\"/>\n      </g>\n     </g>\n    </g>\n    <g id=\"xtick_4\">\n     <g id=\"line2d_4\">\n      <g>\n       <use style=\"stroke:#000000;stroke-width:0.8;\" x=\"147.293571\" xlink:href=\"#m342d5fef2f\" y=\"224.64\"/>\n      </g>\n     </g>\n     <g id=\"text_4\">\n      <!-- 15 -->\n      <g transform=\"translate(140.931071 239.238437)scale(0.1 -0.1)\">\n       <use xlink:href=\"#DejaVuSans-31\"/>\n       <use x=\"63.623047\" xlink:href=\"#DejaVuSans-35\"/>\n      </g>\n     </g>\n    </g>\n    <g id=\"xtick_5\">\n     <g id=\"line2d_5\">\n      <g>\n       <use style=\"stroke:#000000;stroke-width:0.8;\" x=\"186.122143\" xlink:href=\"#m342d5fef2f\" y=\"224.64\"/>\n      </g>\n     </g>\n     <g id=\"text_5\">\n      <!-- 20 -->\n      <g transform=\"translate(179.759643 239.238437)scale(0.1 -0.1)\">\n       <defs>\n        <path d=\"M 1228 531 \nL 3431 531 \nL 3431 0 \nL 469 0 \nL 469 531 \nQ 828 903 1448 1529 \nQ 2069 2156 2228 2338 \nQ 2531 2678 2651 2914 \nQ 2772 3150 2772 3378 \nQ 2772 3750 2511 3984 \nQ 2250 4219 1831 4219 \nQ 1534 4219 1204 4116 \nQ 875 4013 500 3803 \nL 500 4441 \nQ 881 4594 1212 4672 \nQ 1544 4750 1819 4750 \nQ 2544 4750 2975 4387 \nQ 3406 4025 3406 3419 \nQ 3406 3131 3298 2873 \nQ 3191 2616 2906 2266 \nQ 2828 2175 2409 1742 \nQ 1991 1309 1228 531 \nz\n\" id=\"DejaVuSans-32\" transform=\"scale(0.015625)\"/>\n       </defs>\n       <use xlink:href=\"#DejaVuSans-32\"/>\n       <use x=\"63.623047\" xlink:href=\"#DejaVuSans-30\"/>\n      </g>\n     </g>\n    </g>\n    <g id=\"xtick_6\">\n     <g id=\"line2d_6\">\n      <g>\n       <use style=\"stroke:#000000;stroke-width:0.8;\" x=\"224.950714\" xlink:href=\"#m342d5fef2f\" y=\"224.64\"/>\n      </g>\n     </g>\n     <g id=\"text_6\">\n      <!-- 25 -->\n      <g transform=\"translate(218.588214 239.238437)scale(0.1 -0.1)\">\n       <use xlink:href=\"#DejaVuSans-32\"/>\n       <use x=\"63.623047\" xlink:href=\"#DejaVuSans-35\"/>\n      </g>\n     </g>\n    </g>\n   </g>\n   <g id=\"matplotlib.axis_2\">\n    <g id=\"ytick_1\">\n     <g id=\"line2d_7\">\n      <defs>\n       <path d=\"M 0 0 \nL -3.5 0 \n\" id=\"m18fce39389\" style=\"stroke:#000000;stroke-width:0.8;\"/>\n      </defs>\n      <g>\n       <use style=\"stroke:#000000;stroke-width:0.8;\" x=\"26.925\" xlink:href=\"#m18fce39389\" y=\"11.082857\"/>\n      </g>\n     </g>\n     <g id=\"text_7\">\n      <!-- 0 -->\n      <g transform=\"translate(13.5625 14.882076)scale(0.1 -0.1)\">\n       <use xlink:href=\"#DejaVuSans-30\"/>\n      </g>\n     </g>\n    </g>\n    <g id=\"ytick_2\">\n     <g id=\"line2d_8\">\n      <g>\n       <use style=\"stroke:#000000;stroke-width:0.8;\" x=\"26.925\" xlink:href=\"#m18fce39389\" y=\"49.911429\"/>\n      </g>\n     </g>\n     <g id=\"text_8\">\n      <!-- 5 -->\n      <g transform=\"translate(13.5625 53.710647)scale(0.1 -0.1)\">\n       <use xlink:href=\"#DejaVuSans-35\"/>\n      </g>\n     </g>\n    </g>\n    <g id=\"ytick_3\">\n     <g id=\"line2d_9\">\n      <g>\n       <use style=\"stroke:#000000;stroke-width:0.8;\" x=\"26.925\" xlink:href=\"#m18fce39389\" y=\"88.74\"/>\n      </g>\n     </g>\n     <g id=\"text_9\">\n      <!-- 10 -->\n      <g transform=\"translate(7.2 92.539219)scale(0.1 -0.1)\">\n       <use xlink:href=\"#DejaVuSans-31\"/>\n       <use x=\"63.623047\" xlink:href=\"#DejaVuSans-30\"/>\n      </g>\n     </g>\n    </g>\n    <g id=\"ytick_4\">\n     <g id=\"line2d_10\">\n      <g>\n       <use style=\"stroke:#000000;stroke-width:0.8;\" x=\"26.925\" xlink:href=\"#m18fce39389\" y=\"127.568571\"/>\n      </g>\n     </g>\n     <g id=\"text_10\">\n      <!-- 15 -->\n      <g transform=\"translate(7.2 131.36779)scale(0.1 -0.1)\">\n       <use xlink:href=\"#DejaVuSans-31\"/>\n       <use x=\"63.623047\" xlink:href=\"#DejaVuSans-35\"/>\n      </g>\n     </g>\n    </g>\n    <g id=\"ytick_5\">\n     <g id=\"line2d_11\">\n      <g>\n       <use style=\"stroke:#000000;stroke-width:0.8;\" x=\"26.925\" xlink:href=\"#m18fce39389\" y=\"166.397143\"/>\n      </g>\n     </g>\n     <g id=\"text_11\">\n      <!-- 20 -->\n      <g transform=\"translate(7.2 170.196362)scale(0.1 -0.1)\">\n       <use xlink:href=\"#DejaVuSans-32\"/>\n       <use x=\"63.623047\" xlink:href=\"#DejaVuSans-30\"/>\n      </g>\n     </g>\n    </g>\n    <g id=\"ytick_6\">\n     <g id=\"line2d_12\">\n      <g>\n       <use style=\"stroke:#000000;stroke-width:0.8;\" x=\"26.925\" xlink:href=\"#m18fce39389\" y=\"205.225714\"/>\n      </g>\n     </g>\n     <g id=\"text_12\">\n      <!-- 25 -->\n      <g transform=\"translate(7.2 209.024933)scale(0.1 -0.1)\">\n       <use xlink:href=\"#DejaVuSans-32\"/>\n       <use x=\"63.623047\" xlink:href=\"#DejaVuSans-35\"/>\n      </g>\n     </g>\n    </g>\n   </g>\n   <g id=\"patch_3\">\n    <path d=\"M 26.925 224.64 \nL 26.925 7.2 \n\" style=\"fill:none;stroke:#000000;stroke-linecap:square;stroke-linejoin:miter;stroke-width:0.8;\"/>\n   </g>\n   <g id=\"patch_4\">\n    <path d=\"M 244.365 224.64 \nL 244.365 7.2 \n\" style=\"fill:none;stroke:#000000;stroke-linecap:square;stroke-linejoin:miter;stroke-width:0.8;\"/>\n   </g>\n   <g id=\"patch_5\">\n    <path d=\"M 26.925 224.64 \nL 244.365 224.64 \n\" style=\"fill:none;stroke:#000000;stroke-linecap:square;stroke-linejoin:miter;stroke-width:0.8;\"/>\n   </g>\n   <g id=\"patch_6\">\n    <path d=\"M 26.925 7.2 \nL 244.365 7.2 \n\" style=\"fill:none;stroke:#000000;stroke-linecap:square;stroke-linejoin:miter;stroke-width:0.8;\"/>\n   </g>\n  </g>\n </g>\n <defs>\n  <clipPath id=\"p0857bc6a3f\">\n   <rect height=\"217.44\" width=\"217.44\" x=\"26.925\" y=\"7.2\"/>\n  </clipPath>\n </defs>\n</svg>\n",
      "image/png": "[encoded data removed]"
     },
     "metadata": {
      "needs_background": "light"
     }
    }
   ],
   "source": [
    "def make_discriminator_model():\n",
    "    model = tf.keras.Sequential()\n",
    "    model.add(layers.Conv2D(64, (5, 5), strides=(2, 2), padding='same',\n",
    "                                     input_shape=[28, 28, 1]))\n",
    "    model.add(layers.LeakyReLU())\n",
    "    model.add(layers.Dropout(0.3))\n",
    "\n",
    "    model.add(layers.Conv2D(128, (5, 5), strides=(2, 2), padding='same'))\n",
    "    model.add(layers.LeakyReLU())\n",
    "    model.add(layers.Dropout(0.3))\n",
    "\n",
    "    model.add(layers.Flatten())\n",
    "    model.add(layers.Dense(1))\n",
    "\n",
    "    return model"
   ]
  },
  {
   "cell_type": "code",
   "execution_count": 19,
   "metadata": {},
   "outputs": [
    {
     "output_type": "stream",
     "name": "stdout",
     "text": [
      "tf.Tensor([[0.00054765]], shape=(1, 1), dtype=float32)\n"
     ]
    }
   ],
   "source": [
    "discriminator = make_discriminator_model()\n",
    "decision = discriminator(generated_image)\n",
    "print (decision)"
   ]
  },
  {
   "cell_type": "code",
   "execution_count": 20,
   "metadata": {},
   "outputs": [],
   "source": [
    "# 이 메서드는 크로스 엔트로피 손실함수 (cross entropy loss)를 계산하기 위해 헬퍼 (helper) 함수를 반환합니다.\n",
    "cross_entropy = tf.keras.losses.BinaryCrossentropy(from_logits=True)"
   ]
  },
  {
   "cell_type": "code",
   "execution_count": 21,
   "metadata": {},
   "outputs": [],
   "source": [
    "def discriminator_loss(real_output, fake_output):\n",
    "    real_loss = cross_entropy(tf.ones_like(real_output), real_output)\n",
    "    fake_loss = cross_entropy(tf.zeros_like(fake_output), fake_output)\n",
    "    total_loss = real_loss + fake_loss\n",
    "    return total_loss"
   ]
  },
  {
   "cell_type": "code",
   "execution_count": 22,
   "metadata": {},
   "outputs": [],
   "source": [
    "def generator_loss(fake_output):\n",
    "    return cross_entropy(tf.ones_like(fake_output), fake_output)"
   ]
  },
  {
   "cell_type": "code",
   "execution_count": 23,
   "metadata": {},
   "outputs": [],
   "source": [
    "generator_optimizer = tf.keras.optimizers.Adam(1e-4)\n",
    "discriminator_optimizer = tf.keras.optimizers.Adam(1e-4)"
   ]
  },
  {
   "cell_type": "code",
   "execution_count": 24,
   "metadata": {},
   "outputs": [],
   "source": [
    "checkpoint_dir = './training_checkpoints'\n",
    "checkpoint_prefix = os.path.join(checkpoint_dir, \"ckpt\")\n",
    "checkpoint = tf.train.Checkpoint(generator_optimizer=generator_optimizer,\n",
    "                                 discriminator_optimizer=discriminator_optimizer,\n",
    "                                 generator=generator,\n",
    "                                 discriminator=discriminator)"
   ]
  },
  {
   "cell_type": "code",
   "execution_count": 25,
   "metadata": {},
   "outputs": [],
   "source": [
    "EPOCHS = 50\n",
    "noise_dim = 100\n",
    "num_examples_to_generate = 16\n",
    "\n",
    "# 이 시드를 시간이 지나도 재활용하겠습니다. \n",
    "# (GIF 애니메이션에서 진전 내용을 시각화하는데 쉽기 때문입니다.) \n",
    "seed = tf.random.normal([num_examples_to_generate, noise_dim])"
   ]
  },
  {
   "cell_type": "code",
   "execution_count": null,
   "metadata": {},
   "outputs": [],
   "source": []
  }
 ]
}