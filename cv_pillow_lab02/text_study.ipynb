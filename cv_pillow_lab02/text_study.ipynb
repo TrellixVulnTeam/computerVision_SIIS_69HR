{
 "metadata": {
  "language_info": {
   "codemirror_mode": {
    "name": "ipython",
    "version": 3
   },
   "file_extension": ".py",
   "mimetype": "text/x-python",
   "name": "python",
   "nbconvert_exporter": "python",
   "pygments_lexer": "ipython3",
   "version": "3.7.4"
  },
  "orig_nbformat": 2,
  "kernelspec": {
   "name": "python374jvsc74a57bd0e8011cca1dfa95b9a31caea52f30f809d14704b9dcb70c755ce9743acea54d29",
   "display_name": "Python 3.7.4 64-bit ('base': conda)"
  }
 },
 "nbformat": 4,
 "nbformat_minor": 2,
 "cells": [
  {
   "cell_type": "code",
   "execution_count": 5,
   "metadata": {},
   "outputs": [
    {
     "output_type": "stream",
     "name": "stdout",
     "text": [
      "<PIL.ImageFont.ImageFont object at 0x7f9d2bea2710>\n"
     ]
    }
   ],
   "source": [
    "from PIL import Image, ImageDraw, ImageFont\n",
    "\n",
    "def text(output_path):\n",
    "    image = Image.new(\"RGB\", (200, 200), \"green\") # 도화지 생성\n",
    "    draw = ImageDraw.Draw(image)\n",
    "    font = ImageFont.load_default()\n",
    "    print(font)\n",
    "    draw.text((10,10), \"Hellow\", font=font)\n",
    "    draw.text((10,25), \"Computer Vision\")\n",
    "    image.save(output_path)\n",
    "\n",
    "if __name__ == \"__main__\":\n",
    "    text(\"text.jpg\")"
   ]
  },
  {
   "cell_type": "code",
   "execution_count": 7,
   "metadata": {},
   "outputs": [],
   "source": [
    "# 폰트변경 (한글 출력가능하게)\n",
    "\n",
    "from PIL import Image, ImageDraw, ImageFont\n",
    "\n",
    "def text(output_path):\n",
    "    image = Image.new(\"RGB\", (200, 200), \"green\") # 도화지 생성\n",
    "    draw = ImageDraw.Draw(image)\n",
    "    font = ImageFont.truetype(\"NanumGothic.ttf\")\n",
    "om PIL import Image, ImageDraw, ImageFont\n",
    "\n",
    "def text(output_path):\n",
    "    image = Image.new(\"RGB\", (200, 200), \"green\") # 도화지 생성\n",
    "    draw = ImageDraw.Draw(image)\n",
    "    font = ImageFont.truetype(\"NanumGothic.ttf\")\n",
    "    draw.text((10,10), \"안녕하세요\", font=font)\n",
    "    draw.text((10,25), \"Computer Vision\")\n",
    "    image.save(output_path)\n",
    "\n",
    "if __name__ == \"__main__\":\n",
    "    text(\"text_nanum.jpg\")"
   ]
  },
  {
   "cell_type": "code",
   "execution_count": 47,
   "metadata": {},
   "outputs": [],
   "source": [
    "# 그림에 폰트 넣기\n",
    "from PIL import Image, ImageDraw, ImageFont\n",
    "\n",
    "def text(input_image_path, output_path):\n",
    "    image = Image.open(input_image_path)\n",
    "    draw = ImageDraw.Draw(image)\n",
    "    y = 10\n",
    "    for font_size in range(12, 75, 10):\n",
    "        font = ImageFont.truetype(\"NanumGothic.ttf\", size=font_size)\n",
    "        draw.text((10, y), f\"이미지에 글자 넣기 ({font_size})\", font=font)\n",
    "        y+=35\n",
    "    image.save(output_path)\n",
    "\n",
    "if __name__ == \"__main__\":\n",
    "    text(\"hummingbird.jpg\", \"hummingbird_with_text.jpg\")\n",
    "\n",
    "\n"
   ]
  },
  {
   "cell_type": "code",
   "execution_count": 18,
   "metadata": {},
   "outputs": [],
   "source": [
    "import glob\n",
    "from PIL import Image, ImageDraw, ImageFont\n",
    "\n",
    "def truetype(input_image_path, output_path):\n",
    "    image = Image.open(input_image_path)\n",
    "    draw = ImageDraw.Draw(image)\n",
    "    y = 10\n",
    "    ttf_files = glob.glob(\"*.ttf\")\n",
    "    for ttf_file in ttf_files:\n",
    "        font = ImageFont.truetype(ttf_file, size=44)\n",
    "        draw.text((10, y), f\"{ttf_file} (font_size=44)\", font=font)\n",
    "        y+=55\n",
    "    image.save(output_path)\n",
    "\n",
    "if __name__ == \"__main__\":\n",
    "    truetype(\"hummingbird.jpg\", \"hummingbird_mulitfont.jpg\")"
   ]
  },
  {
   "cell_type": "code",
   "execution_count": 25,
   "metadata": {},
   "outputs": [],
   "source": [
    "# 폰트 생상 변경\n",
    "\n",
    "from PIL import Image, ImageDraw, ImageFont\n",
    "\n",
    "def text_color(output_path):\n",
    "    image = Image.new(\"RGB\", (600, 600), \"white\")\n",
    "    draw = ImageDraw.Draw(image)\n",
    "    colors = [\"green\",\"red\",\"blue\",\"yellow\",\"purple\"]\n",
    "    font = ImageFont.truetype(\"NanumGothic.ttf\", size = 30)\n",
    "    y = 10\n",
    "    for color in colors:\n",
    "        draw.text((10, y), f\"안녕하세요! Computer Vision 학습중,\", font=font, fill=color)\n",
    "        y += 50 # 50간격으로 띄어라\n",
    "    image.save(output_path)\n",
    "\n",
    "\n",
    "if __name__ == \"__main__\":\n",
    "    text_color(\"colored_text.jpg\")"
   ]
  },
  {
   "cell_type": "code",
   "execution_count": 37,
   "metadata": {},
   "outputs": [],
   "source": [
    "# 다른 방법으로 텍스트 넣기\n",
    "\n",
    "from PIL import Image, ImageDraw, ImageFont\n",
    "\n",
    "def text(input_image_path, output_path):\n",
    "    image = Image.open(input_image_path)\n",
    "    draw = ImageDraw.Draw(image)\n",
    "    font = ImageFont.truetype(\"NanumGothic.ttf\", size = 100)\n",
    "    #text = \"안녕하세요! 컴퓨터 비전\\n재미있으신가요?\"\n",
    "    text = \"\"\"\n",
    "    안녕하세요! 컴퓨터 비전\n",
    "                재미있으신가요?\n",
    "    \"\"\"\n",
    "    #draw.text((10, 25), text, font=font)\n",
    "    draw.multiline_text((10,25), text,font=font)\n",
    "    image.save(output_path)\n",
    "\n",
    "\n",
    "if __name__ == \"__main__\":\n",
    "    text(\"hummingbird.jpg\" ,\"hummingbird_colored_text.jpg\")"
   ]
  },
  {
   "cell_type": "code",
   "execution_count": 53,
   "metadata": {},
   "outputs": [],
   "source": [
    "from PIL import Image, ImageDraw, ImageFont\n",
    "\n",
    "def alignment(output_path):\n",
    "    image = Image.new(\"RGB\", (600,600), \"white\")\n",
    "    draw = ImageDraw.Draw(image)\n",
    "    alignments = ['left', 'center', 'right']\n",
    "    y = 10\n",
    "    font = ImageFont.truetype(\"NanumGothic.ttf\", size=12) \n",
    "    for alignment in alignments:\n",
    "        draw.text((10,y), f\"Hellow Piliow Library\\nCV\", font=font, align=alignment, fill=\"black\")\n",
    "        y+=35\n",
    "\n",
    "    image.save(output_path)\n",
    "\n",
    "if __name__ == \"__main__\":\n",
    "    alignment(\"aligned_text.jpg\")"
   ]
  },
  {
   "cell_type": "code",
   "execution_count": 59,
   "metadata": {},
   "outputs": [],
   "source": [
    "# center 처리\n",
    "from PIL import Image, ImageDraw, ImageFont\n",
    "\n",
    "def center(output_path):\n",
    "    width, height = (800,800)\n",
    "    image = Image.new(\"RGB\", (width,height), \"grey\")\n",
    "    draw = ImageDraw.Draw(image)\n",
    "    font = ImageFont.truetype(\"Nanumgothic.ttf\", size=40)\n",
    "    text = \"안녕하세요! 컴퓨터 비전 공부중 입니다.\"\n",
    "    font_width, font_height = font.getsize(text)\n",
    "\n",
    "    new_width = (width - font_width)/2\n",
    "    new_height = (height - font_height)/2\n",
    "    draw.text((new_width,new_height), text, font=font, fill=\"black\")\n",
    "    image.save(output_path)\n",
    "\n",
    "if __name__ == \"__main__\":\n",
    "    center(\"centered_text.jpg\")"
   ]
  },
  {
   "cell_type": "code",
   "execution_count": 66,
   "metadata": {},
   "outputs": [],
   "source": [
    "# 투명도 넣기\n",
    "from PIL import Image, ImageDraw, ImageFont\n",
    "\n",
    "def change_opacity(input_path, output_path):\n",
    "    base_image = Image.open(input_path).convert(\"RGBA\")\n",
    "    \n",
    "    txt_img = Image.new(\"RGBA\", base_image.size, (255,255,255,0))\n",
    "    font = ImageFont.truetype(\"NanumGothic.ttf\", 40)\n",
    "    draw = ImageDraw.Draw(txt_img)\n",
    "\n",
    "    draw.text((10,10), \"컴퓨터 비전\", font=font, fill=(255,255,255,128)) # 반정도의 투명도\n",
    "    draw.text((10,60), \"컴퓨터 비전\", font=font, fill=(255,255,255,255)) # 투명도가 없음\n",
    "    draw.text((10,110), \"컴퓨터 비전\", font=font, fill=(255,255,255,50)) # 투명도 50\n",
    "    \n",
    "\n",
    "    composite=Image.alpha_composite(base_image,txt_img)\n",
    "    composite.save(output_path)\n",
    "\n",
    "if __name__ == \"__main__\":\n",
    "    change_opacity(\"hummingbird.jpg\", \"hummingbird_opacity.png\")"
   ]
  },
  {
   "cell_type": "code",
   "execution_count": 107,
   "metadata": {},
   "outputs": [],
   "source": [
    "# 정렬과 관련된 예\n",
    "# https://pillow.readthedocs.io/en/stable/handbook/text-anchors.html\n",
    "\n",
    "from PIL import Image, ImageDraw, ImageFont\n",
    "\n",
    "def anchor(xy = (100,100), anchor=\"la\"): # 파이썬에서 함수 선언 할 때 위치도, 기본값 설정\n",
    "    font = ImageFont.truetype(\"NanumGothic.ttf\", 32)\n",
    "    image = Image.new(\"RGB\", (400,400), \"white\")\n",
    "    draw = ImageDraw.Draw(image)\n",
    "\n",
    "    draw.line(((0,200), (400,200)), \"gray\")\n",
    "    draw.line(((200,0), (200,400)), \"gray\")\n",
    "    draw.text((100,100), \"파이썬\", fill=\"black\", anchor=anchor, font=font)\n",
    "    \n",
    "    image.save(f\"anchor_{anchor}.jpg\")\n",
    "\n",
    "if __name__ == \"__main__\":\n",
    "    anchor(anchor)\n",
    "    \n"
   ]
  },
  {
   "cell_type": "code",
   "execution_count": null,
   "metadata": {},
   "outputs": [],
   "source": []
  }
 ]
}