{
 "metadata": {
  "language_info": {
   "codemirror_mode": {
    "name": "ipython",
    "version": 3
   },
   "file_extension": ".py",
   "mimetype": "text/x-python",
   "name": "python",
   "nbconvert_exporter": "python",
   "pygments_lexer": "ipython3",
   "version": "3.7.4"
  },
  "orig_nbformat": 2,
  "kernelspec": {
   "name": "python374jvsc74a57bd0e8011cca1dfa95b9a31caea52f30f809d14704b9dcb70c755ce9743acea54d29",
   "display_name": "Python 3.7.4 64-bit ('base': conda)"
  }
 },
 "nbformat": 4,
 "nbformat_minor": 2,
 "cells": [
  {
   "cell_type": "code",
   "execution_count": 5,
   "metadata": {},
   "outputs": [],
   "source": [
    "# pillow의 ImageOps 모듈/ 이미지 처리를 함\n",
    "\n",
    "# 이미지의 밝기를 조절\n",
    "\n",
    "from PIL import Image, ImageOps\n",
    "\n",
    "def autocontrast(image_path, output_path, cutoff=0, ignore=None):\n",
    "    image = Image.open(image_path)\n",
    "    converted_image = ImageOps.autocontrast(image, cutoff, ignore)\n",
    "    converted_image.save(output_path)\n",
    "\n",
    "if __name__ == \"__main__\":\n",
    "    autocontrast(\"hummingbird.jpg\", \"autocontrast.jpg\", cutoff=0.9)"
   ]
  },
  {
   "cell_type": "code",
   "execution_count": null,
   "metadata": {},
   "outputs": [],
   "source": []
  }
 ]
}