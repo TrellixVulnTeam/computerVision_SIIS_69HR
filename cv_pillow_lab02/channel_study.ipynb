{
 "metadata": {
  "language_info": {
   "codemirror_mode": {
    "name": "ipython",
    "version": 3
   },
   "file_extension": ".py",
   "mimetype": "text/x-python",
   "name": "python",
   "nbconvert_exporter": "python",
   "pygments_lexer": "ipython3",
   "version": "3.7.4"
  },
  "orig_nbformat": 2,
  "kernelspec": {
   "name": "python374jvsc74a57bd0e8011cca1dfa95b9a31caea52f30f809d14704b9dcb70c755ce9743acea54d29",
   "display_name": "Python 3.7.4 64-bit ('base': conda)"
  }
 },
 "nbformat": 4,
 "nbformat_minor": 2,
 "cells": [
  {
   "cell_type": "code",
   "execution_count": 3,
   "metadata": {},
   "outputs": [],
   "source": [
    "# channel Operation 줄여서 chops RGB, L 모드 수정해서 이미지에 효과\n",
    "\n",
    "from PIL import Image, ImageChops\n",
    "\n",
    "def add_image(image_path_one, image_path_two, output_path, scale=1.0, offset=0):\n",
    "    image_one = Image.open(image_path_one)\n",
    "    image_two = Image.open(image_path_two)\n",
    "    image_three = ImageChops.add(image_one, image_two, scale=scale, offset=offset)\n",
    "    image_three.save(output_path)\n",
    "\n",
    "if __name__ == \"__main__\":\n",
    "    add_image(\"silver_falls.jpg\", \"silver_falls2.jpg\", \"added_image.jpg\")"
   ]
  },
  {
   "cell_type": "code",
   "execution_count": 5,
   "metadata": {},
   "outputs": [],
   "source": [
    "# darker: 두개의 이미지의 픽셀을 비교해 어두운 픽셀을 찾아간다.\n",
    "\n",
    "from PIL import Image, ImageChops\n",
    "\n",
    "def darker_image(image_path_one, image_path_two, output_path):\n",
    "    image_one = Image.open(image_path_one)\n",
    "    image_two = Image.open(image_path_two)\n",
    "    image_three = ImageChops.darker(image_one, image_two)\n",
    "    image_three.save(output_path)\n",
    "\n",
    "if __name__ == \"__main__\":\n",
    "    darker_image(\"silver_falls.jpg\", \"silver_falls2.jpg\", \"darker_image.jpg\")"
   ]
  },
  {
   "cell_type": "code",
   "execution_count": 8,
   "metadata": {},
   "outputs": [],
   "source": [
    "# lighten: 두개의 이미지의 픽셀을 비교해 밝은 픽셀을 찾아간다.\n",
    "\n",
    "from PIL import Image, ImageChops\n",
    "\n",
    "def lighten(image_path_one, image_path_two, output_path):\n",
    "    image_one = Image.open(image_path_one)\n",
    "    image_two = Image.open(image_path_two)\n",
    "    image_three = ImageChops.lighter(image_one, image_two)\n",
    "    image_three.save(output_path)\n",
    "\n",
    "if __name__ == \"__main__\":\n",
    "    lighten(\"silver_falls.jpg\", \"silver_falls2.jpg\", \"lighten_images.jpg\")"
   ]
  },
  {
   "cell_type": "code",
   "execution_count": 12,
   "metadata": {},
   "outputs": [],
   "source": [
    "# diff: 두개의 이미지의 픽셀을 비교해 서로 차이가 있는애들만 가져온다.\n",
    "# (이미지와의 차이점을 찾아낸다.)\n",
    "\n",
    "from PIL import Image, ImageChops\n",
    "\n",
    "def diff(image_path_one, image_path_two, output_path):\n",
    "    image_one = Image.open(image_path_one)\n",
    "    image_two = Image.open(image_path_two)\n",
    "    image_three = ImageChops.difference(image_one, image_two)\n",
    "    image_three.save(output_path)\n",
    "\n",
    "if __name__ == \"__main__\":\n",
    "    diff(\"hummingbird.jpg\", \"hummingbird_watermarked_2.jpg\", \"diff_image.jpg\")"
   ]
  },
  {
   "cell_type": "code",
   "execution_count": 14,
   "metadata": {},
   "outputs": [],
   "source": [
    "# \n",
    "\n",
    "from PIL import Image, ImageChops\n",
    "\n",
    "def inverted(image_path, output_path):\n",
    "    image = Image.open(image_path)\n",
    "    inverted_image = ImageChops.invert(image)\n",
    "    inverted_image.save(output_path)\n",
    "\n",
    "if __name__ == \"__main__\":\n",
    "    inverted(\"hummingbird.jpg\", \"inverted_image.jpg\")"
   ]
  },
  {
   "cell_type": "code",
   "execution_count": 24,
   "metadata": {},
   "outputs": [
    {
     "output_type": "error",
     "ename": "AttributeError",
     "evalue": "module 'PIL.ImageChops' has no attribute 'soft_light'",
     "traceback": [
      "\u001b[0;31m---------------------------------------------------------------------------\u001b[0m",
      "\u001b[0;31mAttributeError\u001b[0m                            Traceback (most recent call last)",
      "\u001b[0;32m<ipython-input-24-7bf6a2c9d20b>\u001b[0m in \u001b[0;36m<module>\u001b[0;34m\u001b[0m\n\u001b[1;32m     10\u001b[0m \u001b[0;34m\u001b[0m\u001b[0m\n\u001b[1;32m     11\u001b[0m \u001b[0;32mif\u001b[0m \u001b[0m__name__\u001b[0m \u001b[0;34m==\u001b[0m \u001b[0;34m\"__main__\"\u001b[0m\u001b[0;34m:\u001b[0m\u001b[0;34m\u001b[0m\u001b[0;34m\u001b[0m\u001b[0m\n\u001b[0;32m---> 12\u001b[0;31m     \u001b[0msoft_light\u001b[0m\u001b[0;34m(\u001b[0m\u001b[0;34m\"silver_falls.jpg\"\u001b[0m\u001b[0;34m,\u001b[0m \u001b[0;34m\"silver_falls2.jpg\"\u001b[0m\u001b[0;34m,\u001b[0m \u001b[0;34m\"soft_light.jpg\"\u001b[0m\u001b[0;34m)\u001b[0m\u001b[0;34m\u001b[0m\u001b[0;34m\u001b[0m\u001b[0m\n\u001b[0m",
      "\u001b[0;32m<ipython-input-24-7bf6a2c9d20b>\u001b[0m in \u001b[0;36msoft_light\u001b[0;34m(image_path_one, image_path_two, output_path)\u001b[0m\n\u001b[1;32m      6\u001b[0m     \u001b[0mimage_one\u001b[0m \u001b[0;34m=\u001b[0m \u001b[0mImage\u001b[0m\u001b[0;34m.\u001b[0m\u001b[0mopen\u001b[0m\u001b[0;34m(\u001b[0m\u001b[0mimage_path_one\u001b[0m\u001b[0;34m)\u001b[0m\u001b[0;34m\u001b[0m\u001b[0;34m\u001b[0m\u001b[0m\n\u001b[1;32m      7\u001b[0m     \u001b[0mimage_two\u001b[0m \u001b[0;34m=\u001b[0m \u001b[0mImage\u001b[0m\u001b[0;34m.\u001b[0m\u001b[0mopen\u001b[0m\u001b[0;34m(\u001b[0m\u001b[0mimage_path_two\u001b[0m\u001b[0;34m)\u001b[0m\u001b[0;34m\u001b[0m\u001b[0;34m\u001b[0m\u001b[0m\n\u001b[0;32m----> 8\u001b[0;31m     \u001b[0mimage_three\u001b[0m \u001b[0;34m=\u001b[0m \u001b[0mImageChops\u001b[0m\u001b[0;34m.\u001b[0m\u001b[0msoft_light\u001b[0m\u001b[0;34m(\u001b[0m\u001b[0mimage_one\u001b[0m\u001b[0;34m,\u001b[0m \u001b[0mimage_two\u001b[0m\u001b[0;34m)\u001b[0m\u001b[0;34m\u001b[0m\u001b[0;34m\u001b[0m\u001b[0m\n\u001b[0m\u001b[1;32m      9\u001b[0m     \u001b[0mimage_three\u001b[0m\u001b[0;34m.\u001b[0m\u001b[0msave\u001b[0m\u001b[0;34m(\u001b[0m\u001b[0moutput_path\u001b[0m\u001b[0;34m)\u001b[0m\u001b[0;34m\u001b[0m\u001b[0;34m\u001b[0m\u001b[0m\n\u001b[1;32m     10\u001b[0m \u001b[0;34m\u001b[0m\u001b[0m\n",
      "\u001b[0;31mAttributeError\u001b[0m: module 'PIL.ImageChops' has no attribute 'soft_light'"
     ]
    }
   ],
   "source": [
    "# https://en.wikipedia.org/wiki/Blend_modes#Soft_Light\n",
    "\n",
    "from PIL import Image, ImageChops\n",
    "\n",
    "def soft_light(image_path_one, image_path_two, output_path):\n",
    "    image_one = Image.open(image_path_one)\n",
    "    image_two = Image.open(image_path_two)    \n",
    "    image_three = ImageChops.soft_light(image_one, image_two)\n",
    "    image_three.save(output_path)\n",
    "    \n",
    "\n",
    "if __name__ == \"__main__\":\n",
    "    soft_light(\"silver_falls.jpg\", \"silver_falls2.jpg\", \"soft_light.jpg\")"
   ]
  },
  {
   "cell_type": "code",
   "execution_count": 18,
   "metadata": {},
   "outputs": [
    {
     "output_type": "error",
     "ename": "AttributeError",
     "evalue": "module 'PIL.ImageChops' has no attribute 'hard_light'",
     "traceback": [
      "\u001b[0;31m---------------------------------------------------------------------------\u001b[0m",
      "\u001b[0;31mAttributeError\u001b[0m                            Traceback (most recent call last)",
      "\u001b[0;32m<ipython-input-18-0d41c03887bb>\u001b[0m in \u001b[0;36m<module>\u001b[0;34m\u001b[0m\n\u001b[1;32m     10\u001b[0m \u001b[0;34m\u001b[0m\u001b[0m\n\u001b[1;32m     11\u001b[0m \u001b[0;32mif\u001b[0m \u001b[0m__name__\u001b[0m \u001b[0;34m==\u001b[0m \u001b[0;34m\"__main__\"\u001b[0m\u001b[0;34m:\u001b[0m\u001b[0;34m\u001b[0m\u001b[0;34m\u001b[0m\u001b[0m\n\u001b[0;32m---> 12\u001b[0;31m     \u001b[0mhard_light\u001b[0m\u001b[0;34m(\u001b[0m\u001b[0;34m\"silver_falls.jpg\"\u001b[0m\u001b[0;34m,\u001b[0m \u001b[0;34m\"silver_falls2.jpg\"\u001b[0m\u001b[0;34m,\u001b[0m \u001b[0;34m\"hard_light.jpg\"\u001b[0m\u001b[0;34m)\u001b[0m\u001b[0;34m\u001b[0m\u001b[0;34m\u001b[0m\u001b[0m\n\u001b[0m",
      "\u001b[0;32m<ipython-input-18-0d41c03887bb>\u001b[0m in \u001b[0;36mhard_light\u001b[0;34m(image_path_one, image_path_two, output_path)\u001b[0m\n\u001b[1;32m      6\u001b[0m     \u001b[0mimage_one\u001b[0m \u001b[0;34m=\u001b[0m \u001b[0mImage\u001b[0m\u001b[0;34m.\u001b[0m\u001b[0mopen\u001b[0m\u001b[0;34m(\u001b[0m\u001b[0mimage_path_one\u001b[0m\u001b[0;34m)\u001b[0m\u001b[0;34m\u001b[0m\u001b[0;34m\u001b[0m\u001b[0m\n\u001b[1;32m      7\u001b[0m     \u001b[0mimage_two\u001b[0m \u001b[0;34m=\u001b[0m \u001b[0mImage\u001b[0m\u001b[0;34m.\u001b[0m\u001b[0mopen\u001b[0m\u001b[0;34m(\u001b[0m\u001b[0mimage_path_two\u001b[0m\u001b[0;34m)\u001b[0m\u001b[0;34m\u001b[0m\u001b[0;34m\u001b[0m\u001b[0m\n\u001b[0;32m----> 8\u001b[0;31m     \u001b[0mimage_three\u001b[0m \u001b[0;34m=\u001b[0m \u001b[0mImageChops\u001b[0m\u001b[0;34m.\u001b[0m\u001b[0mhard_light\u001b[0m\u001b[0;34m(\u001b[0m\u001b[0mimage_one\u001b[0m\u001b[0;34m,\u001b[0m \u001b[0mimage_two\u001b[0m\u001b[0;34m)\u001b[0m\u001b[0;34m\u001b[0m\u001b[0;34m\u001b[0m\u001b[0m\n\u001b[0m\u001b[1;32m      9\u001b[0m     \u001b[0mimage_three\u001b[0m\u001b[0;34m.\u001b[0m\u001b[0msave\u001b[0m\u001b[0;34m(\u001b[0m\u001b[0moutput_path\u001b[0m\u001b[0;34m)\u001b[0m\u001b[0;34m\u001b[0m\u001b[0;34m\u001b[0m\u001b[0m\n\u001b[1;32m     10\u001b[0m \u001b[0;34m\u001b[0m\u001b[0m\n",
      "\u001b[0;31mAttributeError\u001b[0m: module 'PIL.ImageChops' has no attribute 'hard_light'"
     ]
    }
   ],
   "source": [
    "# https://en.wikipedia.org/wiki/Blend_modes#Hard_light\n",
    "\n",
    "from PIL import Image, ImageChops\n",
    "\n",
    "def hard_light(image_path_one, image_path_two, output_path):\n",
    "    image_one = Image.open(image_path_one)\n",
    "    image_two = Image.open(image_path_two)    \n",
    "    image_three = ImageChops.hard_light(image_one, image_two)\n",
    "    image_three.save(output_path)\n",
    "\n",
    "if __name__ == \"__main__\":\n",
    "    hard_light(\"silver_falls.jpg\", \"silver_falls2.jpg\", \"hard_light.jpg\")"
   ]
  },
  {
   "cell_type": "code",
   "execution_count": 23,
   "metadata": {},
   "outputs": [
    {
     "output_type": "error",
     "ename": "AttributeError",
     "evalue": "module 'PIL.ImageChops' has no attribute 'overlay'",
     "traceback": [
      "\u001b[0;31m---------------------------------------------------------------------------\u001b[0m",
      "\u001b[0;31mAttributeError\u001b[0m                            Traceback (most recent call last)",
      "\u001b[0;32m<ipython-input-23-2808cdb9f873>\u001b[0m in \u001b[0;36m<module>\u001b[0;34m\u001b[0m\n\u001b[1;32m      8\u001b[0m \u001b[0;34m\u001b[0m\u001b[0m\n\u001b[1;32m      9\u001b[0m \u001b[0;32mif\u001b[0m \u001b[0m__name__\u001b[0m \u001b[0;34m==\u001b[0m \u001b[0;34m\"__main__\"\u001b[0m\u001b[0;34m:\u001b[0m\u001b[0;34m\u001b[0m\u001b[0;34m\u001b[0m\u001b[0m\n\u001b[0;32m---> 10\u001b[0;31m     \u001b[0moverlay\u001b[0m\u001b[0;34m(\u001b[0m\u001b[0;34m\"silver_falls.jpg\"\u001b[0m\u001b[0;34m,\u001b[0m \u001b[0;34m\"silver_falls2.jpg\"\u001b[0m\u001b[0;34m,\u001b[0m \u001b[0;34m\"overlay.jpg\"\u001b[0m\u001b[0;34m)\u001b[0m\u001b[0;34m\u001b[0m\u001b[0;34m\u001b[0m\u001b[0m\n\u001b[0m",
      "\u001b[0;32m<ipython-input-23-2808cdb9f873>\u001b[0m in \u001b[0;36moverlay\u001b[0;34m(image_path_one, image_path_two, output_path)\u001b[0m\n\u001b[1;32m      4\u001b[0m     \u001b[0mimage_one\u001b[0m \u001b[0;34m=\u001b[0m \u001b[0mImage\u001b[0m\u001b[0;34m.\u001b[0m\u001b[0mopen\u001b[0m\u001b[0;34m(\u001b[0m\u001b[0mimage_path_one\u001b[0m\u001b[0;34m)\u001b[0m\u001b[0;34m\u001b[0m\u001b[0;34m\u001b[0m\u001b[0m\n\u001b[1;32m      5\u001b[0m     \u001b[0mimage_two\u001b[0m \u001b[0;34m=\u001b[0m \u001b[0mImage\u001b[0m\u001b[0;34m.\u001b[0m\u001b[0mopen\u001b[0m\u001b[0;34m(\u001b[0m\u001b[0mimage_path_two\u001b[0m\u001b[0;34m)\u001b[0m\u001b[0;34m\u001b[0m\u001b[0;34m\u001b[0m\u001b[0m\n\u001b[0;32m----> 6\u001b[0;31m     \u001b[0mimage_three\u001b[0m \u001b[0;34m=\u001b[0m \u001b[0mImageChops\u001b[0m\u001b[0;34m.\u001b[0m\u001b[0moverlay\u001b[0m\u001b[0;34m(\u001b[0m\u001b[0mimage_one\u001b[0m\u001b[0;34m,\u001b[0m \u001b[0mimage_two\u001b[0m\u001b[0;34m)\u001b[0m\u001b[0;34m\u001b[0m\u001b[0;34m\u001b[0m\u001b[0m\n\u001b[0m\u001b[1;32m      7\u001b[0m     \u001b[0mimage_three\u001b[0m\u001b[0;34m.\u001b[0m\u001b[0msave\u001b[0m\u001b[0;34m(\u001b[0m\u001b[0moutput_path\u001b[0m\u001b[0;34m)\u001b[0m\u001b[0;34m\u001b[0m\u001b[0;34m\u001b[0m\u001b[0m\n\u001b[1;32m      8\u001b[0m \u001b[0;34m\u001b[0m\u001b[0m\n",
      "\u001b[0;31mAttributeError\u001b[0m: module 'PIL.ImageChops' has no attribute 'overlay'"
     ]
    }
   ],
   "source": [
    "\n",
    "\n",
    "from PIL import Image, ImageChops\n",
    "\n",
    "def overlay(image_path_one, image_path_two, output_path):\n",
    "    image_one = Image.open(image_path_one)\n",
    "    image_two = Image.open(image_path_two)    \n",
    "    image_three = ImageChops.overlay(image_one, image_two)\n",
    "    image_three.save(output_path)\n",
    "\n",
    "if __name__ == \"__main__\":\n",
    "    overlay(\"silver_falls.jpg\", \"silver_falls2.jpg\", \"overlay.jpg\")"
   ]
  },
  {
   "cell_type": "code",
   "execution_count": 25,
   "metadata": {},
   "outputs": [],
   "source": [
    "# \n",
    "\n",
    "from PIL import Image, ImageChops\n",
    "\n",
    "def inverted(image_path, output_path):\n",
    "    image = Image.open(image_path)\n",
    "    inverted_image = ImageChops.invert(image)\n",
    "    inverted_image.save(output_path)\n",
    "\n",
    "if __name__ == \"__main__\":\n",
    "    inverted(\"hummingbird.jpg\", \"inverted_image.jpg\")"
   ]
  },
  {
   "cell_type": "code",
   "execution_count": null,
   "metadata": {},
   "outputs": [],
   "source": []
  }
 ]
}