{
 "metadata": {
  "language_info": {
   "codemirror_mode": {
    "name": "ipython",
    "version": 3
   },
   "file_extension": ".py",
   "mimetype": "text/x-python",
   "name": "python",
   "nbconvert_exporter": "python",
   "pygments_lexer": "ipython3",
   "version": "3.7.4"
  },
  "orig_nbformat": 2,
  "kernelspec": {
   "name": "python374jvsc74a57bd0e8011cca1dfa95b9a31caea52f30f809d14704b9dcb70c755ce9743acea54d29",
   "display_name": "Python 3.7.4 64-bit ('base': conda)"
  }
 },
 "nbformat": 4,
 "nbformat_minor": 2,
 "cells": [
  {
   "cell_type": "code",
   "execution_count": 2,
   "metadata": {},
   "outputs": [],
   "source": [
    "# \n",
    "\n",
    "from PIL import Image, ImageDraw\n",
    "\n",
    "def pieslice(output_path):\n",
    "    image = Image.new(\"RGB\", (400,400), \"white\")\n",
    "    draw = ImageDraw.Draw(image)\n",
    "    \n",
    "    draw.pieslice((25,50,175,250), start=30, end=250, fill=\"green\")\n",
    "    \n",
    "    draw.pieslice((200,200,275,300),start=20, end=100, fill=\"yellow\")\n",
    "    \n",
    "    image.save(output_path)\n",
    "\n",
    "if __name__ == \"__main__\":\n",
    "    pieslice(\"pieslice.jpg\")"
   ]
  },
  {
   "cell_type": "code",
   "execution_count": 7,
   "metadata": {},
   "outputs": [],
   "source": [
    "# polygon : 좌표점을 주면 이어주는 다각형 도형만들기\n",
    "\n",
    "from PIL import Image, ImageDraw\n",
    "\n",
    "def polygon(output_path):\n",
    "    image = Image.new(\"RGB\", (400,400), \"grey\")\n",
    "    draw = ImageDraw.Draw(image)\n",
    "    \n",
    "    draw.polygon(((100, 100),(200, 50), (125,25), (300,25)), fill=\"green\")\n",
    "    \n",
    "    draw.polygon(((175, 100),(220, 50), (200,25), (200,25)), outline=\"yellow\")\n",
    "    \n",
    "    image.save(output_path)\n",
    "\n",
    "if __name__ == \"__main__\":\n",
    "    polygon(\"polygon.jpg\")"
   ]
  },
  {
   "cell_type": "code",
   "execution_count": 10,
   "metadata": {},
   "outputs": [],
   "source": [
    "# rectangle : \n",
    "from PIL import Image, ImageDraw\n",
    "\n",
    "def rectangle(output_path):\n",
    "    image = Image.new(\"RGB\", (400,400), \"grey\")\n",
    "    draw = ImageDraw.Draw(image)\n",
    "    \n",
    "    draw.rectangle((200, 100, 300, 200), fill=\"green\")\n",
    "    \n",
    "    draw.rectangle((50, 50, 150, 150), fill=\"green\", outline=\"yellow\")\n",
    "    \n",
    "    image.save(output_path)\n",
    "\n",
    "if __name__ == \"__main__\":\n",
    "    rectangle(\"rectangle.jpg\")"
   ]
  },
  {
   "cell_type": "code",
   "execution_count": null,
   "metadata": {},
   "outputs": [],
   "source": []
  }
 ]
}