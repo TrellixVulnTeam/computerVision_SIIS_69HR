{
 "metadata": {
  "language_info": {
   "codemirror_mode": {
    "name": "ipython",
    "version": 3
   },
   "file_extension": ".py",
   "mimetype": "text/x-python",
   "name": "python",
   "nbconvert_exporter": "python",
   "pygments_lexer": "ipython3",
   "version": "3.8.2"
  },
  "orig_nbformat": 4,
  "kernelspec": {
   "name": "python3",
   "display_name": "Python 3.8.2 64-bit ('week09_venv': venv)"
  },
  "interpreter": {
   "hash": "e5245979aa73c3b83432dc2a37ab2e9505e3421d94f01464585bd10ff7b289bf"
  }
 },
 "nbformat": 4,
 "nbformat_minor": 2,
 "cells": [
  {
   "source": [
    "## autograd_study.ipynb"
   ],
   "cell_type": "markdown",
   "metadata": {}
  },
  {
   "cell_type": "code",
   "execution_count": 1,
   "metadata": {},
   "outputs": [],
   "source": [
    "import torch"
   ]
  },
  {
   "cell_type": "code",
   "execution_count": 2,
   "metadata": {},
   "outputs": [],
   "source": [
    "x = torch.tensor([5], dtype=torch.float32, requires_grad=True)\n",
    "y = torch.tensor([6], dtype=torch.float32, requires_grad=True)"
   ]
  },
  {
   "cell_type": "code",
   "execution_count": 3,
   "metadata": {},
   "outputs": [
    {
     "output_type": "execute_result",
     "data": {
      "text/plain": [
       "(tensor([5.], requires_grad=True), tensor([6.], requires_grad=True))"
      ]
     },
     "metadata": {},
     "execution_count": 3
    }
   ],
   "source": [
    "x, y"
   ]
  },
  {
   "cell_type": "code",
   "execution_count": 4,
   "metadata": {},
   "outputs": [
    {
     "output_type": "execute_result",
     "data": {
      "text/plain": [
       "tensor([180.], grad_fn=<AddBackward0>)"
      ]
     },
     "metadata": {},
     "execution_count": 4
    }
   ],
   "source": [
    "z = ((x**2) * y) + (x * y)\n",
    "z"
   ]
  },
  {
   "cell_type": "code",
   "execution_count": 5,
   "metadata": {},
   "outputs": [
    {
     "output_type": "execute_result",
     "data": {
      "text/plain": [
       "tensor(180., grad_fn=<SumBackward0>)"
      ]
     },
     "metadata": {},
     "execution_count": 5
    }
   ],
   "source": [
    "total = torch.sum(z)\n",
    "total"
   ]
  },
  {
   "cell_type": "code",
   "execution_count": 6,
   "metadata": {},
   "outputs": [
    {
     "output_type": "stream",
     "name": "stdout",
     "text": [
      "tensor([66.])\n"
     ]
    }
   ],
   "source": [
    "total.backward()\n",
    "print(x.grad)"
   ]
  },
  {
   "cell_type": "code",
   "execution_count": 7,
   "metadata": {},
   "outputs": [
    {
     "output_type": "stream",
     "name": "stdout",
     "text": [
      "tensor([30.])\n"
     ]
    }
   ],
   "source": [
    "print(y.grad)"
   ]
  },
  {
   "cell_type": "code",
   "execution_count": 8,
   "metadata": {},
   "outputs": [
    {
     "output_type": "execute_result",
     "data": {
      "text/plain": [
       "tensor([ 1.4005,  0.4941, -1.6060,  1.2606, -0.3673,  1.7121,  0.7226, -1.0368,\n",
       "        -0.7254,  0.4392])"
      ]
     },
     "metadata": {},
     "execution_count": 8
    }
   ],
   "source": [
    "x = torch.randn(10)\n",
    "x"
   ]
  },
  {
   "cell_type": "code",
   "execution_count": 9,
   "metadata": {},
   "outputs": [
    {
     "output_type": "execute_result",
     "data": {
      "text/plain": [
       "tensor([34.5209, 32.8894, 29.1092, 34.2690, 31.3388, 35.0817, 33.3007, 30.1338,\n",
       "        30.6943, 32.7905])"
      ]
     },
     "metadata": {},
     "execution_count": 9
    }
   ],
   "source": [
    "y = 1.8*x + 32 # y = wx + b\n",
    "y"
   ]
  },
  {
   "cell_type": "code",
   "execution_count": 11,
   "metadata": {},
   "outputs": [
    {
     "output_type": "execute_result",
     "data": {
      "text/plain": [
       "tensor([1.], requires_grad=True)"
      ]
     },
     "metadata": {},
     "execution_count": 11
    }
   ],
   "source": [
    "w = torch.ones(1, requires_grad=True)\n",
    "w"
   ]
  },
  {
   "cell_type": "code",
   "execution_count": 12,
   "metadata": {},
   "outputs": [
    {
     "output_type": "execute_result",
     "data": {
      "text/plain": [
       "tensor([1.], requires_grad=True)"
      ]
     },
     "metadata": {},
     "execution_count": 12
    }
   ],
   "source": [
    "b = torch.ones(1, requires_grad=True)\n",
    "b"
   ]
  },
  {
   "cell_type": "code",
   "execution_count": 13,
   "metadata": {},
   "outputs": [
    {
     "output_type": "execute_result",
     "data": {
      "text/plain": [
       "tensor([ 2.4005,  1.4941, -0.6060,  2.2606,  0.6327,  2.7121,  1.7226, -0.0368,\n",
       "         0.2746,  1.4392], grad_fn=<AddBackward0>)"
      ]
     },
     "metadata": {},
     "execution_count": 13
    }
   ],
   "source": [
    "y_hat = w * x + b\n",
    "y_hat "
   ]
  },
  {
   "cell_type": "code",
   "execution_count": 14,
   "metadata": {},
   "outputs": [
    {
     "output_type": "execute_result",
     "data": {
      "text/plain": [
       "tensor(9731.2822, grad_fn=<SumBackward0>)"
      ]
     },
     "metadata": {},
     "execution_count": 14
    }
   ],
   "source": [
    "loss = torch.sum((y_hat - y)**2)\n",
    "loss"
   ]
  },
  {
   "cell_type": "code",
   "execution_count": 15,
   "metadata": {},
   "outputs": [],
   "source": [
    "loss.backward()"
   ]
  },
  {
   "cell_type": "code",
   "execution_count": 16,
   "metadata": {},
   "outputs": [
    {
     "output_type": "stream",
     "name": "stdout",
     "text": [
      "tensor([-161.0070]) tensor([-623.6696])\n"
     ]
    }
   ],
   "source": [
    "print(w.grad, b.grad)"
   ]
  },
  {
   "cell_type": "code",
   "execution_count": 17,
   "metadata": {},
   "outputs": [
    {
     "output_type": "execute_result",
     "data": {
      "text/plain": [
       "(tensor([1.], requires_grad=True), tensor([-161.0070]))"
      ]
     },
     "metadata": {},
     "execution_count": 17
    }
   ],
   "source": [
    "w, w.grad"
   ]
  },
  {
   "cell_type": "code",
   "execution_count": 18,
   "metadata": {},
   "outputs": [
    {
     "output_type": "execute_result",
     "data": {
      "text/plain": [
       "tensor([ 70., -71.,  24., -34.,  41., -30.,  28., -83.,  32., -92.,  93.,  12.,\n",
       "         19., -24.,  64.,  73.,   8.,  -2., -63.,  30.,  -2.,  50., -74.,   9.,\n",
       "         88., -49., -23.,  46., -38., -12., -57., -87.,  84., -18., -27., -28.,\n",
       "        -41.,  88., -26., -11., -98.,  60., -17., -36., -95.,  61., -34.,  39.,\n",
       "         45., -72., -84.,   9.,  85.,  74.,  98.,  93.,  62.,  72., -18., -86.,\n",
       "         98., -80.,  28.,   4., -34., -27., -64.,  57.,  18., -30.,  39.,  -6.,\n",
       "         98., -36.,  77.,  16.,  87., -32., -68.,  80.,  81.,   6., -38.,  72.,\n",
       "        -18.,  22., -86.,  12., -45., -51., -62.,  93.,  -6., -44., -63.,  43.,\n",
       "         87.,  60.,  94., -54.])"
      ]
     },
     "metadata": {},
     "execution_count": 18
    }
   ],
   "source": [
    "x = torch.randint(-100, 100, (100, ), dtype=torch.float32)\n",
    "x"
   ]
  },
  {
   "cell_type": "code",
   "execution_count": 19,
   "metadata": {},
   "outputs": [
    {
     "output_type": "execute_result",
     "data": {
      "text/plain": [
       "tensor([ 158.0000,  -95.8000,   75.2000,  -29.2000,  105.8000,  -22.0000,\n",
       "          82.4000, -117.4000,   89.6000, -133.6000,  199.4000,   53.6000,\n",
       "          66.2000,  -11.2000,  147.2000,  163.4000,   46.4000,   28.4000,\n",
       "         -81.4000,   86.0000,   28.4000,  122.0000, -101.2000,   48.2000,\n",
       "         190.4000,  -56.2000,   -9.4000,  114.8000,  -36.4000,   10.4000,\n",
       "         -70.6000, -124.6000,  183.2000,   -0.4000,  -16.6000,  -18.4000,\n",
       "         -41.8000,  190.4000,  -14.8000,   12.2000, -144.4000,  140.0000,\n",
       "           1.4000,  -32.8000, -139.0000,  141.8000,  -29.2000,  102.2000,\n",
       "         113.0000,  -97.6000, -119.2000,   48.2000,  185.0000,  165.2000,\n",
       "         208.4000,  199.4000,  143.6000,  161.6000,   -0.4000, -122.8000,\n",
       "         208.4000, -112.0000,   82.4000,   39.2000,  -29.2000,  -16.6000,\n",
       "         -83.2000,  134.6000,   64.4000,  -22.0000,  102.2000,   21.2000,\n",
       "         208.4000,  -32.8000,  170.6000,   60.8000,  188.6000,  -25.6000,\n",
       "         -90.4000,  176.0000,  177.8000,   42.8000,  -36.4000,  161.6000,\n",
       "          -0.4000,   71.6000, -122.8000,   53.6000,  -49.0000,  -59.8000,\n",
       "         -79.6000,  199.4000,   21.2000,  -47.2000,  -81.4000,  109.4000,\n",
       "         188.6000,  140.0000,  201.2000,  -65.2000])"
      ]
     },
     "metadata": {},
     "execution_count": 19
    }
   ],
   "source": [
    "y = (1.8 * x) + 32\n",
    "y"
   ]
  },
  {
   "cell_type": "code",
   "execution_count": 20,
   "metadata": {},
   "outputs": [
    {
     "output_type": "execute_result",
     "data": {
      "text/plain": [
       "tensor([ 71., -70.,  25., -33.,  42., -29.,  29., -82.,  33., -91.,  94.,  13.,\n",
       "         20., -23.,  65.,  74.,   9.,  -1., -62.,  31.,  -1.,  51., -73.,  10.,\n",
       "         89., -48., -22.,  47., -37., -11., -56., -86.,  85., -17., -26., -27.,\n",
       "        -40.,  89., -25., -10., -97.,  61., -16., -35., -94.,  62., -33.,  40.,\n",
       "         46., -71., -83.,  10.,  86.,  75.,  99.,  94.,  63.,  73., -17., -85.,\n",
       "         99., -79.,  29.,   5., -33., -26., -63.,  58.,  19., -29.,  40.,  -5.,\n",
       "         99., -35.,  78.,  17.,  88., -31., -67.,  81.,  82.,   7., -37.,  73.,\n",
       "        -17.,  23., -85.,  13., -44., -50., -61.,  94.,  -5., -43., -62.,  44.,\n",
       "         88.,  61.,  95., -53.], grad_fn=<AddBackward0>)"
      ]
     },
     "metadata": {},
     "execution_count": 20
    }
   ],
   "source": [
    "# 가중치\n",
    "w = torch.ones(1, requires_grad=True)\n",
    "b = torch.ones(1, requires_grad=True)\n",
    "y_hat = (w*x) + b # predict value\n",
    "y_hat"
   ]
  },
  {
   "cell_type": "code",
   "execution_count": 21,
   "metadata": {},
   "outputs": [],
   "source": [
    "epochs = 10000\n",
    "lr = 0.000001"
   ]
  },
  {
   "cell_type": "code",
   "execution_count": 23,
   "metadata": {},
   "outputs": [
    {
     "output_type": "stream",
     "name": "stdout",
     "text": [
      "1.8057423830032349 27.753883361816406\n"
     ]
    }
   ],
   "source": [
    "for i in range(epochs):\n",
    "    loss = torch.sum( (y_hat - y)**2 )\n",
    "    loss.backward()\n",
    "    with torch.no_grad():\n",
    "        w -= lr * w.grad\n",
    "        b -= lr * b.grad\n",
    "\n",
    "        w.grad.zero_()\n",
    "        b.grad.zero_()\n",
    "\n",
    "    y_hat = (w*x) + b\n",
    "print(w.item(), b.item())"
   ]
  },
  {
   "cell_type": "code",
   "execution_count": 25,
   "metadata": {},
   "outputs": [
    {
     "output_type": "stream",
     "name": "stdout",
     "text": [
      "tensor([5.], requires_grad=True) tensor([6.], requires_grad=True)\n"
     ]
    }
   ],
   "source": [
    "x = torch.tensor([5], dtype=torch.float32, requires_grad=True)\n",
    "y = torch.tensor([6], dtype=torch.float32, requires_grad=True)\n",
    "print(x, y)"
   ]
  },
  {
   "cell_type": "code",
   "execution_count": 27,
   "metadata": {},
   "outputs": [
    {
     "output_type": "stream",
     "name": "stdout",
     "text": [
      "tensor([180.], grad_fn=<AddBackward0>)\n"
     ]
    }
   ],
   "source": [
    "z = ((x**2)*y) + (x*y)\n",
    "print(z)"
   ]
  },
  {
   "cell_type": "code",
   "execution_count": 28,
   "metadata": {},
   "outputs": [],
   "source": [
    "z.backward()"
   ]
  },
  {
   "cell_type": "code",
   "execution_count": 29,
   "metadata": {},
   "outputs": [
    {
     "output_type": "execute_result",
     "data": {
      "text/plain": [
       "tensor([66.])"
      ]
     },
     "metadata": {},
     "execution_count": 29
    }
   ],
   "source": [
    "x.grad"
   ]
  },
  {
   "cell_type": "code",
   "execution_count": 30,
   "metadata": {},
   "outputs": [
    {
     "output_type": "execute_result",
     "data": {
      "text/plain": [
       "tensor([30.])"
      ]
     },
     "metadata": {},
     "execution_count": 30
    }
   ],
   "source": [
    "y.grad"
   ]
  },
  {
   "cell_type": "code",
   "execution_count": null,
   "metadata": {},
   "outputs": [],
   "source": []
  }
 ]
}