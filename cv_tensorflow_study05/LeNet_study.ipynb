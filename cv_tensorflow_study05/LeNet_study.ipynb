{
 "metadata": {
  "language_info": {
   "codemirror_mode": {
    "name": "ipython",
    "version": 3
   },
   "file_extension": ".py",
   "mimetype": "text/x-python",
   "name": "python",
   "nbconvert_exporter": "python",
   "pygments_lexer": "ipython3",
   "version": "3.8.2"
  },
  "orig_nbformat": 4,
  "kernelspec": {
   "name": "python3",
   "display_name": "Python 3.8.2 64-bit ('week09_venv': venv)"
  },
  "interpreter": {
   "hash": "e5245979aa73c3b83432dc2a37ab2e9505e3421d94f01464585bd10ff7b289bf"
  }
 },
 "nbformat": 4,
 "nbformat_minor": 2,
 "cells": [
  {
   "source": [
    "## LeNet_study.ipynb"
   ],
   "cell_type": "markdown",
   "metadata": {}
  },
  {
   "cell_type": "code",
   "execution_count": 1,
   "metadata": {},
   "outputs": [],
   "source": [
    "import torch\n",
    "import torch.nn as nn\n",
    "import numpy as np\n",
    "import matplotlib.pyplot as plt"
   ]
  },
  {
   "cell_type": "code",
   "execution_count": 2,
   "metadata": {},
   "outputs": [],
   "source": [
    "import torchvision # tensorflow datasets"
   ]
  },
  {
   "cell_type": "code",
   "execution_count": 3,
   "metadata": {},
   "outputs": [],
   "source": [
    "batch_size = 256"
   ]
  },
  {
   "cell_type": "code",
   "execution_count": 6,
   "metadata": {},
   "outputs": [
    {
     "output_type": "stream",
     "name": "stdout",
     "text": [
      "Files already downloaded and verified\n"
     ]
    }
   ],
   "source": [
    "trainset = torchvision.datasets.CIFAR10(\n",
    "    root = \"./data\",\n",
    "    train = True,\n",
    "    download= True,\n",
    "    transform = torchvision.transforms.ToTensor()\n",
    ")\n",
    "\n",
    "trainloader = torch.utils.data.DataLoader(\n",
    "    trainset,\n",
    "    batch_size = batch_size,\n",
    "    shuffle = True\n",
    ")"
   ]
  },
  {
   "cell_type": "code",
   "execution_count": 7,
   "metadata": {},
   "outputs": [
    {
     "output_type": "stream",
     "name": "stdout",
     "text": [
      "Files already downloaded and verified\n"
     ]
    }
   ],
   "source": [
    "testset = torchvision.datasets.CIFAR10(\n",
    "    root = \"./data\",\n",
    "    train = False,\n",
    "    download= True,\n",
    "    transform = torchvision.transforms.ToTensor()\n",
    ")\n",
    "\n",
    "\n",
    "testloader = torch.utils.data.DataLoader(\n",
    "    trainset,\n",
    "    batch_size = batch_size,\n",
    "    shuffle = False\n",
    "    )"
   ]
  },
  {
   "cell_type": "code",
   "execution_count": 8,
   "metadata": {},
   "outputs": [],
   "source": [
    "class LeNet(nn.Module):\n",
    "    def __init__(self):\n",
    "        super(LeNet, self).__init__()\n",
    "        self.conv_model = nn.Sequential(\n",
    "            nn.Conv2d(3,6,5),\n",
    "            nn.Tanh(),\n",
    "            nn.AvgPool2d(2, stride=2),\n",
    "            nn.Conv2d(6, 16, 5),\n",
    "            nn.Tanh(),\n",
    "            nn.AvgPool2d(2, stride=2)\n",
    "        )\n",
    "\n",
    "        self.dense_model = nn.Sequential(\n",
    "            nn.Linear(400, 120),\n",
    "            nn.Tanh(),\n",
    "            nn.Linear(120, 84),\n",
    "            nn.Tanh(),\n",
    "            nn.Linear(84, 10)\n",
    "\n",
    "        )\n",
    "\n",
    "    def forward(self, x):\n",
    "        y = self.conv_model(x)\n",
    "        y = torch.flatten(y, 1)\n",
    "        y = self.dense_model(y)\n",
    "        return y"
   ]
  },
  {
   "cell_type": "code",
   "execution_count": 9,
   "metadata": {},
   "outputs": [],
   "source": [
    "net = LeNet()"
   ]
  },
  {
   "cell_type": "code",
   "execution_count": 10,
   "metadata": {},
   "outputs": [],
   "source": [
    "loss_func = nn.CrossEntropyLoss()\n",
    "optimizer = torch.optim.Adam(net.parameters())"
   ]
  },
  {
   "cell_type": "code",
   "execution_count": 11,
   "metadata": {},
   "outputs": [],
   "source": [
    "def model_evaluation(dataloader):\n",
    "    total = 0\n",
    "    correct = 0\n",
    "    for data in dataloader:\n",
    "        image_data, labels = data\n",
    "        out = net(image_data)\n",
    "        max_values, predict_class = torch.max(out, 1)\n",
    "        total += labels.shape[0]\n",
    "        correct += (predict_class == labels).sum().item()\n",
    "        accuracy = (100 * correct) / total\n",
    "    return accuracy"
   ]
  },
  {
   "cell_type": "code",
   "execution_count": 12,
   "metadata": {},
   "outputs": [
    {
     "output_type": "stream",
     "name": "stdout",
     "text": [
      "Epoch : 0 | Train Accuracy : 37.04 | Test Accuracy : 37.04\n",
      "Epoch : 1 | Train Accuracy : 40.182 | Test Accuracy : 40.182\n",
      "Epoch : 2 | Train Accuracy : 44.158 | Test Accuracy : 44.158\n",
      "Epoch : 3 | Train Accuracy : 46.286 | Test Accuracy : 46.286\n",
      "Epoch : 4 | Train Accuracy : 48.302 | Test Accuracy : 48.302\n",
      "Epoch : 5 | Train Accuracy : 50.484 | Test Accuracy : 50.484\n",
      "Epoch : 6 | Train Accuracy : 51.994 | Test Accuracy : 51.994\n",
      "Epoch : 7 | Train Accuracy : 53.958 | Test Accuracy : 53.958\n",
      "Epoch : 8 | Train Accuracy : 54.842 | Test Accuracy : 54.842\n",
      "Epoch : 9 | Train Accuracy : 56.15 | Test Accuracy : 56.15\n",
      "Epoch : 10 | Train Accuracy : 57.692 | Test Accuracy : 57.692\n",
      "Epoch : 11 | Train Accuracy : 58.368 | Test Accuracy : 58.368\n",
      "Epoch : 12 | Train Accuracy : 59.706 | Test Accuracy : 59.706\n",
      "Epoch : 13 | Train Accuracy : 60.184 | Test Accuracy : 60.184\n",
      "Epoch : 14 | Train Accuracy : 61.402 | Test Accuracy : 61.402\n",
      "Epoch : 15 | Train Accuracy : 62.098 | Test Accuracy : 62.098\n",
      "Epoch : 16 | Train Accuracy : 62.326 | Test Accuracy : 62.326\n",
      "Epoch : 17 | Train Accuracy : 63.618 | Test Accuracy : 63.618\n",
      "Epoch : 18 | Train Accuracy : 64.338 | Test Accuracy : 64.338\n",
      "Epoch : 19 | Train Accuracy : 64.656 | Test Accuracy : 64.656\n"
     ]
    }
   ],
   "source": [
    "total_epochs = 20\n",
    "\n",
    "for i in range(total_epochs):\n",
    "\n",
    "    for data in trainloader:\n",
    "        image_data, labels = data\n",
    "\n",
    "        optimizer.zero_grad()\n",
    "        out = net(image_data)\n",
    "        loss = loss_func(out, labels)\n",
    "        loss.backward()\n",
    "        optimizer.step()\n",
    "        \n",
    "    train_acc = model_evaluation(trainloader)\n",
    "    test_acc = model_evaluation(testloader)\n",
    "\n",
    "    print(f\"Epoch : {i} | Train Accuracy : {train_acc} | Test Accuracy : {test_acc}\")\n"
   ]
  },
  {
   "cell_type": "code",
   "execution_count": null,
   "metadata": {},
   "outputs": [],
   "source": []
  }
 ]
}