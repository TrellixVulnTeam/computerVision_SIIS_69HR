{
 "metadata": {
  "language_info": {
   "codemirror_mode": {
    "name": "ipython",
    "version": 3
   },
   "file_extension": ".py",
   "mimetype": "text/x-python",
   "name": "python",
   "nbconvert_exporter": "python",
   "pygments_lexer": "ipython3",
   "version": "3.7.4"
  },
  "orig_nbformat": 2,
  "kernelspec": {
   "name": "python374jvsc74a57bd0e8011cca1dfa95b9a31caea52f30f809d14704b9dcb70c755ce9743acea54d29",
   "display_name": "Python 3.7.4 64-bit ('base': conda)"
  }
 },
 "nbformat": 4,
 "nbformat_minor": 2,
 "cells": [
  {
   "cell_type": "code",
   "execution_count": 3,
   "metadata": {},
   "outputs": [],
   "source": [
    "# 선그리기\n",
    "import random\n",
    "from PIL import Image, ImageDraw\n",
    "\n",
    "def line(image_path, output_path):\n",
    "    image = Image.open(image_path)\n",
    "    draw = ImageDraw.Draw(image)\n",
    "    colors = [\"red\", \"green\", \"blue\", \"yellow\", \"purple\", \"orange\"]\n",
    "\n",
    "    for i in range(0, 100, 20):\n",
    "        draw.line((i, 0)+ image.size, width=15, fill=random.choice(colors))\n",
    "        # (0,0) (20,0) (40,0) (60,0) (80,0)\n",
    "        image.save(output_path)\n",
    "\n",
    "if __name__ == \"__main__\":\n",
    "    line(\"hummingbird.jpg\", \"lines.jpg\")"
   ]
  },
  {
   "cell_type": "code",
   "execution_count": 8,
   "metadata": {},
   "outputs": [],
   "source": [
    "from PIL import Image, ImageDraw\n",
    "\n",
    "def line(output_path):\n",
    "    points = [(100,100),(150,200),(200,50),(400,400)]\n",
    "    image = Image.new(\"RGB\", (400,400), \"yellow\")\n",
    "    draw = ImageDraw.Draw(image)\n",
    "    draw.line(points, width=15, fill=\"green\", joint=\"curve\")\n",
    "    image.save(output_path)\n",
    "\n",
    "if __name__ == \"__main__\":\n",
    "    line(\"jointed_lines.jpg\")"
   ]
  },
  {
   "cell_type": "code",
   "execution_count": 13,
   "metadata": {},
   "outputs": [],
   "source": [
    "# 원 만들기\n",
    "\n",
    "from PIL import Image, ImageDraw\n",
    "\n",
    "def arc(output_path):\n",
    "    image = Image.new(\"RGB\", (400,400), \"white\")\n",
    "    draw = ImageDraw.Draw(image)\n",
    "    \n",
    "    draw.arc((25,50,175,200), start=10, end=250, fill=\"green\")\n",
    "    \n",
    "    draw.arc((100,150,275,300), start=20, end=100, width=5, fill=\"yellow\")\n",
    "    \n",
    "    image.save(output_path)\n",
    "\n",
    "if __name__ == \"__main__\":\n",
    "    arc(\"arc.jpg\")"
   ]
  },
  {
   "cell_type": "code",
   "execution_count": 15,
   "metadata": {},
   "outputs": [],
   "source": [
    "# chord: 시작과 끝점을 연결해주고 안을 채워줌\n",
    "\n",
    "from PIL import Image, ImageDraw\n",
    "\n",
    "def chord(output_path):\n",
    "    image = Image.new(\"RGB\", (400,400), \"white\")\n",
    "    draw = ImageDraw.Draw(image)\n",
    "    \n",
    "    draw.chord((25,50,175,200), start=10, end=250, fill=\"green\")\n",
    "    \n",
    "    draw.chord((100,150,275,300), start=20, end=100, width=5, fill=\"yellow\", outline=\"blue\")\n",
    "    \n",
    "    image.save(output_path)\n",
    "\n",
    "if __name__ == \"__main__\":\n",
    "    chord(\"chord.jpg\")"
   ]
  },
  {
   "cell_type": "code",
   "execution_count": 20,
   "metadata": {},
   "outputs": [],
   "source": [
    "# ellipse: 타원\n",
    "\n",
    "from PIL import Image, ImageDraw\n",
    "\n",
    "def ellipse(output_path):\n",
    "    image = Image.new(\"RGB\", (400,400), \"white\")\n",
    "    draw = ImageDraw.Draw(image)\n",
    "    \n",
    "    draw.ellipse((25,50,175,250), fill=\"green\")\n",
    "    \n",
    "    draw.ellipse((200,200,275,300), fill=\"yellow\", outline=\"blue\")\n",
    "    \n",
    "    image.save(output_path)\n",
    "\n",
    "if __name__ == \"__main__\":\n",
    "    ellipse(\"ellipse.jpg\")"
   ]
  },
  {
   "cell_type": "code",
   "execution_count": null,
   "metadata": {},
   "outputs": [],
   "source": []
  }
 ]
}