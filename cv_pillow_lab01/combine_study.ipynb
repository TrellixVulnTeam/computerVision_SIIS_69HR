{
 "metadata": {
  "language_info": {
   "codemirror_mode": {
    "name": "ipython",
    "version": 3
   },
   "file_extension": ".py",
   "mimetype": "text/x-python",
   "name": "python",
   "nbconvert_exporter": "python",
   "pygments_lexer": "ipython3",
   "version": "3.7.4"
  },
  "orig_nbformat": 2,
  "kernelspec": {
   "name": "python374jvsc74a57bd0e8011cca1dfa95b9a31caea52f30f809d14704b9dcb70c755ce9743acea54d29",
   "display_name": "Python 3.7.4 64-bit ('base': conda)"
  }
 },
 "nbformat": 4,
 "nbformat_minor": 2,
 "cells": [
  {
   "source": [
    "## Image Combine (compositing)\n",
    "- 1) 이미지 처리의 전과 후를 같은 화면에서 보는 예\n",
    "- 2) watermark 예\n",
    "\n",
    "### 필로우에서 이미지 처리하는 함수\n",
    "- paste()\n",
    "- blend()\n",
    "- composite()"
   ],
   "cell_type": "markdown",
   "metadata": {}
  },
  {
   "cell_type": "code",
   "execution_count": 6,
   "metadata": {},
   "outputs": [],
   "source": [
    "# image paste: 원래 이미지에 일부를 추려내기\n",
    "from PIL import Image\n",
    "\n",
    "def paste_demo(image_path, output_path, crop_coords):\n",
    "    image = Image.open(image_path)\n",
    "    cropped_image = image.crop(crop_coords)\n",
    "    image.paste(cropped_image, (0,0))\n",
    "    image.save(output_path)\n",
    "\n",
    "if __name__ == \"__main__\":\n",
    "    coords = (125, 712, 642, 963) # 추려낼 좌표값\n",
    "    paste_demo(\"hummingbird.jpg\", \"hummingbird_pasted.jpg\", coords)"
   ]
  },
  {
   "cell_type": "code",
   "execution_count": 11,
   "metadata": {},
   "outputs": [
    {
     "output_type": "stream",
     "name": "stdout",
     "text": [
      "1440\n1195\n517\n251\n"
     ]
    }
   ],
   "source": [
    "# image tiling: 같은 이미지를 쭉 붙이기\n",
    "from PIL import Image\n",
    "\n",
    "def image_tiling(image_path, output_path, crop_coords):\n",
    "    image = Image.open(image_path)\n",
    "    width, height = image.size\n",
    "    print(width)\n",
    "    print(height)\n",
    "    new_image = Image.new(\"RGB\", (width,height))\n",
    "\n",
    "    cropped_image = image.crop(crop_coords) # crop 한 이미지의 객체\n",
    "    cropped_width, cropped_height = cropped_image.size # crop 한 이미지의 너비와 높이\n",
    "    print(cropped_width)\n",
    "    print(cropped_height)\n",
    "\n",
    "    for left_pos in range(0, width, cropped_width):\n",
    "        for top_pos in range(0, height, cropped_height):\n",
    "            new_image.paste(cropped_image, (left_pos, top_pos))\n",
    "    new_image.save(output_path)\n",
    "\n",
    "if __name__ == \"__main__\":\n",
    "    coords = (125,712,642,963)\n",
    "    image_tiling(\"hummingbird.jpg\", \"hummingbird_tiling.jpg\", coords)"
   ]
  },
  {
   "source": [
    "## Image Concatenate / String Concatenate : 이미지 합치기\n",
    "- 너비를 기준으로 하든, 높이를 기준으로 하든 연결하는 이미지의 너비나 높이가 같이야 가장 최고의 연결 결과를 얻을 수 있다.\n",
    "\n",
    "### 같은 크기가 아닐 경우 \n",
    "- 1) 어떤 이미지를 crop해서 연결하거나\n",
    "- 2) 이미지의 크기를 조정하거나\n",
    "- 3) 이미지 2개중 작은 것에 margin(이미지의 외곽)를 추가\n",
    "\n"
   ],
   "cell_type": "markdown",
   "metadata": {}
  },
  {
   "cell_type": "code",
   "execution_count": 20,
   "metadata": {},
   "outputs": [],
   "source": [
    "from PIL import Image\n",
    "\n",
    "# 위아래 합치기(붙이기)\n",
    "def concatenate_vertically(firtst_image_path, second_image_path, output_image_path):\n",
    "    image_one = Image.open(firtst_image_path)\n",
    "    image_two = Image.open(second_image_path)\n",
    "    height = image_one.height + image_two.height\n",
    "    new_image = Image.new(\"RGB\", (image_one.width, height))\n",
    "\n",
    "    new_image.paste(image_one, (0,0))\n",
    "    new_image.paste(image_two, (0, image_one.height))\n",
    "    \n",
    "    new_image.save(output_image_path)\n",
    "\n",
    "# 좌우 합치기(붙이기)\n",
    "def concatenate_horizontally(firtst_image_path, second_image_path, output_image_path):\n",
    "    image_one = Image.open(firtst_image_path)\n",
    "    image_two = Image.open(second_image_path)\n",
    "    width = image_one.width + image_two.width\n",
    "    new_image = Image.new(\"RGB\", (width, image_one.height))\n",
    "\n",
    "    new_image.paste(image_one, (0,0))\n",
    "    new_image.paste(image_two, (image_one.width, 0))\n",
    "    \n",
    "    new_image.save(output_image_path)\n",
    "\n",
    "\n",
    "if __name__ == \"__main__\":\n",
    "    concatenate_vertically(\"silver_falls.jpg\", \"silver_falls2.jpg\", \"silver_combine_vertically.jpg\")\n",
    "    concatenate_horizontally(\"silver_falls.jpg\", \"silver_falls2.jpg\", \"silver_combine_horizontally.jpg\")"
   ]
  },
  {
   "cell_type": "code",
   "execution_count": 21,
   "metadata": {},
   "outputs": [],
   "source": [
    "from PIL import Image\n",
    "\n",
    "# 위아래 합치기(붙이기)\n",
    "def concatenate_vertically(firtst_image_path, second_image_path, output_image_path):\n",
    "    image_one = Image.open(firtst_image_path)\n",
    "    image_two = Image.open(second_image_path)\n",
    "    height = image_one.height + image_two.height\n",
    "    new_image = Image.new(\"RGB\", (image_one.width, height))\n",
    "\n",
    "    new_image.paste(image_one, (0,0))\n",
    "    new_image.paste(image_two, (0, image_one.height))\n",
    "    \n",
    "    new_image.save(output_image_path)\n",
    "\n",
    "# 좌우 합치기(붙이기)\n",
    "def concatenate_horizontally(firtst_image_path, second_image_path, output_image_path):\n",
    "    image_one = Image.open(firtst_image_path)\n",
    "    image_two = Image.open(second_image_path)\n",
    "    width = image_one.width + image_two.width\n",
    "    new_image = Image.new(\"RGB\", (width, image_one.height))\n",
    "\n",
    "    new_image.paste(image_one, (0,0))\n",
    "    new_image.paste(image_two, (image_one.width, 0))\n",
    "    \n",
    "    new_image.save(output_image_path)\n",
    "\n",
    "\n",
    "if __name__ == \"__main__\":\n",
    "    concatenate_vertically(\"silver_falls.jpg\", \"silver_falls2.jpg\", \"silver_combine_vertically.jpg\")\n",
    "    concatenate_horizontally(\"silver_falls.jpg\", \"silver_falls2.jpg\", \"silver_combine_horizontally.jpg\")"
   ]
  },
  {
   "cell_type": "code",
   "execution_count": 58,
   "metadata": {},
   "outputs": [],
   "source": [
    "# watermark\n",
    "\n",
    "from PIL import Image\n",
    "\n",
    "def watermark(input_image_path, output_image_path, watermark_image_path, position):\n",
    "    base_image = Image.open(input_image_path)\n",
    "    watermark_image = Image.open(watermark_image_path)\n",
    "\n",
    "    base_image.paste(watermark_image, position)\n",
    "    base_image.save(output_image_path)\n",
    "\n",
    "if __name__ == \"__main__\":\n",
    "    watermark(\"hummingbird.jpg\", \"hummingbird_watermarked.jpg\", \"logo.png\", position=(10,10))\n",
    "\n"
   ]
  },
  {
   "cell_type": "code",
   "execution_count": 61,
   "metadata": {},
   "outputs": [],
   "source": [
    "# watermark 처리를 할 때 transparency를 지원하지 않는 이미지면 에러 발생\n",
    "# 다시하기\n",
    "\n",
    "from PIL import Image\n",
    "\n",
    "def watermark_with_transparency(input_image_path, output_image_path, watermark_image_path, position):\n",
    "    base_image = Image.open(input_image_path)\n",
    "    watermark = Image.open(watermark_image_path)\n",
    "    width, height = base_image.size\n",
    "    transparent = Image.new(\"RGB\", (width, height), (0,0,0,0))\n",
    "    transparent.paste(base_image, (0,0))\n",
    "    transparent.paste(watermark, position, mask=watermark)\n",
    "    transparent.save(output_image_path)\n",
    "    \n",
    "if __name__ == \"__main__\":\n",
    "    watermark_with_transparency(\"hummingbird.jpg\", \"hummingbird_watermarked_2.jpg\", \"logo.png\", position=(10,10))\n",
    "\n"
   ]
  },
  {
   "cell_type": "code",
   "execution_count": 66,
   "metadata": {},
   "outputs": [],
   "source": [
    "# Image composite\n",
    "\n",
    "from PIL import Image\n",
    "\n",
    "def composite_image(input_image_path, input_image_path_2, output_path):\n",
    "    image1 = Image.open(input_image_path)\n",
    "    image2 = Image.open(input_image_path_2).resize(image1.size)\n",
    "    mask = Image.new(\"L\", image1.size, 120) # 0~255\n",
    "    composite_images = Image.composite(image1, image2, mask)\n",
    "    composite_images.save(output_path)\n",
    " \n",
    "if __name__ == \"__main__\":\n",
    "    composite_image(\"hummingbird.jpg\", \"silver_falls.jpg\", \"composited.jpg\")\n"
   ]
  },
  {
   "cell_type": "code",
   "execution_count": 67,
   "metadata": {},
   "outputs": [],
   "source": [
    "from PIL import Image\n",
    "\n",
    "def blend(input_image_path, input_image_path_2, output_path, alpha):\n",
    "    image1 = Image.open(input_image_path).convert(\"RGBA\")\n",
    "    image2 = Image.open(input_image_path_2).convert(\"RGBA\")\n",
    "    if image1.size != image2.size:\n",
    "        print(\"이미지가 같은 크기가 아닙니다.\")\n",
    "        return\n",
    "    blended_image = Image.blend(image1, image2, alpha)\n",
    "    blended_image.save(output_path)\n",
    "\n",
    "if __name__ == \"__main__\":\n",
    "    blend(\"silver_falls.jpg\", \"silver_falls2.jpg\", \"blened.png\", alpha=0.5)"
   ]
  },
  {
   "cell_type": "code",
   "execution_count": null,
   "metadata": {},
   "outputs": [],
   "source": []
  }
 ]
}