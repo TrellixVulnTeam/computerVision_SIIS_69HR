{
 "metadata": {
  "language_info": {
   "codemirror_mode": {
    "name": "ipython",
    "version": 3
   },
   "file_extension": ".py",
   "mimetype": "text/x-python",
   "name": "python",
   "nbconvert_exporter": "python",
   "pygments_lexer": "ipython3",
   "version": "3.9.5"
  },
  "orig_nbformat": 2,
  "kernelspec": {
   "name": "pythonjvsc74a57bd02d316980d0a7639b819866d4d53ac476e12761fa591eb1e219fdff4d4693ac56",
   "display_name": "Python 3.9.5 64-bit ('venv': venv)"
  },
  "metadata": {
   "interpreter": {
    "hash": "2d316980d0a7639b819866d4d53ac476e12761fa591eb1e219fdff4d4693ac56"
   }
  }
 },
 "nbformat": 4,
 "nbformat_minor": 2,
 "cells": [
  {
   "cell_type": "code",
   "execution_count": 2,
   "metadata": {},
   "outputs": [],
   "source": [
    "# Regression (회귀)\n",
    "# 숫자값 예측이 목적\n",
    "# 주택에 대한 정보 (방의 개수, 크기, 욕실 수 등) -> 주택의 판매 가격\n",
    "# 이미지에서 어떤 항목의 경계 상자의 좌료를 예측\n",
    "# 인구 통계 (연령, 성별, 인종 등) -> 의료보험 비용 등등 예측\n",
    "\n",
    "# 입력 (데이터) -> 패턴을 발견하는 신경망 -> 출력 (예측)\n",
    "# 1. 분석하기 쉬운 형태로 데이터를 준비\n",
    "# 2. 패턴을 발견하는 신경망을 만들기\n",
    "# 3. 만든 신경망의 결과를 확인 "
   ]
  },
  {
   "cell_type": "code",
   "execution_count": null,
   "metadata": {},
   "outputs": [],
   "source": [
    "# 앞으로 우리가 할 일\n",
    "# 1. 회귀 모델의 아키텍처를 확인\n",
    "# 2. 입력과 출력의 형태를 생성\n",
    "#     - 'X' : feature / 데이터 (입력)\n",
    "#     - 'Y' : 레이블 (Lable) (출력)\n",
    "# 3. 모델링 단계\n",
    "#      1) 모델 생성\n",
    "#      2) 모델 컴파일\n",
    "#          - 손실 함수 설정\n",
    "#          - 최적화 함수 설정\n",
    "#          - 평가 지표 생성\n",
    "#      3) 모델 피팅 (데이터에서 패턴 찾기)\n",
    "# 4. 모델 평가\n",
    "#      1) 모델 시각화\n",
    "#      2) 학습 곡선 확인\n",
    "#      3) 예측 결과를 실제 데이터와 비교 (평가 지표 사용)\n",
    "# 5. 모델 저장 (나중의 사용을 위해서)\n",
    "# 6. 모델 가져와서 사용하기"
   ]
  },
  {
   "source": [
    "## 회귀 신경망의 일반적인 아키텍처\n",
    "\n",
    "신경망을 생성하는 방법은 매우 다양합니다. 그래도, 일반적인 방법을 존재\n",
    "\n",
    "데이터 수집 -> 데이터에서 패턴 찾기 -> 결과 만들기"
   ],
   "cell_type": "markdown",
   "metadata": {}
  },
  {
   "source": [
    "* Input Layer shape (입력층의 형태) : 특성 (feature, column, variable)의 갯수 (shape)\n",
    "* Hidden Layer (은닉층) : 해결하려는 문제에 따라 최소 1개 이상으로 이루어진다.\n",
    "* 은닉층 각각을 구성하는 뉴런 : 해결하려는 문제에 따라 최소 10 ~ 최대 100로 이루어진다.\n",
    "* Output Leayer shape (출력층의 형태) : 우리가 예측값을 얻고자 하는 형태 (주택의 가격이라면 1)\n",
    "* 은닉층의 활성화 함수 : [ReLU](https://www.kaggle.com/dansbecker/rectified-linear-units-relu-in-deep-learning) (rectified linear unit)\n",
    "* 출력층의 활성화 함수 : None, ReLU, logistic/tanh\n",
    "* 손실함수 : MSE (mean square error), MAE (mean absolute error) / Huber (MAE와 MSE의 조합) 특이값들이 있을 때 사용\n",
    "* 옵티마이저 (최적화) : SGD (stochastic gradient descent), Adam\n"
   ],
   "cell_type": "markdown",
   "metadata": {}
  },
  {
   "source": [
    "* **hyperparameter** *(하이퍼파라미터)* : 머신 러닝 분야에서 하이퍼파라미터라는 단어는 데이터 분석가나 개발자들이 설정하는 값\n",
    "* **parameter** *(파라미터)* : (분석가나 개발자들이 명시적으로 설정한 값이 아닌) 모델이 스스로 파악한 값 "
   ],
   "cell_type": "markdown",
   "metadata": {}
  },
  {
   "source": [
    "## 이제 우리는 **regression problem (회귀 문제)**를 다룹니다!\n",
    "회귀 --> 특정 값을 예측!"
   ],
   "cell_type": "markdown",
   "metadata": {}
  },
  {
   "cell_type": "code",
   "execution_count": 1,
   "metadata": {},
   "outputs": [],
   "source": [
    "import tensorflow as tf\n",
    "import pandas as pd\n",
    "import numpy as np\n",
    "import matplotlib.pyplot as plt"
   ]
  },
  {
   "cell_type": "code",
   "execution_count": 2,
   "metadata": {},
   "outputs": [
    {
     "output_type": "execute_result",
     "data": {
      "text/plain": [
       "<matplotlib.collections.PathCollection at 0x1a52250e2b0>"
      ]
     },
     "metadata": {},
     "execution_count": 2
    },
    {
     "output_type": "display_data",
     "data": {
      "text/plain": "<Figure size 432x288 with 1 Axes>",
      "image/svg+xml": "<?xml version=\"1.0\" encoding=\"utf-8\" standalone=\"no\"?>\r\n<!DOCTYPE svg PUBLIC \"-//W3C//DTD SVG 1.1//EN\"\r\n  \"http://www.w3.org/Graphics/SVG/1.1/DTD/svg11.dtd\">\r\n<svg height=\"251.846694pt\" version=\"1.1\" viewBox=\"0 0 374.562825 251.846694\" width=\"374.562825pt\" xmlns=\"http://www.w3.org/2000/svg\" xmlns:xlink=\"http://www.w3.org/1999/xlink\">\r\n <metadata>\r\n  <rdf:RDF xmlns:cc=\"http://creativecommons.org/ns#\" xmlns:dc=\"http://purl.org/dc/elements/1.1/\" xmlns:rdf=\"http://www.w3.org/1999/02/22-rdf-syntax-ns#\">\r\n   <cc:Work>\r\n    <dc:type rdf:resource=\"http://purl.org/dc/dcmitype/StillImage\"/>\r\n    <dc:date>2021-05-30T13:03:49.303548</dc:date>\r\n    <dc:format>image/svg+xml</dc:format>\r\n    <dc:creator>\r\n     <cc:Agent>\r\n      <dc:title>Matplotlib v3.4.2, https://matplotlib.org/</dc:title>\r\n     </cc:Agent>\r\n    </dc:creator>\r\n   </cc:Work>\r\n  </rdf:RDF>\r\n </metadata>\r\n <defs>\r\n  <style type=\"text/css\">*{stroke-linecap:butt;stroke-linejoin:round;}</style>\r\n </defs>\r\n <g id=\"figure_1\">\r\n  <g id=\"patch_1\">\r\n   <path d=\"M -0 251.846694 \r\nL 374.562825 251.846694 \r\nL 374.562825 0 \r\nL -0 0 \r\nz\r\n\" style=\"fill:none;\"/>\r\n  </g>\r\n  <g id=\"axes_1\">\r\n   <g id=\"patch_2\">\r\n    <path d=\"M 26.925 227.968569 \r\nL 361.725 227.968569 \r\nL 361.725 10.528569 \r\nL 26.925 10.528569 \r\nz\r\n\" style=\"fill:#ffffff;\"/>\r\n   </g>\r\n   <g id=\"PathCollection_1\">\r\n    <defs>\r\n     <path d=\"M 0 3 \r\nC 0.795609 3 1.55874 2.683901 2.12132 2.12132 \r\nC 2.683901 1.55874 3 0.795609 3 0 \r\nC 3 -0.795609 2.683901 -1.55874 2.12132 -2.12132 \r\nC 1.55874 -2.683901 0.795609 -3 0 -3 \r\nC -0.795609 -3 -1.55874 -2.683901 -2.12132 -2.12132 \r\nC -2.683901 -1.55874 -3 -0.795609 -3 0 \r\nC -3 0.795609 -2.683901 1.55874 -2.12132 2.12132 \r\nC -1.55874 2.683901 -0.795609 3 0 3 \r\nz\r\n\" id=\"m5d9b060d07\" style=\"stroke:#1f77b4;\"/>\r\n    </defs>\r\n    <g clip-path=\"url(#p21a6448f98)\">\r\n     <use style=\"fill:#1f77b4;stroke:#1f77b4;\" x=\"42.143182\" xlink:href=\"#m5d9b060d07\" y=\"218.084933\"/>\r\n     <use style=\"fill:#1f77b4;stroke:#1f77b4;\" x=\"85.623701\" xlink:href=\"#m5d9b060d07\" y=\"189.845972\"/>\r\n     <use style=\"fill:#1f77b4;stroke:#1f77b4;\" x=\"129.104221\" xlink:href=\"#m5d9b060d07\" y=\"161.607011\"/>\r\n     <use style=\"fill:#1f77b4;stroke:#1f77b4;\" x=\"172.58474\" xlink:href=\"#m5d9b060d07\" y=\"133.36805\"/>\r\n     <use style=\"fill:#1f77b4;stroke:#1f77b4;\" x=\"216.06526\" xlink:href=\"#m5d9b060d07\" y=\"105.129089\"/>\r\n     <use style=\"fill:#1f77b4;stroke:#1f77b4;\" x=\"259.545779\" xlink:href=\"#m5d9b060d07\" y=\"76.890128\"/>\r\n     <use style=\"fill:#1f77b4;stroke:#1f77b4;\" x=\"303.026299\" xlink:href=\"#m5d9b060d07\" y=\"48.651167\"/>\r\n     <use style=\"fill:#1f77b4;stroke:#1f77b4;\" x=\"346.506818\" xlink:href=\"#m5d9b060d07\" y=\"20.412206\"/>\r\n    </g>\r\n   </g>\r\n   <g id=\"matplotlib.axis_1\">\r\n    <g id=\"xtick_1\">\r\n     <g id=\"line2d_1\">\r\n      <defs>\r\n       <path d=\"M 0 0 \r\nL 0 3.5 \r\n\" id=\"m2c85213681\" style=\"stroke:#000000;stroke-width:0.8;\"/>\r\n      </defs>\r\n      <g>\r\n       <use style=\"stroke:#000000;stroke-width:0.8;\" x=\"71.130195\" xlink:href=\"#m2c85213681\" y=\"227.968569\"/>\r\n      </g>\r\n     </g>\r\n     <g id=\"text_1\">\r\n      <!-- −5 -->\r\n      <g transform=\"translate(63.759101 242.567007)scale(0.1 -0.1)\">\r\n       <defs>\r\n        <path d=\"M 678 2272 \r\nL 4684 2272 \r\nL 4684 1741 \r\nL 678 1741 \r\nL 678 2272 \r\nz\r\n\" id=\"DejaVuSans-2212\" transform=\"scale(0.015625)\"/>\r\n        <path d=\"M 691 4666 \r\nL 3169 4666 \r\nL 3169 4134 \r\nL 1269 4134 \r\nL 1269 2991 \r\nQ 1406 3038 1543 3061 \r\nQ 1681 3084 1819 3084 \r\nQ 2600 3084 3056 2656 \r\nQ 3513 2228 3513 1497 \r\nQ 3513 744 3044 326 \r\nQ 2575 -91 1722 -91 \r\nQ 1428 -91 1123 -41 \r\nQ 819 9 494 109 \r\nL 494 744 \r\nQ 775 591 1075 516 \r\nQ 1375 441 1709 441 \r\nQ 2250 441 2565 725 \r\nQ 2881 1009 2881 1497 \r\nQ 2881 1984 2565 2268 \r\nQ 2250 2553 1709 2553 \r\nQ 1456 2553 1204 2497 \r\nQ 953 2441 691 2322 \r\nL 691 4666 \r\nz\r\n\" id=\"DejaVuSans-35\" transform=\"scale(0.015625)\"/>\r\n       </defs>\r\n       <use xlink:href=\"#DejaVuSans-2212\"/>\r\n       <use x=\"83.789062\" xlink:href=\"#DejaVuSans-35\"/>\r\n      </g>\r\n     </g>\r\n    </g>\r\n    <g id=\"xtick_2\">\r\n     <g id=\"line2d_2\">\r\n      <g>\r\n       <use style=\"stroke:#000000;stroke-width:0.8;\" x=\"143.597727\" xlink:href=\"#m2c85213681\" y=\"227.968569\"/>\r\n      </g>\r\n     </g>\r\n     <g id=\"text_2\">\r\n      <!-- 0 -->\r\n      <g transform=\"translate(140.416477 242.567007)scale(0.1 -0.1)\">\r\n       <defs>\r\n        <path d=\"M 2034 4250 \r\nQ 1547 4250 1301 3770 \r\nQ 1056 3291 1056 2328 \r\nQ 1056 1369 1301 889 \r\nQ 1547 409 2034 409 \r\nQ 2525 409 2770 889 \r\nQ 3016 1369 3016 2328 \r\nQ 3016 3291 2770 3770 \r\nQ 2525 4250 2034 4250 \r\nz\r\nM 2034 4750 \r\nQ 2819 4750 3233 4129 \r\nQ 3647 3509 3647 2328 \r\nQ 3647 1150 3233 529 \r\nQ 2819 -91 2034 -91 \r\nQ 1250 -91 836 529 \r\nQ 422 1150 422 2328 \r\nQ 422 3509 836 4129 \r\nQ 1250 4750 2034 4750 \r\nz\r\n\" id=\"DejaVuSans-30\" transform=\"scale(0.015625)\"/>\r\n       </defs>\r\n       <use xlink:href=\"#DejaVuSans-30\"/>\r\n      </g>\r\n     </g>\r\n    </g>\r\n    <g id=\"xtick_3\">\r\n     <g id=\"line2d_3\">\r\n      <g>\r\n       <use style=\"stroke:#000000;stroke-width:0.8;\" x=\"216.06526\" xlink:href=\"#m2c85213681\" y=\"227.968569\"/>\r\n      </g>\r\n     </g>\r\n     <g id=\"text_3\">\r\n      <!-- 5 -->\r\n      <g transform=\"translate(212.88401 242.567007)scale(0.1 -0.1)\">\r\n       <use xlink:href=\"#DejaVuSans-35\"/>\r\n      </g>\r\n     </g>\r\n    </g>\r\n    <g id=\"xtick_4\">\r\n     <g id=\"line2d_4\">\r\n      <g>\r\n       <use style=\"stroke:#000000;stroke-width:0.8;\" x=\"288.532792\" xlink:href=\"#m2c85213681\" y=\"227.968569\"/>\r\n      </g>\r\n     </g>\r\n     <g id=\"text_4\">\r\n      <!-- 10 -->\r\n      <g transform=\"translate(282.170292 242.567007)scale(0.1 -0.1)\">\r\n       <defs>\r\n        <path d=\"M 794 531 \r\nL 1825 531 \r\nL 1825 4091 \r\nL 703 3866 \r\nL 703 4441 \r\nL 1819 4666 \r\nL 2450 4666 \r\nL 2450 531 \r\nL 3481 531 \r\nL 3481 0 \r\nL 794 0 \r\nL 794 531 \r\nz\r\n\" id=\"DejaVuSans-31\" transform=\"scale(0.015625)\"/>\r\n       </defs>\r\n       <use xlink:href=\"#DejaVuSans-31\"/>\r\n       <use x=\"63.623047\" xlink:href=\"#DejaVuSans-30\"/>\r\n      </g>\r\n     </g>\r\n    </g>\r\n    <g id=\"xtick_5\">\r\n     <g id=\"line2d_5\">\r\n      <g>\r\n       <use style=\"stroke:#000000;stroke-width:0.8;\" x=\"361.000325\" xlink:href=\"#m2c85213681\" y=\"227.968569\"/>\r\n      </g>\r\n     </g>\r\n     <g id=\"text_5\">\r\n      <!-- 15 -->\r\n      <g transform=\"translate(354.637825 242.567007)scale(0.1 -0.1)\">\r\n       <use xlink:href=\"#DejaVuSans-31\"/>\r\n       <use x=\"63.623047\" xlink:href=\"#DejaVuSans-35\"/>\r\n      </g>\r\n     </g>\r\n    </g>\r\n   </g>\r\n   <g id=\"matplotlib.axis_2\">\r\n    <g id=\"ytick_1\">\r\n     <g id=\"line2d_6\">\r\n      <defs>\r\n       <path d=\"M 0 0 \r\nL -3.5 0 \r\n\" id=\"m0a9acc5b7d\" style=\"stroke:#000000;stroke-width:0.8;\"/>\r\n      </defs>\r\n      <g>\r\n       <use style=\"stroke:#000000;stroke-width:0.8;\" x=\"26.925\" xlink:href=\"#m0a9acc5b7d\" y=\"199.258959\"/>\r\n      </g>\r\n     </g>\r\n     <g id=\"text_6\">\r\n      <!-- 5 -->\r\n      <g transform=\"translate(13.5625 203.058178)scale(0.1 -0.1)\">\r\n       <use xlink:href=\"#DejaVuSans-35\"/>\r\n      </g>\r\n     </g>\r\n    </g>\r\n    <g id=\"ytick_2\">\r\n     <g id=\"line2d_7\">\r\n      <g>\r\n       <use style=\"stroke:#000000;stroke-width:0.8;\" x=\"26.925\" xlink:href=\"#m0a9acc5b7d\" y=\"152.194024\"/>\r\n      </g>\r\n     </g>\r\n     <g id=\"text_7\">\r\n      <!-- 10 -->\r\n      <g transform=\"translate(7.2 155.993243)scale(0.1 -0.1)\">\r\n       <use xlink:href=\"#DejaVuSans-31\"/>\r\n       <use x=\"63.623047\" xlink:href=\"#DejaVuSans-30\"/>\r\n      </g>\r\n     </g>\r\n    </g>\r\n    <g id=\"ytick_3\">\r\n     <g id=\"line2d_8\">\r\n      <g>\r\n       <use style=\"stroke:#000000;stroke-width:0.8;\" x=\"26.925\" xlink:href=\"#m0a9acc5b7d\" y=\"105.129089\"/>\r\n      </g>\r\n     </g>\r\n     <g id=\"text_8\">\r\n      <!-- 15 -->\r\n      <g transform=\"translate(7.2 108.928308)scale(0.1 -0.1)\">\r\n       <use xlink:href=\"#DejaVuSans-31\"/>\r\n       <use x=\"63.623047\" xlink:href=\"#DejaVuSans-35\"/>\r\n      </g>\r\n     </g>\r\n    </g>\r\n    <g id=\"ytick_4\">\r\n     <g id=\"line2d_9\">\r\n      <g>\r\n       <use style=\"stroke:#000000;stroke-width:0.8;\" x=\"26.925\" xlink:href=\"#m0a9acc5b7d\" y=\"58.064154\"/>\r\n      </g>\r\n     </g>\r\n     <g id=\"text_9\">\r\n      <!-- 20 -->\r\n      <g transform=\"translate(7.2 61.863373)scale(0.1 -0.1)\">\r\n       <defs>\r\n        <path d=\"M 1228 531 \r\nL 3431 531 \r\nL 3431 0 \r\nL 469 0 \r\nL 469 531 \r\nQ 828 903 1448 1529 \r\nQ 2069 2156 2228 2338 \r\nQ 2531 2678 2651 2914 \r\nQ 2772 3150 2772 3378 \r\nQ 2772 3750 2511 3984 \r\nQ 2250 4219 1831 4219 \r\nQ 1534 4219 1204 4116 \r\nQ 875 4013 500 3803 \r\nL 500 4441 \r\nQ 881 4594 1212 4672 \r\nQ 1544 4750 1819 4750 \r\nQ 2544 4750 2975 4387 \r\nQ 3406 4025 3406 3419 \r\nQ 3406 3131 3298 2873 \r\nQ 3191 2616 2906 2266 \r\nQ 2828 2175 2409 1742 \r\nQ 1991 1309 1228 531 \r\nz\r\n\" id=\"DejaVuSans-32\" transform=\"scale(0.015625)\"/>\r\n       </defs>\r\n       <use xlink:href=\"#DejaVuSans-32\"/>\r\n       <use x=\"63.623047\" xlink:href=\"#DejaVuSans-30\"/>\r\n      </g>\r\n     </g>\r\n    </g>\r\n    <g id=\"ytick_5\">\r\n     <g id=\"line2d_10\">\r\n      <g>\r\n       <use style=\"stroke:#000000;stroke-width:0.8;\" x=\"26.925\" xlink:href=\"#m0a9acc5b7d\" y=\"10.999219\"/>\r\n      </g>\r\n     </g>\r\n     <g id=\"text_10\">\r\n      <!-- 25 -->\r\n      <g transform=\"translate(7.2 14.798437)scale(0.1 -0.1)\">\r\n       <use xlink:href=\"#DejaVuSans-32\"/>\r\n       <use x=\"63.623047\" xlink:href=\"#DejaVuSans-35\"/>\r\n      </g>\r\n     </g>\r\n    </g>\r\n   </g>\r\n   <g id=\"patch_3\">\r\n    <path d=\"M 26.925 227.968569 \r\nL 26.925 10.528569 \r\n\" style=\"fill:none;stroke:#000000;stroke-linecap:square;stroke-linejoin:miter;stroke-width:0.8;\"/>\r\n   </g>\r\n   <g id=\"patch_4\">\r\n    <path d=\"M 361.725 227.968569 \r\nL 361.725 10.528569 \r\n\" style=\"fill:none;stroke:#000000;stroke-linecap:square;stroke-linejoin:miter;stroke-width:0.8;\"/>\r\n   </g>\r\n   <g id=\"patch_5\">\r\n    <path d=\"M 26.925 227.968569 \r\nL 361.725 227.968569 \r\n\" style=\"fill:none;stroke:#000000;stroke-linecap:square;stroke-linejoin:miter;stroke-width:0.8;\"/>\r\n   </g>\r\n   <g id=\"patch_6\">\r\n    <path d=\"M 26.925 10.528569 \r\nL 361.725 10.528569 \r\n\" style=\"fill:none;stroke:#000000;stroke-linecap:square;stroke-linejoin:miter;stroke-width:0.8;\"/>\r\n   </g>\r\n  </g>\r\n </g>\r\n <defs>\r\n  <clipPath id=\"p21a6448f98\">\r\n   <rect height=\"217.44\" width=\"334.8\" x=\"26.925\" y=\"10.528569\"/>\r\n  </clipPath>\r\n </defs>\r\n</svg>\r\n",
      "image/png": "[encoded data removed]"
     },
     "metadata": {
      "needs_background": "light"
     }
    }
   ],
   "source": [
    "# feature 특성, 변수\n",
    "X = np.array([-7.0, -4.0, -1.0, 2.0, 5.0, 8.0, 11.0, 14.0])\n",
    "\n",
    "# Label\n",
    "y = np.array([3.0, 6.0, 9.0, 12.0, 15.0, 18.0, 21.0, 24.0])\n",
    "\n",
    "plt.scatter(X, y)"
   ]
  },
  {
   "source": [
    "모델을 만들기전에 EDA (Explorary Data Analysis) 탐색적 자료 분석을 해서\n",
    "\n",
    "위의 경우처럼 X, y의 관계, 즉 패턴을 찾을려고 한다!\n",
    "\n",
    "위의 패턴이라면 17은 어떤 값일까? -10은 어떤 값일까?"
   ],
   "cell_type": "markdown",
   "metadata": {}
  },
  {
   "source": [
    "## 신경망 (neural network)로 작업을 할 때 가장 중요한 몇 가지 개념!\n",
    "\n",
    "### **input shape (입력 모양)** : 모델을 만들기 위한 데이터의 형태\n",
    "### **output shape (출력 모양)** : 모델을 통해서 예측하고자 하는 데이터의 형태\n",
    "\n",
    "문제에 따라 입려과 출력의 모양 각기 각각!\n",
    "\n",
    "신경망은 숫자를 입력 받고, 숫자를 출력! 이 때 일반적으로 tensor나 array로 처리합니다."
   ],
   "cell_type": "markdown",
   "metadata": {}
  },
  {
   "cell_type": "code",
   "execution_count": 6,
   "metadata": {},
   "outputs": [
    {
     "output_type": "execute_result",
     "data": {
      "text/plain": [
       "(<tf.Tensor: shape=(3,), dtype=string, numpy=array([b'bedroom', b'bathroom', b'garage'], dtype=object)>,\n",
       " <tf.Tensor: shape=(1,), dtype=int32, numpy=array([939700])>)"
      ]
     },
     "metadata": {},
     "execution_count": 6
    }
   ],
   "source": [
    "house_info = tf.constant([\"bedroom\", \"bathroom\", \"garage\"])\n",
    "house_price = tf.constant([939700])\n",
    "house_info, house_price"
   ]
  },
  {
   "cell_type": "code",
   "execution_count": 7,
   "metadata": {},
   "outputs": [
    {
     "output_type": "execute_result",
     "data": {
      "text/plain": [
       "TensorShape([3])"
      ]
     },
     "metadata": {},
     "execution_count": 7
    }
   ],
   "source": [
    "house_info.shape"
   ]
  },
  {
   "cell_type": "code",
   "execution_count": 3,
   "metadata": {},
   "outputs": [
    {
     "output_type": "execute_result",
     "data": {
      "text/plain": [
       "<matplotlib.collections.PathCollection at 0x1a52251b5b0>"
      ]
     },
     "metadata": {},
     "execution_count": 3
    },
    {
     "output_type": "display_data",
     "data": {
      "text/plain": "<Figure size 432x288 with 1 Axes>",
      "image/svg+xml": "<?xml version=\"1.0\" encoding=\"utf-8\" standalone=\"no\"?>\r\n<!DOCTYPE svg PUBLIC \"-//W3C//DTD SVG 1.1//EN\"\r\n  \"http://www.w3.org/Graphics/SVG/1.1/DTD/svg11.dtd\">\r\n<svg height=\"251.846694pt\" version=\"1.1\" viewBox=\"0 0 374.562825 251.846694\" width=\"374.562825pt\" xmlns=\"http://www.w3.org/2000/svg\" xmlns:xlink=\"http://www.w3.org/1999/xlink\">\r\n <metadata>\r\n  <rdf:RDF xmlns:cc=\"http://creativecommons.org/ns#\" xmlns:dc=\"http://purl.org/dc/elements/1.1/\" xmlns:rdf=\"http://www.w3.org/1999/02/22-rdf-syntax-ns#\">\r\n   <cc:Work>\r\n    <dc:type rdf:resource=\"http://purl.org/dc/dcmitype/StillImage\"/>\r\n    <dc:date>2021-05-30T13:06:17.662694</dc:date>\r\n    <dc:format>image/svg+xml</dc:format>\r\n    <dc:creator>\r\n     <cc:Agent>\r\n      <dc:title>Matplotlib v3.4.2, https://matplotlib.org/</dc:title>\r\n     </cc:Agent>\r\n    </dc:creator>\r\n   </cc:Work>\r\n  </rdf:RDF>\r\n </metadata>\r\n <defs>\r\n  <style type=\"text/css\">*{stroke-linecap:butt;stroke-linejoin:round;}</style>\r\n </defs>\r\n <g id=\"figure_1\">\r\n  <g id=\"patch_1\">\r\n   <path d=\"M -0 251.846694 \r\nL 374.562825 251.846694 \r\nL 374.562825 0 \r\nL -0 0 \r\nz\r\n\" style=\"fill:none;\"/>\r\n  </g>\r\n  <g id=\"axes_1\">\r\n   <g id=\"patch_2\">\r\n    <path d=\"M 26.925 227.968569 \r\nL 361.725 227.968569 \r\nL 361.725 10.528569 \r\nL 26.925 10.528569 \r\nz\r\n\" style=\"fill:#ffffff;\"/>\r\n   </g>\r\n   <g id=\"PathCollection_1\">\r\n    <defs>\r\n     <path d=\"M 0 3 \r\nC 0.795609 3 1.55874 2.683901 2.12132 2.12132 \r\nC 2.683901 1.55874 3 0.795609 3 0 \r\nC 3 -0.795609 2.683901 -1.55874 2.12132 -2.12132 \r\nC 1.55874 -2.683901 0.795609 -3 0 -3 \r\nC -0.795609 -3 -1.55874 -2.683901 -2.12132 -2.12132 \r\nC -2.683901 -1.55874 -3 -0.795609 -3 0 \r\nC -3 0.795609 -2.683901 1.55874 -2.12132 2.12132 \r\nC -1.55874 2.683901 -0.795609 3 0 3 \r\nz\r\n\" id=\"m7649b40d9f\" style=\"stroke:#1f77b4;\"/>\r\n    </defs>\r\n    <g clip-path=\"url(#p60b255d1a1)\">\r\n     <use style=\"fill:#1f77b4;stroke:#1f77b4;\" x=\"42.143182\" xlink:href=\"#m7649b40d9f\" y=\"218.084933\"/>\r\n     <use style=\"fill:#1f77b4;stroke:#1f77b4;\" x=\"85.623701\" xlink:href=\"#m7649b40d9f\" y=\"189.845972\"/>\r\n     <use style=\"fill:#1f77b4;stroke:#1f77b4;\" x=\"129.104221\" xlink:href=\"#m7649b40d9f\" y=\"161.607011\"/>\r\n     <use style=\"fill:#1f77b4;stroke:#1f77b4;\" x=\"172.58474\" xlink:href=\"#m7649b40d9f\" y=\"133.36805\"/>\r\n     <use style=\"fill:#1f77b4;stroke:#1f77b4;\" x=\"216.06526\" xlink:href=\"#m7649b40d9f\" y=\"105.129089\"/>\r\n     <use style=\"fill:#1f77b4;stroke:#1f77b4;\" x=\"259.545779\" xlink:href=\"#m7649b40d9f\" y=\"76.890128\"/>\r\n     <use style=\"fill:#1f77b4;stroke:#1f77b4;\" x=\"303.026299\" xlink:href=\"#m7649b40d9f\" y=\"48.651167\"/>\r\n     <use style=\"fill:#1f77b4;stroke:#1f77b4;\" x=\"346.506818\" xlink:href=\"#m7649b40d9f\" y=\"20.412206\"/>\r\n    </g>\r\n   </g>\r\n   <g id=\"matplotlib.axis_1\">\r\n    <g id=\"xtick_1\">\r\n     <g id=\"line2d_1\">\r\n      <defs>\r\n       <path d=\"M 0 0 \r\nL 0 3.5 \r\n\" id=\"m8ae7e6c04e\" style=\"stroke:#000000;stroke-width:0.8;\"/>\r\n      </defs>\r\n      <g>\r\n       <use style=\"stroke:#000000;stroke-width:0.8;\" x=\"71.130195\" xlink:href=\"#m8ae7e6c04e\" y=\"227.968569\"/>\r\n      </g>\r\n     </g>\r\n     <g id=\"text_1\">\r\n      <!-- −5 -->\r\n      <g transform=\"translate(63.759101 242.567007)scale(0.1 -0.1)\">\r\n       <defs>\r\n        <path d=\"M 678 2272 \r\nL 4684 2272 \r\nL 4684 1741 \r\nL 678 1741 \r\nL 678 2272 \r\nz\r\n\" id=\"DejaVuSans-2212\" transform=\"scale(0.015625)\"/>\r\n        <path d=\"M 691 4666 \r\nL 3169 4666 \r\nL 3169 4134 \r\nL 1269 4134 \r\nL 1269 2991 \r\nQ 1406 3038 1543 3061 \r\nQ 1681 3084 1819 3084 \r\nQ 2600 3084 3056 2656 \r\nQ 3513 2228 3513 1497 \r\nQ 3513 744 3044 326 \r\nQ 2575 -91 1722 -91 \r\nQ 1428 -91 1123 -41 \r\nQ 819 9 494 109 \r\nL 494 744 \r\nQ 775 591 1075 516 \r\nQ 1375 441 1709 441 \r\nQ 2250 441 2565 725 \r\nQ 2881 1009 2881 1497 \r\nQ 2881 1984 2565 2268 \r\nQ 2250 2553 1709 2553 \r\nQ 1456 2553 1204 2497 \r\nQ 953 2441 691 2322 \r\nL 691 4666 \r\nz\r\n\" id=\"DejaVuSans-35\" transform=\"scale(0.015625)\"/>\r\n       </defs>\r\n       <use xlink:href=\"#DejaVuSans-2212\"/>\r\n       <use x=\"83.789062\" xlink:href=\"#DejaVuSans-35\"/>\r\n      </g>\r\n     </g>\r\n    </g>\r\n    <g id=\"xtick_2\">\r\n     <g id=\"line2d_2\">\r\n      <g>\r\n       <use style=\"stroke:#000000;stroke-width:0.8;\" x=\"143.597727\" xlink:href=\"#m8ae7e6c04e\" y=\"227.968569\"/>\r\n      </g>\r\n     </g>\r\n     <g id=\"text_2\">\r\n      <!-- 0 -->\r\n      <g transform=\"translate(140.416477 242.567007)scale(0.1 -0.1)\">\r\n       <defs>\r\n        <path d=\"M 2034 4250 \r\nQ 1547 4250 1301 3770 \r\nQ 1056 3291 1056 2328 \r\nQ 1056 1369 1301 889 \r\nQ 1547 409 2034 409 \r\nQ 2525 409 2770 889 \r\nQ 3016 1369 3016 2328 \r\nQ 3016 3291 2770 3770 \r\nQ 2525 4250 2034 4250 \r\nz\r\nM 2034 4750 \r\nQ 2819 4750 3233 4129 \r\nQ 3647 3509 3647 2328 \r\nQ 3647 1150 3233 529 \r\nQ 2819 -91 2034 -91 \r\nQ 1250 -91 836 529 \r\nQ 422 1150 422 2328 \r\nQ 422 3509 836 4129 \r\nQ 1250 4750 2034 4750 \r\nz\r\n\" id=\"DejaVuSans-30\" transform=\"scale(0.015625)\"/>\r\n       </defs>\r\n       <use xlink:href=\"#DejaVuSans-30\"/>\r\n      </g>\r\n     </g>\r\n    </g>\r\n    <g id=\"xtick_3\">\r\n     <g id=\"line2d_3\">\r\n      <g>\r\n       <use style=\"stroke:#000000;stroke-width:0.8;\" x=\"216.06526\" xlink:href=\"#m8ae7e6c04e\" y=\"227.968569\"/>\r\n      </g>\r\n     </g>\r\n     <g id=\"text_3\">\r\n      <!-- 5 -->\r\n      <g transform=\"translate(212.88401 242.567007)scale(0.1 -0.1)\">\r\n       <use xlink:href=\"#DejaVuSans-35\"/>\r\n      </g>\r\n     </g>\r\n    </g>\r\n    <g id=\"xtick_4\">\r\n     <g id=\"line2d_4\">\r\n      <g>\r\n       <use style=\"stroke:#000000;stroke-width:0.8;\" x=\"288.532792\" xlink:href=\"#m8ae7e6c04e\" y=\"227.968569\"/>\r\n      </g>\r\n     </g>\r\n     <g id=\"text_4\">\r\n      <!-- 10 -->\r\n      <g transform=\"translate(282.170292 242.567007)scale(0.1 -0.1)\">\r\n       <defs>\r\n        <path d=\"M 794 531 \r\nL 1825 531 \r\nL 1825 4091 \r\nL 703 3866 \r\nL 703 4441 \r\nL 1819 4666 \r\nL 2450 4666 \r\nL 2450 531 \r\nL 3481 531 \r\nL 3481 0 \r\nL 794 0 \r\nL 794 531 \r\nz\r\n\" id=\"DejaVuSans-31\" transform=\"scale(0.015625)\"/>\r\n       </defs>\r\n       <use xlink:href=\"#DejaVuSans-31\"/>\r\n       <use x=\"63.623047\" xlink:href=\"#DejaVuSans-30\"/>\r\n      </g>\r\n     </g>\r\n    </g>\r\n    <g id=\"xtick_5\">\r\n     <g id=\"line2d_5\">\r\n      <g>\r\n       <use style=\"stroke:#000000;stroke-width:0.8;\" x=\"361.000325\" xlink:href=\"#m8ae7e6c04e\" y=\"227.968569\"/>\r\n      </g>\r\n     </g>\r\n     <g id=\"text_5\">\r\n      <!-- 15 -->\r\n      <g transform=\"translate(354.637825 242.567007)scale(0.1 -0.1)\">\r\n       <use xlink:href=\"#DejaVuSans-31\"/>\r\n       <use x=\"63.623047\" xlink:href=\"#DejaVuSans-35\"/>\r\n      </g>\r\n     </g>\r\n    </g>\r\n   </g>\r\n   <g id=\"matplotlib.axis_2\">\r\n    <g id=\"ytick_1\">\r\n     <g id=\"line2d_6\">\r\n      <defs>\r\n       <path d=\"M 0 0 \r\nL -3.5 0 \r\n\" id=\"m888e880578\" style=\"stroke:#000000;stroke-width:0.8;\"/>\r\n      </defs>\r\n      <g>\r\n       <use style=\"stroke:#000000;stroke-width:0.8;\" x=\"26.925\" xlink:href=\"#m888e880578\" y=\"199.258959\"/>\r\n      </g>\r\n     </g>\r\n     <g id=\"text_6\">\r\n      <!-- 5 -->\r\n      <g transform=\"translate(13.5625 203.058178)scale(0.1 -0.1)\">\r\n       <use xlink:href=\"#DejaVuSans-35\"/>\r\n      </g>\r\n     </g>\r\n    </g>\r\n    <g id=\"ytick_2\">\r\n     <g id=\"line2d_7\">\r\n      <g>\r\n       <use style=\"stroke:#000000;stroke-width:0.8;\" x=\"26.925\" xlink:href=\"#m888e880578\" y=\"152.194024\"/>\r\n      </g>\r\n     </g>\r\n     <g id=\"text_7\">\r\n      <!-- 10 -->\r\n      <g transform=\"translate(7.2 155.993243)scale(0.1 -0.1)\">\r\n       <use xlink:href=\"#DejaVuSans-31\"/>\r\n       <use x=\"63.623047\" xlink:href=\"#DejaVuSans-30\"/>\r\n      </g>\r\n     </g>\r\n    </g>\r\n    <g id=\"ytick_3\">\r\n     <g id=\"line2d_8\">\r\n      <g>\r\n       <use style=\"stroke:#000000;stroke-width:0.8;\" x=\"26.925\" xlink:href=\"#m888e880578\" y=\"105.129089\"/>\r\n      </g>\r\n     </g>\r\n     <g id=\"text_8\">\r\n      <!-- 15 -->\r\n      <g transform=\"translate(7.2 108.928308)scale(0.1 -0.1)\">\r\n       <use xlink:href=\"#DejaVuSans-31\"/>\r\n       <use x=\"63.623047\" xlink:href=\"#DejaVuSans-35\"/>\r\n      </g>\r\n     </g>\r\n    </g>\r\n    <g id=\"ytick_4\">\r\n     <g id=\"line2d_9\">\r\n      <g>\r\n       <use style=\"stroke:#000000;stroke-width:0.8;\" x=\"26.925\" xlink:href=\"#m888e880578\" y=\"58.064154\"/>\r\n      </g>\r\n     </g>\r\n     <g id=\"text_9\">\r\n      <!-- 20 -->\r\n      <g transform=\"translate(7.2 61.863373)scale(0.1 -0.1)\">\r\n       <defs>\r\n        <path d=\"M 1228 531 \r\nL 3431 531 \r\nL 3431 0 \r\nL 469 0 \r\nL 469 531 \r\nQ 828 903 1448 1529 \r\nQ 2069 2156 2228 2338 \r\nQ 2531 2678 2651 2914 \r\nQ 2772 3150 2772 3378 \r\nQ 2772 3750 2511 3984 \r\nQ 2250 4219 1831 4219 \r\nQ 1534 4219 1204 4116 \r\nQ 875 4013 500 3803 \r\nL 500 4441 \r\nQ 881 4594 1212 4672 \r\nQ 1544 4750 1819 4750 \r\nQ 2544 4750 2975 4387 \r\nQ 3406 4025 3406 3419 \r\nQ 3406 3131 3298 2873 \r\nQ 3191 2616 2906 2266 \r\nQ 2828 2175 2409 1742 \r\nQ 1991 1309 1228 531 \r\nz\r\n\" id=\"DejaVuSans-32\" transform=\"scale(0.015625)\"/>\r\n       </defs>\r\n       <use xlink:href=\"#DejaVuSans-32\"/>\r\n       <use x=\"63.623047\" xlink:href=\"#DejaVuSans-30\"/>\r\n      </g>\r\n     </g>\r\n    </g>\r\n    <g id=\"ytick_5\">\r\n     <g id=\"line2d_10\">\r\n      <g>\r\n       <use style=\"stroke:#000000;stroke-width:0.8;\" x=\"26.925\" xlink:href=\"#m888e880578\" y=\"10.999219\"/>\r\n      </g>\r\n     </g>\r\n     <g id=\"text_10\">\r\n      <!-- 25 -->\r\n      <g transform=\"translate(7.2 14.798437)scale(0.1 -0.1)\">\r\n       <use xlink:href=\"#DejaVuSans-32\"/>\r\n       <use x=\"63.623047\" xlink:href=\"#DejaVuSans-35\"/>\r\n      </g>\r\n     </g>\r\n    </g>\r\n   </g>\r\n   <g id=\"patch_3\">\r\n    <path d=\"M 26.925 227.968569 \r\nL 26.925 10.528569 \r\n\" style=\"fill:none;stroke:#000000;stroke-linecap:square;stroke-linejoin:miter;stroke-width:0.8;\"/>\r\n   </g>\r\n   <g id=\"patch_4\">\r\n    <path d=\"M 361.725 227.968569 \r\nL 361.725 10.528569 \r\n\" style=\"fill:none;stroke:#000000;stroke-linecap:square;stroke-linejoin:miter;stroke-width:0.8;\"/>\r\n   </g>\r\n   <g id=\"patch_5\">\r\n    <path d=\"M 26.925 227.968569 \r\nL 361.725 227.968569 \r\n\" style=\"fill:none;stroke:#000000;stroke-linecap:square;stroke-linejoin:miter;stroke-width:0.8;\"/>\r\n   </g>\r\n   <g id=\"patch_6\">\r\n    <path d=\"M 26.925 10.528569 \r\nL 361.725 10.528569 \r\n\" style=\"fill:none;stroke:#000000;stroke-linecap:square;stroke-linejoin:miter;stroke-width:0.8;\"/>\r\n   </g>\r\n  </g>\r\n </g>\r\n <defs>\r\n  <clipPath id=\"p60b255d1a1\">\r\n   <rect height=\"217.44\" width=\"334.8\" x=\"26.925\" y=\"10.528569\"/>\r\n  </clipPath>\r\n </defs>\r\n</svg>\r\n",
      "image/png": "[encoded data removed]"
     },
     "metadata": {
      "needs_background": "light"
     }
    }
   ],
   "source": [
    "# feature 특성, 변수\n",
    "X = tf.constant([-7.0, -4.0, -1.0, 2.0, 5.0, 8.0, 11.0, 14.0])\n",
    "\n",
    "# Label\n",
    "y = tf.constant([3.0, 6.0, 9.0, 12.0, 15.0, 18.0, 21.0, 24.0])\n",
    "\n",
    "plt.scatter(X, y)"
   ]
  },
  {
   "cell_type": "code",
   "execution_count": 6,
   "metadata": {},
   "outputs": [
    {
     "output_type": "execute_result",
     "data": {
      "text/plain": [
       "(TensorShape([8]),\n",
       " tensorflow.python.framework.tensor_shape.TensorShape,\n",
       " 1,\n",
       " TensorShape([8]),\n",
       " tensorflow.python.framework.tensor_shape.TensorShape,\n",
       " 1)"
      ]
     },
     "metadata": {},
     "execution_count": 6
    }
   ],
   "source": [
    "input_shape = X.shape\n",
    "output_shape = y.shape\n",
    "\n",
    "input_shape, type(input_shape), X.ndim, output_shape, type(output_shape), y.ndim "
   ]
  },
  {
   "cell_type": "code",
   "execution_count": 12,
   "metadata": {},
   "outputs": [
    {
     "output_type": "execute_result",
     "data": {
      "text/plain": [
       "(<tf.Tensor: shape=(), dtype=float32, numpy=-7.0>,\n",
       " <tf.Tensor: shape=(), dtype=float32, numpy=3.0>)"
      ]
     },
     "metadata": {},
     "execution_count": 12
    }
   ],
   "source": [
    "X[0], y[0]"
   ]
  },
  {
   "source": [
    "## 모델링 과정\n",
    "### 현재 우리가 알고 있는 데이터, 입력의 shape, 출력의 shape\n",
    "Tensorflow에서는 일반적으로 모델을 생성하고 학습할 때 3단계를 실행\n",
    "\n",
    "1. **모델 정의** : 우리가 직접 신경망 (neural network)를 구성하는 레이어를 정의하거나 (전이학습시) 이전에 만들어 놓은 모델을 불어온다 \n",
    "2. **모델 컴파일** : 모델이 어떻게 실행될지 정의, 측정값 (손실함수,metric)와 개선을 하는 방법 (optimizer)\n",
    "3. **모델 피팅** : 데이터에서 패턴을 찾도록 모델에게 일을 시킴 (X가 어떻게 y가 될까?)"
   ],
   "cell_type": "markdown",
   "metadata": {}
  },
  {
   "cell_type": "code",
   "execution_count": 7,
   "metadata": {},
   "outputs": [
    {
     "output_type": "stream",
     "name": "stdout",
     "text": [
      "Epoch 1/5\n",
      "1/1 [==============================] - 0s 387ms/step - loss: 11.5048 - mae: 11.5048\n",
      "Epoch 2/5\n",
      "1/1 [==============================] - 0s 3ms/step - loss: 11.3723 - mae: 11.3723\n",
      "Epoch 3/5\n",
      "1/1 [==============================] - 0s 7ms/step - loss: 11.2398 - mae: 11.2398\n",
      "Epoch 4/5\n",
      "1/1 [==============================] - 0s 4ms/step - loss: 11.1073 - mae: 11.1073\n",
      "Epoch 5/5\n",
      "1/1 [==============================] - 0s 2ms/step - loss: 10.9748 - mae: 10.9748\n"
     ]
    },
    {
     "output_type": "execute_result",
     "data": {
      "text/plain": [
       "<tensorflow.python.keras.callbacks.History at 0x1a52ab44d30>"
      ]
     },
     "metadata": {},
     "execution_count": 7
    }
   ],
   "source": [
    "tf.random.set_seed(42)\n",
    "\n",
    "model = tf.keras.Sequential([\n",
    "    tf.keras.layers.Dense(1)\n",
    "])\n",
    "\n",
    "model.compile(\n",
    "    loss = tf.keras.losses.mae,\n",
    "    optimizer = tf.keras.optimizers.SGD(),\n",
    "    metrics = [\"mae\"]\n",
    ")\n",
    "\n",
    "model.fit(X, y, epochs = 5)"
   ]
  },
  {
   "cell_type": "code",
   "execution_count": 10,
   "metadata": {},
   "outputs": [
    {
     "output_type": "execute_result",
     "data": {
      "text/plain": [
       "(<tf.Tensor: shape=(8,), dtype=float32, numpy=array([-7., -4., -1.,  2.,  5.,  8., 11., 14.], dtype=float32)>,\n",
       " <tf.Tensor: shape=(8,), dtype=float32, numpy=array([ 3.,  6.,  9., 12., 15., 18., 21., 24.], dtype=float32)>)"
      ]
     },
     "metadata": {},
     "execution_count": 10
    }
   ],
   "source": [
    "X, y"
   ]
  },
  {
   "cell_type": "code",
   "execution_count": 11,
   "metadata": {},
   "outputs": [
    {
     "output_type": "execute_result",
     "data": {
      "text/plain": [
       "array([[12.716021],\n",
       "       [-7.4006  ]], dtype=float32)"
      ]
     },
     "metadata": {},
     "execution_count": 11
    }
   ],
   "source": [
    "model.predict([17.0, -10.])"
   ]
  },
  {
   "source": [
    "### 위 모델의 결과를 봤을 때, 간단히만 봐도 27.0을 예상했는데 전혀 다른 값을 얻었다.\n",
    "### 뭔가 모델이 이상하다! 개선을 시켜야 겠다!"
   ],
   "cell_type": "markdown",
   "metadata": {}
  },
  {
   "source": [
    "## 모델 개선시키기\n",
    "현재까지 생성한 모델을 기반으로 개선을 시킨다라는 개념\n",
    "\n",
    "1. **모델 정의 부분** : 레이어를 추가하거나, 레이어를 이루는 neuron 단위를 추가, 활성 함수를 변경\n",
    "2. **모델 컴파일** : optimizer를 변경, 최적화 함수를 수행하는 learning rate를 변경\n",
    "3. **모델 피팅** : epoch를 늘러주거나, 데이터 더 많이 준다"
   ],
   "cell_type": "markdown",
   "metadata": {}
  },
  {
   "cell_type": "code",
   "execution_count": 17,
   "metadata": {
    "tags": []
   },
   "outputs": [
    {
     "output_type": "stream",
     "name": "stdout",
     "text": [
      "Epoch 1/200\n",
      "1/1 [==============================] - 0s 328ms/step - loss: 11.5048 - mae: 11.5048\n",
      "Epoch 2/200\n",
      "1/1 [==============================] - 0s 6ms/step - loss: 11.3723 - mae: 11.3723\n",
      "Epoch 3/200\n",
      "1/1 [==============================] - 0s 5ms/step - loss: 11.2398 - mae: 11.2398\n",
      "Epoch 4/200\n",
      "1/1 [==============================] - 0s 2ms/step - loss: 11.1073 - mae: 11.1073\n",
      "Epoch 5/200\n",
      "1/1 [==============================] - 0s 2ms/step - loss: 10.9748 - mae: 10.9748\n",
      "Epoch 6/200\n",
      "1/1 [==============================] - 0s 4ms/step - loss: 10.8423 - mae: 10.8423\n",
      "Epoch 7/200\n",
      "1/1 [==============================] - 0s 3ms/step - loss: 10.7098 - mae: 10.7098\n",
      "Epoch 8/200\n",
      "1/1 [==============================] - 0s 3ms/step - loss: 10.5773 - mae: 10.5773\n",
      "Epoch 9/200\n",
      "1/1 [==============================] - 0s 3ms/step - loss: 10.4448 - mae: 10.4448\n",
      "Epoch 10/200\n",
      "1/1 [==============================] - 0s 2ms/step - loss: 10.3123 - mae: 10.3123\n",
      "Epoch 11/200\n",
      "1/1 [==============================] - 0s 2ms/step - loss: 10.1798 - mae: 10.1798\n",
      "Epoch 12/200\n",
      "1/1 [==============================] - 0s 4ms/step - loss: 10.0473 - mae: 10.0473\n",
      "Epoch 13/200\n",
      "1/1 [==============================] - 0s 3ms/step - loss: 9.9148 - mae: 9.9148\n",
      "Epoch 14/200\n",
      "1/1 [==============================] - 0s 3ms/step - loss: 9.7823 - mae: 9.7823\n",
      "Epoch 15/200\n",
      "1/1 [==============================] - 0s 4ms/step - loss: 9.6498 - mae: 9.6498\n",
      "Epoch 16/200\n",
      "1/1 [==============================] - 0s 3ms/step - loss: 9.5173 - mae: 9.5173\n",
      "Epoch 17/200\n",
      "1/1 [==============================] - 0s 7ms/step - loss: 9.3848 - mae: 9.3848\n",
      "Epoch 18/200\n",
      "1/1 [==============================] - 0s 2ms/step - loss: 9.2523 - mae: 9.2523\n",
      "Epoch 19/200\n",
      "1/1 [==============================] - 0s 2ms/step - loss: 9.1198 - mae: 9.1198\n",
      "Epoch 20/200\n",
      "1/1 [==============================] - 0s 4ms/step - loss: 8.9873 - mae: 8.9873\n",
      "Epoch 21/200\n",
      "1/1 [==============================] - 0s 3ms/step - loss: 8.8548 - mae: 8.8548\n",
      "Epoch 22/200\n",
      "1/1 [==============================] - 0s 2ms/step - loss: 8.7223 - mae: 8.7223\n",
      "Epoch 23/200\n",
      "1/1 [==============================] - 0s 3ms/step - loss: 8.5898 - mae: 8.5898\n",
      "Epoch 24/200\n",
      "1/1 [==============================] - 0s 6ms/step - loss: 8.4573 - mae: 8.4573\n",
      "Epoch 25/200\n",
      "1/1 [==============================] - 0s 3ms/step - loss: 8.3248 - mae: 8.3248\n",
      "Epoch 26/200\n",
      "1/1 [==============================] - 0s 2ms/step - loss: 8.1923 - mae: 8.1923\n",
      "Epoch 27/200\n",
      "1/1 [==============================] - 0s 2ms/step - loss: 8.0598 - mae: 8.0598\n",
      "Epoch 28/200\n",
      "1/1 [==============================] - 0s 4ms/step - loss: 7.9273 - mae: 7.9273\n",
      "Epoch 29/200\n",
      "1/1 [==============================] - 0s 2ms/step - loss: 7.7948 - mae: 7.7948\n",
      "Epoch 30/200\n",
      "1/1 [==============================] - 0s 5ms/step - loss: 7.6623 - mae: 7.6623\n",
      "Epoch 31/200\n",
      "1/1 [==============================] - 0s 5ms/step - loss: 7.5298 - mae: 7.5298\n",
      "Epoch 32/200\n",
      "1/1 [==============================] - 0s 4ms/step - loss: 7.3973 - mae: 7.3973\n",
      "Epoch 33/200\n",
      "1/1 [==============================] - 0s 3ms/step - loss: 7.2648 - mae: 7.2648\n",
      "Epoch 34/200\n",
      "1/1 [==============================] - 0s 3ms/step - loss: 7.2525 - mae: 7.2525\n",
      "Epoch 35/200\n",
      "1/1 [==============================] - 0s 3ms/step - loss: 7.2469 - mae: 7.2469\n",
      "Epoch 36/200\n",
      "1/1 [==============================] - 0s 3ms/step - loss: 7.2413 - mae: 7.2413\n",
      "Epoch 37/200\n",
      "1/1 [==============================] - 0s 2ms/step - loss: 7.2356 - mae: 7.2356\n",
      "Epoch 38/200\n",
      "1/1 [==============================] - 0s 3ms/step - loss: 7.2300 - mae: 7.2300\n",
      "Epoch 39/200\n",
      "1/1 [==============================] - 0s 2ms/step - loss: 7.2244 - mae: 7.2244\n",
      "Epoch 40/200\n",
      "1/1 [==============================] - 0s 998us/step - loss: 7.2188 - mae: 7.2188\n",
      "Epoch 41/200\n",
      "1/1 [==============================] - 0s 3ms/step - loss: 7.2131 - mae: 7.2131\n",
      "Epoch 42/200\n",
      "1/1 [==============================] - 0s 5ms/step - loss: 7.2075 - mae: 7.2075\n",
      "Epoch 43/200\n",
      "1/1 [==============================] - 0s 4ms/step - loss: 7.2019 - mae: 7.2019\n",
      "Epoch 44/200\n",
      "1/1 [==============================] - 0s 3ms/step - loss: 7.1963 - mae: 7.1963\n",
      "Epoch 45/200\n",
      "1/1 [==============================] - 0s 3ms/step - loss: 7.1906 - mae: 7.1906\n",
      "Epoch 46/200\n",
      "1/1 [==============================] - 0s 3ms/step - loss: 7.1850 - mae: 7.1850\n",
      "Epoch 47/200\n",
      "1/1 [==============================] - 0s 2ms/step - loss: 7.1794 - mae: 7.1794\n",
      "Epoch 48/200\n",
      "1/1 [==============================] - 0s 3ms/step - loss: 7.1738 - mae: 7.1738\n",
      "Epoch 49/200\n",
      "1/1 [==============================] - 0s 2ms/step - loss: 7.1681 - mae: 7.1681\n",
      "Epoch 50/200\n",
      "1/1 [==============================] - 0s 13ms/step - loss: 7.1625 - mae: 7.1625\n",
      "Epoch 51/200\n",
      "1/1 [==============================] - 0s 4ms/step - loss: 7.1569 - mae: 7.1569\n",
      "Epoch 52/200\n",
      "1/1 [==============================] - 0s 4ms/step - loss: 7.1512 - mae: 7.1512\n",
      "Epoch 53/200\n",
      "1/1 [==============================] - 0s 16ms/step - loss: 7.1456 - mae: 7.1456\n",
      "Epoch 54/200\n",
      "1/1 [==============================] - 0s 4ms/step - loss: 7.1400 - mae: 7.1400\n",
      "Epoch 55/200\n",
      "1/1 [==============================] - 0s 6ms/step - loss: 7.1344 - mae: 7.1344\n",
      "Epoch 56/200\n",
      "1/1 [==============================] - 0s 3ms/step - loss: 7.1287 - mae: 7.1287\n",
      "Epoch 57/200\n",
      "1/1 [==============================] - 0s 2ms/step - loss: 7.1231 - mae: 7.1231\n",
      "Epoch 58/200\n",
      "1/1 [==============================] - 0s 5ms/step - loss: 7.1175 - mae: 7.1175\n",
      "Epoch 59/200\n",
      "1/1 [==============================] - 0s 3ms/step - loss: 7.1119 - mae: 7.1119\n",
      "Epoch 60/200\n",
      "1/1 [==============================] - 0s 3ms/step - loss: 7.1063 - mae: 7.1063\n",
      "Epoch 61/200\n",
      "1/1 [==============================] - 0s 3ms/step - loss: 7.1006 - mae: 7.1006\n",
      "Epoch 62/200\n",
      "1/1 [==============================] - 0s 2ms/step - loss: 7.0950 - mae: 7.0950\n",
      "Epoch 63/200\n",
      "1/1 [==============================] - 0s 4ms/step - loss: 7.0894 - mae: 7.0894\n",
      "Epoch 64/200\n",
      "1/1 [==============================] - 0s 4ms/step - loss: 7.0838 - mae: 7.0838\n",
      "Epoch 65/200\n",
      "1/1 [==============================] - 0s 6ms/step - loss: 7.0781 - mae: 7.0781\n",
      "Epoch 66/200\n",
      "1/1 [==============================] - 0s 3ms/step - loss: 7.0725 - mae: 7.0725\n",
      "Epoch 67/200\n",
      "1/1 [==============================] - 0s 4ms/step - loss: 7.0669 - mae: 7.0669\n",
      "Epoch 68/200\n",
      "1/1 [==============================] - 0s 3ms/step - loss: 7.0613 - mae: 7.0613\n",
      "Epoch 69/200\n",
      "1/1 [==============================] - 0s 3ms/step - loss: 7.0556 - mae: 7.0556\n",
      "Epoch 70/200\n",
      "1/1 [==============================] - 0s 2ms/step - loss: 7.0500 - mae: 7.0500\n",
      "Epoch 71/200\n",
      "1/1 [==============================] - 0s 3ms/step - loss: 7.0444 - mae: 7.0444\n",
      "Epoch 72/200\n",
      "1/1 [==============================] - 0s 2ms/step - loss: 7.0388 - mae: 7.0388\n",
      "Epoch 73/200\n",
      "1/1 [==============================] - 0s 3ms/step - loss: 7.0331 - mae: 7.0331\n",
      "Epoch 74/200\n",
      "1/1 [==============================] - 0s 3ms/step - loss: 7.0275 - mae: 7.0275\n",
      "Epoch 75/200\n",
      "1/1 [==============================] - 0s 3ms/step - loss: 7.0219 - mae: 7.0219\n",
      "Epoch 76/200\n",
      "1/1 [==============================] - 0s 4ms/step - loss: 7.0163 - mae: 7.0163\n",
      "Epoch 77/200\n",
      "1/1 [==============================] - 0s 2ms/step - loss: 7.0106 - mae: 7.0106\n",
      "Epoch 78/200\n",
      "1/1 [==============================] - 0s 3ms/step - loss: 7.0050 - mae: 7.0050\n",
      "Epoch 79/200\n",
      "1/1 [==============================] - 0s 2ms/step - loss: 6.9994 - mae: 6.9994\n",
      "Epoch 80/200\n",
      "1/1 [==============================] - 0s 4ms/step - loss: 6.9938 - mae: 6.9938\n",
      "Epoch 81/200\n",
      "1/1 [==============================] - 0s 3ms/step - loss: 6.9881 - mae: 6.9881\n",
      "Epoch 82/200\n",
      "1/1 [==============================] - 0s 5ms/step - loss: 6.9825 - mae: 6.9825\n",
      "Epoch 83/200\n",
      "1/1 [==============================] - 0s 6ms/step - loss: 6.9769 - mae: 6.9769\n",
      "Epoch 84/200\n",
      "1/1 [==============================] - 0s 3ms/step - loss: 6.9713 - mae: 6.9713\n",
      "Epoch 85/200\n",
      "1/1 [==============================] - 0s 3ms/step - loss: 6.9656 - mae: 6.9656\n",
      "Epoch 86/200\n",
      "1/1 [==============================] - 0s 8ms/step - loss: 6.9600 - mae: 6.9600\n",
      "Epoch 87/200\n",
      "1/1 [==============================] - 0s 3ms/step - loss: 6.9544 - mae: 6.9544\n",
      "Epoch 88/200\n",
      "1/1 [==============================] - 0s 2ms/step - loss: 6.9488 - mae: 6.9488\n",
      "Epoch 89/200\n",
      "1/1 [==============================] - 0s 3ms/step - loss: 6.9431 - mae: 6.9431\n",
      "Epoch 90/200\n",
      "1/1 [==============================] - 0s 3ms/step - loss: 6.9375 - mae: 6.9375\n",
      "Epoch 91/200\n",
      "1/1 [==============================] - 0s 2ms/step - loss: 6.9319 - mae: 6.9319\n",
      "Epoch 92/200\n",
      "1/1 [==============================] - 0s 3ms/step - loss: 6.9263 - mae: 6.9263\n",
      "Epoch 93/200\n",
      "1/1 [==============================] - 0s 5ms/step - loss: 6.9206 - mae: 6.9206\n",
      "Epoch 94/200\n",
      "1/1 [==============================] - 0s 5ms/step - loss: 6.9150 - mae: 6.9150\n",
      "Epoch 95/200\n",
      "1/1 [==============================] - 0s 2ms/step - loss: 6.9094 - mae: 6.9094\n",
      "Epoch 96/200\n",
      "1/1 [==============================] - 0s 2ms/step - loss: 6.9038 - mae: 6.9038\n",
      "Epoch 97/200\n",
      "1/1 [==============================] - 0s 3ms/step - loss: 6.8981 - mae: 6.8981\n",
      "Epoch 98/200\n",
      "1/1 [==============================] - 0s 2ms/step - loss: 6.8925 - mae: 6.8925\n",
      "Epoch 99/200\n",
      "1/1 [==============================] - 0s 4ms/step - loss: 6.8869 - mae: 6.8869\n",
      "Epoch 100/200\n",
      "1/1 [==============================] - 0s 4ms/step - loss: 6.8813 - mae: 6.8813\n",
      "Epoch 101/200\n",
      "1/1 [==============================] - 0s 2ms/step - loss: 6.8756 - mae: 6.8756\n",
      "Epoch 102/200\n",
      "1/1 [==============================] - 0s 2ms/step - loss: 6.8700 - mae: 6.8700\n",
      "Epoch 103/200\n",
      "1/1 [==============================] - 0s 4ms/step - loss: 6.8644 - mae: 6.8644\n",
      "Epoch 104/200\n",
      "1/1 [==============================] - 0s 6ms/step - loss: 6.8588 - mae: 6.8588\n",
      "Epoch 105/200\n",
      "1/1 [==============================] - 0s 4ms/step - loss: 6.8531 - mae: 6.8531\n",
      "Epoch 106/200\n",
      "1/1 [==============================] - 0s 3ms/step - loss: 6.8475 - mae: 6.8475\n",
      "Epoch 107/200\n",
      "1/1 [==============================] - 0s 2ms/step - loss: 6.8419 - mae: 6.8419\n",
      "Epoch 108/200\n",
      "1/1 [==============================] - 0s 2ms/step - loss: 6.8363 - mae: 6.8363\n",
      "Epoch 109/200\n",
      "1/1 [==============================] - 0s 3ms/step - loss: 6.8306 - mae: 6.8306\n",
      "Epoch 110/200\n",
      "1/1 [==============================] - 0s 997us/step - loss: 6.8250 - mae: 6.8250\n",
      "Epoch 111/200\n",
      "1/1 [==============================] - 0s 3ms/step - loss: 6.8194 - mae: 6.8194\n",
      "Epoch 112/200\n",
      "1/1 [==============================] - 0s 2ms/step - loss: 6.8138 - mae: 6.8138\n",
      "Epoch 113/200\n",
      "1/1 [==============================] - 0s 2ms/step - loss: 6.8081 - mae: 6.8081\n",
      "Epoch 114/200\n",
      "1/1 [==============================] - 0s 2ms/step - loss: 6.8025 - mae: 6.8025\n",
      "Epoch 115/200\n",
      "1/1 [==============================] - 0s 5ms/step - loss: 6.7969 - mae: 6.7969\n",
      "Epoch 116/200\n",
      "1/1 [==============================] - 0s 5ms/step - loss: 6.7913 - mae: 6.7913\n",
      "Epoch 117/200\n",
      "1/1 [==============================] - 0s 3ms/step - loss: 6.7856 - mae: 6.7856\n",
      "Epoch 118/200\n",
      "1/1 [==============================] - 0s 3ms/step - loss: 6.7800 - mae: 6.7800\n",
      "Epoch 119/200\n",
      "1/1 [==============================] - 0s 7ms/step - loss: 6.7744 - mae: 6.7744\n",
      "Epoch 120/200\n",
      "1/1 [==============================] - 0s 2ms/step - loss: 6.7688 - mae: 6.7688\n",
      "Epoch 121/200\n",
      "1/1 [==============================] - 0s 3ms/step - loss: 6.7631 - mae: 6.7631\n",
      "Epoch 122/200\n",
      "1/1 [==============================] - 0s 2ms/step - loss: 6.7575 - mae: 6.7575\n",
      "Epoch 123/200\n",
      "1/1 [==============================] - 0s 3ms/step - loss: 6.7519 - mae: 6.7519\n",
      "Epoch 124/200\n",
      "1/1 [==============================] - 0s 2ms/step - loss: 6.7463 - mae: 6.7463\n",
      "Epoch 125/200\n",
      "1/1 [==============================] - 0s 5ms/step - loss: 6.7406 - mae: 6.7406\n",
      "Epoch 126/200\n",
      "1/1 [==============================] - 0s 2ms/step - loss: 6.7350 - mae: 6.7350\n",
      "Epoch 127/200\n",
      "1/1 [==============================] - 0s 2ms/step - loss: 6.7294 - mae: 6.7294\n",
      "Epoch 128/200\n",
      "1/1 [==============================] - 0s 2ms/step - loss: 6.7238 - mae: 6.7238\n",
      "Epoch 129/200\n",
      "1/1 [==============================] - 0s 2ms/step - loss: 6.7181 - mae: 6.7181\n",
      "Epoch 130/200\n",
      "1/1 [==============================] - 0s 2ms/step - loss: 6.7125 - mae: 6.7125\n",
      "Epoch 131/200\n",
      "1/1 [==============================] - 0s 2ms/step - loss: 6.7069 - mae: 6.7069\n",
      "Epoch 132/200\n",
      "1/1 [==============================] - 0s 4ms/step - loss: 6.7013 - mae: 6.7013\n",
      "Epoch 133/200\n",
      "1/1 [==============================] - 0s 5ms/step - loss: 6.6956 - mae: 6.6956\n",
      "Epoch 134/200\n",
      "1/1 [==============================] - 0s 4ms/step - loss: 6.6900 - mae: 6.6900\n",
      "Epoch 135/200\n",
      "1/1 [==============================] - 0s 2ms/step - loss: 6.6844 - mae: 6.6844\n",
      "Epoch 136/200\n",
      "1/1 [==============================] - 0s 3ms/step - loss: 6.6788 - mae: 6.6788\n",
      "Epoch 137/200\n",
      "1/1 [==============================] - 0s 7ms/step - loss: 6.6731 - mae: 6.6731\n",
      "Epoch 138/200\n",
      "1/1 [==============================] - 0s 2ms/step - loss: 6.6675 - mae: 6.6675\n",
      "Epoch 139/200\n",
      "1/1 [==============================] - 0s 3ms/step - loss: 6.6619 - mae: 6.6619\n",
      "Epoch 140/200\n",
      "1/1 [==============================] - 0s 3ms/step - loss: 6.6562 - mae: 6.6562\n",
      "Epoch 141/200\n",
      "1/1 [==============================] - 0s 3ms/step - loss: 6.6506 - mae: 6.6506\n",
      "Epoch 142/200\n",
      "1/1 [==============================] - 0s 2ms/step - loss: 6.6450 - mae: 6.6450\n",
      "Epoch 143/200\n",
      "1/1 [==============================] - 0s 5ms/step - loss: 6.6394 - mae: 6.6394\n",
      "Epoch 144/200\n",
      "1/1 [==============================] - 0s 3ms/step - loss: 6.6337 - mae: 6.6337\n",
      "Epoch 145/200\n",
      "1/1 [==============================] - 0s 2ms/step - loss: 6.6281 - mae: 6.6281\n",
      "Epoch 146/200\n",
      "1/1 [==============================] - 0s 3ms/step - loss: 6.6225 - mae: 6.6225\n",
      "Epoch 147/200\n",
      "1/1 [==============================] - 0s 3ms/step - loss: 6.6169 - mae: 6.6169\n",
      "Epoch 148/200\n",
      "1/1 [==============================] - 0s 3ms/step - loss: 6.6112 - mae: 6.6112\n",
      "Epoch 149/200\n",
      "1/1 [==============================] - 0s 5ms/step - loss: 6.6056 - mae: 6.6056\n",
      "Epoch 150/200\n",
      "1/1 [==============================] - 0s 9ms/step - loss: 6.6000 - mae: 6.6000\n",
      "Epoch 151/200\n",
      "1/1 [==============================] - 0s 6ms/step - loss: 6.5944 - mae: 6.5944\n",
      "Epoch 152/200\n",
      "1/1 [==============================] - 0s 4ms/step - loss: 6.5887 - mae: 6.5887\n",
      "Epoch 153/200\n",
      "1/1 [==============================] - 0s 3ms/step - loss: 6.5831 - mae: 6.5831\n",
      "Epoch 154/200\n",
      "1/1 [==============================] - 0s 4ms/step - loss: 6.5775 - mae: 6.5775\n",
      "Epoch 155/200\n",
      "1/1 [==============================] - 0s 3ms/step - loss: 6.5719 - mae: 6.5719\n",
      "Epoch 156/200\n",
      "1/1 [==============================] - 0s 2ms/step - loss: 6.5662 - mae: 6.5662\n",
      "Epoch 157/200\n",
      "1/1 [==============================] - 0s 3ms/step - loss: 6.5606 - mae: 6.5606\n",
      "Epoch 158/200\n",
      "1/1 [==============================] - 0s 7ms/step - loss: 6.5550 - mae: 6.5550\n",
      "Epoch 159/200\n",
      "1/1 [==============================] - 0s 4ms/step - loss: 6.5494 - mae: 6.5494\n",
      "Epoch 160/200\n",
      "1/1 [==============================] - 0s 3ms/step - loss: 6.5437 - mae: 6.5437\n",
      "Epoch 161/200\n",
      "1/1 [==============================] - 0s 2ms/step - loss: 6.5381 - mae: 6.5381\n",
      "Epoch 162/200\n",
      "1/1 [==============================] - 0s 4ms/step - loss: 6.5325 - mae: 6.5325\n",
      "Epoch 163/200\n",
      "1/1 [==============================] - 0s 3ms/step - loss: 6.5269 - mae: 6.5269\n",
      "Epoch 164/200\n",
      "1/1 [==============================] - 0s 3ms/step - loss: 6.5212 - mae: 6.5212\n",
      "Epoch 165/200\n",
      "1/1 [==============================] - 0s 4ms/step - loss: 6.5156 - mae: 6.5156\n",
      "Epoch 166/200\n",
      "1/1 [==============================] - 0s 6ms/step - loss: 6.5100 - mae: 6.5100\n",
      "Epoch 167/200\n",
      "1/1 [==============================] - 0s 6ms/step - loss: 6.5044 - mae: 6.5044\n",
      "Epoch 168/200\n",
      "1/1 [==============================] - 0s 3ms/step - loss: 6.4987 - mae: 6.4987\n",
      "Epoch 169/200\n",
      "1/1 [==============================] - 0s 2ms/step - loss: 6.4931 - mae: 6.4931\n",
      "Epoch 170/200\n",
      "1/1 [==============================] - 0s 5ms/step - loss: 6.4875 - mae: 6.4875\n",
      "Epoch 171/200\n",
      "1/1 [==============================] - 0s 2ms/step - loss: 6.4819 - mae: 6.4819\n",
      "Epoch 172/200\n",
      "1/1 [==============================] - 0s 3ms/step - loss: 6.4762 - mae: 6.4762\n",
      "Epoch 173/200\n",
      "1/1 [==============================] - 0s 2ms/step - loss: 6.4706 - mae: 6.4706\n",
      "Epoch 174/200\n",
      "1/1 [==============================] - 0s 3ms/step - loss: 6.4650 - mae: 6.4650\n",
      "Epoch 175/200\n",
      "1/1 [==============================] - 0s 2ms/step - loss: 6.4594 - mae: 6.4594\n",
      "Epoch 176/200\n",
      "1/1 [==============================] - 0s 6ms/step - loss: 6.4537 - mae: 6.4537\n",
      "Epoch 177/200\n",
      "1/1 [==============================] - 0s 4ms/step - loss: 6.4481 - mae: 6.4481\n",
      "Epoch 178/200\n",
      "1/1 [==============================] - 0s 2ms/step - loss: 6.4425 - mae: 6.4425\n",
      "Epoch 179/200\n",
      "1/1 [==============================] - 0s 3ms/step - loss: 6.4369 - mae: 6.4369\n",
      "Epoch 180/200\n",
      "1/1 [==============================] - 0s 3ms/step - loss: 6.4312 - mae: 6.4312\n",
      "Epoch 181/200\n",
      "1/1 [==============================] - 0s 3ms/step - loss: 6.4256 - mae: 6.4256\n",
      "Epoch 182/200\n",
      "1/1 [==============================] - 0s 2ms/step - loss: 6.4200 - mae: 6.4200\n",
      "Epoch 183/200\n",
      "1/1 [==============================] - 0s 2ms/step - loss: 6.4144 - mae: 6.4144\n",
      "Epoch 184/200\n",
      "1/1 [==============================] - 0s 20ms/step - loss: 6.4087 - mae: 6.4087\n",
      "Epoch 185/200\n",
      "1/1 [==============================] - 0s 3ms/step - loss: 6.4031 - mae: 6.4031\n",
      "Epoch 186/200\n",
      "1/1 [==============================] - 0s 3ms/step - loss: 6.3975 - mae: 6.3975\n",
      "Epoch 187/200\n",
      "1/1 [==============================] - 0s 3ms/step - loss: 6.3919 - mae: 6.3919\n",
      "Epoch 188/200\n",
      "1/1 [==============================] - 0s 4ms/step - loss: 6.3862 - mae: 6.3862\n",
      "Epoch 189/200\n",
      "1/1 [==============================] - 0s 7ms/step - loss: 6.3806 - mae: 6.3806\n",
      "Epoch 190/200\n",
      "1/1 [==============================] - 0s 2ms/step - loss: 6.3750 - mae: 6.3750\n",
      "Epoch 191/200\n",
      "1/1 [==============================] - 0s 8ms/step - loss: 6.3694 - mae: 6.3694\n",
      "Epoch 192/200\n",
      "1/1 [==============================] - 0s 4ms/step - loss: 6.3637 - mae: 6.3637\n",
      "Epoch 193/200\n",
      "1/1 [==============================] - 0s 3ms/step - loss: 6.3581 - mae: 6.3581\n",
      "Epoch 194/200\n",
      "1/1 [==============================] - 0s 2ms/step - loss: 6.3525 - mae: 6.3525\n",
      "Epoch 195/200\n",
      "1/1 [==============================] - 0s 4ms/step - loss: 6.3469 - mae: 6.3469\n",
      "Epoch 196/200\n",
      "1/1 [==============================] - 0s 2ms/step - loss: 6.3412 - mae: 6.3412\n",
      "Epoch 197/200\n",
      "1/1 [==============================] - 0s 3ms/step - loss: 6.3356 - mae: 6.3356\n",
      "Epoch 198/200\n",
      "1/1 [==============================] - 0s 2ms/step - loss: 6.3300 - mae: 6.3300\n",
      "Epoch 199/200\n",
      "1/1 [==============================] - 0s 15ms/step - loss: 6.3244 - mae: 6.3244\n",
      "Epoch 200/200\n",
      "1/1 [==============================] - 0s 4ms/step - loss: 6.3187 - mae: 6.3187\n"
     ]
    },
    {
     "output_type": "execute_result",
     "data": {
      "text/plain": [
       "<tensorflow.python.keras.callbacks.History at 0x1a52c799a30>"
      ]
     },
     "metadata": {},
     "execution_count": 17
    }
   ],
   "source": [
    "tf.random.set_seed(42)\n",
    "\n",
    "model = tf.keras.Sequential([\n",
    "    tf.keras.layers.Dense(1)\n",
    "])\n",
    "\n",
    "model.compile(\n",
    "    loss = tf.keras.losses.mae,\n",
    "    optimizer = tf.keras.optimizers.SGD(),\n",
    "    metrics = [\"mae\"]\n",
    ")\n",
    "\n",
    "model.fit(X, y, epochs = 200)"
   ]
  },
  {
   "cell_type": "code",
   "execution_count": 15,
   "metadata": {},
   "outputs": [
    {
     "output_type": "execute_result",
     "data": {
      "text/plain": [
       "(<tf.Tensor: shape=(8,), dtype=float32, numpy=array([-7., -4., -1.,  2.,  5.,  8., 11., 14.], dtype=float32)>,\n",
       " <tf.Tensor: shape=(8,), dtype=float32, numpy=array([ 3.,  6.,  9., 12., 15., 18., 21., 24.], dtype=float32)>)"
      ]
     },
     "metadata": {},
     "execution_count": 15
    }
   ],
   "source": [
    "X, y"
   ]
  },
  {
   "cell_type": "code",
   "execution_count": 16,
   "metadata": {},
   "outputs": [
    {
     "output_type": "execute_result",
     "data": {
      "text/plain": [
       "array([[27.97857  ],\n",
       "       [-4.4905186]], dtype=float32)"
      ]
     },
     "metadata": {},
     "execution_count": 16
    }
   ],
   "source": [
    "model.predict([17.0, -10.0]) # epoch 1000"
   ]
  },
  {
   "cell_type": "code",
   "execution_count": 18,
   "metadata": {},
   "outputs": [
    {
     "output_type": "execute_result",
     "data": {
      "text/plain": [
       "array([[ 30.908516],\n",
       "       [-15.668092]], dtype=float32)"
      ]
     },
     "metadata": {},
     "execution_count": 18
    }
   ],
   "source": [
    "model.predict([17.0, -10.0]) # epoch 200\n"
   ]
  },
  {
   "cell_type": "code",
   "execution_count": 19,
   "metadata": {},
   "outputs": [
    {
     "output_type": "execute_result",
     "data": {
      "text/plain": [
       "array([-100,  -96,  -92,  -88,  -84,  -80,  -76,  -72,  -68,  -64,  -60,\n",
       "        -56,  -52,  -48,  -44,  -40,  -36,  -32,  -28,  -24,  -20,  -16,\n",
       "        -12,   -8,   -4,    0,    4,    8,   12,   16,   20,   24,   28,\n",
       "         32,   36,   40,   44,   48,   52,   56,   60,   64,   68,   72,\n",
       "         76,   80,   84,   88,   92,   96])"
      ]
     },
     "metadata": {},
     "execution_count": 19
    }
   ],
   "source": [
    "X = np.arange(-100, 100, 4)\n",
    "X"
   ]
  },
  {
   "cell_type": "code",
   "execution_count": 20,
   "metadata": {},
   "outputs": [
    {
     "output_type": "execute_result",
     "data": {
      "text/plain": [
       "array([-90, -86, -82, -78, -74, -70, -66, -62, -58, -54, -50, -46, -42,\n",
       "       -38, -34, -30, -26, -22, -18, -14, -10,  -6,  -2,   2,   6,  10,\n",
       "        14,  18,  22,  26,  30,  34,  38,  42,  46,  50,  54,  58,  62,\n",
       "        66,  70,  74,  78,  82,  86,  90,  94,  98, 102, 106])"
      ]
     },
     "metadata": {},
     "execution_count": 20
    }
   ],
   "source": [
    "y = np.arange(-90, 110, 4)\n",
    "y"
   ]
  },
  {
   "cell_type": "code",
   "execution_count": 21,
   "metadata": {},
   "outputs": [
    {
     "output_type": "execute_result",
     "data": {
      "text/plain": [
       "array([-90, -86, -82, -78, -74, -70, -66, -62, -58, -54, -50, -46, -42,\n",
       "       -38, -34, -30, -26, -22, -18, -14, -10,  -6,  -2,   2,   6,  10,\n",
       "        14,  18,  22,  26,  30,  34,  38,  42,  46,  50,  54,  58,  62,\n",
       "        66,  70,  74,  78,  82,  86,  90,  94,  98, 102, 106])"
      ]
     },
     "metadata": {},
     "execution_count": 21
    }
   ],
   "source": [
    "# 원래 X, y의 관계 y = X + 10의 관계\n",
    "y = X + 10\n",
    "y"
   ]
  },
  {
   "cell_type": "code",
   "execution_count": 22,
   "metadata": {},
   "outputs": [
    {
     "output_type": "execute_result",
     "data": {
      "text/plain": [
       "(50, 50)"
      ]
     },
     "metadata": {},
     "execution_count": 22
    }
   ],
   "source": [
    "len(X), len(y)"
   ]
  },
  {
   "cell_type": "code",
   "execution_count": 23,
   "metadata": {},
   "outputs": [
    {
     "output_type": "execute_result",
     "data": {
      "text/plain": [
       "(40, 10)"
      ]
     },
     "metadata": {},
     "execution_count": 23
    }
   ],
   "source": [
    "# 보통 학습 및 테스트 데이터를 나눌 때 80:20의 비율을 사용\n",
    "X_train = X[:40]\n",
    "y_train = y[:40]\n",
    "\n",
    "X_test = X[40:]\n",
    "y_test = y[40:]\n",
    "\n",
    "len(X_train), len(X_test)"
   ]
  },
  {
   "cell_type": "code",
   "execution_count": 24,
   "metadata": {},
   "outputs": [
    {
     "output_type": "execute_result",
     "data": {
      "text/plain": [
       "<matplotlib.legend.Legend at 0x1a52c96d250>"
      ]
     },
     "metadata": {},
     "execution_count": 24
    },
    {
     "output_type": "display_data",
     "data": {
      "text/plain": "<Figure size 720x504 with 1 Axes>",
      "image/svg+xml": "<?xml version=\"1.0\" encoding=\"utf-8\" standalone=\"no\"?>\r\n<!DOCTYPE svg PUBLIC \"-//W3C//DTD SVG 1.1//EN\"\r\n  \"http://www.w3.org/Graphics/SVG/1.1/DTD/svg11.dtd\">\r\n<svg height=\"411.598125pt\" version=\"1.1\" viewBox=\"0 0 600.504688 411.598125\" width=\"600.504688pt\" xmlns=\"http://www.w3.org/2000/svg\" xmlns:xlink=\"http://www.w3.org/1999/xlink\">\r\n <metadata>\r\n  <rdf:RDF xmlns:cc=\"http://creativecommons.org/ns#\" xmlns:dc=\"http://purl.org/dc/elements/1.1/\" xmlns:rdf=\"http://www.w3.org/1999/02/22-rdf-syntax-ns#\">\r\n   <cc:Work>\r\n    <dc:type rdf:resource=\"http://purl.org/dc/dcmitype/StillImage\"/>\r\n    <dc:date>2021-05-30T13:26:32.252743</dc:date>\r\n    <dc:format>image/svg+xml</dc:format>\r\n    <dc:creator>\r\n     <cc:Agent>\r\n      <dc:title>Matplotlib v3.4.2, https://matplotlib.org/</dc:title>\r\n     </cc:Agent>\r\n    </dc:creator>\r\n   </cc:Work>\r\n  </rdf:RDF>\r\n </metadata>\r\n <defs>\r\n  <style type=\"text/css\">*{stroke-linecap:butt;stroke-linejoin:round;}</style>\r\n </defs>\r\n <g id=\"figure_1\">\r\n  <g id=\"patch_1\">\r\n   <path d=\"M 0 411.598125 \r\nL 600.504688 411.598125 \r\nL 600.504688 0 \r\nL 0 0 \r\nz\r\n\" style=\"fill:none;\"/>\r\n  </g>\r\n  <g id=\"axes_1\">\r\n   <g id=\"patch_2\">\r\n    <path d=\"M 35.304688 387.72 \r\nL 593.304688 387.72 \r\nL 593.304688 7.2 \r\nL 35.304688 7.2 \r\nz\r\n\" style=\"fill:#ffffff;\"/>\r\n   </g>\r\n   <g id=\"PathCollection_1\">\r\n    <defs>\r\n     <path d=\"M 0 3 \r\nC 0.795609 3 1.55874 2.683901 2.12132 2.12132 \r\nC 2.683901 1.55874 3 0.795609 3 0 \r\nC 3 -0.795609 2.683901 -1.55874 2.12132 -2.12132 \r\nC 1.55874 -2.683901 0.795609 -3 0 -3 \r\nC -0.795609 -3 -1.55874 -2.683901 -2.12132 -2.12132 \r\nC -2.683901 -1.55874 -3 -0.795609 -3 0 \r\nC -3 0.795609 -2.683901 1.55874 -2.12132 2.12132 \r\nC -1.55874 2.683901 -0.795609 3 0 3 \r\nz\r\n\" id=\"mfe51ca2cd5\" style=\"stroke:#0000ff;\"/>\r\n    </defs>\r\n    <g clip-path=\"url(#p5cda1bf3e0)\">\r\n     <use style=\"fill:#0000ff;stroke:#0000ff;\" x=\"60.668324\" xlink:href=\"#mfe51ca2cd5\" y=\"370.423636\"/>\r\n     <use style=\"fill:#0000ff;stroke:#0000ff;\" x=\"71.020829\" xlink:href=\"#mfe51ca2cd5\" y=\"363.363896\"/>\r\n     <use style=\"fill:#0000ff;stroke:#0000ff;\" x=\"81.373333\" xlink:href=\"#mfe51ca2cd5\" y=\"356.304156\"/>\r\n     <use style=\"fill:#0000ff;stroke:#0000ff;\" x=\"91.725838\" xlink:href=\"#mfe51ca2cd5\" y=\"349.244416\"/>\r\n     <use style=\"fill:#0000ff;stroke:#0000ff;\" x=\"102.078342\" xlink:href=\"#mfe51ca2cd5\" y=\"342.184675\"/>\r\n     <use style=\"fill:#0000ff;stroke:#0000ff;\" x=\"112.430847\" xlink:href=\"#mfe51ca2cd5\" y=\"335.124935\"/>\r\n     <use style=\"fill:#0000ff;stroke:#0000ff;\" x=\"122.783352\" xlink:href=\"#mfe51ca2cd5\" y=\"328.065195\"/>\r\n     <use style=\"fill:#0000ff;stroke:#0000ff;\" x=\"133.135856\" xlink:href=\"#mfe51ca2cd5\" y=\"321.005455\"/>\r\n     <use style=\"fill:#0000ff;stroke:#0000ff;\" x=\"143.488361\" xlink:href=\"#mfe51ca2cd5\" y=\"313.945714\"/>\r\n     <use style=\"fill:#0000ff;stroke:#0000ff;\" x=\"153.840866\" xlink:href=\"#mfe51ca2cd5\" y=\"306.885974\"/>\r\n     <use style=\"fill:#0000ff;stroke:#0000ff;\" x=\"164.19337\" xlink:href=\"#mfe51ca2cd5\" y=\"299.826234\"/>\r\n     <use style=\"fill:#0000ff;stroke:#0000ff;\" x=\"174.545875\" xlink:href=\"#mfe51ca2cd5\" y=\"292.766494\"/>\r\n     <use style=\"fill:#0000ff;stroke:#0000ff;\" x=\"184.89838\" xlink:href=\"#mfe51ca2cd5\" y=\"285.706753\"/>\r\n     <use style=\"fill:#0000ff;stroke:#0000ff;\" x=\"195.250884\" xlink:href=\"#mfe51ca2cd5\" y=\"278.647013\"/>\r\n     <use style=\"fill:#0000ff;stroke:#0000ff;\" x=\"205.603389\" xlink:href=\"#mfe51ca2cd5\" y=\"271.587273\"/>\r\n     <use style=\"fill:#0000ff;stroke:#0000ff;\" x=\"215.955893\" xlink:href=\"#mfe51ca2cd5\" y=\"264.527532\"/>\r\n     <use style=\"fill:#0000ff;stroke:#0000ff;\" x=\"226.308398\" xlink:href=\"#mfe51ca2cd5\" y=\"257.467792\"/>\r\n     <use style=\"fill:#0000ff;stroke:#0000ff;\" x=\"236.660903\" xlink:href=\"#mfe51ca2cd5\" y=\"250.408052\"/>\r\n     <use style=\"fill:#0000ff;stroke:#0000ff;\" x=\"247.013407\" xlink:href=\"#mfe51ca2cd5\" y=\"243.348312\"/>\r\n     <use style=\"fill:#0000ff;stroke:#0000ff;\" x=\"257.365912\" xlink:href=\"#mfe51ca2cd5\" y=\"236.288571\"/>\r\n     <use style=\"fill:#0000ff;stroke:#0000ff;\" x=\"267.718417\" xlink:href=\"#mfe51ca2cd5\" y=\"229.228831\"/>\r\n     <use style=\"fill:#0000ff;stroke:#0000ff;\" x=\"278.070921\" xlink:href=\"#mfe51ca2cd5\" y=\"222.169091\"/>\r\n     <use style=\"fill:#0000ff;stroke:#0000ff;\" x=\"288.423426\" xlink:href=\"#mfe51ca2cd5\" y=\"215.109351\"/>\r\n     <use style=\"fill:#0000ff;stroke:#0000ff;\" x=\"298.775931\" xlink:href=\"#mfe51ca2cd5\" y=\"208.04961\"/>\r\n     <use style=\"fill:#0000ff;stroke:#0000ff;\" x=\"309.128435\" xlink:href=\"#mfe51ca2cd5\" y=\"200.98987\"/>\r\n     <use style=\"fill:#0000ff;stroke:#0000ff;\" x=\"319.48094\" xlink:href=\"#mfe51ca2cd5\" y=\"193.93013\"/>\r\n     <use style=\"fill:#0000ff;stroke:#0000ff;\" x=\"329.833444\" xlink:href=\"#mfe51ca2cd5\" y=\"186.87039\"/>\r\n     <use style=\"fill:#0000ff;stroke:#0000ff;\" x=\"340.185949\" xlink:href=\"#mfe51ca2cd5\" y=\"179.810649\"/>\r\n     <use style=\"fill:#0000ff;stroke:#0000ff;\" x=\"350.538454\" xlink:href=\"#mfe51ca2cd5\" y=\"172.750909\"/>\r\n     <use style=\"fill:#0000ff;stroke:#0000ff;\" x=\"360.890958\" xlink:href=\"#mfe51ca2cd5\" y=\"165.691169\"/>\r\n     <use style=\"fill:#0000ff;stroke:#0000ff;\" x=\"371.243463\" xlink:href=\"#mfe51ca2cd5\" y=\"158.631429\"/>\r\n     <use style=\"fill:#0000ff;stroke:#0000ff;\" x=\"381.595968\" xlink:href=\"#mfe51ca2cd5\" y=\"151.571688\"/>\r\n     <use style=\"fill:#0000ff;stroke:#0000ff;\" x=\"391.948472\" xlink:href=\"#mfe51ca2cd5\" y=\"144.511948\"/>\r\n     <use style=\"fill:#0000ff;stroke:#0000ff;\" x=\"402.300977\" xlink:href=\"#mfe51ca2cd5\" y=\"137.452208\"/>\r\n     <use style=\"fill:#0000ff;stroke:#0000ff;\" x=\"412.653482\" xlink:href=\"#mfe51ca2cd5\" y=\"130.392468\"/>\r\n     <use style=\"fill:#0000ff;stroke:#0000ff;\" x=\"423.005986\" xlink:href=\"#mfe51ca2cd5\" y=\"123.332727\"/>\r\n     <use style=\"fill:#0000ff;stroke:#0000ff;\" x=\"433.358491\" xlink:href=\"#mfe51ca2cd5\" y=\"116.272987\"/>\r\n     <use style=\"fill:#0000ff;stroke:#0000ff;\" x=\"443.710995\" xlink:href=\"#mfe51ca2cd5\" y=\"109.213247\"/>\r\n     <use style=\"fill:#0000ff;stroke:#0000ff;\" x=\"454.0635\" xlink:href=\"#mfe51ca2cd5\" y=\"102.153506\"/>\r\n     <use style=\"fill:#0000ff;stroke:#0000ff;\" x=\"464.416005\" xlink:href=\"#mfe51ca2cd5\" y=\"95.093766\"/>\r\n    </g>\r\n   </g>\r\n   <g id=\"PathCollection_2\">\r\n    <defs>\r\n     <path d=\"M 0 3 \r\nC 0.795609 3 1.55874 2.683901 2.12132 2.12132 \r\nC 2.683901 1.55874 3 0.795609 3 0 \r\nC 3 -0.795609 2.683901 -1.55874 2.12132 -2.12132 \r\nC 1.55874 -2.683901 0.795609 -3 0 -3 \r\nC -0.795609 -3 -1.55874 -2.683901 -2.12132 -2.12132 \r\nC -2.683901 -1.55874 -3 -0.795609 -3 0 \r\nC -3 0.795609 -2.683901 1.55874 -2.12132 2.12132 \r\nC -1.55874 2.683901 -0.795609 3 0 3 \r\nz\r\n\" id=\"m514469dfbe\" style=\"stroke:#008000;\"/>\r\n    </defs>\r\n    <g clip-path=\"url(#p5cda1bf3e0)\">\r\n     <use style=\"fill:#008000;stroke:#008000;\" x=\"474.768509\" xlink:href=\"#m514469dfbe\" y=\"88.034026\"/>\r\n     <use style=\"fill:#008000;stroke:#008000;\" x=\"485.121014\" xlink:href=\"#m514469dfbe\" y=\"80.974286\"/>\r\n     <use style=\"fill:#008000;stroke:#008000;\" x=\"495.473519\" xlink:href=\"#m514469dfbe\" y=\"73.914545\"/>\r\n     <use style=\"fill:#008000;stroke:#008000;\" x=\"505.826023\" xlink:href=\"#m514469dfbe\" y=\"66.854805\"/>\r\n     <use style=\"fill:#008000;stroke:#008000;\" x=\"516.178528\" xlink:href=\"#m514469dfbe\" y=\"59.795065\"/>\r\n     <use style=\"fill:#008000;stroke:#008000;\" x=\"526.531033\" xlink:href=\"#m514469dfbe\" y=\"52.735325\"/>\r\n     <use style=\"fill:#008000;stroke:#008000;\" x=\"536.883537\" xlink:href=\"#m514469dfbe\" y=\"45.675584\"/>\r\n     <use style=\"fill:#008000;stroke:#008000;\" x=\"547.236042\" xlink:href=\"#m514469dfbe\" y=\"38.615844\"/>\r\n     <use style=\"fill:#008000;stroke:#008000;\" x=\"557.588546\" xlink:href=\"#m514469dfbe\" y=\"31.556104\"/>\r\n     <use style=\"fill:#008000;stroke:#008000;\" x=\"567.941051\" xlink:href=\"#m514469dfbe\" y=\"24.496364\"/>\r\n    </g>\r\n   </g>\r\n   <g id=\"matplotlib.axis_1\">\r\n    <g id=\"xtick_1\">\r\n     <g id=\"line2d_1\">\r\n      <defs>\r\n       <path d=\"M 0 0 \r\nL 0 3.5 \r\n\" id=\"m4b5ffca8dc\" style=\"stroke:#000000;stroke-width:0.8;\"/>\r\n      </defs>\r\n      <g>\r\n       <use style=\"stroke:#000000;stroke-width:0.8;\" x=\"60.668324\" xlink:href=\"#m4b5ffca8dc\" y=\"387.72\"/>\r\n      </g>\r\n     </g>\r\n     <g id=\"text_1\">\r\n      <!-- −100 -->\r\n      <g transform=\"translate(46.93473 402.318437)scale(0.1 -0.1)\">\r\n       <defs>\r\n        <path d=\"M 678 2272 \r\nL 4684 2272 \r\nL 4684 1741 \r\nL 678 1741 \r\nL 678 2272 \r\nz\r\n\" id=\"DejaVuSans-2212\" transform=\"scale(0.015625)\"/>\r\n        <path d=\"M 794 531 \r\nL 1825 531 \r\nL 1825 4091 \r\nL 703 3866 \r\nL 703 4441 \r\nL 1819 4666 \r\nL 2450 4666 \r\nL 2450 531 \r\nL 3481 531 \r\nL 3481 0 \r\nL 794 0 \r\nL 794 531 \r\nz\r\n\" id=\"DejaVuSans-31\" transform=\"scale(0.015625)\"/>\r\n        <path d=\"M 2034 4250 \r\nQ 1547 4250 1301 3770 \r\nQ 1056 3291 1056 2328 \r\nQ 1056 1369 1301 889 \r\nQ 1547 409 2034 409 \r\nQ 2525 409 2770 889 \r\nQ 3016 1369 3016 2328 \r\nQ 3016 3291 2770 3770 \r\nQ 2525 4250 2034 4250 \r\nz\r\nM 2034 4750 \r\nQ 2819 4750 3233 4129 \r\nQ 3647 3509 3647 2328 \r\nQ 3647 1150 3233 529 \r\nQ 2819 -91 2034 -91 \r\nQ 1250 -91 836 529 \r\nQ 422 1150 422 2328 \r\nQ 422 3509 836 4129 \r\nQ 1250 4750 2034 4750 \r\nz\r\n\" id=\"DejaVuSans-30\" transform=\"scale(0.015625)\"/>\r\n       </defs>\r\n       <use xlink:href=\"#DejaVuSans-2212\"/>\r\n       <use x=\"83.789062\" xlink:href=\"#DejaVuSans-31\"/>\r\n       <use x=\"147.412109\" xlink:href=\"#DejaVuSans-30\"/>\r\n       <use x=\"211.035156\" xlink:href=\"#DejaVuSans-30\"/>\r\n      </g>\r\n     </g>\r\n    </g>\r\n    <g id=\"xtick_2\">\r\n     <g id=\"line2d_2\">\r\n      <g>\r\n       <use style=\"stroke:#000000;stroke-width:0.8;\" x=\"125.371478\" xlink:href=\"#m4b5ffca8dc\" y=\"387.72\"/>\r\n      </g>\r\n     </g>\r\n     <g id=\"text_2\">\r\n      <!-- −75 -->\r\n      <g transform=\"translate(114.819134 402.318437)scale(0.1 -0.1)\">\r\n       <defs>\r\n        <path d=\"M 525 4666 \r\nL 3525 4666 \r\nL 3525 4397 \r\nL 1831 0 \r\nL 1172 0 \r\nL 2766 4134 \r\nL 525 4134 \r\nL 525 4666 \r\nz\r\n\" id=\"DejaVuSans-37\" transform=\"scale(0.015625)\"/>\r\n        <path d=\"M 691 4666 \r\nL 3169 4666 \r\nL 3169 4134 \r\nL 1269 4134 \r\nL 1269 2991 \r\nQ 1406 3038 1543 3061 \r\nQ 1681 3084 1819 3084 \r\nQ 2600 3084 3056 2656 \r\nQ 3513 2228 3513 1497 \r\nQ 3513 744 3044 326 \r\nQ 2575 -91 1722 -91 \r\nQ 1428 -91 1123 -41 \r\nQ 819 9 494 109 \r\nL 494 744 \r\nQ 775 591 1075 516 \r\nQ 1375 441 1709 441 \r\nQ 2250 441 2565 725 \r\nQ 2881 1009 2881 1497 \r\nQ 2881 1984 2565 2268 \r\nQ 2250 2553 1709 2553 \r\nQ 1456 2553 1204 2497 \r\nQ 953 2441 691 2322 \r\nL 691 4666 \r\nz\r\n\" id=\"DejaVuSans-35\" transform=\"scale(0.015625)\"/>\r\n       </defs>\r\n       <use xlink:href=\"#DejaVuSans-2212\"/>\r\n       <use x=\"83.789062\" xlink:href=\"#DejaVuSans-37\"/>\r\n       <use x=\"147.412109\" xlink:href=\"#DejaVuSans-35\"/>\r\n      </g>\r\n     </g>\r\n    </g>\r\n    <g id=\"xtick_3\">\r\n     <g id=\"line2d_3\">\r\n      <g>\r\n       <use style=\"stroke:#000000;stroke-width:0.8;\" x=\"190.074632\" xlink:href=\"#m4b5ffca8dc\" y=\"387.72\"/>\r\n      </g>\r\n     </g>\r\n     <g id=\"text_3\">\r\n      <!-- −50 -->\r\n      <g transform=\"translate(179.522288 402.318437)scale(0.1 -0.1)\">\r\n       <use xlink:href=\"#DejaVuSans-2212\"/>\r\n       <use x=\"83.789062\" xlink:href=\"#DejaVuSans-35\"/>\r\n       <use x=\"147.412109\" xlink:href=\"#DejaVuSans-30\"/>\r\n      </g>\r\n     </g>\r\n    </g>\r\n    <g id=\"xtick_4\">\r\n     <g id=\"line2d_4\">\r\n      <g>\r\n       <use style=\"stroke:#000000;stroke-width:0.8;\" x=\"254.777786\" xlink:href=\"#m4b5ffca8dc\" y=\"387.72\"/>\r\n      </g>\r\n     </g>\r\n     <g id=\"text_4\">\r\n      <!-- −25 -->\r\n      <g transform=\"translate(244.225442 402.318437)scale(0.1 -0.1)\">\r\n       <defs>\r\n        <path d=\"M 1228 531 \r\nL 3431 531 \r\nL 3431 0 \r\nL 469 0 \r\nL 469 531 \r\nQ 828 903 1448 1529 \r\nQ 2069 2156 2228 2338 \r\nQ 2531 2678 2651 2914 \r\nQ 2772 3150 2772 3378 \r\nQ 2772 3750 2511 3984 \r\nQ 2250 4219 1831 4219 \r\nQ 1534 4219 1204 4116 \r\nQ 875 4013 500 3803 \r\nL 500 4441 \r\nQ 881 4594 1212 4672 \r\nQ 1544 4750 1819 4750 \r\nQ 2544 4750 2975 4387 \r\nQ 3406 4025 3406 3419 \r\nQ 3406 3131 3298 2873 \r\nQ 3191 2616 2906 2266 \r\nQ 2828 2175 2409 1742 \r\nQ 1991 1309 1228 531 \r\nz\r\n\" id=\"DejaVuSans-32\" transform=\"scale(0.015625)\"/>\r\n       </defs>\r\n       <use xlink:href=\"#DejaVuSans-2212\"/>\r\n       <use x=\"83.789062\" xlink:href=\"#DejaVuSans-32\"/>\r\n       <use x=\"147.412109\" xlink:href=\"#DejaVuSans-35\"/>\r\n      </g>\r\n     </g>\r\n    </g>\r\n    <g id=\"xtick_5\">\r\n     <g id=\"line2d_5\">\r\n      <g>\r\n       <use style=\"stroke:#000000;stroke-width:0.8;\" x=\"319.48094\" xlink:href=\"#m4b5ffca8dc\" y=\"387.72\"/>\r\n      </g>\r\n     </g>\r\n     <g id=\"text_5\">\r\n      <!-- 0 -->\r\n      <g transform=\"translate(316.29969 402.318437)scale(0.1 -0.1)\">\r\n       <use xlink:href=\"#DejaVuSans-30\"/>\r\n      </g>\r\n     </g>\r\n    </g>\r\n    <g id=\"xtick_6\">\r\n     <g id=\"line2d_6\">\r\n      <g>\r\n       <use style=\"stroke:#000000;stroke-width:0.8;\" x=\"384.184094\" xlink:href=\"#m4b5ffca8dc\" y=\"387.72\"/>\r\n      </g>\r\n     </g>\r\n     <g id=\"text_6\">\r\n      <!-- 25 -->\r\n      <g transform=\"translate(377.821594 402.318437)scale(0.1 -0.1)\">\r\n       <use xlink:href=\"#DejaVuSans-32\"/>\r\n       <use x=\"63.623047\" xlink:href=\"#DejaVuSans-35\"/>\r\n      </g>\r\n     </g>\r\n    </g>\r\n    <g id=\"xtick_7\">\r\n     <g id=\"line2d_7\">\r\n      <g>\r\n       <use style=\"stroke:#000000;stroke-width:0.8;\" x=\"448.887248\" xlink:href=\"#m4b5ffca8dc\" y=\"387.72\"/>\r\n      </g>\r\n     </g>\r\n     <g id=\"text_7\">\r\n      <!-- 50 -->\r\n      <g transform=\"translate(442.524748 402.318437)scale(0.1 -0.1)\">\r\n       <use xlink:href=\"#DejaVuSans-35\"/>\r\n       <use x=\"63.623047\" xlink:href=\"#DejaVuSans-30\"/>\r\n      </g>\r\n     </g>\r\n    </g>\r\n    <g id=\"xtick_8\">\r\n     <g id=\"line2d_8\">\r\n      <g>\r\n       <use style=\"stroke:#000000;stroke-width:0.8;\" x=\"513.590402\" xlink:href=\"#m4b5ffca8dc\" y=\"387.72\"/>\r\n      </g>\r\n     </g>\r\n     <g id=\"text_8\">\r\n      <!-- 75 -->\r\n      <g transform=\"translate(507.227902 402.318437)scale(0.1 -0.1)\">\r\n       <use xlink:href=\"#DejaVuSans-37\"/>\r\n       <use x=\"63.623047\" xlink:href=\"#DejaVuSans-35\"/>\r\n      </g>\r\n     </g>\r\n    </g>\r\n    <g id=\"xtick_9\">\r\n     <g id=\"line2d_9\">\r\n      <g>\r\n       <use style=\"stroke:#000000;stroke-width:0.8;\" x=\"578.293556\" xlink:href=\"#m4b5ffca8dc\" y=\"387.72\"/>\r\n      </g>\r\n     </g>\r\n     <g id=\"text_9\">\r\n      <!-- 100 -->\r\n      <g transform=\"translate(568.749806 402.318437)scale(0.1 -0.1)\">\r\n       <use xlink:href=\"#DejaVuSans-31\"/>\r\n       <use x=\"63.623047\" xlink:href=\"#DejaVuSans-30\"/>\r\n       <use x=\"127.246094\" xlink:href=\"#DejaVuSans-30\"/>\r\n      </g>\r\n     </g>\r\n    </g>\r\n   </g>\r\n   <g id=\"matplotlib.axis_2\">\r\n    <g id=\"ytick_1\">\r\n     <g id=\"line2d_10\">\r\n      <defs>\r\n       <path d=\"M 0 0 \r\nL -3.5 0 \r\n\" id=\"mcb1864a0f1\" style=\"stroke:#000000;stroke-width:0.8;\"/>\r\n      </defs>\r\n      <g>\r\n       <use style=\"stroke:#000000;stroke-width:0.8;\" x=\"35.304688\" xlink:href=\"#mcb1864a0f1\" y=\"343.94961\"/>\r\n      </g>\r\n     </g>\r\n     <g id=\"text_10\">\r\n      <!-- −75 -->\r\n      <g transform=\"translate(7.2 347.748829)scale(0.1 -0.1)\">\r\n       <use xlink:href=\"#DejaVuSans-2212\"/>\r\n       <use x=\"83.789062\" xlink:href=\"#DejaVuSans-37\"/>\r\n       <use x=\"147.412109\" xlink:href=\"#DejaVuSans-35\"/>\r\n      </g>\r\n     </g>\r\n    </g>\r\n    <g id=\"ytick_2\">\r\n     <g id=\"line2d_11\">\r\n      <g>\r\n       <use style=\"stroke:#000000;stroke-width:0.8;\" x=\"35.304688\" xlink:href=\"#mcb1864a0f1\" y=\"299.826234\"/>\r\n      </g>\r\n     </g>\r\n     <g id=\"text_11\">\r\n      <!-- −50 -->\r\n      <g transform=\"translate(7.2 303.625453)scale(0.1 -0.1)\">\r\n       <use xlink:href=\"#DejaVuSans-2212\"/>\r\n       <use x=\"83.789062\" xlink:href=\"#DejaVuSans-35\"/>\r\n       <use x=\"147.412109\" xlink:href=\"#DejaVuSans-30\"/>\r\n      </g>\r\n     </g>\r\n    </g>\r\n    <g id=\"ytick_3\">\r\n     <g id=\"line2d_12\">\r\n      <g>\r\n       <use style=\"stroke:#000000;stroke-width:0.8;\" x=\"35.304688\" xlink:href=\"#mcb1864a0f1\" y=\"255.702857\"/>\r\n      </g>\r\n     </g>\r\n     <g id=\"text_12\">\r\n      <!-- −25 -->\r\n      <g transform=\"translate(7.2 259.502076)scale(0.1 -0.1)\">\r\n       <use xlink:href=\"#DejaVuSans-2212\"/>\r\n       <use x=\"83.789062\" xlink:href=\"#DejaVuSans-32\"/>\r\n       <use x=\"147.412109\" xlink:href=\"#DejaVuSans-35\"/>\r\n      </g>\r\n     </g>\r\n    </g>\r\n    <g id=\"ytick_4\">\r\n     <g id=\"line2d_13\">\r\n      <g>\r\n       <use style=\"stroke:#000000;stroke-width:0.8;\" x=\"35.304688\" xlink:href=\"#mcb1864a0f1\" y=\"211.579481\"/>\r\n      </g>\r\n     </g>\r\n     <g id=\"text_13\">\r\n      <!-- 0 -->\r\n      <g transform=\"translate(21.942187 215.378699)scale(0.1 -0.1)\">\r\n       <use xlink:href=\"#DejaVuSans-30\"/>\r\n      </g>\r\n     </g>\r\n    </g>\r\n    <g id=\"ytick_5\">\r\n     <g id=\"line2d_14\">\r\n      <g>\r\n       <use style=\"stroke:#000000;stroke-width:0.8;\" x=\"35.304688\" xlink:href=\"#mcb1864a0f1\" y=\"167.456104\"/>\r\n      </g>\r\n     </g>\r\n     <g id=\"text_14\">\r\n      <!-- 25 -->\r\n      <g transform=\"translate(15.579687 171.255323)scale(0.1 -0.1)\">\r\n       <use xlink:href=\"#DejaVuSans-32\"/>\r\n       <use x=\"63.623047\" xlink:href=\"#DejaVuSans-35\"/>\r\n      </g>\r\n     </g>\r\n    </g>\r\n    <g id=\"ytick_6\">\r\n     <g id=\"line2d_15\">\r\n      <g>\r\n       <use style=\"stroke:#000000;stroke-width:0.8;\" x=\"35.304688\" xlink:href=\"#mcb1864a0f1\" y=\"123.332727\"/>\r\n      </g>\r\n     </g>\r\n     <g id=\"text_15\">\r\n      <!-- 50 -->\r\n      <g transform=\"translate(15.579687 127.131946)scale(0.1 -0.1)\">\r\n       <use xlink:href=\"#DejaVuSans-35\"/>\r\n       <use x=\"63.623047\" xlink:href=\"#DejaVuSans-30\"/>\r\n      </g>\r\n     </g>\r\n    </g>\r\n    <g id=\"ytick_7\">\r\n     <g id=\"line2d_16\">\r\n      <g>\r\n       <use style=\"stroke:#000000;stroke-width:0.8;\" x=\"35.304688\" xlink:href=\"#mcb1864a0f1\" y=\"79.209351\"/>\r\n      </g>\r\n     </g>\r\n     <g id=\"text_16\">\r\n      <!-- 75 -->\r\n      <g transform=\"translate(15.579687 83.008569)scale(0.1 -0.1)\">\r\n       <use xlink:href=\"#DejaVuSans-37\"/>\r\n       <use x=\"63.623047\" xlink:href=\"#DejaVuSans-35\"/>\r\n      </g>\r\n     </g>\r\n    </g>\r\n    <g id=\"ytick_8\">\r\n     <g id=\"line2d_17\">\r\n      <g>\r\n       <use style=\"stroke:#000000;stroke-width:0.8;\" x=\"35.304688\" xlink:href=\"#mcb1864a0f1\" y=\"35.085974\"/>\r\n      </g>\r\n     </g>\r\n     <g id=\"text_17\">\r\n      <!-- 100 -->\r\n      <g transform=\"translate(9.217187 38.885193)scale(0.1 -0.1)\">\r\n       <use xlink:href=\"#DejaVuSans-31\"/>\r\n       <use x=\"63.623047\" xlink:href=\"#DejaVuSans-30\"/>\r\n       <use x=\"127.246094\" xlink:href=\"#DejaVuSans-30\"/>\r\n      </g>\r\n     </g>\r\n    </g>\r\n   </g>\r\n   <g id=\"patch_3\">\r\n    <path d=\"M 35.304688 387.72 \r\nL 35.304688 7.2 \r\n\" style=\"fill:none;stroke:#000000;stroke-linecap:square;stroke-linejoin:miter;stroke-width:0.8;\"/>\r\n   </g>\r\n   <g id=\"patch_4\">\r\n    <path d=\"M 593.304688 387.72 \r\nL 593.304688 7.2 \r\n\" style=\"fill:none;stroke:#000000;stroke-linecap:square;stroke-linejoin:miter;stroke-width:0.8;\"/>\r\n   </g>\r\n   <g id=\"patch_5\">\r\n    <path d=\"M 35.304688 387.72 \r\nL 593.304688 387.72 \r\n\" style=\"fill:none;stroke:#000000;stroke-linecap:square;stroke-linejoin:miter;stroke-width:0.8;\"/>\r\n   </g>\r\n   <g id=\"patch_6\">\r\n    <path d=\"M 35.304688 7.2 \r\nL 593.304688 7.2 \r\n\" style=\"fill:none;stroke:#000000;stroke-linecap:square;stroke-linejoin:miter;stroke-width:0.8;\"/>\r\n   </g>\r\n   <g id=\"legend_1\">\r\n    <g id=\"patch_7\">\r\n     <path d=\"M 42.304688 44.55625 \r\nL 139.459375 44.55625 \r\nQ 141.459375 44.55625 141.459375 42.55625 \r\nL 141.459375 14.2 \r\nQ 141.459375 12.2 139.459375 12.2 \r\nL 42.304688 12.2 \r\nQ 40.304688 12.2 40.304688 14.2 \r\nL 40.304688 42.55625 \r\nQ 40.304688 44.55625 42.304688 44.55625 \r\nz\r\n\" style=\"fill:#ffffff;opacity:0.8;stroke:#cccccc;stroke-linejoin:miter;\"/>\r\n    </g>\r\n    <g id=\"PathCollection_3\">\r\n     <g>\r\n      <use style=\"fill:#0000ff;stroke:#0000ff;\" x=\"54.304688\" xlink:href=\"#mfe51ca2cd5\" y=\"21.173437\"/>\r\n     </g>\r\n    </g>\r\n    <g id=\"text_18\">\r\n     <!-- Training data -->\r\n     <g transform=\"translate(72.304688 23.798437)scale(0.1 -0.1)\">\r\n      <defs>\r\n       <path d=\"M -19 4666 \r\nL 3928 4666 \r\nL 3928 4134 \r\nL 2272 4134 \r\nL 2272 0 \r\nL 1638 0 \r\nL 1638 4134 \r\nL -19 4134 \r\nL -19 4666 \r\nz\r\n\" id=\"DejaVuSans-54\" transform=\"scale(0.015625)\"/>\r\n       <path d=\"M 2631 2963 \r\nQ 2534 3019 2420 3045 \r\nQ 2306 3072 2169 3072 \r\nQ 1681 3072 1420 2755 \r\nQ 1159 2438 1159 1844 \r\nL 1159 0 \r\nL 581 0 \r\nL 581 3500 \r\nL 1159 3500 \r\nL 1159 2956 \r\nQ 1341 3275 1631 3429 \r\nQ 1922 3584 2338 3584 \r\nQ 2397 3584 2469 3576 \r\nQ 2541 3569 2628 3553 \r\nL 2631 2963 \r\nz\r\n\" id=\"DejaVuSans-72\" transform=\"scale(0.015625)\"/>\r\n       <path d=\"M 2194 1759 \r\nQ 1497 1759 1228 1600 \r\nQ 959 1441 959 1056 \r\nQ 959 750 1161 570 \r\nQ 1363 391 1709 391 \r\nQ 2188 391 2477 730 \r\nQ 2766 1069 2766 1631 \r\nL 2766 1759 \r\nL 2194 1759 \r\nz\r\nM 3341 1997 \r\nL 3341 0 \r\nL 2766 0 \r\nL 2766 531 \r\nQ 2569 213 2275 61 \r\nQ 1981 -91 1556 -91 \r\nQ 1019 -91 701 211 \r\nQ 384 513 384 1019 \r\nQ 384 1609 779 1909 \r\nQ 1175 2209 1959 2209 \r\nL 2766 2209 \r\nL 2766 2266 \r\nQ 2766 2663 2505 2880 \r\nQ 2244 3097 1772 3097 \r\nQ 1472 3097 1187 3025 \r\nQ 903 2953 641 2809 \r\nL 641 3341 \r\nQ 956 3463 1253 3523 \r\nQ 1550 3584 1831 3584 \r\nQ 2591 3584 2966 3190 \r\nQ 3341 2797 3341 1997 \r\nz\r\n\" id=\"DejaVuSans-61\" transform=\"scale(0.015625)\"/>\r\n       <path d=\"M 603 3500 \r\nL 1178 3500 \r\nL 1178 0 \r\nL 603 0 \r\nL 603 3500 \r\nz\r\nM 603 4863 \r\nL 1178 4863 \r\nL 1178 4134 \r\nL 603 4134 \r\nL 603 4863 \r\nz\r\n\" id=\"DejaVuSans-69\" transform=\"scale(0.015625)\"/>\r\n       <path d=\"M 3513 2113 \r\nL 3513 0 \r\nL 2938 0 \r\nL 2938 2094 \r\nQ 2938 2591 2744 2837 \r\nQ 2550 3084 2163 3084 \r\nQ 1697 3084 1428 2787 \r\nQ 1159 2491 1159 1978 \r\nL 1159 0 \r\nL 581 0 \r\nL 581 3500 \r\nL 1159 3500 \r\nL 1159 2956 \r\nQ 1366 3272 1645 3428 \r\nQ 1925 3584 2291 3584 \r\nQ 2894 3584 3203 3211 \r\nQ 3513 2838 3513 2113 \r\nz\r\n\" id=\"DejaVuSans-6e\" transform=\"scale(0.015625)\"/>\r\n       <path d=\"M 2906 1791 \r\nQ 2906 2416 2648 2759 \r\nQ 2391 3103 1925 3103 \r\nQ 1463 3103 1205 2759 \r\nQ 947 2416 947 1791 \r\nQ 947 1169 1205 825 \r\nQ 1463 481 1925 481 \r\nQ 2391 481 2648 825 \r\nQ 2906 1169 2906 1791 \r\nz\r\nM 3481 434 \r\nQ 3481 -459 3084 -895 \r\nQ 2688 -1331 1869 -1331 \r\nQ 1566 -1331 1297 -1286 \r\nQ 1028 -1241 775 -1147 \r\nL 775 -588 \r\nQ 1028 -725 1275 -790 \r\nQ 1522 -856 1778 -856 \r\nQ 2344 -856 2625 -561 \r\nQ 2906 -266 2906 331 \r\nL 2906 616 \r\nQ 2728 306 2450 153 \r\nQ 2172 0 1784 0 \r\nQ 1141 0 747 490 \r\nQ 353 981 353 1791 \r\nQ 353 2603 747 3093 \r\nQ 1141 3584 1784 3584 \r\nQ 2172 3584 2450 3431 \r\nQ 2728 3278 2906 2969 \r\nL 2906 3500 \r\nL 3481 3500 \r\nL 3481 434 \r\nz\r\n\" id=\"DejaVuSans-67\" transform=\"scale(0.015625)\"/>\r\n       <path id=\"DejaVuSans-20\" transform=\"scale(0.015625)\"/>\r\n       <path d=\"M 2906 2969 \r\nL 2906 4863 \r\nL 3481 4863 \r\nL 3481 0 \r\nL 2906 0 \r\nL 2906 525 \r\nQ 2725 213 2448 61 \r\nQ 2172 -91 1784 -91 \r\nQ 1150 -91 751 415 \r\nQ 353 922 353 1747 \r\nQ 353 2572 751 3078 \r\nQ 1150 3584 1784 3584 \r\nQ 2172 3584 2448 3432 \r\nQ 2725 3281 2906 2969 \r\nz\r\nM 947 1747 \r\nQ 947 1113 1208 752 \r\nQ 1469 391 1925 391 \r\nQ 2381 391 2643 752 \r\nQ 2906 1113 2906 1747 \r\nQ 2906 2381 2643 2742 \r\nQ 2381 3103 1925 3103 \r\nQ 1469 3103 1208 2742 \r\nQ 947 2381 947 1747 \r\nz\r\n\" id=\"DejaVuSans-64\" transform=\"scale(0.015625)\"/>\r\n       <path d=\"M 1172 4494 \r\nL 1172 3500 \r\nL 2356 3500 \r\nL 2356 3053 \r\nL 1172 3053 \r\nL 1172 1153 \r\nQ 1172 725 1289 603 \r\nQ 1406 481 1766 481 \r\nL 2356 481 \r\nL 2356 0 \r\nL 1766 0 \r\nQ 1100 0 847 248 \r\nQ 594 497 594 1153 \r\nL 594 3053 \r\nL 172 3053 \r\nL 172 3500 \r\nL 594 3500 \r\nL 594 4494 \r\nL 1172 4494 \r\nz\r\n\" id=\"DejaVuSans-74\" transform=\"scale(0.015625)\"/>\r\n      </defs>\r\n      <use xlink:href=\"#DejaVuSans-54\"/>\r\n      <use x=\"46.333984\" xlink:href=\"#DejaVuSans-72\"/>\r\n      <use x=\"87.447266\" xlink:href=\"#DejaVuSans-61\"/>\r\n      <use x=\"148.726562\" xlink:href=\"#DejaVuSans-69\"/>\r\n      <use x=\"176.509766\" xlink:href=\"#DejaVuSans-6e\"/>\r\n      <use x=\"239.888672\" xlink:href=\"#DejaVuSans-69\"/>\r\n      <use x=\"267.671875\" xlink:href=\"#DejaVuSans-6e\"/>\r\n      <use x=\"331.050781\" xlink:href=\"#DejaVuSans-67\"/>\r\n      <use x=\"394.527344\" xlink:href=\"#DejaVuSans-20\"/>\r\n      <use x=\"426.314453\" xlink:href=\"#DejaVuSans-64\"/>\r\n      <use x=\"489.791016\" xlink:href=\"#DejaVuSans-61\"/>\r\n      <use x=\"551.070312\" xlink:href=\"#DejaVuSans-74\"/>\r\n      <use x=\"590.279297\" xlink:href=\"#DejaVuSans-61\"/>\r\n     </g>\r\n    </g>\r\n    <g id=\"PathCollection_4\">\r\n     <g>\r\n      <use style=\"fill:#008000;stroke:#008000;\" x=\"54.304688\" xlink:href=\"#m514469dfbe\" y=\"35.851562\"/>\r\n     </g>\r\n    </g>\r\n    <g id=\"text_19\">\r\n     <!-- Testing data -->\r\n     <g transform=\"translate(72.304688 38.476562)scale(0.1 -0.1)\">\r\n      <defs>\r\n       <path d=\"M 3597 1894 \r\nL 3597 1613 \r\nL 953 1613 \r\nQ 991 1019 1311 708 \r\nQ 1631 397 2203 397 \r\nQ 2534 397 2845 478 \r\nQ 3156 559 3463 722 \r\nL 3463 178 \r\nQ 3153 47 2828 -22 \r\nQ 2503 -91 2169 -91 \r\nQ 1331 -91 842 396 \r\nQ 353 884 353 1716 \r\nQ 353 2575 817 3079 \r\nQ 1281 3584 2069 3584 \r\nQ 2775 3584 3186 3129 \r\nQ 3597 2675 3597 1894 \r\nz\r\nM 3022 2063 \r\nQ 3016 2534 2758 2815 \r\nQ 2500 3097 2075 3097 \r\nQ 1594 3097 1305 2825 \r\nQ 1016 2553 972 2059 \r\nL 3022 2063 \r\nz\r\n\" id=\"DejaVuSans-65\" transform=\"scale(0.015625)\"/>\r\n       <path d=\"M 2834 3397 \r\nL 2834 2853 \r\nQ 2591 2978 2328 3040 \r\nQ 2066 3103 1784 3103 \r\nQ 1356 3103 1142 2972 \r\nQ 928 2841 928 2578 \r\nQ 928 2378 1081 2264 \r\nQ 1234 2150 1697 2047 \r\nL 1894 2003 \r\nQ 2506 1872 2764 1633 \r\nQ 3022 1394 3022 966 \r\nQ 3022 478 2636 193 \r\nQ 2250 -91 1575 -91 \r\nQ 1294 -91 989 -36 \r\nQ 684 19 347 128 \r\nL 347 722 \r\nQ 666 556 975 473 \r\nQ 1284 391 1588 391 \r\nQ 1994 391 2212 530 \r\nQ 2431 669 2431 922 \r\nQ 2431 1156 2273 1281 \r\nQ 2116 1406 1581 1522 \r\nL 1381 1569 \r\nQ 847 1681 609 1914 \r\nQ 372 2147 372 2553 \r\nQ 372 3047 722 3315 \r\nQ 1072 3584 1716 3584 \r\nQ 2034 3584 2315 3537 \r\nQ 2597 3491 2834 3397 \r\nz\r\n\" id=\"DejaVuSans-73\" transform=\"scale(0.015625)\"/>\r\n      </defs>\r\n      <use xlink:href=\"#DejaVuSans-54\"/>\r\n      <use x=\"44.083984\" xlink:href=\"#DejaVuSans-65\"/>\r\n      <use x=\"105.607422\" xlink:href=\"#DejaVuSans-73\"/>\r\n      <use x=\"157.707031\" xlink:href=\"#DejaVuSans-74\"/>\r\n      <use x=\"196.916016\" xlink:href=\"#DejaVuSans-69\"/>\r\n      <use x=\"224.699219\" xlink:href=\"#DejaVuSans-6e\"/>\r\n      <use x=\"288.078125\" xlink:href=\"#DejaVuSans-67\"/>\r\n      <use x=\"351.554688\" xlink:href=\"#DejaVuSans-20\"/>\r\n      <use x=\"383.341797\" xlink:href=\"#DejaVuSans-64\"/>\r\n      <use x=\"446.818359\" xlink:href=\"#DejaVuSans-61\"/>\r\n      <use x=\"508.097656\" xlink:href=\"#DejaVuSans-74\"/>\r\n      <use x=\"547.306641\" xlink:href=\"#DejaVuSans-61\"/>\r\n     </g>\r\n    </g>\r\n   </g>\r\n  </g>\r\n </g>\r\n <defs>\r\n  <clipPath id=\"p5cda1bf3e0\">\r\n   <rect height=\"380.52\" width=\"558\" x=\"35.304688\" y=\"7.2\"/>\r\n  </clipPath>\r\n </defs>\r\n</svg>\r\n",
      "image/png": "[encoded data removed]"
     },
     "metadata": {
      "needs_background": "light"
     }
    }
   ],
   "source": [
    "plt.figure(figsize=(10, 7))\n",
    "plt.scatter(X_train, y_train, c=\"b\", label=\"Training data\")\n",
    "plt.scatter(X_test, y_test, c=\"g\", label=\"Testing data\")\n",
    "plt.legend()"
   ]
  },
  {
   "cell_type": "code",
   "execution_count": 25,
   "metadata": {},
   "outputs": [
    {
     "output_type": "stream",
     "name": "stdout",
     "text": [
      "Epoch 1/100\n",
      "2/2 [==============================] - 0s 2ms/step - loss: 19.0311 - mae: 19.0311\n",
      "Epoch 2/100\n",
      "2/2 [==============================] - 0s 2ms/step - loss: 10.8111 - mae: 10.8111\n",
      "Epoch 3/100\n",
      "2/2 [==============================] - 0s 2ms/step - loss: 14.5005 - mae: 14.5005\n",
      "Epoch 4/100\n",
      "2/2 [==============================] - 0s 4ms/step - loss: 10.0958 - mae: 10.0958\n",
      "Epoch 5/100\n",
      "2/2 [==============================] - 0s 3ms/step - loss: 15.5388 - mae: 15.5388\n",
      "Epoch 6/100\n",
      "2/2 [==============================] - 0s 2ms/step - loss: 11.8626 - mae: 11.8626\n",
      "Epoch 7/100\n",
      "2/2 [==============================] - 0s 3ms/step - loss: 9.1727 - mae: 9.1727\n",
      "Epoch 8/100\n",
      "2/2 [==============================] - 0s 3ms/step - loss: 13.6143 - mae: 13.6143\n",
      "Epoch 9/100\n",
      "2/2 [==============================] - 0s 3ms/step - loss: 13.8577 - mae: 13.8577\n",
      "Epoch 10/100\n",
      "2/2 [==============================] - 0s 2ms/step - loss: 9.9966 - mae: 9.9966\n",
      "Epoch 11/100\n",
      "2/2 [==============================] - 0s 5ms/step - loss: 9.9685 - mae: 9.9685\n",
      "Epoch 12/100\n",
      "2/2 [==============================] - 0s 8ms/step - loss: 9.9097 - mae: 9.9097\n",
      "Epoch 13/100\n",
      "2/2 [==============================] - 0s 997us/step - loss: 9.7478 - mae: 9.7478\n",
      "Epoch 14/100\n",
      "2/2 [==============================] - 0s 2ms/step - loss: 10.5485 - mae: 10.5485\n",
      "Epoch 15/100\n",
      "2/2 [==============================] - 0s 2ms/step - loss: 13.7915 - mae: 13.7915\n",
      "Epoch 16/100\n",
      "2/2 [==============================] - 0s 3ms/step - loss: 12.5861 - mae: 12.5861\n",
      "Epoch 17/100\n",
      "2/2 [==============================] - 0s 1ms/step - loss: 10.2180 - mae: 10.2180\n",
      "Epoch 18/100\n",
      "2/2 [==============================] - 0s 2ms/step - loss: 10.1329 - mae: 10.1329\n",
      "Epoch 19/100\n",
      "2/2 [==============================] - 0s 5ms/step - loss: 9.9154 - mae: 9.9154\n",
      "Epoch 20/100\n",
      "2/2 [==============================] - 0s 3ms/step - loss: 12.7204 - mae: 12.7204\n",
      "Epoch 21/100\n",
      "2/2 [==============================] - 0s 999us/step - loss: 12.9522 - mae: 12.9522\n",
      "Epoch 22/100\n",
      "2/2 [==============================] - 0s 2ms/step - loss: 9.5668 - mae: 9.5668\n",
      "Epoch 23/100\n",
      "2/2 [==============================] - 0s 2ms/step - loss: 9.3870 - mae: 9.3870\n",
      "Epoch 24/100\n",
      "2/2 [==============================] - 0s 2ms/step - loss: 9.7060 - mae: 9.7060\n",
      "Epoch 25/100\n",
      "2/2 [==============================] - 0s 5ms/step - loss: 9.6024 - mae: 9.6024\n",
      "Epoch 26/100\n",
      "2/2 [==============================] - 0s 5ms/step - loss: 9.4918 - mae: 9.4918\n",
      "Epoch 27/100\n",
      "2/2 [==============================] - 0s 2ms/step - loss: 9.7140 - mae: 9.7140\n",
      "Epoch 28/100\n",
      "2/2 [==============================] - 0s 2ms/step - loss: 9.5882 - mae: 9.5882\n",
      "Epoch 29/100\n",
      "2/2 [==============================] - 0s 2ms/step - loss: 9.4746 - mae: 9.4746\n",
      "Epoch 30/100\n",
      "2/2 [==============================] - 0s 3ms/step - loss: 10.0289 - mae: 10.0289\n",
      "Epoch 31/100\n",
      "2/2 [==============================] - 0s 3ms/step - loss: 13.3862 - mae: 13.3862\n",
      "Epoch 32/100\n",
      "2/2 [==============================] - 0s 3ms/step - loss: 9.6345 - mae: 9.6345\n",
      "Epoch 33/100\n",
      "2/2 [==============================] - 0s 3ms/step - loss: 9.5676 - mae: 9.5676\n",
      "Epoch 34/100\n",
      "2/2 [==============================] - 0s 5ms/step - loss: 9.8932 - mae: 9.8932\n",
      "Epoch 35/100\n",
      "2/2 [==============================] - 0s 3ms/step - loss: 10.1582 - mae: 10.1582\n",
      "Epoch 36/100\n",
      "2/2 [==============================] - 0s 2ms/step - loss: 9.5081 - mae: 9.5081\n",
      "Epoch 37/100\n",
      "2/2 [==============================] - 0s 2ms/step - loss: 9.4231 - mae: 9.4231\n",
      "Epoch 38/100\n",
      "2/2 [==============================] - 0s 2ms/step - loss: 9.6222 - mae: 9.6222\n",
      "Epoch 39/100\n",
      "2/2 [==============================] - 0s 2ms/step - loss: 10.3634 - mae: 10.3634\n",
      "Epoch 40/100\n",
      "2/2 [==============================] - 0s 3ms/step - loss: 11.5608 - mae: 11.5608\n",
      "Epoch 41/100\n",
      "2/2 [==============================] - 0s 8ms/step - loss: 9.7365 - mae: 9.7365\n",
      "Epoch 42/100\n",
      "2/2 [==============================] - 0s 2ms/step - loss: 9.3273 - mae: 9.3273\n",
      "Epoch 43/100\n",
      "2/2 [==============================] - 0s 3ms/step - loss: 9.1406 - mae: 9.1406\n",
      "Epoch 44/100\n",
      "2/2 [==============================] - 0s 2ms/step - loss: 9.5279 - mae: 9.5279\n",
      "Epoch 45/100\n",
      "2/2 [==============================] - 0s 3ms/step - loss: 9.6614 - mae: 9.6614\n",
      "Epoch 46/100\n",
      "2/2 [==============================] - 0s 3ms/step - loss: 9.1543 - mae: 9.1543\n",
      "Epoch 47/100\n",
      "2/2 [==============================] - 0s 7ms/step - loss: 9.0604 - mae: 9.0604\n",
      "Epoch 48/100\n",
      "2/2 [==============================] - 0s 4ms/step - loss: 8.7624 - mae: 8.7624\n",
      "Epoch 49/100\n",
      "2/2 [==============================] - 0s 2ms/step - loss: 10.8369 - mae: 10.8369\n",
      "Epoch 50/100\n",
      "2/2 [==============================] - 0s 3ms/step - loss: 8.8573 - mae: 8.8573\n",
      "Epoch 51/100\n",
      "2/2 [==============================] - 0s 2ms/step - loss: 10.3175 - mae: 10.3175\n",
      "Epoch 52/100\n",
      "2/2 [==============================] - 0s 2ms/step - loss: 14.8285 - mae: 14.8285\n",
      "Epoch 53/100\n",
      "2/2 [==============================] - 0s 5ms/step - loss: 8.7053 - mae: 8.7053\n",
      "Epoch 54/100\n",
      "2/2 [==============================] - 0s 4ms/step - loss: 9.4249 - mae: 9.4249\n",
      "Epoch 55/100\n",
      "2/2 [==============================] - 0s 4ms/step - loss: 9.8385 - mae: 9.8385\n",
      "Epoch 56/100\n",
      "2/2 [==============================] - 0s 6ms/step - loss: 12.1663 - mae: 12.1663\n",
      "Epoch 57/100\n",
      "2/2 [==============================] - 0s 2ms/step - loss: 16.1752 - mae: 16.1752\n",
      "Epoch 58/100\n",
      "2/2 [==============================] - 0s 3ms/step - loss: 15.0076 - mae: 15.0076\n",
      "Epoch 59/100\n",
      "2/2 [==============================] - 0s 2ms/step - loss: 15.3698 - mae: 15.3698\n",
      "Epoch 60/100\n",
      "2/2 [==============================] - 0s 3ms/step - loss: 12.5261 - mae: 12.5261\n",
      "Epoch 61/100\n",
      "2/2 [==============================] - 0s 2ms/step - loss: 13.0420 - mae: 13.0420\n",
      "Epoch 62/100\n",
      "2/2 [==============================] - 0s 2ms/step - loss: 10.2323 - mae: 10.2323\n",
      "Epoch 63/100\n",
      "2/2 [==============================] - 0s 2ms/step - loss: 12.0069 - mae: 12.0069\n",
      "Epoch 64/100\n",
      "2/2 [==============================] - 0s 3ms/step - loss: 9.5151 - mae: 9.5151\n",
      "Epoch 65/100\n",
      "2/2 [==============================] - 0s 2ms/step - loss: 8.9926 - mae: 8.9926\n",
      "Epoch 66/100\n",
      "2/2 [==============================] - 0s 3ms/step - loss: 8.9825 - mae: 8.9825\n",
      "Epoch 67/100\n",
      "2/2 [==============================] - 0s 5ms/step - loss: 9.1020 - mae: 9.1020\n",
      "Epoch 68/100\n",
      "2/2 [==============================] - 0s 2ms/step - loss: 9.2138 - mae: 9.2138\n",
      "Epoch 69/100\n",
      "2/2 [==============================] - 0s 3ms/step - loss: 9.2091 - mae: 9.2091\n",
      "Epoch 70/100\n",
      "2/2 [==============================] - 0s 8ms/step - loss: 9.4690 - mae: 9.4690\n",
      "Epoch 71/100\n",
      "2/2 [==============================] - 0s 2ms/step - loss: 8.9142 - mae: 8.9142\n",
      "Epoch 72/100\n",
      "2/2 [==============================] - 0s 2ms/step - loss: 9.9897 - mae: 9.9897\n",
      "Epoch 73/100\n",
      "2/2 [==============================] - 0s 2ms/step - loss: 11.9300 - mae: 11.9300\n",
      "Epoch 74/100\n",
      "2/2 [==============================] - 0s 3ms/step - loss: 8.5859 - mae: 8.5859\n",
      "Epoch 75/100\n",
      "2/2 [==============================] - 0s 2ms/step - loss: 8.7776 - mae: 8.7776\n",
      "Epoch 76/100\n",
      "2/2 [==============================] - 0s 2ms/step - loss: 8.8232 - mae: 8.8232\n",
      "Epoch 77/100\n",
      "2/2 [==============================] - 0s 4ms/step - loss: 8.1895 - mae: 8.1895\n",
      "Epoch 78/100\n",
      "2/2 [==============================] - 0s 4ms/step - loss: 11.2235 - mae: 11.2235\n",
      "Epoch 79/100\n",
      "2/2 [==============================] - 0s 2ms/step - loss: 9.5682 - mae: 9.5682\n",
      "Epoch 80/100\n",
      "2/2 [==============================] - 0s 4ms/step - loss: 13.1783 - mae: 13.1783\n",
      "Epoch 81/100\n",
      "2/2 [==============================] - 0s 4ms/step - loss: 14.3245 - mae: 14.3245\n",
      "Epoch 82/100\n",
      "2/2 [==============================] - 0s 7ms/step - loss: 16.2560 - mae: 16.2560\n",
      "Epoch 83/100\n",
      "2/2 [==============================] - 0s 3ms/step - loss: 9.5568 - mae: 9.5568\n",
      "Epoch 84/100\n",
      "2/2 [==============================] - 0s 5ms/step - loss: 8.6519 - mae: 8.6519\n",
      "Epoch 85/100\n",
      "2/2 [==============================] - 0s 4ms/step - loss: 8.7552 - mae: 8.7552\n",
      "Epoch 86/100\n",
      "2/2 [==============================] - 0s 3ms/step - loss: 9.0234 - mae: 9.0234\n",
      "Epoch 87/100\n",
      "2/2 [==============================] - 0s 2ms/step - loss: 9.1794 - mae: 9.1794\n",
      "Epoch 88/100\n",
      "2/2 [==============================] - 0s 2ms/step - loss: 8.7276 - mae: 8.7276\n",
      "Epoch 89/100\n",
      "2/2 [==============================] - 0s 3ms/step - loss: 8.8707 - mae: 8.8707\n",
      "Epoch 90/100\n",
      "2/2 [==============================] - 0s 7ms/step - loss: 8.6802 - mae: 8.6802\n",
      "Epoch 91/100\n",
      "2/2 [==============================] - 0s 2ms/step - loss: 8.7301 - mae: 8.7301\n",
      "Epoch 92/100\n",
      "2/2 [==============================] - 0s 2ms/step - loss: 8.5968 - mae: 8.5968\n",
      "Epoch 93/100\n",
      "2/2 [==============================] - 0s 3ms/step - loss: 9.1886 - mae: 9.1886\n",
      "Epoch 94/100\n",
      "2/2 [==============================] - 0s 2ms/step - loss: 9.9125 - mae: 9.9125\n",
      "Epoch 95/100\n",
      "2/2 [==============================] - 0s 2ms/step - loss: 12.8242 - mae: 12.8242\n",
      "Epoch 96/100\n",
      "2/2 [==============================] - 0s 6ms/step - loss: 9.1602 - mae: 9.1602\n",
      "Epoch 97/100\n",
      "2/2 [==============================] - 0s 2ms/step - loss: 10.5435 - mae: 10.5435\n",
      "Epoch 98/100\n",
      "2/2 [==============================] - 0s 3ms/step - loss: 14.7497 - mae: 14.7497\n",
      "Epoch 99/100\n",
      "2/2 [==============================] - 0s 4ms/step - loss: 10.8591 - mae: 10.8591\n",
      "Epoch 100/100\n",
      "2/2 [==============================] - 0s 2ms/step - loss: 14.9030 - mae: 14.9030\n"
     ]
    },
    {
     "output_type": "execute_result",
     "data": {
      "text/plain": [
       "<tensorflow.python.keras.callbacks.History at 0x1a52ca417f0>"
      ]
     },
     "metadata": {},
     "execution_count": 25
    }
   ],
   "source": [
    "tf.random.set_seed(42)\n",
    "\n",
    "model = tf.keras.Sequential([\n",
    "    tf.keras.layers.Dense(1)\n",
    "])\n",
    "\n",
    "model.compile(\n",
    "    loss = tf.keras.losses.mae,\n",
    "    optimizer = tf.keras.optimizers.SGD(),\n",
    "    metrics = [\"mae\"]\n",
    ")\n",
    "\n",
    "model.fit(X, y, epochs = 100)"
   ]
  },
  {
   "cell_type": "code",
   "execution_count": 26,
   "metadata": {},
   "outputs": [
    {
     "output_type": "stream",
     "name": "stdout",
     "text": [
      "Model: \"sequential_5\"\n_________________________________________________________________\nLayer (type)                 Output Shape              Param #   \n=================================================================\ndense_5 (Dense)              (None, 1)                 2         \n=================================================================\nTotal params: 2\nTrainable params: 2\nNon-trainable params: 0\n_________________________________________________________________\n"
     ]
    }
   ],
   "source": [
    "model.summary()"
   ]
  },
  {
   "source": [
    "**Total params** : 모델에 존재하는 파라이터의 총 갯수\n",
    "**Trainable params** : 모델이 학습을 하면서 최신화할 수 있는 파라미터\n",
    "**Non-trainble params** : 모델이 학습을 하면서 최신화할 수 없는 파라미터"
   ],
   "cell_type": "markdown",
   "metadata": {}
  },
  {
   "cell_type": "code",
   "execution_count": 59,
   "metadata": {},
   "outputs": [],
   "source": [
    "tf.random.set_seed(42)\n",
    "\n",
    "model = tf.keras.Sequential([\n",
    "    tf.keras.layers.Dense(1, input_shape=[1]),\n",
    "])\n",
    "\n",
    "model.compile(\n",
    "    loss = tf.keras.losses.mae,\n",
    "    optimizer = tf.keras.optimizers.SGD(),\n",
    "    metrics = [\"mae\"]\n",
    ")"
   ]
  },
  {
   "cell_type": "code",
   "execution_count": 60,
   "metadata": {},
   "outputs": [
    {
     "output_type": "stream",
     "name": "stdout",
     "text": [
      "Model: \"sequential_11\"\n_________________________________________________________________\nLayer (type)                 Output Shape              Param #   \n=================================================================\ndense_13 (Dense)             (None, 1)                 2         \n=================================================================\nTotal params: 2\nTrainable params: 2\nNon-trainable params: 0\n_________________________________________________________________\n"
     ]
    }
   ],
   "source": [
    "model.summary()"
   ]
  },
  {
   "cell_type": "code",
   "execution_count": 61,
   "metadata": {},
   "outputs": [
    {
     "output_type": "stream",
     "name": "stdout",
     "text": [
      "Epoch 1/100\n",
      "2/2 [==============================] - 0s 4ms/step - loss: 19.0311 - mae: 19.0311\n",
      "Epoch 2/100\n",
      "2/2 [==============================] - 0s 3ms/step - loss: 10.8111 - mae: 10.8111\n",
      "Epoch 3/100\n",
      "2/2 [==============================] - 0s 3ms/step - loss: 14.5005 - mae: 14.5005\n",
      "Epoch 4/100\n",
      "2/2 [==============================] - 0s 3ms/step - loss: 10.0958 - mae: 10.0958\n",
      "Epoch 5/100\n",
      "2/2 [==============================] - 0s 2ms/step - loss: 15.5388 - mae: 15.5388\n",
      "Epoch 6/100\n",
      "2/2 [==============================] - 0s 2ms/step - loss: 11.8626 - mae: 11.8626\n",
      "Epoch 7/100\n",
      "2/2 [==============================] - 0s 2ms/step - loss: 9.1727 - mae: 9.1727\n",
      "Epoch 8/100\n",
      "2/2 [==============================] - 0s 3ms/step - loss: 13.6143 - mae: 13.6143\n",
      "Epoch 9/100\n",
      "2/2 [==============================] - 0s 7ms/step - loss: 13.8577 - mae: 13.8577\n",
      "Epoch 10/100\n",
      "2/2 [==============================] - 0s 2ms/step - loss: 9.9966 - mae: 9.9966\n",
      "Epoch 11/100\n",
      "2/2 [==============================] - 0s 6ms/step - loss: 9.9685 - mae: 9.9685\n",
      "Epoch 12/100\n",
      "2/2 [==============================] - 0s 4ms/step - loss: 9.9097 - mae: 9.9097\n",
      "Epoch 13/100\n",
      "2/2 [==============================] - 0s 2ms/step - loss: 9.7478 - mae: 9.7478\n",
      "Epoch 14/100\n",
      "2/2 [==============================] - 0s 2ms/step - loss: 10.5485 - mae: 10.5485\n",
      "Epoch 15/100\n",
      "2/2 [==============================] - 0s 2ms/step - loss: 13.7915 - mae: 13.7915\n",
      "Epoch 16/100\n",
      "2/2 [==============================] - 0s 4ms/step - loss: 12.5861 - mae: 12.5861\n",
      "Epoch 17/100\n",
      "2/2 [==============================] - 0s 6ms/step - loss: 10.2180 - mae: 10.2180\n",
      "Epoch 18/100\n",
      "2/2 [==============================] - 0s 6ms/step - loss: 10.1329 - mae: 10.1329\n",
      "Epoch 19/100\n",
      "2/2 [==============================] - 0s 7ms/step - loss: 9.9154 - mae: 9.9154\n",
      "Epoch 20/100\n",
      "2/2 [==============================] - 0s 3ms/step - loss: 12.7204 - mae: 12.7204\n",
      "Epoch 21/100\n",
      "2/2 [==============================] - 0s 3ms/step - loss: 12.9522 - mae: 12.9522\n",
      "Epoch 22/100\n",
      "2/2 [==============================] - 0s 4ms/step - loss: 9.5668 - mae: 9.5668\n",
      "Epoch 23/100\n",
      "2/2 [==============================] - 0s 2ms/step - loss: 9.3870 - mae: 9.3870\n",
      "Epoch 24/100\n",
      "2/2 [==============================] - 0s 2ms/step - loss: 9.7060 - mae: 9.7060\n",
      "Epoch 25/100\n",
      "2/2 [==============================] - 0s 5ms/step - loss: 9.6024 - mae: 9.6024\n",
      "Epoch 26/100\n",
      "2/2 [==============================] - 0s 3ms/step - loss: 9.4918 - mae: 9.4918\n",
      "Epoch 27/100\n",
      "2/2 [==============================] - 0s 2ms/step - loss: 9.7140 - mae: 9.7140\n",
      "Epoch 28/100\n",
      "2/2 [==============================] - 0s 4ms/step - loss: 9.5882 - mae: 9.5882\n",
      "Epoch 29/100\n",
      "2/2 [==============================] - 0s 3ms/step - loss: 9.4746 - mae: 9.4746\n",
      "Epoch 30/100\n",
      "2/2 [==============================] - 0s 5ms/step - loss: 10.0289 - mae: 10.0289\n",
      "Epoch 31/100\n",
      "2/2 [==============================] - 0s 2ms/step - loss: 13.3862 - mae: 13.3862\n",
      "Epoch 32/100\n",
      "2/2 [==============================] - 0s 6ms/step - loss: 9.6345 - mae: 9.6345\n",
      "Epoch 33/100\n",
      "2/2 [==============================] - 0s 2ms/step - loss: 9.5676 - mae: 9.5676\n",
      "Epoch 34/100\n",
      "2/2 [==============================] - 0s 2ms/step - loss: 9.8932 - mae: 9.8932\n",
      "Epoch 35/100\n",
      "2/2 [==============================] - 0s 2ms/step - loss: 10.1582 - mae: 10.1582\n",
      "Epoch 36/100\n",
      "2/2 [==============================] - 0s 2ms/step - loss: 9.5081 - mae: 9.5081\n",
      "Epoch 37/100\n",
      "2/2 [==============================] - 0s 2ms/step - loss: 9.4231 - mae: 9.4231\n",
      "Epoch 38/100\n",
      "2/2 [==============================] - 0s 3ms/step - loss: 9.6222 - mae: 9.6222\n",
      "Epoch 39/100\n",
      "2/2 [==============================] - 0s 2ms/step - loss: 10.3634 - mae: 10.3634\n",
      "Epoch 40/100\n",
      "2/2 [==============================] - 0s 2ms/step - loss: 11.5608 - mae: 11.5608\n",
      "Epoch 41/100\n",
      "2/2 [==============================] - 0s 3ms/step - loss: 9.7365 - mae: 9.7365\n",
      "Epoch 42/100\n",
      "2/2 [==============================] - 0s 3ms/step - loss: 9.3273 - mae: 9.3273\n",
      "Epoch 43/100\n",
      "2/2 [==============================] - 0s 2ms/step - loss: 9.1406 - mae: 9.1406\n",
      "Epoch 44/100\n",
      "2/2 [==============================] - 0s 3ms/step - loss: 9.5279 - mae: 9.5279\n",
      "Epoch 45/100\n",
      "2/2 [==============================] - 0s 3ms/step - loss: 9.6614 - mae: 9.6614\n",
      "Epoch 46/100\n",
      "2/2 [==============================] - 0s 3ms/step - loss: 9.1543 - mae: 9.1543\n",
      "Epoch 47/100\n",
      "2/2 [==============================] - 0s 5ms/step - loss: 9.0604 - mae: 9.0604\n",
      "Epoch 48/100\n",
      "2/2 [==============================] - 0s 7ms/step - loss: 8.7624 - mae: 8.7624\n",
      "Epoch 49/100\n",
      "2/2 [==============================] - 0s 2ms/step - loss: 10.8369 - mae: 10.8369\n",
      "Epoch 50/100\n",
      "2/2 [==============================] - 0s 3ms/step - loss: 8.8573 - mae: 8.8573\n",
      "Epoch 51/100\n",
      "2/2 [==============================] - 0s 2ms/step - loss: 10.3175 - mae: 10.3175\n",
      "Epoch 52/100\n",
      "2/2 [==============================] - 0s 2ms/step - loss: 14.8285 - mae: 14.8285\n",
      "Epoch 53/100\n",
      "2/2 [==============================] - 0s 5ms/step - loss: 8.7053 - mae: 8.7053\n",
      "Epoch 54/100\n",
      "2/2 [==============================] - 0s 2ms/step - loss: 9.4249 - mae: 9.4249\n",
      "Epoch 55/100\n",
      "2/2 [==============================] - 0s 3ms/step - loss: 9.8385 - mae: 9.8385\n",
      "Epoch 56/100\n",
      "2/2 [==============================] - 0s 2ms/step - loss: 12.1663 - mae: 12.1663\n",
      "Epoch 57/100\n",
      "2/2 [==============================] - 0s 2ms/step - loss: 16.1752 - mae: 16.1752\n",
      "Epoch 58/100\n",
      "2/2 [==============================] - 0s 2ms/step - loss: 15.0076 - mae: 15.0076\n",
      "Epoch 59/100\n",
      "2/2 [==============================] - 0s 6ms/step - loss: 15.3698 - mae: 15.3698\n",
      "Epoch 60/100\n",
      "2/2 [==============================] - 0s 2ms/step - loss: 12.5261 - mae: 12.5261\n",
      "Epoch 61/100\n",
      "2/2 [==============================] - 0s 4ms/step - loss: 13.0420 - mae: 13.0420\n",
      "Epoch 62/100\n",
      "2/2 [==============================] - 0s 2ms/step - loss: 10.2323 - mae: 10.2323\n",
      "Epoch 63/100\n",
      "2/2 [==============================] - 0s 3ms/step - loss: 12.0069 - mae: 12.0069\n",
      "Epoch 64/100\n",
      "2/2 [==============================] - 0s 4ms/step - loss: 9.5151 - mae: 9.5151\n",
      "Epoch 65/100\n",
      "2/2 [==============================] - 0s 2ms/step - loss: 8.9926 - mae: 8.9926\n",
      "Epoch 66/100\n",
      "2/2 [==============================] - 0s 7ms/step - loss: 8.9825 - mae: 8.9825\n",
      "Epoch 67/100\n",
      "2/2 [==============================] - 0s 4ms/step - loss: 9.1020 - mae: 9.1020\n",
      "Epoch 68/100\n",
      "2/2 [==============================] - 0s 4ms/step - loss: 9.2138 - mae: 9.2138\n",
      "Epoch 69/100\n",
      "2/2 [==============================] - 0s 3ms/step - loss: 9.2091 - mae: 9.2091\n",
      "Epoch 70/100\n",
      "2/2 [==============================] - 0s 3ms/step - loss: 9.4690 - mae: 9.4690\n",
      "Epoch 71/100\n",
      "2/2 [==============================] - 0s 3ms/step - loss: 8.9142 - mae: 8.9142\n",
      "Epoch 72/100\n",
      "2/2 [==============================] - 0s 2ms/step - loss: 9.9897 - mae: 9.9897\n",
      "Epoch 73/100\n",
      "2/2 [==============================] - 0s 2ms/step - loss: 11.9300 - mae: 11.9300\n",
      "Epoch 74/100\n",
      "2/2 [==============================] - 0s 6ms/step - loss: 8.5859 - mae: 8.5859\n",
      "Epoch 75/100\n",
      "2/2 [==============================] - 0s 4ms/step - loss: 8.7776 - mae: 8.7776\n",
      "Epoch 76/100\n",
      "2/2 [==============================] - 0s 2ms/step - loss: 8.8232 - mae: 8.8232\n",
      "Epoch 77/100\n",
      "2/2 [==============================] - 0s 2ms/step - loss: 8.1895 - mae: 8.1895\n",
      "Epoch 78/100\n",
      "2/2 [==============================] - 0s 3ms/step - loss: 11.2235 - mae: 11.2235\n",
      "Epoch 79/100\n",
      "2/2 [==============================] - 0s 2ms/step - loss: 9.5682 - mae: 9.5682\n",
      "Epoch 80/100\n",
      "2/2 [==============================] - 0s 3ms/step - loss: 13.1783 - mae: 13.1783\n",
      "Epoch 81/100\n",
      "2/2 [==============================] - 0s 18ms/step - loss: 14.3245 - mae: 14.3245\n",
      "Epoch 82/100\n",
      "2/2 [==============================] - 0s 3ms/step - loss: 16.2560 - mae: 16.2560\n",
      "Epoch 83/100\n",
      "2/2 [==============================] - 0s 6ms/step - loss: 9.5568 - mae: 9.5568\n",
      "Epoch 84/100\n",
      "2/2 [==============================] - 0s 3ms/step - loss: 8.6519 - mae: 8.6519\n",
      "Epoch 85/100\n",
      "2/2 [==============================] - 0s 2ms/step - loss: 8.7552 - mae: 8.7552\n",
      "Epoch 86/100\n",
      "2/2 [==============================] - 0s 3ms/step - loss: 9.0234 - mae: 9.0234\n",
      "Epoch 87/100\n",
      "2/2 [==============================] - 0s 3ms/step - loss: 9.1794 - mae: 9.1794\n",
      "Epoch 88/100\n",
      "2/2 [==============================] - 0s 2ms/step - loss: 8.7276 - mae: 8.7276\n",
      "Epoch 89/100\n",
      "2/2 [==============================] - 0s 5ms/step - loss: 8.8707 - mae: 8.8707\n",
      "Epoch 90/100\n",
      "2/2 [==============================] - 0s 2ms/step - loss: 8.6802 - mae: 8.6802\n",
      "Epoch 91/100\n",
      "2/2 [==============================] - 0s 3ms/step - loss: 8.7301 - mae: 8.7301\n",
      "Epoch 92/100\n",
      "2/2 [==============================] - 0s 2ms/step - loss: 8.5968 - mae: 8.5968\n",
      "Epoch 93/100\n",
      "2/2 [==============================] - 0s 2ms/step - loss: 9.1886 - mae: 9.1886\n",
      "Epoch 94/100\n",
      "2/2 [==============================] - 0s 3ms/step - loss: 9.9125 - mae: 9.9125\n",
      "Epoch 95/100\n",
      "2/2 [==============================] - 0s 3ms/step - loss: 12.8242 - mae: 12.8242\n",
      "Epoch 96/100\n",
      "2/2 [==============================] - 0s 3ms/step - loss: 9.1602 - mae: 9.1602\n",
      "Epoch 97/100\n",
      "2/2 [==============================] - 0s 7ms/step - loss: 10.5435 - mae: 10.5435\n",
      "Epoch 98/100\n",
      "2/2 [==============================] - 0s 5ms/step - loss: 14.7497 - mae: 14.7497\n",
      "Epoch 99/100\n",
      "2/2 [==============================] - 0s 2ms/step - loss: 10.8591 - mae: 10.8591\n",
      "Epoch 100/100\n",
      "2/2 [==============================] - 0s 4ms/step - loss: 14.9030 - mae: 14.9030\n"
     ]
    },
    {
     "output_type": "execute_result",
     "data": {
      "text/plain": [
       "<tensorflow.python.keras.callbacks.History at 0x1a52f0b3640>"
      ]
     },
     "metadata": {},
     "execution_count": 61
    }
   ],
   "source": [
    "model.fit(X, y, epochs = 100)"
   ]
  },
  {
   "cell_type": "code",
   "execution_count": 62,
   "metadata": {},
   "outputs": [
    {
     "output_type": "stream",
     "name": "stdout",
     "text": [
      "Model: \"sequential_11\"\n_________________________________________________________________\nLayer (type)                 Output Shape              Param #   \n=================================================================\ndense_13 (Dense)             (None, 1)                 2         \n=================================================================\nTotal params: 2\nTrainable params: 2\nNon-trainable params: 0\n_________________________________________________________________\n"
     ]
    }
   ],
   "source": [
    "model.summary()"
   ]
  },
  {
   "cell_type": "code",
   "execution_count": 63,
   "metadata": {},
   "outputs": [
    {
     "output_type": "execute_result",
     "data": {
      "image/png": "[encoded data removed]",
      "text/plain": [
       "<IPython.core.display.Image object>"
      ]
     },
     "metadata": {},
     "execution_count": 63
    }
   ],
   "source": [
    "from tensorflow.keras.utils import plot_model\n",
    "\n",
    "plot_model(model, show_shapes=True)"
   ]
  },
  {
   "cell_type": "code",
   "execution_count": 64,
   "metadata": {},
   "outputs": [
    {
     "output_type": "stream",
     "name": "stdout",
     "text": [
      "WARNING:tensorflow:6 out of the last 7 calls to <function Model.make_predict_function.<locals>.predict_function at 0x000001A530303700> triggered tf.function retracing. Tracing is expensive and the excessive number of tracings could be due to (1) creating @tf.function repeatedly in a loop, (2) passing tensors with different shapes, (3) passing Python objects instead of tensors. For (1), please define your @tf.function outside of the loop. For (2), @tf.function has experimental_relax_shapes=True option that relaxes argument shapes that can avoid unnecessary retracing. For (3), please refer to https://www.tensorflow.org/guide/function#controlling_retracing and https://www.tensorflow.org/api_docs/python/tf/function for  more details.\n"
     ]
    },
    {
     "output_type": "execute_result",
     "data": {
      "text/plain": [
       "array([[54.771538],\n",
       "       [58.317333],\n",
       "       [61.86313 ],\n",
       "       [65.40893 ],\n",
       "       [68.95472 ],\n",
       "       [72.50052 ],\n",
       "       [76.04631 ],\n",
       "       [79.59211 ],\n",
       "       [83.13791 ],\n",
       "       [86.6837  ]], dtype=float32)"
      ]
     },
     "metadata": {},
     "execution_count": 64
    }
   ],
   "source": [
    "y_predicts = model.predict(X_test)\n",
    "y_predicts"
   ]
  },
  {
   "cell_type": "code",
   "execution_count": 65,
   "metadata": {},
   "outputs": [],
   "source": [
    "def plot_predictions(\n",
    "    train_data = X_train,\n",
    "    train_labels = y_train,\n",
    "    test_data = X_test,\n",
    "    test_labels = y_test,\n",
    "    prediction = y_predicts\n",
    "):\n",
    "    plt.figure(figsize = (10, 7))\n",
    "    plt.scatter(train_data, train_labels, c=\"b\", label=\"Training Data\")\n",
    "    plt.scatter(test_data, test_labels, c=\"g\", label=\"Testing data\")\n",
    "    plt.scatter(test_data, prediction, c=\"r\", label=\"Predictions\")\n",
    "    plt.legend()"
   ]
  },
  {
   "cell_type": "code",
   "execution_count": 66,
   "metadata": {},
   "outputs": [
    {
     "output_type": "display_data",
     "data": {
      "text/plain": "<Figure size 720x504 with 1 Axes>",
      "image/svg+xml": "<?xml version=\"1.0\" encoding=\"utf-8\" standalone=\"no\"?>\r\n<!DOCTYPE svg PUBLIC \"-//W3C//DTD SVG 1.1//EN\"\r\n  \"http://www.w3.org/Graphics/SVG/1.1/DTD/svg11.dtd\">\r\n<svg height=\"411.598125pt\" version=\"1.1\" viewBox=\"0 0 600.504688 411.598125\" width=\"600.504688pt\" xmlns=\"http://www.w3.org/2000/svg\" xmlns:xlink=\"http://www.w3.org/1999/xlink\">\r\n <metadata>\r\n  <rdf:RDF xmlns:cc=\"http://creativecommons.org/ns#\" xmlns:dc=\"http://purl.org/dc/elements/1.1/\" xmlns:rdf=\"http://www.w3.org/1999/02/22-rdf-syntax-ns#\">\r\n   <cc:Work>\r\n    <dc:type rdf:resource=\"http://purl.org/dc/dcmitype/StillImage\"/>\r\n    <dc:date>2021-05-30T13:41:58.227950</dc:date>\r\n    <dc:format>image/svg+xml</dc:format>\r\n    <dc:creator>\r\n     <cc:Agent>\r\n      <dc:title>Matplotlib v3.4.2, https://matplotlib.org/</dc:title>\r\n     </cc:Agent>\r\n    </dc:creator>\r\n   </cc:Work>\r\n  </rdf:RDF>\r\n </metadata>\r\n <defs>\r\n  <style type=\"text/css\">*{stroke-linecap:butt;stroke-linejoin:round;}</style>\r\n </defs>\r\n <g id=\"figure_1\">\r\n  <g id=\"patch_1\">\r\n   <path d=\"M 0 411.598125 \r\nL 600.504688 411.598125 \r\nL 600.504688 0 \r\nL 0 0 \r\nz\r\n\" style=\"fill:none;\"/>\r\n  </g>\r\n  <g id=\"axes_1\">\r\n   <g id=\"patch_2\">\r\n    <path d=\"M 35.304688 387.72 \r\nL 593.304688 387.72 \r\nL 593.304688 7.2 \r\nL 35.304688 7.2 \r\nz\r\n\" style=\"fill:#ffffff;\"/>\r\n   </g>\r\n   <g id=\"PathCollection_1\">\r\n    <defs>\r\n     <path d=\"M 0 3 \r\nC 0.795609 3 1.55874 2.683901 2.12132 2.12132 \r\nC 2.683901 1.55874 3 0.795609 3 0 \r\nC 3 -0.795609 2.683901 -1.55874 2.12132 -2.12132 \r\nC 1.55874 -2.683901 0.795609 -3 0 -3 \r\nC -0.795609 -3 -1.55874 -2.683901 -2.12132 -2.12132 \r\nC -2.683901 -1.55874 -3 -0.795609 -3 0 \r\nC -3 0.795609 -2.683901 1.55874 -2.12132 2.12132 \r\nC -1.55874 2.683901 -0.795609 3 0 3 \r\nz\r\n\" id=\"m898ef38fb9\" style=\"stroke:#0000ff;\"/>\r\n    </defs>\r\n    <g clip-path=\"url(#p17bba2e58a)\">\r\n     <use style=\"fill:#0000ff;stroke:#0000ff;\" x=\"60.668324\" xlink:href=\"#m898ef38fb9\" y=\"370.423636\"/>\r\n     <use style=\"fill:#0000ff;stroke:#0000ff;\" x=\"71.020829\" xlink:href=\"#m898ef38fb9\" y=\"363.363896\"/>\r\n     <use style=\"fill:#0000ff;stroke:#0000ff;\" x=\"81.373333\" xlink:href=\"#m898ef38fb9\" y=\"356.304156\"/>\r\n     <use style=\"fill:#0000ff;stroke:#0000ff;\" x=\"91.725838\" xlink:href=\"#m898ef38fb9\" y=\"349.244416\"/>\r\n     <use style=\"fill:#0000ff;stroke:#0000ff;\" x=\"102.078342\" xlink:href=\"#m898ef38fb9\" y=\"342.184675\"/>\r\n     <use style=\"fill:#0000ff;stroke:#0000ff;\" x=\"112.430847\" xlink:href=\"#m898ef38fb9\" y=\"335.124935\"/>\r\n     <use style=\"fill:#0000ff;stroke:#0000ff;\" x=\"122.783352\" xlink:href=\"#m898ef38fb9\" y=\"328.065195\"/>\r\n     <use style=\"fill:#0000ff;stroke:#0000ff;\" x=\"133.135856\" xlink:href=\"#m898ef38fb9\" y=\"321.005455\"/>\r\n     <use style=\"fill:#0000ff;stroke:#0000ff;\" x=\"143.488361\" xlink:href=\"#m898ef38fb9\" y=\"313.945714\"/>\r\n     <use style=\"fill:#0000ff;stroke:#0000ff;\" x=\"153.840866\" xlink:href=\"#m898ef38fb9\" y=\"306.885974\"/>\r\n     <use style=\"fill:#0000ff;stroke:#0000ff;\" x=\"164.19337\" xlink:href=\"#m898ef38fb9\" y=\"299.826234\"/>\r\n     <use style=\"fill:#0000ff;stroke:#0000ff;\" x=\"174.545875\" xlink:href=\"#m898ef38fb9\" y=\"292.766494\"/>\r\n     <use style=\"fill:#0000ff;stroke:#0000ff;\" x=\"184.89838\" xlink:href=\"#m898ef38fb9\" y=\"285.706753\"/>\r\n     <use style=\"fill:#0000ff;stroke:#0000ff;\" x=\"195.250884\" xlink:href=\"#m898ef38fb9\" y=\"278.647013\"/>\r\n     <use style=\"fill:#0000ff;stroke:#0000ff;\" x=\"205.603389\" xlink:href=\"#m898ef38fb9\" y=\"271.587273\"/>\r\n     <use style=\"fill:#0000ff;stroke:#0000ff;\" x=\"215.955893\" xlink:href=\"#m898ef38fb9\" y=\"264.527532\"/>\r\n     <use style=\"fill:#0000ff;stroke:#0000ff;\" x=\"226.308398\" xlink:href=\"#m898ef38fb9\" y=\"257.467792\"/>\r\n     <use style=\"fill:#0000ff;stroke:#0000ff;\" x=\"236.660903\" xlink:href=\"#m898ef38fb9\" y=\"250.408052\"/>\r\n     <use style=\"fill:#0000ff;stroke:#0000ff;\" x=\"247.013407\" xlink:href=\"#m898ef38fb9\" y=\"243.348312\"/>\r\n     <use style=\"fill:#0000ff;stroke:#0000ff;\" x=\"257.365912\" xlink:href=\"#m898ef38fb9\" y=\"236.288571\"/>\r\n     <use style=\"fill:#0000ff;stroke:#0000ff;\" x=\"267.718417\" xlink:href=\"#m898ef38fb9\" y=\"229.228831\"/>\r\n     <use style=\"fill:#0000ff;stroke:#0000ff;\" x=\"278.070921\" xlink:href=\"#m898ef38fb9\" y=\"222.169091\"/>\r\n     <use style=\"fill:#0000ff;stroke:#0000ff;\" x=\"288.423426\" xlink:href=\"#m898ef38fb9\" y=\"215.109351\"/>\r\n     <use style=\"fill:#0000ff;stroke:#0000ff;\" x=\"298.775931\" xlink:href=\"#m898ef38fb9\" y=\"208.04961\"/>\r\n     <use style=\"fill:#0000ff;stroke:#0000ff;\" x=\"309.128435\" xlink:href=\"#m898ef38fb9\" y=\"200.98987\"/>\r\n     <use style=\"fill:#0000ff;stroke:#0000ff;\" x=\"319.48094\" xlink:href=\"#m898ef38fb9\" y=\"193.93013\"/>\r\n     <use style=\"fill:#0000ff;stroke:#0000ff;\" x=\"329.833444\" xlink:href=\"#m898ef38fb9\" y=\"186.87039\"/>\r\n     <use style=\"fill:#0000ff;stroke:#0000ff;\" x=\"340.185949\" xlink:href=\"#m898ef38fb9\" y=\"179.810649\"/>\r\n     <use style=\"fill:#0000ff;stroke:#0000ff;\" x=\"350.538454\" xlink:href=\"#m898ef38fb9\" y=\"172.750909\"/>\r\n     <use style=\"fill:#0000ff;stroke:#0000ff;\" x=\"360.890958\" xlink:href=\"#m898ef38fb9\" y=\"165.691169\"/>\r\n     <use style=\"fill:#0000ff;stroke:#0000ff;\" x=\"371.243463\" xlink:href=\"#m898ef38fb9\" y=\"158.631429\"/>\r\n     <use style=\"fill:#0000ff;stroke:#0000ff;\" x=\"381.595968\" xlink:href=\"#m898ef38fb9\" y=\"151.571688\"/>\r\n     <use style=\"fill:#0000ff;stroke:#0000ff;\" x=\"391.948472\" xlink:href=\"#m898ef38fb9\" y=\"144.511948\"/>\r\n     <use style=\"fill:#0000ff;stroke:#0000ff;\" x=\"402.300977\" xlink:href=\"#m898ef38fb9\" y=\"137.452208\"/>\r\n     <use style=\"fill:#0000ff;stroke:#0000ff;\" x=\"412.653482\" xlink:href=\"#m898ef38fb9\" y=\"130.392468\"/>\r\n     <use style=\"fill:#0000ff;stroke:#0000ff;\" x=\"423.005986\" xlink:href=\"#m898ef38fb9\" y=\"123.332727\"/>\r\n     <use style=\"fill:#0000ff;stroke:#0000ff;\" x=\"433.358491\" xlink:href=\"#m898ef38fb9\" y=\"116.272987\"/>\r\n     <use style=\"fill:#0000ff;stroke:#0000ff;\" x=\"443.710995\" xlink:href=\"#m898ef38fb9\" y=\"109.213247\"/>\r\n     <use style=\"fill:#0000ff;stroke:#0000ff;\" x=\"454.0635\" xlink:href=\"#m898ef38fb9\" y=\"102.153506\"/>\r\n     <use style=\"fill:#0000ff;stroke:#0000ff;\" x=\"464.416005\" xlink:href=\"#m898ef38fb9\" y=\"95.093766\"/>\r\n    </g>\r\n   </g>\r\n   <g id=\"PathCollection_2\">\r\n    <defs>\r\n     <path d=\"M 0 3 \r\nC 0.795609 3 1.55874 2.683901 2.12132 2.12132 \r\nC 2.683901 1.55874 3 0.795609 3 0 \r\nC 3 -0.795609 2.683901 -1.55874 2.12132 -2.12132 \r\nC 1.55874 -2.683901 0.795609 -3 0 -3 \r\nC -0.795609 -3 -1.55874 -2.683901 -2.12132 -2.12132 \r\nC -2.683901 -1.55874 -3 -0.795609 -3 0 \r\nC -3 0.795609 -2.683901 1.55874 -2.12132 2.12132 \r\nC -1.55874 2.683901 -0.795609 3 0 3 \r\nz\r\n\" id=\"mc0de9bc74b\" style=\"stroke:#008000;\"/>\r\n    </defs>\r\n    <g clip-path=\"url(#p17bba2e58a)\">\r\n     <use style=\"fill:#008000;stroke:#008000;\" x=\"474.768509\" xlink:href=\"#mc0de9bc74b\" y=\"88.034026\"/>\r\n     <use style=\"fill:#008000;stroke:#008000;\" x=\"485.121014\" xlink:href=\"#mc0de9bc74b\" y=\"80.974286\"/>\r\n     <use style=\"fill:#008000;stroke:#008000;\" x=\"495.473519\" xlink:href=\"#mc0de9bc74b\" y=\"73.914545\"/>\r\n     <use style=\"fill:#008000;stroke:#008000;\" x=\"505.826023\" xlink:href=\"#mc0de9bc74b\" y=\"66.854805\"/>\r\n     <use style=\"fill:#008000;stroke:#008000;\" x=\"516.178528\" xlink:href=\"#mc0de9bc74b\" y=\"59.795065\"/>\r\n     <use style=\"fill:#008000;stroke:#008000;\" x=\"526.531033\" xlink:href=\"#mc0de9bc74b\" y=\"52.735325\"/>\r\n     <use style=\"fill:#008000;stroke:#008000;\" x=\"536.883537\" xlink:href=\"#mc0de9bc74b\" y=\"45.675584\"/>\r\n     <use style=\"fill:#008000;stroke:#008000;\" x=\"547.236042\" xlink:href=\"#mc0de9bc74b\" y=\"38.615844\"/>\r\n     <use style=\"fill:#008000;stroke:#008000;\" x=\"557.588546\" xlink:href=\"#mc0de9bc74b\" y=\"31.556104\"/>\r\n     <use style=\"fill:#008000;stroke:#008000;\" x=\"567.941051\" xlink:href=\"#mc0de9bc74b\" y=\"24.496364\"/>\r\n    </g>\r\n   </g>\r\n   <g id=\"PathCollection_3\">\r\n    <defs>\r\n     <path d=\"M 0 3 \r\nC 0.795609 3 1.55874 2.683901 2.12132 2.12132 \r\nC 2.683901 1.55874 3 0.795609 3 0 \r\nC 3 -0.795609 2.683901 -1.55874 2.12132 -2.12132 \r\nC 1.55874 -2.683901 0.795609 -3 0 -3 \r\nC -0.795609 -3 -1.55874 -2.683901 -2.12132 -2.12132 \r\nC -2.683901 -1.55874 -3 -0.795609 -3 0 \r\nC -3 0.795609 -2.683901 1.55874 -2.12132 2.12132 \r\nC -1.55874 2.683901 -0.795609 3 0 3 \r\nz\r\n\" id=\"m1857a0cd93\" style=\"stroke:#ff0000;\"/>\r\n    </defs>\r\n    <g clip-path=\"url(#p17bba2e58a)\">\r\n     <use style=\"fill:#ff0000;stroke:#ff0000;\" x=\"474.768509\" xlink:href=\"#m1857a0cd93\" y=\"114.911273\"/>\r\n     <use style=\"fill:#ff0000;stroke:#ff0000;\" x=\"485.121014\" xlink:href=\"#m1857a0cd93\" y=\"108.653174\"/>\r\n     <use style=\"fill:#ff0000;stroke:#ff0000;\" x=\"495.473519\" xlink:href=\"#m1857a0cd93\" y=\"102.395076\"/>\r\n     <use style=\"fill:#ff0000;stroke:#ff0000;\" x=\"505.826023\" xlink:href=\"#m1857a0cd93\" y=\"96.13697\"/>\r\n     <use style=\"fill:#ff0000;stroke:#ff0000;\" x=\"516.178528\" xlink:href=\"#m1857a0cd93\" y=\"89.878878\"/>\r\n     <use style=\"fill:#ff0000;stroke:#ff0000;\" x=\"526.531033\" xlink:href=\"#m1857a0cd93\" y=\"83.620773\"/>\r\n     <use style=\"fill:#ff0000;stroke:#ff0000;\" x=\"536.883537\" xlink:href=\"#m1857a0cd93\" y=\"77.362681\"/>\r\n     <use style=\"fill:#ff0000;stroke:#ff0000;\" x=\"547.236042\" xlink:href=\"#m1857a0cd93\" y=\"71.104575\"/>\r\n     <use style=\"fill:#ff0000;stroke:#ff0000;\" x=\"557.588546\" xlink:href=\"#m1857a0cd93\" y=\"64.84647\"/>\r\n     <use style=\"fill:#ff0000;stroke:#ff0000;\" x=\"567.941051\" xlink:href=\"#m1857a0cd93\" y=\"58.588378\"/>\r\n    </g>\r\n   </g>\r\n   <g id=\"matplotlib.axis_1\">\r\n    <g id=\"xtick_1\">\r\n     <g id=\"line2d_1\">\r\n      <defs>\r\n       <path d=\"M 0 0 \r\nL 0 3.5 \r\n\" id=\"m9b51d7ec56\" style=\"stroke:#000000;stroke-width:0.8;\"/>\r\n      </defs>\r\n      <g>\r\n       <use style=\"stroke:#000000;stroke-width:0.8;\" x=\"60.668324\" xlink:href=\"#m9b51d7ec56\" y=\"387.72\"/>\r\n      </g>\r\n     </g>\r\n     <g id=\"text_1\">\r\n      <!-- −100 -->\r\n      <g transform=\"translate(46.93473 402.318437)scale(0.1 -0.1)\">\r\n       <defs>\r\n        <path d=\"M 678 2272 \r\nL 4684 2272 \r\nL 4684 1741 \r\nL 678 1741 \r\nL 678 2272 \r\nz\r\n\" id=\"DejaVuSans-2212\" transform=\"scale(0.015625)\"/>\r\n        <path d=\"M 794 531 \r\nL 1825 531 \r\nL 1825 4091 \r\nL 703 3866 \r\nL 703 4441 \r\nL 1819 4666 \r\nL 2450 4666 \r\nL 2450 531 \r\nL 3481 531 \r\nL 3481 0 \r\nL 794 0 \r\nL 794 531 \r\nz\r\n\" id=\"DejaVuSans-31\" transform=\"scale(0.015625)\"/>\r\n        <path d=\"M 2034 4250 \r\nQ 1547 4250 1301 3770 \r\nQ 1056 3291 1056 2328 \r\nQ 1056 1369 1301 889 \r\nQ 1547 409 2034 409 \r\nQ 2525 409 2770 889 \r\nQ 3016 1369 3016 2328 \r\nQ 3016 3291 2770 3770 \r\nQ 2525 4250 2034 4250 \r\nz\r\nM 2034 4750 \r\nQ 2819 4750 3233 4129 \r\nQ 3647 3509 3647 2328 \r\nQ 3647 1150 3233 529 \r\nQ 2819 -91 2034 -91 \r\nQ 1250 -91 836 529 \r\nQ 422 1150 422 2328 \r\nQ 422 3509 836 4129 \r\nQ 1250 4750 2034 4750 \r\nz\r\n\" id=\"DejaVuSans-30\" transform=\"scale(0.015625)\"/>\r\n       </defs>\r\n       <use xlink:href=\"#DejaVuSans-2212\"/>\r\n       <use x=\"83.789062\" xlink:href=\"#DejaVuSans-31\"/>\r\n       <use x=\"147.412109\" xlink:href=\"#DejaVuSans-30\"/>\r\n       <use x=\"211.035156\" xlink:href=\"#DejaVuSans-30\"/>\r\n      </g>\r\n     </g>\r\n    </g>\r\n    <g id=\"xtick_2\">\r\n     <g id=\"line2d_2\">\r\n      <g>\r\n       <use style=\"stroke:#000000;stroke-width:0.8;\" x=\"125.371478\" xlink:href=\"#m9b51d7ec56\" y=\"387.72\"/>\r\n      </g>\r\n     </g>\r\n     <g id=\"text_2\">\r\n      <!-- −75 -->\r\n      <g transform=\"translate(114.819134 402.318437)scale(0.1 -0.1)\">\r\n       <defs>\r\n        <path d=\"M 525 4666 \r\nL 3525 4666 \r\nL 3525 4397 \r\nL 1831 0 \r\nL 1172 0 \r\nL 2766 4134 \r\nL 525 4134 \r\nL 525 4666 \r\nz\r\n\" id=\"DejaVuSans-37\" transform=\"scale(0.015625)\"/>\r\n        <path d=\"M 691 4666 \r\nL 3169 4666 \r\nL 3169 4134 \r\nL 1269 4134 \r\nL 1269 2991 \r\nQ 1406 3038 1543 3061 \r\nQ 1681 3084 1819 3084 \r\nQ 2600 3084 3056 2656 \r\nQ 3513 2228 3513 1497 \r\nQ 3513 744 3044 326 \r\nQ 2575 -91 1722 -91 \r\nQ 1428 -91 1123 -41 \r\nQ 819 9 494 109 \r\nL 494 744 \r\nQ 775 591 1075 516 \r\nQ 1375 441 1709 441 \r\nQ 2250 441 2565 725 \r\nQ 2881 1009 2881 1497 \r\nQ 2881 1984 2565 2268 \r\nQ 2250 2553 1709 2553 \r\nQ 1456 2553 1204 2497 \r\nQ 953 2441 691 2322 \r\nL 691 4666 \r\nz\r\n\" id=\"DejaVuSans-35\" transform=\"scale(0.015625)\"/>\r\n       </defs>\r\n       <use xlink:href=\"#DejaVuSans-2212\"/>\r\n       <use x=\"83.789062\" xlink:href=\"#DejaVuSans-37\"/>\r\n       <use x=\"147.412109\" xlink:href=\"#DejaVuSans-35\"/>\r\n      </g>\r\n     </g>\r\n    </g>\r\n    <g id=\"xtick_3\">\r\n     <g id=\"line2d_3\">\r\n      <g>\r\n       <use style=\"stroke:#000000;stroke-width:0.8;\" x=\"190.074632\" xlink:href=\"#m9b51d7ec56\" y=\"387.72\"/>\r\n      </g>\r\n     </g>\r\n     <g id=\"text_3\">\r\n      <!-- −50 -->\r\n      <g transform=\"translate(179.522288 402.318437)scale(0.1 -0.1)\">\r\n       <use xlink:href=\"#DejaVuSans-2212\"/>\r\n       <use x=\"83.789062\" xlink:href=\"#DejaVuSans-35\"/>\r\n       <use x=\"147.412109\" xlink:href=\"#DejaVuSans-30\"/>\r\n      </g>\r\n     </g>\r\n    </g>\r\n    <g id=\"xtick_4\">\r\n     <g id=\"line2d_4\">\r\n      <g>\r\n       <use style=\"stroke:#000000;stroke-width:0.8;\" x=\"254.777786\" xlink:href=\"#m9b51d7ec56\" y=\"387.72\"/>\r\n      </g>\r\n     </g>\r\n     <g id=\"text_4\">\r\n      <!-- −25 -->\r\n      <g transform=\"translate(244.225442 402.318437)scale(0.1 -0.1)\">\r\n       <defs>\r\n        <path d=\"M 1228 531 \r\nL 3431 531 \r\nL 3431 0 \r\nL 469 0 \r\nL 469 531 \r\nQ 828 903 1448 1529 \r\nQ 2069 2156 2228 2338 \r\nQ 2531 2678 2651 2914 \r\nQ 2772 3150 2772 3378 \r\nQ 2772 3750 2511 3984 \r\nQ 2250 4219 1831 4219 \r\nQ 1534 4219 1204 4116 \r\nQ 875 4013 500 3803 \r\nL 500 4441 \r\nQ 881 4594 1212 4672 \r\nQ 1544 4750 1819 4750 \r\nQ 2544 4750 2975 4387 \r\nQ 3406 4025 3406 3419 \r\nQ 3406 3131 3298 2873 \r\nQ 3191 2616 2906 2266 \r\nQ 2828 2175 2409 1742 \r\nQ 1991 1309 1228 531 \r\nz\r\n\" id=\"DejaVuSans-32\" transform=\"scale(0.015625)\"/>\r\n       </defs>\r\n       <use xlink:href=\"#DejaVuSans-2212\"/>\r\n       <use x=\"83.789062\" xlink:href=\"#DejaVuSans-32\"/>\r\n       <use x=\"147.412109\" xlink:href=\"#DejaVuSans-35\"/>\r\n      </g>\r\n     </g>\r\n    </g>\r\n    <g id=\"xtick_5\">\r\n     <g id=\"line2d_5\">\r\n      <g>\r\n       <use style=\"stroke:#000000;stroke-width:0.8;\" x=\"319.48094\" xlink:href=\"#m9b51d7ec56\" y=\"387.72\"/>\r\n      </g>\r\n     </g>\r\n     <g id=\"text_5\">\r\n      <!-- 0 -->\r\n      <g transform=\"translate(316.29969 402.318437)scale(0.1 -0.1)\">\r\n       <use xlink:href=\"#DejaVuSans-30\"/>\r\n      </g>\r\n     </g>\r\n    </g>\r\n    <g id=\"xtick_6\">\r\n     <g id=\"line2d_6\">\r\n      <g>\r\n       <use style=\"stroke:#000000;stroke-width:0.8;\" x=\"384.184094\" xlink:href=\"#m9b51d7ec56\" y=\"387.72\"/>\r\n      </g>\r\n     </g>\r\n     <g id=\"text_6\">\r\n      <!-- 25 -->\r\n      <g transform=\"translate(377.821594 402.318437)scale(0.1 -0.1)\">\r\n       <use xlink:href=\"#DejaVuSans-32\"/>\r\n       <use x=\"63.623047\" xlink:href=\"#DejaVuSans-35\"/>\r\n      </g>\r\n     </g>\r\n    </g>\r\n    <g id=\"xtick_7\">\r\n     <g id=\"line2d_7\">\r\n      <g>\r\n       <use style=\"stroke:#000000;stroke-width:0.8;\" x=\"448.887248\" xlink:href=\"#m9b51d7ec56\" y=\"387.72\"/>\r\n      </g>\r\n     </g>\r\n     <g id=\"text_7\">\r\n      <!-- 50 -->\r\n      <g transform=\"translate(442.524748 402.318437)scale(0.1 -0.1)\">\r\n       <use xlink:href=\"#DejaVuSans-35\"/>\r\n       <use x=\"63.623047\" xlink:href=\"#DejaVuSans-30\"/>\r\n      </g>\r\n     </g>\r\n    </g>\r\n    <g id=\"xtick_8\">\r\n     <g id=\"line2d_8\">\r\n      <g>\r\n       <use style=\"stroke:#000000;stroke-width:0.8;\" x=\"513.590402\" xlink:href=\"#m9b51d7ec56\" y=\"387.72\"/>\r\n      </g>\r\n     </g>\r\n     <g id=\"text_8\">\r\n      <!-- 75 -->\r\n      <g transform=\"translate(507.227902 402.318437)scale(0.1 -0.1)\">\r\n       <use xlink:href=\"#DejaVuSans-37\"/>\r\n       <use x=\"63.623047\" xlink:href=\"#DejaVuSans-35\"/>\r\n      </g>\r\n     </g>\r\n    </g>\r\n    <g id=\"xtick_9\">\r\n     <g id=\"line2d_9\">\r\n      <g>\r\n       <use style=\"stroke:#000000;stroke-width:0.8;\" x=\"578.293556\" xlink:href=\"#m9b51d7ec56\" y=\"387.72\"/>\r\n      </g>\r\n     </g>\r\n     <g id=\"text_9\">\r\n      <!-- 100 -->\r\n      <g transform=\"translate(568.749806 402.318437)scale(0.1 -0.1)\">\r\n       <use xlink:href=\"#DejaVuSans-31\"/>\r\n       <use x=\"63.623047\" xlink:href=\"#DejaVuSans-30\"/>\r\n       <use x=\"127.246094\" xlink:href=\"#DejaVuSans-30\"/>\r\n      </g>\r\n     </g>\r\n    </g>\r\n   </g>\r\n   <g id=\"matplotlib.axis_2\">\r\n    <g id=\"ytick_1\">\r\n     <g id=\"line2d_10\">\r\n      <defs>\r\n       <path d=\"M 0 0 \r\nL -3.5 0 \r\n\" id=\"mc707a7759b\" style=\"stroke:#000000;stroke-width:0.8;\"/>\r\n      </defs>\r\n      <g>\r\n       <use style=\"stroke:#000000;stroke-width:0.8;\" x=\"35.304688\" xlink:href=\"#mc707a7759b\" y=\"343.94961\"/>\r\n      </g>\r\n     </g>\r\n     <g id=\"text_10\">\r\n      <!-- −75 -->\r\n      <g transform=\"translate(7.2 347.748829)scale(0.1 -0.1)\">\r\n       <use xlink:href=\"#DejaVuSans-2212\"/>\r\n       <use x=\"83.789062\" xlink:href=\"#DejaVuSans-37\"/>\r\n       <use x=\"147.412109\" xlink:href=\"#DejaVuSans-35\"/>\r\n      </g>\r\n     </g>\r\n    </g>\r\n    <g id=\"ytick_2\">\r\n     <g id=\"line2d_11\">\r\n      <g>\r\n       <use style=\"stroke:#000000;stroke-width:0.8;\" x=\"35.304688\" xlink:href=\"#mc707a7759b\" y=\"299.826234\"/>\r\n      </g>\r\n     </g>\r\n     <g id=\"text_11\">\r\n      <!-- −50 -->\r\n      <g transform=\"translate(7.2 303.625453)scale(0.1 -0.1)\">\r\n       <use xlink:href=\"#DejaVuSans-2212\"/>\r\n       <use x=\"83.789062\" xlink:href=\"#DejaVuSans-35\"/>\r\n       <use x=\"147.412109\" xlink:href=\"#DejaVuSans-30\"/>\r\n      </g>\r\n     </g>\r\n    </g>\r\n    <g id=\"ytick_3\">\r\n     <g id=\"line2d_12\">\r\n      <g>\r\n       <use style=\"stroke:#000000;stroke-width:0.8;\" x=\"35.304688\" xlink:href=\"#mc707a7759b\" y=\"255.702857\"/>\r\n      </g>\r\n     </g>\r\n     <g id=\"text_12\">\r\n      <!-- −25 -->\r\n      <g transform=\"translate(7.2 259.502076)scale(0.1 -0.1)\">\r\n       <use xlink:href=\"#DejaVuSans-2212\"/>\r\n       <use x=\"83.789062\" xlink:href=\"#DejaVuSans-32\"/>\r\n       <use x=\"147.412109\" xlink:href=\"#DejaVuSans-35\"/>\r\n      </g>\r\n     </g>\r\n    </g>\r\n    <g id=\"ytick_4\">\r\n     <g id=\"line2d_13\">\r\n      <g>\r\n       <use style=\"stroke:#000000;stroke-width:0.8;\" x=\"35.304688\" xlink:href=\"#mc707a7759b\" y=\"211.579481\"/>\r\n      </g>\r\n     </g>\r\n     <g id=\"text_13\">\r\n      <!-- 0 -->\r\n      <g transform=\"translate(21.942187 215.378699)scale(0.1 -0.1)\">\r\n       <use xlink:href=\"#DejaVuSans-30\"/>\r\n      </g>\r\n     </g>\r\n    </g>\r\n    <g id=\"ytick_5\">\r\n     <g id=\"line2d_14\">\r\n      <g>\r\n       <use style=\"stroke:#000000;stroke-width:0.8;\" x=\"35.304688\" xlink:href=\"#mc707a7759b\" y=\"167.456104\"/>\r\n      </g>\r\n     </g>\r\n     <g id=\"text_14\">\r\n      <!-- 25 -->\r\n      <g transform=\"translate(15.579687 171.255323)scale(0.1 -0.1)\">\r\n       <use xlink:href=\"#DejaVuSans-32\"/>\r\n       <use x=\"63.623047\" xlink:href=\"#DejaVuSans-35\"/>\r\n      </g>\r\n     </g>\r\n    </g>\r\n    <g id=\"ytick_6\">\r\n     <g id=\"line2d_15\">\r\n      <g>\r\n       <use style=\"stroke:#000000;stroke-width:0.8;\" x=\"35.304688\" xlink:href=\"#mc707a7759b\" y=\"123.332727\"/>\r\n      </g>\r\n     </g>\r\n     <g id=\"text_15\">\r\n      <!-- 50 -->\r\n      <g transform=\"translate(15.579687 127.131946)scale(0.1 -0.1)\">\r\n       <use xlink:href=\"#DejaVuSans-35\"/>\r\n       <use x=\"63.623047\" xlink:href=\"#DejaVuSans-30\"/>\r\n      </g>\r\n     </g>\r\n    </g>\r\n    <g id=\"ytick_7\">\r\n     <g id=\"line2d_16\">\r\n      <g>\r\n       <use style=\"stroke:#000000;stroke-width:0.8;\" x=\"35.304688\" xlink:href=\"#mc707a7759b\" y=\"79.209351\"/>\r\n      </g>\r\n     </g>\r\n     <g id=\"text_16\">\r\n      <!-- 75 -->\r\n      <g transform=\"translate(15.579687 83.008569)scale(0.1 -0.1)\">\r\n       <use xlink:href=\"#DejaVuSans-37\"/>\r\n       <use x=\"63.623047\" xlink:href=\"#DejaVuSans-35\"/>\r\n      </g>\r\n     </g>\r\n    </g>\r\n    <g id=\"ytick_8\">\r\n     <g id=\"line2d_17\">\r\n      <g>\r\n       <use style=\"stroke:#000000;stroke-width:0.8;\" x=\"35.304688\" xlink:href=\"#mc707a7759b\" y=\"35.085974\"/>\r\n      </g>\r\n     </g>\r\n     <g id=\"text_17\">\r\n      <!-- 100 -->\r\n      <g transform=\"translate(9.217187 38.885193)scale(0.1 -0.1)\">\r\n       <use xlink:href=\"#DejaVuSans-31\"/>\r\n       <use x=\"63.623047\" xlink:href=\"#DejaVuSans-30\"/>\r\n       <use x=\"127.246094\" xlink:href=\"#DejaVuSans-30\"/>\r\n      </g>\r\n     </g>\r\n    </g>\r\n   </g>\r\n   <g id=\"patch_3\">\r\n    <path d=\"M 35.304688 387.72 \r\nL 35.304688 7.2 \r\n\" style=\"fill:none;stroke:#000000;stroke-linecap:square;stroke-linejoin:miter;stroke-width:0.8;\"/>\r\n   </g>\r\n   <g id=\"patch_4\">\r\n    <path d=\"M 593.304688 387.72 \r\nL 593.304688 7.2 \r\n\" style=\"fill:none;stroke:#000000;stroke-linecap:square;stroke-linejoin:miter;stroke-width:0.8;\"/>\r\n   </g>\r\n   <g id=\"patch_5\">\r\n    <path d=\"M 35.304688 387.72 \r\nL 593.304688 387.72 \r\n\" style=\"fill:none;stroke:#000000;stroke-linecap:square;stroke-linejoin:miter;stroke-width:0.8;\"/>\r\n   </g>\r\n   <g id=\"patch_6\">\r\n    <path d=\"M 35.304688 7.2 \r\nL 593.304688 7.2 \r\n\" style=\"fill:none;stroke:#000000;stroke-linecap:square;stroke-linejoin:miter;stroke-width:0.8;\"/>\r\n   </g>\r\n   <g id=\"legend_1\">\r\n    <g id=\"patch_7\">\r\n     <path d=\"M 42.304688 59.234375 \r\nL 140.810938 59.234375 \r\nQ 142.810938 59.234375 142.810938 57.234375 \r\nL 142.810938 14.2 \r\nQ 142.810938 12.2 140.810938 12.2 \r\nL 42.304688 12.2 \r\nQ 40.304688 12.2 40.304688 14.2 \r\nL 40.304688 57.234375 \r\nQ 40.304688 59.234375 42.304688 59.234375 \r\nz\r\n\" style=\"fill:#ffffff;opacity:0.8;stroke:#cccccc;stroke-linejoin:miter;\"/>\r\n    </g>\r\n    <g id=\"PathCollection_4\">\r\n     <g>\r\n      <use style=\"fill:#0000ff;stroke:#0000ff;\" x=\"54.304688\" xlink:href=\"#m898ef38fb9\" y=\"21.173437\"/>\r\n     </g>\r\n    </g>\r\n    <g id=\"text_18\">\r\n     <!-- Training Data -->\r\n     <g transform=\"translate(72.304688 23.798437)scale(0.1 -0.1)\">\r\n      <defs>\r\n       <path d=\"M -19 4666 \r\nL 3928 4666 \r\nL 3928 4134 \r\nL 2272 4134 \r\nL 2272 0 \r\nL 1638 0 \r\nL 1638 4134 \r\nL -19 4134 \r\nL -19 4666 \r\nz\r\n\" id=\"DejaVuSans-54\" transform=\"scale(0.015625)\"/>\r\n       <path d=\"M 2631 2963 \r\nQ 2534 3019 2420 3045 \r\nQ 2306 3072 2169 3072 \r\nQ 1681 3072 1420 2755 \r\nQ 1159 2438 1159 1844 \r\nL 1159 0 \r\nL 581 0 \r\nL 581 3500 \r\nL 1159 3500 \r\nL 1159 2956 \r\nQ 1341 3275 1631 3429 \r\nQ 1922 3584 2338 3584 \r\nQ 2397 3584 2469 3576 \r\nQ 2541 3569 2628 3553 \r\nL 2631 2963 \r\nz\r\n\" id=\"DejaVuSans-72\" transform=\"scale(0.015625)\"/>\r\n       <path d=\"M 2194 1759 \r\nQ 1497 1759 1228 1600 \r\nQ 959 1441 959 1056 \r\nQ 959 750 1161 570 \r\nQ 1363 391 1709 391 \r\nQ 2188 391 2477 730 \r\nQ 2766 1069 2766 1631 \r\nL 2766 1759 \r\nL 2194 1759 \r\nz\r\nM 3341 1997 \r\nL 3341 0 \r\nL 2766 0 \r\nL 2766 531 \r\nQ 2569 213 2275 61 \r\nQ 1981 -91 1556 -91 \r\nQ 1019 -91 701 211 \r\nQ 384 513 384 1019 \r\nQ 384 1609 779 1909 \r\nQ 1175 2209 1959 2209 \r\nL 2766 2209 \r\nL 2766 2266 \r\nQ 2766 2663 2505 2880 \r\nQ 2244 3097 1772 3097 \r\nQ 1472 3097 1187 3025 \r\nQ 903 2953 641 2809 \r\nL 641 3341 \r\nQ 956 3463 1253 3523 \r\nQ 1550 3584 1831 3584 \r\nQ 2591 3584 2966 3190 \r\nQ 3341 2797 3341 1997 \r\nz\r\n\" id=\"DejaVuSans-61\" transform=\"scale(0.015625)\"/>\r\n       <path d=\"M 603 3500 \r\nL 1178 3500 \r\nL 1178 0 \r\nL 603 0 \r\nL 603 3500 \r\nz\r\nM 603 4863 \r\nL 1178 4863 \r\nL 1178 4134 \r\nL 603 4134 \r\nL 603 4863 \r\nz\r\n\" id=\"DejaVuSans-69\" transform=\"scale(0.015625)\"/>\r\n       <path d=\"M 3513 2113 \r\nL 3513 0 \r\nL 2938 0 \r\nL 2938 2094 \r\nQ 2938 2591 2744 2837 \r\nQ 2550 3084 2163 3084 \r\nQ 1697 3084 1428 2787 \r\nQ 1159 2491 1159 1978 \r\nL 1159 0 \r\nL 581 0 \r\nL 581 3500 \r\nL 1159 3500 \r\nL 1159 2956 \r\nQ 1366 3272 1645 3428 \r\nQ 1925 3584 2291 3584 \r\nQ 2894 3584 3203 3211 \r\nQ 3513 2838 3513 2113 \r\nz\r\n\" id=\"DejaVuSans-6e\" transform=\"scale(0.015625)\"/>\r\n       <path d=\"M 2906 1791 \r\nQ 2906 2416 2648 2759 \r\nQ 2391 3103 1925 3103 \r\nQ 1463 3103 1205 2759 \r\nQ 947 2416 947 1791 \r\nQ 947 1169 1205 825 \r\nQ 1463 481 1925 481 \r\nQ 2391 481 2648 825 \r\nQ 2906 1169 2906 1791 \r\nz\r\nM 3481 434 \r\nQ 3481 -459 3084 -895 \r\nQ 2688 -1331 1869 -1331 \r\nQ 1566 -1331 1297 -1286 \r\nQ 1028 -1241 775 -1147 \r\nL 775 -588 \r\nQ 1028 -725 1275 -790 \r\nQ 1522 -856 1778 -856 \r\nQ 2344 -856 2625 -561 \r\nQ 2906 -266 2906 331 \r\nL 2906 616 \r\nQ 2728 306 2450 153 \r\nQ 2172 0 1784 0 \r\nQ 1141 0 747 490 \r\nQ 353 981 353 1791 \r\nQ 353 2603 747 3093 \r\nQ 1141 3584 1784 3584 \r\nQ 2172 3584 2450 3431 \r\nQ 2728 3278 2906 2969 \r\nL 2906 3500 \r\nL 3481 3500 \r\nL 3481 434 \r\nz\r\n\" id=\"DejaVuSans-67\" transform=\"scale(0.015625)\"/>\r\n       <path id=\"DejaVuSans-20\" transform=\"scale(0.015625)\"/>\r\n       <path d=\"M 1259 4147 \r\nL 1259 519 \r\nL 2022 519 \r\nQ 2988 519 3436 956 \r\nQ 3884 1394 3884 2338 \r\nQ 3884 3275 3436 3711 \r\nQ 2988 4147 2022 4147 \r\nL 1259 4147 \r\nz\r\nM 628 4666 \r\nL 1925 4666 \r\nQ 3281 4666 3915 4102 \r\nQ 4550 3538 4550 2338 \r\nQ 4550 1131 3912 565 \r\nQ 3275 0 1925 0 \r\nL 628 0 \r\nL 628 4666 \r\nz\r\n\" id=\"DejaVuSans-44\" transform=\"scale(0.015625)\"/>\r\n       <path d=\"M 1172 4494 \r\nL 1172 3500 \r\nL 2356 3500 \r\nL 2356 3053 \r\nL 1172 3053 \r\nL 1172 1153 \r\nQ 1172 725 1289 603 \r\nQ 1406 481 1766 481 \r\nL 2356 481 \r\nL 2356 0 \r\nL 1766 0 \r\nQ 1100 0 847 248 \r\nQ 594 497 594 1153 \r\nL 594 3053 \r\nL 172 3053 \r\nL 172 3500 \r\nL 594 3500 \r\nL 594 4494 \r\nL 1172 4494 \r\nz\r\n\" id=\"DejaVuSans-74\" transform=\"scale(0.015625)\"/>\r\n      </defs>\r\n      <use xlink:href=\"#DejaVuSans-54\"/>\r\n      <use x=\"46.333984\" xlink:href=\"#DejaVuSans-72\"/>\r\n      <use x=\"87.447266\" xlink:href=\"#DejaVuSans-61\"/>\r\n      <use x=\"148.726562\" xlink:href=\"#DejaVuSans-69\"/>\r\n      <use x=\"176.509766\" xlink:href=\"#DejaVuSans-6e\"/>\r\n      <use x=\"239.888672\" xlink:href=\"#DejaVuSans-69\"/>\r\n      <use x=\"267.671875\" xlink:href=\"#DejaVuSans-6e\"/>\r\n      <use x=\"331.050781\" xlink:href=\"#DejaVuSans-67\"/>\r\n      <use x=\"394.527344\" xlink:href=\"#DejaVuSans-20\"/>\r\n      <use x=\"426.314453\" xlink:href=\"#DejaVuSans-44\"/>\r\n      <use x=\"503.316406\" xlink:href=\"#DejaVuSans-61\"/>\r\n      <use x=\"564.595703\" xlink:href=\"#DejaVuSans-74\"/>\r\n      <use x=\"603.804688\" xlink:href=\"#DejaVuSans-61\"/>\r\n     </g>\r\n    </g>\r\n    <g id=\"PathCollection_5\">\r\n     <g>\r\n      <use style=\"fill:#008000;stroke:#008000;\" x=\"54.304688\" xlink:href=\"#mc0de9bc74b\" y=\"35.851562\"/>\r\n     </g>\r\n    </g>\r\n    <g id=\"text_19\">\r\n     <!-- Testing data -->\r\n     <g transform=\"translate(72.304688 38.476562)scale(0.1 -0.1)\">\r\n      <defs>\r\n       <path d=\"M 3597 1894 \r\nL 3597 1613 \r\nL 953 1613 \r\nQ 991 1019 1311 708 \r\nQ 1631 397 2203 397 \r\nQ 2534 397 2845 478 \r\nQ 3156 559 3463 722 \r\nL 3463 178 \r\nQ 3153 47 2828 -22 \r\nQ 2503 -91 2169 -91 \r\nQ 1331 -91 842 396 \r\nQ 353 884 353 1716 \r\nQ 353 2575 817 3079 \r\nQ 1281 3584 2069 3584 \r\nQ 2775 3584 3186 3129 \r\nQ 3597 2675 3597 1894 \r\nz\r\nM 3022 2063 \r\nQ 3016 2534 2758 2815 \r\nQ 2500 3097 2075 3097 \r\nQ 1594 3097 1305 2825 \r\nQ 1016 2553 972 2059 \r\nL 3022 2063 \r\nz\r\n\" id=\"DejaVuSans-65\" transform=\"scale(0.015625)\"/>\r\n       <path d=\"M 2834 3397 \r\nL 2834 2853 \r\nQ 2591 2978 2328 3040 \r\nQ 2066 3103 1784 3103 \r\nQ 1356 3103 1142 2972 \r\nQ 928 2841 928 2578 \r\nQ 928 2378 1081 2264 \r\nQ 1234 2150 1697 2047 \r\nL 1894 2003 \r\nQ 2506 1872 2764 1633 \r\nQ 3022 1394 3022 966 \r\nQ 3022 478 2636 193 \r\nQ 2250 -91 1575 -91 \r\nQ 1294 -91 989 -36 \r\nQ 684 19 347 128 \r\nL 347 722 \r\nQ 666 556 975 473 \r\nQ 1284 391 1588 391 \r\nQ 1994 391 2212 530 \r\nQ 2431 669 2431 922 \r\nQ 2431 1156 2273 1281 \r\nQ 2116 1406 1581 1522 \r\nL 1381 1569 \r\nQ 847 1681 609 1914 \r\nQ 372 2147 372 2553 \r\nQ 372 3047 722 3315 \r\nQ 1072 3584 1716 3584 \r\nQ 2034 3584 2315 3537 \r\nQ 2597 3491 2834 3397 \r\nz\r\n\" id=\"DejaVuSans-73\" transform=\"scale(0.015625)\"/>\r\n       <path d=\"M 2906 2969 \r\nL 2906 4863 \r\nL 3481 4863 \r\nL 3481 0 \r\nL 2906 0 \r\nL 2906 525 \r\nQ 2725 213 2448 61 \r\nQ 2172 -91 1784 -91 \r\nQ 1150 -91 751 415 \r\nQ 353 922 353 1747 \r\nQ 353 2572 751 3078 \r\nQ 1150 3584 1784 3584 \r\nQ 2172 3584 2448 3432 \r\nQ 2725 3281 2906 2969 \r\nz\r\nM 947 1747 \r\nQ 947 1113 1208 752 \r\nQ 1469 391 1925 391 \r\nQ 2381 391 2643 752 \r\nQ 2906 1113 2906 1747 \r\nQ 2906 2381 2643 2742 \r\nQ 2381 3103 1925 3103 \r\nQ 1469 3103 1208 2742 \r\nQ 947 2381 947 1747 \r\nz\r\n\" id=\"DejaVuSans-64\" transform=\"scale(0.015625)\"/>\r\n      </defs>\r\n      <use xlink:href=\"#DejaVuSans-54\"/>\r\n      <use x=\"44.083984\" xlink:href=\"#DejaVuSans-65\"/>\r\n      <use x=\"105.607422\" xlink:href=\"#DejaVuSans-73\"/>\r\n      <use x=\"157.707031\" xlink:href=\"#DejaVuSans-74\"/>\r\n      <use x=\"196.916016\" xlink:href=\"#DejaVuSans-69\"/>\r\n      <use x=\"224.699219\" xlink:href=\"#DejaVuSans-6e\"/>\r\n      <use x=\"288.078125\" xlink:href=\"#DejaVuSans-67\"/>\r\n      <use x=\"351.554688\" xlink:href=\"#DejaVuSans-20\"/>\r\n      <use x=\"383.341797\" xlink:href=\"#DejaVuSans-64\"/>\r\n      <use x=\"446.818359\" xlink:href=\"#DejaVuSans-61\"/>\r\n      <use x=\"508.097656\" xlink:href=\"#DejaVuSans-74\"/>\r\n      <use x=\"547.306641\" xlink:href=\"#DejaVuSans-61\"/>\r\n     </g>\r\n    </g>\r\n    <g id=\"PathCollection_6\">\r\n     <g>\r\n      <use style=\"fill:#ff0000;stroke:#ff0000;\" x=\"54.304688\" xlink:href=\"#m1857a0cd93\" y=\"50.529687\"/>\r\n     </g>\r\n    </g>\r\n    <g id=\"text_20\">\r\n     <!-- Predictions -->\r\n     <g transform=\"translate(72.304688 53.154687)scale(0.1 -0.1)\">\r\n      <defs>\r\n       <path d=\"M 1259 4147 \r\nL 1259 2394 \r\nL 2053 2394 \r\nQ 2494 2394 2734 2622 \r\nQ 2975 2850 2975 3272 \r\nQ 2975 3691 2734 3919 \r\nQ 2494 4147 2053 4147 \r\nL 1259 4147 \r\nz\r\nM 628 4666 \r\nL 2053 4666 \r\nQ 2838 4666 3239 4311 \r\nQ 3641 3956 3641 3272 \r\nQ 3641 2581 3239 2228 \r\nQ 2838 1875 2053 1875 \r\nL 1259 1875 \r\nL 1259 0 \r\nL 628 0 \r\nL 628 4666 \r\nz\r\n\" id=\"DejaVuSans-50\" transform=\"scale(0.015625)\"/>\r\n       <path d=\"M 3122 3366 \r\nL 3122 2828 \r\nQ 2878 2963 2633 3030 \r\nQ 2388 3097 2138 3097 \r\nQ 1578 3097 1268 2742 \r\nQ 959 2388 959 1747 \r\nQ 959 1106 1268 751 \r\nQ 1578 397 2138 397 \r\nQ 2388 397 2633 464 \r\nQ 2878 531 3122 666 \r\nL 3122 134 \r\nQ 2881 22 2623 -34 \r\nQ 2366 -91 2075 -91 \r\nQ 1284 -91 818 406 \r\nQ 353 903 353 1747 \r\nQ 353 2603 823 3093 \r\nQ 1294 3584 2113 3584 \r\nQ 2378 3584 2631 3529 \r\nQ 2884 3475 3122 3366 \r\nz\r\n\" id=\"DejaVuSans-63\" transform=\"scale(0.015625)\"/>\r\n       <path d=\"M 1959 3097 \r\nQ 1497 3097 1228 2736 \r\nQ 959 2375 959 1747 \r\nQ 959 1119 1226 758 \r\nQ 1494 397 1959 397 \r\nQ 2419 397 2687 759 \r\nQ 2956 1122 2956 1747 \r\nQ 2956 2369 2687 2733 \r\nQ 2419 3097 1959 3097 \r\nz\r\nM 1959 3584 \r\nQ 2709 3584 3137 3096 \r\nQ 3566 2609 3566 1747 \r\nQ 3566 888 3137 398 \r\nQ 2709 -91 1959 -91 \r\nQ 1206 -91 779 398 \r\nQ 353 888 353 1747 \r\nQ 353 2609 779 3096 \r\nQ 1206 3584 1959 3584 \r\nz\r\n\" id=\"DejaVuSans-6f\" transform=\"scale(0.015625)\"/>\r\n      </defs>\r\n      <use xlink:href=\"#DejaVuSans-50\"/>\r\n      <use x=\"58.552734\" xlink:href=\"#DejaVuSans-72\"/>\r\n      <use x=\"97.416016\" xlink:href=\"#DejaVuSans-65\"/>\r\n      <use x=\"158.939453\" xlink:href=\"#DejaVuSans-64\"/>\r\n      <use x=\"222.416016\" xlink:href=\"#DejaVuSans-69\"/>\r\n      <use x=\"250.199219\" xlink:href=\"#DejaVuSans-63\"/>\r\n      <use x=\"305.179688\" xlink:href=\"#DejaVuSans-74\"/>\r\n      <use x=\"344.388672\" xlink:href=\"#DejaVuSans-69\"/>\r\n      <use x=\"372.171875\" xlink:href=\"#DejaVuSans-6f\"/>\r\n      <use x=\"433.353516\" xlink:href=\"#DejaVuSans-6e\"/>\r\n      <use x=\"496.732422\" xlink:href=\"#DejaVuSans-73\"/>\r\n     </g>\r\n    </g>\r\n   </g>\r\n  </g>\r\n </g>\r\n <defs>\r\n  <clipPath id=\"p17bba2e58a\">\r\n   <rect height=\"380.52\" width=\"558\" x=\"35.304688\" y=\"7.2\"/>\r\n  </clipPath>\r\n </defs>\r\n</svg>\r\n",
      "image/png": "[encoded data removed]"
     },
     "metadata": {
      "needs_background": "light"
     }
    }
   ],
   "source": [
    "plot_predictions(\n",
    "    train_data = X_train,\n",
    "    train_labels = y_train,\n",
    "    test_data = X_test,\n",
    "    test_labels = y_test,\n",
    "    prediction = y_predicts\n",
    ")"
   ]
  },
  {
   "source": [
    "### 모델의 결과를 시각화하는 것도 중요하지만 metric을 확인하는도 모델을 평가하는데 도움이 된다"
   ],
   "cell_type": "markdown",
   "metadata": {}
  },
  {
   "cell_type": "code",
   "execution_count": 67,
   "metadata": {},
   "outputs": [
    {
     "output_type": "stream",
     "name": "stdout",
     "text": [
      "1/1 [==============================] - 0s 108ms/step - loss: 17.2724 - mae: 17.2724\n"
     ]
    },
    {
     "output_type": "execute_result",
     "data": {
      "text/plain": [
       "[17.272380828857422, 17.272380828857422]"
      ]
     },
     "metadata": {},
     "execution_count": 67
    }
   ],
   "source": [
    "model.evaluate(X_test, y_test)"
   ]
  },
  {
   "source": [
    "## regression(회귀) 문제에서 주로 많이 사용하는 지표 2가지\n",
    "**1. Mean absolute error (MAE)** : 실제값과 예측값의 차이의 평균\n",
    "\n",
    "**2. Mean squared error (MSE)** : 실제값과 예측값의 차이의 제곱의 평균\n",
    "\n",
    "tensorflow의 model.evaluate()는 모델의 손실 함수의 값 뿐만 아니라 metric까지 반환해준다!"
   ],
   "cell_type": "markdown",
   "metadata": {}
  },
  {
   "cell_type": "code",
   "execution_count": 69,
   "metadata": {},
   "outputs": [
    {
     "output_type": "execute_result",
     "data": {
      "text/plain": [
       "<tf.Tensor: shape=(10,), dtype=float32, numpy=\n",
       "array([33.228462, 29.682667, 26.136871, 22.591072, 19.04528 , 15.999585,\n",
       "       13.572214, 11.763156, 10.572418, 10.      ], dtype=float32)>"
      ]
     },
     "metadata": {},
     "execution_count": 69
    }
   ],
   "source": [
    "mae = tf.metrics.mean_absolute_error(\n",
    "    y_true = y_test,\n",
    "    y_pred = y_predicts\n",
    ")\n",
    "mae"
   ]
  },
  {
   "cell_type": "code",
   "execution_count": 70,
   "metadata": {},
   "outputs": [
    {
     "output_type": "execute_result",
     "data": {
      "text/plain": [
       "(array([ 70,  74,  78,  82,  86,  90,  94,  98, 102, 106]),\n",
       " array([[54.771538],\n",
       "        [58.317333],\n",
       "        [61.86313 ],\n",
       "        [65.40893 ],\n",
       "        [68.95472 ],\n",
       "        [72.50052 ],\n",
       "        [76.04631 ],\n",
       "        [79.59211 ],\n",
       "        [83.13791 ],\n",
       "        [86.6837  ]], dtype=float32))"
      ]
     },
     "metadata": {},
     "execution_count": 70
    }
   ],
   "source": [
    "y_test, y_predicts"
   ]
  },
  {
   "cell_type": "code",
   "execution_count": 71,
   "metadata": {},
   "outputs": [
    {
     "output_type": "execute_result",
     "data": {
      "text/plain": [
       "((10,), (10, 1))"
      ]
     },
     "metadata": {},
     "execution_count": 71
    }
   ],
   "source": [
    "y_test.shape, y_predicts.shape"
   ]
  },
  {
   "cell_type": "code",
   "execution_count": 72,
   "metadata": {},
   "outputs": [
    {
     "output_type": "execute_result",
     "data": {
      "text/plain": [
       "(10,)"
      ]
     },
     "metadata": {},
     "execution_count": 72
    }
   ],
   "source": [
    "y_predicts.squeeze().shape"
   ]
  },
  {
   "cell_type": "code",
   "execution_count": 73,
   "metadata": {},
   "outputs": [
    {
     "output_type": "execute_result",
     "data": {
      "text/plain": [
       "(array([ 70,  74,  78,  82,  86,  90,  94,  98, 102, 106]),\n",
       " array([54.771538, 58.317333, 61.86313 , 65.40893 , 68.95472 , 72.50052 ,\n",
       "        76.04631 , 79.59211 , 83.13791 , 86.6837  ], dtype=float32))"
      ]
     },
     "metadata": {},
     "execution_count": 73
    }
   ],
   "source": [
    "y_test, y_predicts.squeeze()"
   ]
  },
  {
   "cell_type": "code",
   "execution_count": 74,
   "metadata": {},
   "outputs": [
    {
     "output_type": "execute_result",
     "data": {
      "text/plain": [
       "((10,), (10,))"
      ]
     },
     "metadata": {},
     "execution_count": 74
    }
   ],
   "source": [
    "y_test.shape, y_predicts.squeeze().shape"
   ]
  },
  {
   "cell_type": "code",
   "execution_count": 75,
   "metadata": {},
   "outputs": [
    {
     "output_type": "execute_result",
     "data": {
      "text/plain": [
       "<tf.Tensor: shape=(), dtype=float32, numpy=17.27238>"
      ]
     },
     "metadata": {},
     "execution_count": 75
    }
   ],
   "source": [
    "# MAE 구하기\n",
    "mae = tf.metrics.mean_absolute_error(\n",
    "    y_true = y_test,\n",
    "    y_pred = y_predicts.squeeze()\n",
    ")\n",
    "mae"
   ]
  },
  {
   "cell_type": "code",
   "execution_count": 76,
   "metadata": {},
   "outputs": [
    {
     "output_type": "execute_result",
     "data": {
      "text/plain": [
       "<tf.Tensor: shape=(), dtype=float32, numpy=300.0371>"
      ]
     },
     "metadata": {},
     "execution_count": 76
    }
   ],
   "source": [
    "# MSE 구하기\n",
    "mse = tf.metrics.mean_squared_error(\n",
    "    y_true = y_test,\n",
    "    y_pred = y_predicts.squeeze()\n",
    ")\n",
    "mse"
   ]
  },
  {
   "cell_type": "code",
   "execution_count": 77,
   "metadata": {},
   "outputs": [
    {
     "output_type": "execute_result",
     "data": {
      "text/plain": [
       "<tf.Tensor: shape=(), dtype=float64, numpy=17.272380447387697>"
      ]
     },
     "metadata": {},
     "execution_count": 77
    }
   ],
   "source": [
    "tf.reduce_mean(tf.abs(y_test - y_predicts.squeeze()))"
   ]
  },
  {
   "cell_type": "code",
   "execution_count": 78,
   "metadata": {},
   "outputs": [],
   "source": [
    "def mae(y_test, y_predicts):\n",
    "    return tf.metrics.mean_absolute_error(y_test, y_predicts)\n",
    "\n",
    "def mse(y_test, y_predicts):\n",
    "    return tf.metrics.mean_squared_error(y_test, y_predicts)"
   ]
  },
  {
   "source": [
    "## 모델이 평가한 예측도 살펴보고, metric도 평가해 본 후에 우리는 개선하기를 원합니다.\n",
    "\n",
    "### 개선시 주로 활용할 수 있는 3가지 방법\n",
    "**1. 더 많은 데이터** : 모델이 학습할 데이터를 주면 줄 수록 모델이 패턴을 찾을 기회는 많아진다\n",
    "\n",
    "**2. 모델을 더 확장 (좀더 고급 모델로 만든다)** : 레이어를 추가하거나, 각 레이어를 이루는 neuron의 갯수를 조정\n",
    "\n",
    "**3. 더 오래 학습을 한다** : 데이터 숨겨진 패턴을 찾는 더 많은 기회를 얻을 수 있다"
   ],
   "cell_type": "markdown",
   "metadata": {}
  },
  {
   "source": [
    "## 실습용 모델 3개 만들 예정\n",
    "1. model_1 : 원래 모델 그대로 사용 : layer 1개, epoch : 100\n",
    "2. model_2 : layer 2개, epoch : 100\n",
    "3. model_3 : layer 2개, epoch : 500"
   ],
   "cell_type": "markdown",
   "metadata": {}
  },
  {
   "source": [
    "## model_1 생성"
   ],
   "cell_type": "markdown",
   "metadata": {}
  },
  {
   "cell_type": "code",
   "execution_count": 80,
   "metadata": {},
   "outputs": [
    {
     "output_type": "stream",
     "name": "stdout",
     "text": [
      "Epoch 1/100\n",
      "2/2 [==============================] - 0s 3ms/step - loss: 15.9024 - mae: 15.9024\n",
      "Epoch 2/100\n",
      "2/2 [==============================] - 0s 3ms/step - loss: 11.2837 - mae: 11.2837\n",
      "Epoch 3/100\n",
      "2/2 [==============================] - 0s 2ms/step - loss: 11.1075 - mae: 11.1075\n",
      "Epoch 4/100\n",
      "2/2 [==============================] - 0s 997us/step - loss: 9.2990 - mae: 9.2990\n",
      "Epoch 5/100\n",
      "2/2 [==============================] - 0s 2ms/step - loss: 10.1677 - mae: 10.1677\n",
      "Epoch 6/100\n",
      "2/2 [==============================] - 0s 2ms/step - loss: 9.4303 - mae: 9.4303\n",
      "Epoch 7/100\n",
      "2/2 [==============================] - 0s 2ms/step - loss: 8.5704 - mae: 8.5704\n",
      "Epoch 8/100\n",
      "2/2 [==============================] - 0s 4ms/step - loss: 9.0442 - mae: 9.0442\n",
      "Epoch 9/100\n",
      "2/2 [==============================] - 0s 2ms/step - loss: 18.7517 - mae: 18.7517\n",
      "Epoch 10/100\n",
      "2/2 [==============================] - 0s 2ms/step - loss: 10.1142 - mae: 10.1142\n",
      "Epoch 11/100\n",
      "2/2 [==============================] - 0s 4ms/step - loss: 8.3980 - mae: 8.3980\n",
      "Epoch 12/100\n",
      "2/2 [==============================] - 0s 4ms/step - loss: 10.6639 - mae: 10.6639\n",
      "Epoch 13/100\n",
      "2/2 [==============================] - 0s 3ms/step - loss: 9.7977 - mae: 9.7977\n",
      "Epoch 14/100\n",
      "2/2 [==============================] - 0s 2ms/step - loss: 16.0103 - mae: 16.0103\n",
      "Epoch 15/100\n",
      "2/2 [==============================] - 0s 3ms/step - loss: 11.4068 - mae: 11.4068\n",
      "Epoch 16/100\n",
      "2/2 [==============================] - 0s 2ms/step - loss: 8.5393 - mae: 8.5393\n",
      "Epoch 17/100\n",
      "2/2 [==============================] - 0s 2ms/step - loss: 13.6348 - mae: 13.6348\n",
      "Epoch 18/100\n",
      "2/2 [==============================] - 0s 2ms/step - loss: 11.4629 - mae: 11.4629\n",
      "Epoch 19/100\n",
      "2/2 [==============================] - 0s 3ms/step - loss: 17.9148 - mae: 17.9148\n",
      "Epoch 20/100\n",
      "2/2 [==============================] - 0s 2ms/step - loss: 15.0494 - mae: 15.0494\n",
      "Epoch 21/100\n",
      "2/2 [==============================] - 0s 2ms/step - loss: 11.0216 - mae: 11.0216\n",
      "Epoch 22/100\n",
      "2/2 [==============================] - 0s 2ms/step - loss: 8.1558 - mae: 8.1558\n",
      "Epoch 23/100\n",
      "2/2 [==============================] - 0s 2ms/step - loss: 9.5138 - mae: 9.5138\n",
      "Epoch 24/100\n",
      "2/2 [==============================] - 0s 3ms/step - loss: 7.6617 - mae: 7.6617\n",
      "Epoch 25/100\n",
      "2/2 [==============================] - 0s 3ms/step - loss: 13.1859 - mae: 13.1859\n",
      "Epoch 26/100\n",
      "2/2 [==============================] - 0s 8ms/step - loss: 16.4211 - mae: 16.4211\n",
      "Epoch 27/100\n",
      "2/2 [==============================] - 0s 5ms/step - loss: 13.1660 - mae: 13.1660\n",
      "Epoch 28/100\n",
      "2/2 [==============================] - 0s 997us/step - loss: 14.2559 - mae: 14.2559\n",
      "Epoch 29/100\n",
      "2/2 [==============================] - 0s 4ms/step - loss: 10.0670 - mae: 10.0670\n",
      "Epoch 30/100\n",
      "2/2 [==============================] - 0s 2ms/step - loss: 16.3409 - mae: 16.3409\n",
      "Epoch 31/100\n",
      "2/2 [==============================] - 0s 2ms/step - loss: 23.6444 - mae: 23.6444\n",
      "Epoch 32/100\n",
      "2/2 [==============================] - 0s 2ms/step - loss: 7.6215 - mae: 7.6215\n",
      "Epoch 33/100\n",
      "2/2 [==============================] - 0s 2ms/step - loss: 9.3221 - mae: 9.3221\n",
      "Epoch 34/100\n",
      "2/2 [==============================] - 0s 5ms/step - loss: 13.7313 - mae: 13.7313\n",
      "Epoch 35/100\n",
      "2/2 [==============================] - 0s 5ms/step - loss: 11.1276 - mae: 11.1276\n",
      "Epoch 36/100\n",
      "2/2 [==============================] - 0s 2ms/step - loss: 13.3222 - mae: 13.3222\n",
      "Epoch 37/100\n",
      "2/2 [==============================] - 0s 2ms/step - loss: 9.4763 - mae: 9.4763\n",
      "Epoch 38/100\n",
      "2/2 [==============================] - 0s 2ms/step - loss: 10.1381 - mae: 10.1381\n",
      "Epoch 39/100\n",
      "2/2 [==============================] - 0s 2ms/step - loss: 10.1793 - mae: 10.1793\n",
      "Epoch 40/100\n",
      "2/2 [==============================] - 0s 4ms/step - loss: 10.9137 - mae: 10.9137\n",
      "Epoch 41/100\n",
      "2/2 [==============================] - 0s 5ms/step - loss: 7.9063 - mae: 7.9063\n",
      "Epoch 42/100\n",
      "2/2 [==============================] - 0s 2ms/step - loss: 10.0914 - mae: 10.0914\n",
      "Epoch 43/100\n",
      "2/2 [==============================] - 0s 3ms/step - loss: 8.7006 - mae: 8.7006\n",
      "Epoch 44/100\n",
      "2/2 [==============================] - 0s 16ms/step - loss: 12.2046 - mae: 12.2046\n",
      "Epoch 45/100\n",
      "2/2 [==============================] - 0s 7ms/step - loss: 13.7970 - mae: 13.7970\n",
      "Epoch 46/100\n",
      "2/2 [==============================] - 0s 3ms/step - loss: 8.4687 - mae: 8.4687\n",
      "Epoch 47/100\n",
      "2/2 [==============================] - 0s 2ms/step - loss: 9.1330 - mae: 9.1330\n",
      "Epoch 48/100\n",
      "2/2 [==============================] - 0s 3ms/step - loss: 10.6190 - mae: 10.6190\n",
      "Epoch 49/100\n",
      "2/2 [==============================] - 0s 3ms/step - loss: 7.7503 - mae: 7.7503\n",
      "Epoch 50/100\n",
      "2/2 [==============================] - 0s 2ms/step - loss: 9.5407 - mae: 9.5407\n",
      "Epoch 51/100\n",
      "2/2 [==============================] - 0s 8ms/step - loss: 9.1584 - mae: 9.1584\n",
      "Epoch 52/100\n",
      "2/2 [==============================] - 0s 4ms/step - loss: 16.3630 - mae: 16.3630\n",
      "Epoch 53/100\n",
      "2/2 [==============================] - 0s 2ms/step - loss: 14.1299 - mae: 14.1299\n",
      "Epoch 54/100\n",
      "2/2 [==============================] - 0s 2ms/step - loss: 21.1247 - mae: 21.1247\n",
      "Epoch 55/100\n",
      "2/2 [==============================] - 0s 3ms/step - loss: 16.3961 - mae: 16.3961\n",
      "Epoch 56/100\n",
      "2/2 [==============================] - 0s 4ms/step - loss: 9.9806 - mae: 9.9806\n",
      "Epoch 57/100\n",
      "2/2 [==============================] - 0s 5ms/step - loss: 9.9606 - mae: 9.9606\n",
      "Epoch 58/100\n",
      "2/2 [==============================] - 0s 2ms/step - loss: 9.2209 - mae: 9.2209\n",
      "Epoch 59/100\n",
      "2/2 [==============================] - 0s 4ms/step - loss: 8.4239 - mae: 8.4239\n",
      "Epoch 60/100\n",
      "2/2 [==============================] - 0s 3ms/step - loss: 9.4869 - mae: 9.4869\n",
      "Epoch 61/100\n",
      "2/2 [==============================] - 0s 2ms/step - loss: 11.4354 - mae: 11.4354\n",
      "Epoch 62/100\n",
      "2/2 [==============================] - 0s 2ms/step - loss: 11.6887 - mae: 11.6887\n",
      "Epoch 63/100\n",
      "2/2 [==============================] - 0s 3ms/step - loss: 7.0838 - mae: 7.0838\n",
      "Epoch 64/100\n",
      "2/2 [==============================] - 0s 5ms/step - loss: 16.9675 - mae: 16.9675\n",
      "Epoch 65/100\n",
      "2/2 [==============================] - 0s 4ms/step - loss: 12.4599 - mae: 12.4599\n",
      "Epoch 66/100\n",
      "2/2 [==============================] - 0s 997us/step - loss: 13.0184 - mae: 13.0184\n",
      "Epoch 67/100\n",
      "2/2 [==============================] - 0s 2ms/step - loss: 8.0600 - mae: 8.0600\n",
      "Epoch 68/100\n",
      "2/2 [==============================] - 0s 2ms/step - loss: 10.1888 - mae: 10.1888\n",
      "Epoch 69/100\n",
      "2/2 [==============================] - 0s 7ms/step - loss: 12.3633 - mae: 12.3633\n",
      "Epoch 70/100\n",
      "2/2 [==============================] - 0s 6ms/step - loss: 9.0516 - mae: 9.0516\n",
      "Epoch 71/100\n",
      "2/2 [==============================] - 0s 4ms/step - loss: 10.0378 - mae: 10.0378\n",
      "Epoch 72/100\n",
      "2/2 [==============================] - 0s 3ms/step - loss: 10.0516 - mae: 10.0516\n",
      "Epoch 73/100\n",
      "2/2 [==============================] - 0s 2ms/step - loss: 12.6151 - mae: 12.6151\n",
      "Epoch 74/100\n",
      "2/2 [==============================] - 0s 2ms/step - loss: 10.3819 - mae: 10.3819\n",
      "Epoch 75/100\n",
      "2/2 [==============================] - 0s 3ms/step - loss: 9.7229 - mae: 9.7229\n",
      "Epoch 76/100\n",
      "2/2 [==============================] - 0s 2ms/step - loss: 11.2252 - mae: 11.2252\n",
      "Epoch 77/100\n",
      "2/2 [==============================] - 0s 3ms/step - loss: 8.3642 - mae: 8.3642\n",
      "Epoch 78/100\n",
      "2/2 [==============================] - 0s 2ms/step - loss: 9.1274 - mae: 9.1274\n",
      "Epoch 79/100\n",
      "2/2 [==============================] - 0s 2ms/step - loss: 19.5039 - mae: 19.5039\n",
      "Epoch 80/100\n",
      "2/2 [==============================] - 0s 3ms/step - loss: 14.8945 - mae: 14.8945\n",
      "Epoch 81/100\n",
      "2/2 [==============================] - 0s 5ms/step - loss: 9.0034 - mae: 9.0034\n",
      "Epoch 82/100\n",
      "2/2 [==============================] - 0s 2ms/step - loss: 13.0206 - mae: 13.0206\n",
      "Epoch 83/100\n",
      "2/2 [==============================] - 0s 3ms/step - loss: 7.9299 - mae: 7.9299\n",
      "Epoch 84/100\n",
      "2/2 [==============================] - 0s 997us/step - loss: 7.6872 - mae: 7.6872\n",
      "Epoch 85/100\n",
      "2/2 [==============================] - 0s 3ms/step - loss: 10.0328 - mae: 10.0328\n",
      "Epoch 86/100\n",
      "2/2 [==============================] - 0s 4ms/step - loss: 9.2433 - mae: 9.2433\n",
      "Epoch 87/100\n",
      "2/2 [==============================] - 0s 3ms/step - loss: 12.0209 - mae: 12.0209\n",
      "Epoch 88/100\n",
      "2/2 [==============================] - 0s 2ms/step - loss: 10.6389 - mae: 10.6389\n",
      "Epoch 89/100\n",
      "2/2 [==============================] - 0s 2ms/step - loss: 7.2667 - mae: 7.2667\n",
      "Epoch 90/100\n",
      "2/2 [==============================] - 0s 3ms/step - loss: 12.7786 - mae: 12.7786\n",
      "Epoch 91/100\n",
      "2/2 [==============================] - 0s 2ms/step - loss: 7.3481 - mae: 7.3481\n",
      "Epoch 92/100\n",
      "2/2 [==============================] - 0s 2ms/step - loss: 7.7175 - mae: 7.7175\n",
      "Epoch 93/100\n",
      "2/2 [==============================] - 0s 3ms/step - loss: 7.1263 - mae: 7.1263\n",
      "Epoch 94/100\n",
      "2/2 [==============================] - 0s 8ms/step - loss: 12.6190 - mae: 12.6190\n",
      "Epoch 95/100\n",
      "2/2 [==============================] - 0s 2ms/step - loss: 10.0912 - mae: 10.0912\n",
      "Epoch 96/100\n",
      "2/2 [==============================] - 0s 3ms/step - loss: 9.3558 - mae: 9.3558\n",
      "Epoch 97/100\n",
      "2/2 [==============================] - 0s 2ms/step - loss: 12.6834 - mae: 12.6834\n",
      "Epoch 98/100\n",
      "2/2 [==============================] - 0s 3ms/step - loss: 8.6762 - mae: 8.6762\n",
      "Epoch 99/100\n",
      "2/2 [==============================] - 0s 2ms/step - loss: 9.4693 - mae: 9.4693\n",
      "Epoch 100/100\n",
      "2/2 [==============================] - 0s 3ms/step - loss: 8.7067 - mae: 8.7067\n"
     ]
    },
    {
     "output_type": "execute_result",
     "data": {
      "text/plain": [
       "<tensorflow.python.keras.callbacks.History at 0x1a530481f10>"
      ]
     },
     "metadata": {},
     "execution_count": 80
    }
   ],
   "source": [
    "tf.random.set_seed(42)\n",
    "\n",
    "model_1 = tf.keras.Sequential([\n",
    "    tf.keras.layers.Dense(1),\n",
    "])\n",
    "\n",
    "model_1.compile(\n",
    "    loss = tf.keras.losses.mae,\n",
    "    optimizer = tf.keras.optimizers.SGD(),\n",
    "    metrics = [\"mae\"]\n",
    ")\n",
    "\n",
    "model_1.fit(X_train, y_train, epochs=100)"
   ]
  },
  {
   "cell_type": "code",
   "execution_count": 84,
   "metadata": {},
   "outputs": [
    {
     "output_type": "display_data",
     "data": {
      "text/plain": "<Figure size 720x504 with 1 Axes>",
      "image/svg+xml": "<?xml version=\"1.0\" encoding=\"utf-8\" standalone=\"no\"?>\r\n<!DOCTYPE svg PUBLIC \"-//W3C//DTD SVG 1.1//EN\"\r\n  \"http://www.w3.org/Graphics/SVG/1.1/DTD/svg11.dtd\">\r\n<svg height=\"411.598125pt\" version=\"1.1\" viewBox=\"0 0 600.504688 411.598125\" width=\"600.504688pt\" xmlns=\"http://www.w3.org/2000/svg\" xmlns:xlink=\"http://www.w3.org/1999/xlink\">\r\n <metadata>\r\n  <rdf:RDF xmlns:cc=\"http://creativecommons.org/ns#\" xmlns:dc=\"http://purl.org/dc/elements/1.1/\" xmlns:rdf=\"http://www.w3.org/1999/02/22-rdf-syntax-ns#\">\r\n   <cc:Work>\r\n    <dc:type rdf:resource=\"http://purl.org/dc/dcmitype/StillImage\"/>\r\n    <dc:date>2021-05-30T14:23:02.439799</dc:date>\r\n    <dc:format>image/svg+xml</dc:format>\r\n    <dc:creator>\r\n     <cc:Agent>\r\n      <dc:title>Matplotlib v3.4.2, https://matplotlib.org/</dc:title>\r\n     </cc:Agent>\r\n    </dc:creator>\r\n   </cc:Work>\r\n  </rdf:RDF>\r\n </metadata>\r\n <defs>\r\n  <style type=\"text/css\">*{stroke-linecap:butt;stroke-linejoin:round;}</style>\r\n </defs>\r\n <g id=\"figure_1\">\r\n  <g id=\"patch_1\">\r\n   <path d=\"M 0 411.598125 \r\nL 600.504688 411.598125 \r\nL 600.504688 0 \r\nL 0 0 \r\nz\r\n\" style=\"fill:none;\"/>\r\n  </g>\r\n  <g id=\"axes_1\">\r\n   <g id=\"patch_2\">\r\n    <path d=\"M 35.304688 387.72 \r\nL 593.304688 387.72 \r\nL 593.304688 7.2 \r\nL 35.304688 7.2 \r\nz\r\n\" style=\"fill:#ffffff;\"/>\r\n   </g>\r\n   <g id=\"PathCollection_1\">\r\n    <defs>\r\n     <path d=\"M 0 3 \r\nC 0.795609 3 1.55874 2.683901 2.12132 2.12132 \r\nC 2.683901 1.55874 3 0.795609 3 0 \r\nC 3 -0.795609 2.683901 -1.55874 2.12132 -2.12132 \r\nC 1.55874 -2.683901 0.795609 -3 0 -3 \r\nC -0.795609 -3 -1.55874 -2.683901 -2.12132 -2.12132 \r\nC -2.683901 -1.55874 -3 -0.795609 -3 0 \r\nC -3 0.795609 -2.683901 1.55874 -2.12132 2.12132 \r\nC -1.55874 2.683901 -0.795609 3 0 3 \r\nz\r\n\" id=\"me31ad574d0\" style=\"stroke:#0000ff;\"/>\r\n    </defs>\r\n    <g clip-path=\"url(#p2032b7a80e)\">\r\n     <use style=\"fill:#0000ff;stroke:#0000ff;\" x=\"60.668324\" xlink:href=\"#me31ad574d0\" y=\"370.423636\"/>\r\n     <use style=\"fill:#0000ff;stroke:#0000ff;\" x=\"71.020829\" xlink:href=\"#me31ad574d0\" y=\"363.363896\"/>\r\n     <use style=\"fill:#0000ff;stroke:#0000ff;\" x=\"81.373333\" xlink:href=\"#me31ad574d0\" y=\"356.304156\"/>\r\n     <use style=\"fill:#0000ff;stroke:#0000ff;\" x=\"91.725838\" xlink:href=\"#me31ad574d0\" y=\"349.244416\"/>\r\n     <use style=\"fill:#0000ff;stroke:#0000ff;\" x=\"102.078342\" xlink:href=\"#me31ad574d0\" y=\"342.184675\"/>\r\n     <use style=\"fill:#0000ff;stroke:#0000ff;\" x=\"112.430847\" xlink:href=\"#me31ad574d0\" y=\"335.124935\"/>\r\n     <use style=\"fill:#0000ff;stroke:#0000ff;\" x=\"122.783352\" xlink:href=\"#me31ad574d0\" y=\"328.065195\"/>\r\n     <use style=\"fill:#0000ff;stroke:#0000ff;\" x=\"133.135856\" xlink:href=\"#me31ad574d0\" y=\"321.005455\"/>\r\n     <use style=\"fill:#0000ff;stroke:#0000ff;\" x=\"143.488361\" xlink:href=\"#me31ad574d0\" y=\"313.945714\"/>\r\n     <use style=\"fill:#0000ff;stroke:#0000ff;\" x=\"153.840866\" xlink:href=\"#me31ad574d0\" y=\"306.885974\"/>\r\n     <use style=\"fill:#0000ff;stroke:#0000ff;\" x=\"164.19337\" xlink:href=\"#me31ad574d0\" y=\"299.826234\"/>\r\n     <use style=\"fill:#0000ff;stroke:#0000ff;\" x=\"174.545875\" xlink:href=\"#me31ad574d0\" y=\"292.766494\"/>\r\n     <use style=\"fill:#0000ff;stroke:#0000ff;\" x=\"184.89838\" xlink:href=\"#me31ad574d0\" y=\"285.706753\"/>\r\n     <use style=\"fill:#0000ff;stroke:#0000ff;\" x=\"195.250884\" xlink:href=\"#me31ad574d0\" y=\"278.647013\"/>\r\n     <use style=\"fill:#0000ff;stroke:#0000ff;\" x=\"205.603389\" xlink:href=\"#me31ad574d0\" y=\"271.587273\"/>\r\n     <use style=\"fill:#0000ff;stroke:#0000ff;\" x=\"215.955893\" xlink:href=\"#me31ad574d0\" y=\"264.527532\"/>\r\n     <use style=\"fill:#0000ff;stroke:#0000ff;\" x=\"226.308398\" xlink:href=\"#me31ad574d0\" y=\"257.467792\"/>\r\n     <use style=\"fill:#0000ff;stroke:#0000ff;\" x=\"236.660903\" xlink:href=\"#me31ad574d0\" y=\"250.408052\"/>\r\n     <use style=\"fill:#0000ff;stroke:#0000ff;\" x=\"247.013407\" xlink:href=\"#me31ad574d0\" y=\"243.348312\"/>\r\n     <use style=\"fill:#0000ff;stroke:#0000ff;\" x=\"257.365912\" xlink:href=\"#me31ad574d0\" y=\"236.288571\"/>\r\n     <use style=\"fill:#0000ff;stroke:#0000ff;\" x=\"267.718417\" xlink:href=\"#me31ad574d0\" y=\"229.228831\"/>\r\n     <use style=\"fill:#0000ff;stroke:#0000ff;\" x=\"278.070921\" xlink:href=\"#me31ad574d0\" y=\"222.169091\"/>\r\n     <use style=\"fill:#0000ff;stroke:#0000ff;\" x=\"288.423426\" xlink:href=\"#me31ad574d0\" y=\"215.109351\"/>\r\n     <use style=\"fill:#0000ff;stroke:#0000ff;\" x=\"298.775931\" xlink:href=\"#me31ad574d0\" y=\"208.04961\"/>\r\n     <use style=\"fill:#0000ff;stroke:#0000ff;\" x=\"309.128435\" xlink:href=\"#me31ad574d0\" y=\"200.98987\"/>\r\n     <use style=\"fill:#0000ff;stroke:#0000ff;\" x=\"319.48094\" xlink:href=\"#me31ad574d0\" y=\"193.93013\"/>\r\n     <use style=\"fill:#0000ff;stroke:#0000ff;\" x=\"329.833444\" xlink:href=\"#me31ad574d0\" y=\"186.87039\"/>\r\n     <use style=\"fill:#0000ff;stroke:#0000ff;\" x=\"340.185949\" xlink:href=\"#me31ad574d0\" y=\"179.810649\"/>\r\n     <use style=\"fill:#0000ff;stroke:#0000ff;\" x=\"350.538454\" xlink:href=\"#me31ad574d0\" y=\"172.750909\"/>\r\n     <use style=\"fill:#0000ff;stroke:#0000ff;\" x=\"360.890958\" xlink:href=\"#me31ad574d0\" y=\"165.691169\"/>\r\n     <use style=\"fill:#0000ff;stroke:#0000ff;\" x=\"371.243463\" xlink:href=\"#me31ad574d0\" y=\"158.631429\"/>\r\n     <use style=\"fill:#0000ff;stroke:#0000ff;\" x=\"381.595968\" xlink:href=\"#me31ad574d0\" y=\"151.571688\"/>\r\n     <use style=\"fill:#0000ff;stroke:#0000ff;\" x=\"391.948472\" xlink:href=\"#me31ad574d0\" y=\"144.511948\"/>\r\n     <use style=\"fill:#0000ff;stroke:#0000ff;\" x=\"402.300977\" xlink:href=\"#me31ad574d0\" y=\"137.452208\"/>\r\n     <use style=\"fill:#0000ff;stroke:#0000ff;\" x=\"412.653482\" xlink:href=\"#me31ad574d0\" y=\"130.392468\"/>\r\n     <use style=\"fill:#0000ff;stroke:#0000ff;\" x=\"423.005986\" xlink:href=\"#me31ad574d0\" y=\"123.332727\"/>\r\n     <use style=\"fill:#0000ff;stroke:#0000ff;\" x=\"433.358491\" xlink:href=\"#me31ad574d0\" y=\"116.272987\"/>\r\n     <use style=\"fill:#0000ff;stroke:#0000ff;\" x=\"443.710995\" xlink:href=\"#me31ad574d0\" y=\"109.213247\"/>\r\n     <use style=\"fill:#0000ff;stroke:#0000ff;\" x=\"454.0635\" xlink:href=\"#me31ad574d0\" y=\"102.153506\"/>\r\n     <use style=\"fill:#0000ff;stroke:#0000ff;\" x=\"464.416005\" xlink:href=\"#me31ad574d0\" y=\"95.093766\"/>\r\n    </g>\r\n   </g>\r\n   <g id=\"PathCollection_2\">\r\n    <defs>\r\n     <path d=\"M 0 3 \r\nC 0.795609 3 1.55874 2.683901 2.12132 2.12132 \r\nC 2.683901 1.55874 3 0.795609 3 0 \r\nC 3 -0.795609 2.683901 -1.55874 2.12132 -2.12132 \r\nC 1.55874 -2.683901 0.795609 -3 0 -3 \r\nC -0.795609 -3 -1.55874 -2.683901 -2.12132 -2.12132 \r\nC -2.683901 -1.55874 -3 -0.795609 -3 0 \r\nC -3 0.795609 -2.683901 1.55874 -2.12132 2.12132 \r\nC -1.55874 2.683901 -0.795609 3 0 3 \r\nz\r\n\" id=\"mcb30eef62b\" style=\"stroke:#008000;\"/>\r\n    </defs>\r\n    <g clip-path=\"url(#p2032b7a80e)\">\r\n     <use style=\"fill:#008000;stroke:#008000;\" x=\"474.768509\" xlink:href=\"#mcb30eef62b\" y=\"88.034026\"/>\r\n     <use style=\"fill:#008000;stroke:#008000;\" x=\"485.121014\" xlink:href=\"#mcb30eef62b\" y=\"80.974286\"/>\r\n     <use style=\"fill:#008000;stroke:#008000;\" x=\"495.473519\" xlink:href=\"#mcb30eef62b\" y=\"73.914545\"/>\r\n     <use style=\"fill:#008000;stroke:#008000;\" x=\"505.826023\" xlink:href=\"#mcb30eef62b\" y=\"66.854805\"/>\r\n     <use style=\"fill:#008000;stroke:#008000;\" x=\"516.178528\" xlink:href=\"#mcb30eef62b\" y=\"59.795065\"/>\r\n     <use style=\"fill:#008000;stroke:#008000;\" x=\"526.531033\" xlink:href=\"#mcb30eef62b\" y=\"52.735325\"/>\r\n     <use style=\"fill:#008000;stroke:#008000;\" x=\"536.883537\" xlink:href=\"#mcb30eef62b\" y=\"45.675584\"/>\r\n     <use style=\"fill:#008000;stroke:#008000;\" x=\"547.236042\" xlink:href=\"#mcb30eef62b\" y=\"38.615844\"/>\r\n     <use style=\"fill:#008000;stroke:#008000;\" x=\"557.588546\" xlink:href=\"#mcb30eef62b\" y=\"31.556104\"/>\r\n     <use style=\"fill:#008000;stroke:#008000;\" x=\"567.941051\" xlink:href=\"#mcb30eef62b\" y=\"24.496364\"/>\r\n    </g>\r\n   </g>\r\n   <g id=\"PathCollection_3\">\r\n    <defs>\r\n     <path d=\"M 0 3 \r\nC 0.795609 3 1.55874 2.683901 2.12132 2.12132 \r\nC 2.683901 1.55874 3 0.795609 3 0 \r\nC 3 -0.795609 2.683901 -1.55874 2.12132 -2.12132 \r\nC 1.55874 -2.683901 0.795609 -3 0 -3 \r\nC -0.795609 -3 -1.55874 -2.683901 -2.12132 -2.12132 \r\nC -2.683901 -1.55874 -3 -0.795609 -3 0 \r\nC -3 0.795609 -2.683901 1.55874 -2.12132 2.12132 \r\nC -1.55874 2.683901 -0.795609 3 0 3 \r\nz\r\n\" id=\"me150655175\" style=\"stroke:#ff0000;\"/>\r\n    </defs>\r\n    <g clip-path=\"url(#p2032b7a80e)\">\r\n     <use style=\"fill:#ff0000;stroke:#ff0000;\" x=\"474.768509\" xlink:href=\"#me150655175\" y=\"117.029984\"/>\r\n     <use style=\"fill:#ff0000;stroke:#ff0000;\" x=\"485.121014\" xlink:href=\"#me150655175\" y=\"110.87876\"/>\r\n     <use style=\"fill:#ff0000;stroke:#ff0000;\" x=\"495.473519\" xlink:href=\"#me150655175\" y=\"104.727536\"/>\r\n     <use style=\"fill:#ff0000;stroke:#ff0000;\" x=\"505.826023\" xlink:href=\"#me150655175\" y=\"98.576319\"/>\r\n     <use style=\"fill:#ff0000;stroke:#ff0000;\" x=\"516.178528\" xlink:href=\"#me150655175\" y=\"92.425088\"/>\r\n     <use style=\"fill:#ff0000;stroke:#ff0000;\" x=\"526.531033\" xlink:href=\"#me150655175\" y=\"86.273871\"/>\r\n     <use style=\"fill:#ff0000;stroke:#ff0000;\" x=\"536.883537\" xlink:href=\"#me150655175\" y=\"80.12264\"/>\r\n     <use style=\"fill:#ff0000;stroke:#ff0000;\" x=\"547.236042\" xlink:href=\"#me150655175\" y=\"73.971423\"/>\r\n     <use style=\"fill:#ff0000;stroke:#ff0000;\" x=\"557.588546\" xlink:href=\"#me150655175\" y=\"67.820206\"/>\r\n     <use style=\"fill:#ff0000;stroke:#ff0000;\" x=\"567.941051\" xlink:href=\"#me150655175\" y=\"61.668975\"/>\r\n    </g>\r\n   </g>\r\n   <g id=\"matplotlib.axis_1\">\r\n    <g id=\"xtick_1\">\r\n     <g id=\"line2d_1\">\r\n      <defs>\r\n       <path d=\"M 0 0 \r\nL 0 3.5 \r\n\" id=\"m3a230206bb\" style=\"stroke:#000000;stroke-width:0.8;\"/>\r\n      </defs>\r\n      <g>\r\n       <use style=\"stroke:#000000;stroke-width:0.8;\" x=\"60.668324\" xlink:href=\"#m3a230206bb\" y=\"387.72\"/>\r\n      </g>\r\n     </g>\r\n     <g id=\"text_1\">\r\n      <!-- −100 -->\r\n      <g transform=\"translate(46.93473 402.318437)scale(0.1 -0.1)\">\r\n       <defs>\r\n        <path d=\"M 678 2272 \r\nL 4684 2272 \r\nL 4684 1741 \r\nL 678 1741 \r\nL 678 2272 \r\nz\r\n\" id=\"DejaVuSans-2212\" transform=\"scale(0.015625)\"/>\r\n        <path d=\"M 794 531 \r\nL 1825 531 \r\nL 1825 4091 \r\nL 703 3866 \r\nL 703 4441 \r\nL 1819 4666 \r\nL 2450 4666 \r\nL 2450 531 \r\nL 3481 531 \r\nL 3481 0 \r\nL 794 0 \r\nL 794 531 \r\nz\r\n\" id=\"DejaVuSans-31\" transform=\"scale(0.015625)\"/>\r\n        <path d=\"M 2034 4250 \r\nQ 1547 4250 1301 3770 \r\nQ 1056 3291 1056 2328 \r\nQ 1056 1369 1301 889 \r\nQ 1547 409 2034 409 \r\nQ 2525 409 2770 889 \r\nQ 3016 1369 3016 2328 \r\nQ 3016 3291 2770 3770 \r\nQ 2525 4250 2034 4250 \r\nz\r\nM 2034 4750 \r\nQ 2819 4750 3233 4129 \r\nQ 3647 3509 3647 2328 \r\nQ 3647 1150 3233 529 \r\nQ 2819 -91 2034 -91 \r\nQ 1250 -91 836 529 \r\nQ 422 1150 422 2328 \r\nQ 422 3509 836 4129 \r\nQ 1250 4750 2034 4750 \r\nz\r\n\" id=\"DejaVuSans-30\" transform=\"scale(0.015625)\"/>\r\n       </defs>\r\n       <use xlink:href=\"#DejaVuSans-2212\"/>\r\n       <use x=\"83.789062\" xlink:href=\"#DejaVuSans-31\"/>\r\n       <use x=\"147.412109\" xlink:href=\"#DejaVuSans-30\"/>\r\n       <use x=\"211.035156\" xlink:href=\"#DejaVuSans-30\"/>\r\n      </g>\r\n     </g>\r\n    </g>\r\n    <g id=\"xtick_2\">\r\n     <g id=\"line2d_2\">\r\n      <g>\r\n       <use style=\"stroke:#000000;stroke-width:0.8;\" x=\"125.371478\" xlink:href=\"#m3a230206bb\" y=\"387.72\"/>\r\n      </g>\r\n     </g>\r\n     <g id=\"text_2\">\r\n      <!-- −75 -->\r\n      <g transform=\"translate(114.819134 402.318437)scale(0.1 -0.1)\">\r\n       <defs>\r\n        <path d=\"M 525 4666 \r\nL 3525 4666 \r\nL 3525 4397 \r\nL 1831 0 \r\nL 1172 0 \r\nL 2766 4134 \r\nL 525 4134 \r\nL 525 4666 \r\nz\r\n\" id=\"DejaVuSans-37\" transform=\"scale(0.015625)\"/>\r\n        <path d=\"M 691 4666 \r\nL 3169 4666 \r\nL 3169 4134 \r\nL 1269 4134 \r\nL 1269 2991 \r\nQ 1406 3038 1543 3061 \r\nQ 1681 3084 1819 3084 \r\nQ 2600 3084 3056 2656 \r\nQ 3513 2228 3513 1497 \r\nQ 3513 744 3044 326 \r\nQ 2575 -91 1722 -91 \r\nQ 1428 -91 1123 -41 \r\nQ 819 9 494 109 \r\nL 494 744 \r\nQ 775 591 1075 516 \r\nQ 1375 441 1709 441 \r\nQ 2250 441 2565 725 \r\nQ 2881 1009 2881 1497 \r\nQ 2881 1984 2565 2268 \r\nQ 2250 2553 1709 2553 \r\nQ 1456 2553 1204 2497 \r\nQ 953 2441 691 2322 \r\nL 691 4666 \r\nz\r\n\" id=\"DejaVuSans-35\" transform=\"scale(0.015625)\"/>\r\n       </defs>\r\n       <use xlink:href=\"#DejaVuSans-2212\"/>\r\n       <use x=\"83.789062\" xlink:href=\"#DejaVuSans-37\"/>\r\n       <use x=\"147.412109\" xlink:href=\"#DejaVuSans-35\"/>\r\n      </g>\r\n     </g>\r\n    </g>\r\n    <g id=\"xtick_3\">\r\n     <g id=\"line2d_3\">\r\n      <g>\r\n       <use style=\"stroke:#000000;stroke-width:0.8;\" x=\"190.074632\" xlink:href=\"#m3a230206bb\" y=\"387.72\"/>\r\n      </g>\r\n     </g>\r\n     <g id=\"text_3\">\r\n      <!-- −50 -->\r\n      <g transform=\"translate(179.522288 402.318437)scale(0.1 -0.1)\">\r\n       <use xlink:href=\"#DejaVuSans-2212\"/>\r\n       <use x=\"83.789062\" xlink:href=\"#DejaVuSans-35\"/>\r\n       <use x=\"147.412109\" xlink:href=\"#DejaVuSans-30\"/>\r\n      </g>\r\n     </g>\r\n    </g>\r\n    <g id=\"xtick_4\">\r\n     <g id=\"line2d_4\">\r\n      <g>\r\n       <use style=\"stroke:#000000;stroke-width:0.8;\" x=\"254.777786\" xlink:href=\"#m3a230206bb\" y=\"387.72\"/>\r\n      </g>\r\n     </g>\r\n     <g id=\"text_4\">\r\n      <!-- −25 -->\r\n      <g transform=\"translate(244.225442 402.318437)scale(0.1 -0.1)\">\r\n       <defs>\r\n        <path d=\"M 1228 531 \r\nL 3431 531 \r\nL 3431 0 \r\nL 469 0 \r\nL 469 531 \r\nQ 828 903 1448 1529 \r\nQ 2069 2156 2228 2338 \r\nQ 2531 2678 2651 2914 \r\nQ 2772 3150 2772 3378 \r\nQ 2772 3750 2511 3984 \r\nQ 2250 4219 1831 4219 \r\nQ 1534 4219 1204 4116 \r\nQ 875 4013 500 3803 \r\nL 500 4441 \r\nQ 881 4594 1212 4672 \r\nQ 1544 4750 1819 4750 \r\nQ 2544 4750 2975 4387 \r\nQ 3406 4025 3406 3419 \r\nQ 3406 3131 3298 2873 \r\nQ 3191 2616 2906 2266 \r\nQ 2828 2175 2409 1742 \r\nQ 1991 1309 1228 531 \r\nz\r\n\" id=\"DejaVuSans-32\" transform=\"scale(0.015625)\"/>\r\n       </defs>\r\n       <use xlink:href=\"#DejaVuSans-2212\"/>\r\n       <use x=\"83.789062\" xlink:href=\"#DejaVuSans-32\"/>\r\n       <use x=\"147.412109\" xlink:href=\"#DejaVuSans-35\"/>\r\n      </g>\r\n     </g>\r\n    </g>\r\n    <g id=\"xtick_5\">\r\n     <g id=\"line2d_5\">\r\n      <g>\r\n       <use style=\"stroke:#000000;stroke-width:0.8;\" x=\"319.48094\" xlink:href=\"#m3a230206bb\" y=\"387.72\"/>\r\n      </g>\r\n     </g>\r\n     <g id=\"text_5\">\r\n      <!-- 0 -->\r\n      <g transform=\"translate(316.29969 402.318437)scale(0.1 -0.1)\">\r\n       <use xlink:href=\"#DejaVuSans-30\"/>\r\n      </g>\r\n     </g>\r\n    </g>\r\n    <g id=\"xtick_6\">\r\n     <g id=\"line2d_6\">\r\n      <g>\r\n       <use style=\"stroke:#000000;stroke-width:0.8;\" x=\"384.184094\" xlink:href=\"#m3a230206bb\" y=\"387.72\"/>\r\n      </g>\r\n     </g>\r\n     <g id=\"text_6\">\r\n      <!-- 25 -->\r\n      <g transform=\"translate(377.821594 402.318437)scale(0.1 -0.1)\">\r\n       <use xlink:href=\"#DejaVuSans-32\"/>\r\n       <use x=\"63.623047\" xlink:href=\"#DejaVuSans-35\"/>\r\n      </g>\r\n     </g>\r\n    </g>\r\n    <g id=\"xtick_7\">\r\n     <g id=\"line2d_7\">\r\n      <g>\r\n       <use style=\"stroke:#000000;stroke-width:0.8;\" x=\"448.887248\" xlink:href=\"#m3a230206bb\" y=\"387.72\"/>\r\n      </g>\r\n     </g>\r\n     <g id=\"text_7\">\r\n      <!-- 50 -->\r\n      <g transform=\"translate(442.524748 402.318437)scale(0.1 -0.1)\">\r\n       <use xlink:href=\"#DejaVuSans-35\"/>\r\n       <use x=\"63.623047\" xlink:href=\"#DejaVuSans-30\"/>\r\n      </g>\r\n     </g>\r\n    </g>\r\n    <g id=\"xtick_8\">\r\n     <g id=\"line2d_8\">\r\n      <g>\r\n       <use style=\"stroke:#000000;stroke-width:0.8;\" x=\"513.590402\" xlink:href=\"#m3a230206bb\" y=\"387.72\"/>\r\n      </g>\r\n     </g>\r\n     <g id=\"text_8\">\r\n      <!-- 75 -->\r\n      <g transform=\"translate(507.227902 402.318437)scale(0.1 -0.1)\">\r\n       <use xlink:href=\"#DejaVuSans-37\"/>\r\n       <use x=\"63.623047\" xlink:href=\"#DejaVuSans-35\"/>\r\n      </g>\r\n     </g>\r\n    </g>\r\n    <g id=\"xtick_9\">\r\n     <g id=\"line2d_9\">\r\n      <g>\r\n       <use style=\"stroke:#000000;stroke-width:0.8;\" x=\"578.293556\" xlink:href=\"#m3a230206bb\" y=\"387.72\"/>\r\n      </g>\r\n     </g>\r\n     <g id=\"text_9\">\r\n      <!-- 100 -->\r\n      <g transform=\"translate(568.749806 402.318437)scale(0.1 -0.1)\">\r\n       <use xlink:href=\"#DejaVuSans-31\"/>\r\n       <use x=\"63.623047\" xlink:href=\"#DejaVuSans-30\"/>\r\n       <use x=\"127.246094\" xlink:href=\"#DejaVuSans-30\"/>\r\n      </g>\r\n     </g>\r\n    </g>\r\n   </g>\r\n   <g id=\"matplotlib.axis_2\">\r\n    <g id=\"ytick_1\">\r\n     <g id=\"line2d_10\">\r\n      <defs>\r\n       <path d=\"M 0 0 \r\nL -3.5 0 \r\n\" id=\"mafb50e7790\" style=\"stroke:#000000;stroke-width:0.8;\"/>\r\n      </defs>\r\n      <g>\r\n       <use style=\"stroke:#000000;stroke-width:0.8;\" x=\"35.304688\" xlink:href=\"#mafb50e7790\" y=\"343.94961\"/>\r\n      </g>\r\n     </g>\r\n     <g id=\"text_10\">\r\n      <!-- −75 -->\r\n      <g transform=\"translate(7.2 347.748829)scale(0.1 -0.1)\">\r\n       <use xlink:href=\"#DejaVuSans-2212\"/>\r\n       <use x=\"83.789062\" xlink:href=\"#DejaVuSans-37\"/>\r\n       <use x=\"147.412109\" xlink:href=\"#DejaVuSans-35\"/>\r\n      </g>\r\n     </g>\r\n    </g>\r\n    <g id=\"ytick_2\">\r\n     <g id=\"line2d_11\">\r\n      <g>\r\n       <use style=\"stroke:#000000;stroke-width:0.8;\" x=\"35.304688\" xlink:href=\"#mafb50e7790\" y=\"299.826234\"/>\r\n      </g>\r\n     </g>\r\n     <g id=\"text_11\">\r\n      <!-- −50 -->\r\n      <g transform=\"translate(7.2 303.625453)scale(0.1 -0.1)\">\r\n       <use xlink:href=\"#DejaVuSans-2212\"/>\r\n       <use x=\"83.789062\" xlink:href=\"#DejaVuSans-35\"/>\r\n       <use x=\"147.412109\" xlink:href=\"#DejaVuSans-30\"/>\r\n      </g>\r\n     </g>\r\n    </g>\r\n    <g id=\"ytick_3\">\r\n     <g id=\"line2d_12\">\r\n      <g>\r\n       <use style=\"stroke:#000000;stroke-width:0.8;\" x=\"35.304688\" xlink:href=\"#mafb50e7790\" y=\"255.702857\"/>\r\n      </g>\r\n     </g>\r\n     <g id=\"text_12\">\r\n      <!-- −25 -->\r\n      <g transform=\"translate(7.2 259.502076)scale(0.1 -0.1)\">\r\n       <use xlink:href=\"#DejaVuSans-2212\"/>\r\n       <use x=\"83.789062\" xlink:href=\"#DejaVuSans-32\"/>\r\n       <use x=\"147.412109\" xlink:href=\"#DejaVuSans-35\"/>\r\n      </g>\r\n     </g>\r\n    </g>\r\n    <g id=\"ytick_4\">\r\n     <g id=\"line2d_13\">\r\n      <g>\r\n       <use style=\"stroke:#000000;stroke-width:0.8;\" x=\"35.304688\" xlink:href=\"#mafb50e7790\" y=\"211.579481\"/>\r\n      </g>\r\n     </g>\r\n     <g id=\"text_13\">\r\n      <!-- 0 -->\r\n      <g transform=\"translate(21.942187 215.378699)scale(0.1 -0.1)\">\r\n       <use xlink:href=\"#DejaVuSans-30\"/>\r\n      </g>\r\n     </g>\r\n    </g>\r\n    <g id=\"ytick_5\">\r\n     <g id=\"line2d_14\">\r\n      <g>\r\n       <use style=\"stroke:#000000;stroke-width:0.8;\" x=\"35.304688\" xlink:href=\"#mafb50e7790\" y=\"167.456104\"/>\r\n      </g>\r\n     </g>\r\n     <g id=\"text_14\">\r\n      <!-- 25 -->\r\n      <g transform=\"translate(15.579687 171.255323)scale(0.1 -0.1)\">\r\n       <use xlink:href=\"#DejaVuSans-32\"/>\r\n       <use x=\"63.623047\" xlink:href=\"#DejaVuSans-35\"/>\r\n      </g>\r\n     </g>\r\n    </g>\r\n    <g id=\"ytick_6\">\r\n     <g id=\"line2d_15\">\r\n      <g>\r\n       <use style=\"stroke:#000000;stroke-width:0.8;\" x=\"35.304688\" xlink:href=\"#mafb50e7790\" y=\"123.332727\"/>\r\n      </g>\r\n     </g>\r\n     <g id=\"text_15\">\r\n      <!-- 50 -->\r\n      <g transform=\"translate(15.579687 127.131946)scale(0.1 -0.1)\">\r\n       <use xlink:href=\"#DejaVuSans-35\"/>\r\n       <use x=\"63.623047\" xlink:href=\"#DejaVuSans-30\"/>\r\n      </g>\r\n     </g>\r\n    </g>\r\n    <g id=\"ytick_7\">\r\n     <g id=\"line2d_16\">\r\n      <g>\r\n       <use style=\"stroke:#000000;stroke-width:0.8;\" x=\"35.304688\" xlink:href=\"#mafb50e7790\" y=\"79.209351\"/>\r\n      </g>\r\n     </g>\r\n     <g id=\"text_16\">\r\n      <!-- 75 -->\r\n      <g transform=\"translate(15.579687 83.008569)scale(0.1 -0.1)\">\r\n       <use xlink:href=\"#DejaVuSans-37\"/>\r\n       <use x=\"63.623047\" xlink:href=\"#DejaVuSans-35\"/>\r\n      </g>\r\n     </g>\r\n    </g>\r\n    <g id=\"ytick_8\">\r\n     <g id=\"line2d_17\">\r\n      <g>\r\n       <use style=\"stroke:#000000;stroke-width:0.8;\" x=\"35.304688\" xlink:href=\"#mafb50e7790\" y=\"35.085974\"/>\r\n      </g>\r\n     </g>\r\n     <g id=\"text_17\">\r\n      <!-- 100 -->\r\n      <g transform=\"translate(9.217187 38.885193)scale(0.1 -0.1)\">\r\n       <use xlink:href=\"#DejaVuSans-31\"/>\r\n       <use x=\"63.623047\" xlink:href=\"#DejaVuSans-30\"/>\r\n       <use x=\"127.246094\" xlink:href=\"#DejaVuSans-30\"/>\r\n      </g>\r\n     </g>\r\n    </g>\r\n   </g>\r\n   <g id=\"patch_3\">\r\n    <path d=\"M 35.304688 387.72 \r\nL 35.304688 7.2 \r\n\" style=\"fill:none;stroke:#000000;stroke-linecap:square;stroke-linejoin:miter;stroke-width:0.8;\"/>\r\n   </g>\r\n   <g id=\"patch_4\">\r\n    <path d=\"M 593.304688 387.72 \r\nL 593.304688 7.2 \r\n\" style=\"fill:none;stroke:#000000;stroke-linecap:square;stroke-linejoin:miter;stroke-width:0.8;\"/>\r\n   </g>\r\n   <g id=\"patch_5\">\r\n    <path d=\"M 35.304688 387.72 \r\nL 593.304688 387.72 \r\n\" style=\"fill:none;stroke:#000000;stroke-linecap:square;stroke-linejoin:miter;stroke-width:0.8;\"/>\r\n   </g>\r\n   <g id=\"patch_6\">\r\n    <path d=\"M 35.304688 7.2 \r\nL 593.304688 7.2 \r\n\" style=\"fill:none;stroke:#000000;stroke-linecap:square;stroke-linejoin:miter;stroke-width:0.8;\"/>\r\n   </g>\r\n   <g id=\"legend_1\">\r\n    <g id=\"patch_7\">\r\n     <path d=\"M 42.304688 59.234375 \r\nL 140.810938 59.234375 \r\nQ 142.810938 59.234375 142.810938 57.234375 \r\nL 142.810938 14.2 \r\nQ 142.810938 12.2 140.810938 12.2 \r\nL 42.304688 12.2 \r\nQ 40.304688 12.2 40.304688 14.2 \r\nL 40.304688 57.234375 \r\nQ 40.304688 59.234375 42.304688 59.234375 \r\nz\r\n\" style=\"fill:#ffffff;opacity:0.8;stroke:#cccccc;stroke-linejoin:miter;\"/>\r\n    </g>\r\n    <g id=\"PathCollection_4\">\r\n     <g>\r\n      <use style=\"fill:#0000ff;stroke:#0000ff;\" x=\"54.304688\" xlink:href=\"#me31ad574d0\" y=\"21.173437\"/>\r\n     </g>\r\n    </g>\r\n    <g id=\"text_18\">\r\n     <!-- Training Data -->\r\n     <g transform=\"translate(72.304688 23.798437)scale(0.1 -0.1)\">\r\n      <defs>\r\n       <path d=\"M -19 4666 \r\nL 3928 4666 \r\nL 3928 4134 \r\nL 2272 4134 \r\nL 2272 0 \r\nL 1638 0 \r\nL 1638 4134 \r\nL -19 4134 \r\nL -19 4666 \r\nz\r\n\" id=\"DejaVuSans-54\" transform=\"scale(0.015625)\"/>\r\n       <path d=\"M 2631 2963 \r\nQ 2534 3019 2420 3045 \r\nQ 2306 3072 2169 3072 \r\nQ 1681 3072 1420 2755 \r\nQ 1159 2438 1159 1844 \r\nL 1159 0 \r\nL 581 0 \r\nL 581 3500 \r\nL 1159 3500 \r\nL 1159 2956 \r\nQ 1341 3275 1631 3429 \r\nQ 1922 3584 2338 3584 \r\nQ 2397 3584 2469 3576 \r\nQ 2541 3569 2628 3553 \r\nL 2631 2963 \r\nz\r\n\" id=\"DejaVuSans-72\" transform=\"scale(0.015625)\"/>\r\n       <path d=\"M 2194 1759 \r\nQ 1497 1759 1228 1600 \r\nQ 959 1441 959 1056 \r\nQ 959 750 1161 570 \r\nQ 1363 391 1709 391 \r\nQ 2188 391 2477 730 \r\nQ 2766 1069 2766 1631 \r\nL 2766 1759 \r\nL 2194 1759 \r\nz\r\nM 3341 1997 \r\nL 3341 0 \r\nL 2766 0 \r\nL 2766 531 \r\nQ 2569 213 2275 61 \r\nQ 1981 -91 1556 -91 \r\nQ 1019 -91 701 211 \r\nQ 384 513 384 1019 \r\nQ 384 1609 779 1909 \r\nQ 1175 2209 1959 2209 \r\nL 2766 2209 \r\nL 2766 2266 \r\nQ 2766 2663 2505 2880 \r\nQ 2244 3097 1772 3097 \r\nQ 1472 3097 1187 3025 \r\nQ 903 2953 641 2809 \r\nL 641 3341 \r\nQ 956 3463 1253 3523 \r\nQ 1550 3584 1831 3584 \r\nQ 2591 3584 2966 3190 \r\nQ 3341 2797 3341 1997 \r\nz\r\n\" id=\"DejaVuSans-61\" transform=\"scale(0.015625)\"/>\r\n       <path d=\"M 603 3500 \r\nL 1178 3500 \r\nL 1178 0 \r\nL 603 0 \r\nL 603 3500 \r\nz\r\nM 603 4863 \r\nL 1178 4863 \r\nL 1178 4134 \r\nL 603 4134 \r\nL 603 4863 \r\nz\r\n\" id=\"DejaVuSans-69\" transform=\"scale(0.015625)\"/>\r\n       <path d=\"M 3513 2113 \r\nL 3513 0 \r\nL 2938 0 \r\nL 2938 2094 \r\nQ 2938 2591 2744 2837 \r\nQ 2550 3084 2163 3084 \r\nQ 1697 3084 1428 2787 \r\nQ 1159 2491 1159 1978 \r\nL 1159 0 \r\nL 581 0 \r\nL 581 3500 \r\nL 1159 3500 \r\nL 1159 2956 \r\nQ 1366 3272 1645 3428 \r\nQ 1925 3584 2291 3584 \r\nQ 2894 3584 3203 3211 \r\nQ 3513 2838 3513 2113 \r\nz\r\n\" id=\"DejaVuSans-6e\" transform=\"scale(0.015625)\"/>\r\n       <path d=\"M 2906 1791 \r\nQ 2906 2416 2648 2759 \r\nQ 2391 3103 1925 3103 \r\nQ 1463 3103 1205 2759 \r\nQ 947 2416 947 1791 \r\nQ 947 1169 1205 825 \r\nQ 1463 481 1925 481 \r\nQ 2391 481 2648 825 \r\nQ 2906 1169 2906 1791 \r\nz\r\nM 3481 434 \r\nQ 3481 -459 3084 -895 \r\nQ 2688 -1331 1869 -1331 \r\nQ 1566 -1331 1297 -1286 \r\nQ 1028 -1241 775 -1147 \r\nL 775 -588 \r\nQ 1028 -725 1275 -790 \r\nQ 1522 -856 1778 -856 \r\nQ 2344 -856 2625 -561 \r\nQ 2906 -266 2906 331 \r\nL 2906 616 \r\nQ 2728 306 2450 153 \r\nQ 2172 0 1784 0 \r\nQ 1141 0 747 490 \r\nQ 353 981 353 1791 \r\nQ 353 2603 747 3093 \r\nQ 1141 3584 1784 3584 \r\nQ 2172 3584 2450 3431 \r\nQ 2728 3278 2906 2969 \r\nL 2906 3500 \r\nL 3481 3500 \r\nL 3481 434 \r\nz\r\n\" id=\"DejaVuSans-67\" transform=\"scale(0.015625)\"/>\r\n       <path id=\"DejaVuSans-20\" transform=\"scale(0.015625)\"/>\r\n       <path d=\"M 1259 4147 \r\nL 1259 519 \r\nL 2022 519 \r\nQ 2988 519 3436 956 \r\nQ 3884 1394 3884 2338 \r\nQ 3884 3275 3436 3711 \r\nQ 2988 4147 2022 4147 \r\nL 1259 4147 \r\nz\r\nM 628 4666 \r\nL 1925 4666 \r\nQ 3281 4666 3915 4102 \r\nQ 4550 3538 4550 2338 \r\nQ 4550 1131 3912 565 \r\nQ 3275 0 1925 0 \r\nL 628 0 \r\nL 628 4666 \r\nz\r\n\" id=\"DejaVuSans-44\" transform=\"scale(0.015625)\"/>\r\n       <path d=\"M 1172 4494 \r\nL 1172 3500 \r\nL 2356 3500 \r\nL 2356 3053 \r\nL 1172 3053 \r\nL 1172 1153 \r\nQ 1172 725 1289 603 \r\nQ 1406 481 1766 481 \r\nL 2356 481 \r\nL 2356 0 \r\nL 1766 0 \r\nQ 1100 0 847 248 \r\nQ 594 497 594 1153 \r\nL 594 3053 \r\nL 172 3053 \r\nL 172 3500 \r\nL 594 3500 \r\nL 594 4494 \r\nL 1172 4494 \r\nz\r\n\" id=\"DejaVuSans-74\" transform=\"scale(0.015625)\"/>\r\n      </defs>\r\n      <use xlink:href=\"#DejaVuSans-54\"/>\r\n      <use x=\"46.333984\" xlink:href=\"#DejaVuSans-72\"/>\r\n      <use x=\"87.447266\" xlink:href=\"#DejaVuSans-61\"/>\r\n      <use x=\"148.726562\" xlink:href=\"#DejaVuSans-69\"/>\r\n      <use x=\"176.509766\" xlink:href=\"#DejaVuSans-6e\"/>\r\n      <use x=\"239.888672\" xlink:href=\"#DejaVuSans-69\"/>\r\n      <use x=\"267.671875\" xlink:href=\"#DejaVuSans-6e\"/>\r\n      <use x=\"331.050781\" xlink:href=\"#DejaVuSans-67\"/>\r\n      <use x=\"394.527344\" xlink:href=\"#DejaVuSans-20\"/>\r\n      <use x=\"426.314453\" xlink:href=\"#DejaVuSans-44\"/>\r\n      <use x=\"503.316406\" xlink:href=\"#DejaVuSans-61\"/>\r\n      <use x=\"564.595703\" xlink:href=\"#DejaVuSans-74\"/>\r\n      <use x=\"603.804688\" xlink:href=\"#DejaVuSans-61\"/>\r\n     </g>\r\n    </g>\r\n    <g id=\"PathCollection_5\">\r\n     <g>\r\n      <use style=\"fill:#008000;stroke:#008000;\" x=\"54.304688\" xlink:href=\"#mcb30eef62b\" y=\"35.851562\"/>\r\n     </g>\r\n    </g>\r\n    <g id=\"text_19\">\r\n     <!-- Testing data -->\r\n     <g transform=\"translate(72.304688 38.476562)scale(0.1 -0.1)\">\r\n      <defs>\r\n       <path d=\"M 3597 1894 \r\nL 3597 1613 \r\nL 953 1613 \r\nQ 991 1019 1311 708 \r\nQ 1631 397 2203 397 \r\nQ 2534 397 2845 478 \r\nQ 3156 559 3463 722 \r\nL 3463 178 \r\nQ 3153 47 2828 -22 \r\nQ 2503 -91 2169 -91 \r\nQ 1331 -91 842 396 \r\nQ 353 884 353 1716 \r\nQ 353 2575 817 3079 \r\nQ 1281 3584 2069 3584 \r\nQ 2775 3584 3186 3129 \r\nQ 3597 2675 3597 1894 \r\nz\r\nM 3022 2063 \r\nQ 3016 2534 2758 2815 \r\nQ 2500 3097 2075 3097 \r\nQ 1594 3097 1305 2825 \r\nQ 1016 2553 972 2059 \r\nL 3022 2063 \r\nz\r\n\" id=\"DejaVuSans-65\" transform=\"scale(0.015625)\"/>\r\n       <path d=\"M 2834 3397 \r\nL 2834 2853 \r\nQ 2591 2978 2328 3040 \r\nQ 2066 3103 1784 3103 \r\nQ 1356 3103 1142 2972 \r\nQ 928 2841 928 2578 \r\nQ 928 2378 1081 2264 \r\nQ 1234 2150 1697 2047 \r\nL 1894 2003 \r\nQ 2506 1872 2764 1633 \r\nQ 3022 1394 3022 966 \r\nQ 3022 478 2636 193 \r\nQ 2250 -91 1575 -91 \r\nQ 1294 -91 989 -36 \r\nQ 684 19 347 128 \r\nL 347 722 \r\nQ 666 556 975 473 \r\nQ 1284 391 1588 391 \r\nQ 1994 391 2212 530 \r\nQ 2431 669 2431 922 \r\nQ 2431 1156 2273 1281 \r\nQ 2116 1406 1581 1522 \r\nL 1381 1569 \r\nQ 847 1681 609 1914 \r\nQ 372 2147 372 2553 \r\nQ 372 3047 722 3315 \r\nQ 1072 3584 1716 3584 \r\nQ 2034 3584 2315 3537 \r\nQ 2597 3491 2834 3397 \r\nz\r\n\" id=\"DejaVuSans-73\" transform=\"scale(0.015625)\"/>\r\n       <path d=\"M 2906 2969 \r\nL 2906 4863 \r\nL 3481 4863 \r\nL 3481 0 \r\nL 2906 0 \r\nL 2906 525 \r\nQ 2725 213 2448 61 \r\nQ 2172 -91 1784 -91 \r\nQ 1150 -91 751 415 \r\nQ 353 922 353 1747 \r\nQ 353 2572 751 3078 \r\nQ 1150 3584 1784 3584 \r\nQ 2172 3584 2448 3432 \r\nQ 2725 3281 2906 2969 \r\nz\r\nM 947 1747 \r\nQ 947 1113 1208 752 \r\nQ 1469 391 1925 391 \r\nQ 2381 391 2643 752 \r\nQ 2906 1113 2906 1747 \r\nQ 2906 2381 2643 2742 \r\nQ 2381 3103 1925 3103 \r\nQ 1469 3103 1208 2742 \r\nQ 947 2381 947 1747 \r\nz\r\n\" id=\"DejaVuSans-64\" transform=\"scale(0.015625)\"/>\r\n      </defs>\r\n      <use xlink:href=\"#DejaVuSans-54\"/>\r\n      <use x=\"44.083984\" xlink:href=\"#DejaVuSans-65\"/>\r\n      <use x=\"105.607422\" xlink:href=\"#DejaVuSans-73\"/>\r\n      <use x=\"157.707031\" xlink:href=\"#DejaVuSans-74\"/>\r\n      <use x=\"196.916016\" xlink:href=\"#DejaVuSans-69\"/>\r\n      <use x=\"224.699219\" xlink:href=\"#DejaVuSans-6e\"/>\r\n      <use x=\"288.078125\" xlink:href=\"#DejaVuSans-67\"/>\r\n      <use x=\"351.554688\" xlink:href=\"#DejaVuSans-20\"/>\r\n      <use x=\"383.341797\" xlink:href=\"#DejaVuSans-64\"/>\r\n      <use x=\"446.818359\" xlink:href=\"#DejaVuSans-61\"/>\r\n      <use x=\"508.097656\" xlink:href=\"#DejaVuSans-74\"/>\r\n      <use x=\"547.306641\" xlink:href=\"#DejaVuSans-61\"/>\r\n     </g>\r\n    </g>\r\n    <g id=\"PathCollection_6\">\r\n     <g>\r\n      <use style=\"fill:#ff0000;stroke:#ff0000;\" x=\"54.304688\" xlink:href=\"#me150655175\" y=\"50.529687\"/>\r\n     </g>\r\n    </g>\r\n    <g id=\"text_20\">\r\n     <!-- Predictions -->\r\n     <g transform=\"translate(72.304688 53.154687)scale(0.1 -0.1)\">\r\n      <defs>\r\n       <path d=\"M 1259 4147 \r\nL 1259 2394 \r\nL 2053 2394 \r\nQ 2494 2394 2734 2622 \r\nQ 2975 2850 2975 3272 \r\nQ 2975 3691 2734 3919 \r\nQ 2494 4147 2053 4147 \r\nL 1259 4147 \r\nz\r\nM 628 4666 \r\nL 2053 4666 \r\nQ 2838 4666 3239 4311 \r\nQ 3641 3956 3641 3272 \r\nQ 3641 2581 3239 2228 \r\nQ 2838 1875 2053 1875 \r\nL 1259 1875 \r\nL 1259 0 \r\nL 628 0 \r\nL 628 4666 \r\nz\r\n\" id=\"DejaVuSans-50\" transform=\"scale(0.015625)\"/>\r\n       <path d=\"M 3122 3366 \r\nL 3122 2828 \r\nQ 2878 2963 2633 3030 \r\nQ 2388 3097 2138 3097 \r\nQ 1578 3097 1268 2742 \r\nQ 959 2388 959 1747 \r\nQ 959 1106 1268 751 \r\nQ 1578 397 2138 397 \r\nQ 2388 397 2633 464 \r\nQ 2878 531 3122 666 \r\nL 3122 134 \r\nQ 2881 22 2623 -34 \r\nQ 2366 -91 2075 -91 \r\nQ 1284 -91 818 406 \r\nQ 353 903 353 1747 \r\nQ 353 2603 823 3093 \r\nQ 1294 3584 2113 3584 \r\nQ 2378 3584 2631 3529 \r\nQ 2884 3475 3122 3366 \r\nz\r\n\" id=\"DejaVuSans-63\" transform=\"scale(0.015625)\"/>\r\n       <path d=\"M 1959 3097 \r\nQ 1497 3097 1228 2736 \r\nQ 959 2375 959 1747 \r\nQ 959 1119 1226 758 \r\nQ 1494 397 1959 397 \r\nQ 2419 397 2687 759 \r\nQ 2956 1122 2956 1747 \r\nQ 2956 2369 2687 2733 \r\nQ 2419 3097 1959 3097 \r\nz\r\nM 1959 3584 \r\nQ 2709 3584 3137 3096 \r\nQ 3566 2609 3566 1747 \r\nQ 3566 888 3137 398 \r\nQ 2709 -91 1959 -91 \r\nQ 1206 -91 779 398 \r\nQ 353 888 353 1747 \r\nQ 353 2609 779 3096 \r\nQ 1206 3584 1959 3584 \r\nz\r\n\" id=\"DejaVuSans-6f\" transform=\"scale(0.015625)\"/>\r\n      </defs>\r\n      <use xlink:href=\"#DejaVuSans-50\"/>\r\n      <use x=\"58.552734\" xlink:href=\"#DejaVuSans-72\"/>\r\n      <use x=\"97.416016\" xlink:href=\"#DejaVuSans-65\"/>\r\n      <use x=\"158.939453\" xlink:href=\"#DejaVuSans-64\"/>\r\n      <use x=\"222.416016\" xlink:href=\"#DejaVuSans-69\"/>\r\n      <use x=\"250.199219\" xlink:href=\"#DejaVuSans-63\"/>\r\n      <use x=\"305.179688\" xlink:href=\"#DejaVuSans-74\"/>\r\n      <use x=\"344.388672\" xlink:href=\"#DejaVuSans-69\"/>\r\n      <use x=\"372.171875\" xlink:href=\"#DejaVuSans-6f\"/>\r\n      <use x=\"433.353516\" xlink:href=\"#DejaVuSans-6e\"/>\r\n      <use x=\"496.732422\" xlink:href=\"#DejaVuSans-73\"/>\r\n     </g>\r\n    </g>\r\n   </g>\r\n  </g>\r\n </g>\r\n <defs>\r\n  <clipPath id=\"p2032b7a80e\">\r\n   <rect height=\"380.52\" width=\"558\" x=\"35.304688\" y=\"7.2\"/>\r\n  </clipPath>\r\n </defs>\r\n</svg>\r\n",
      "image/png": "[encoded data removed]"
     },
     "metadata": {
      "needs_background": "light"
     }
    }
   ],
   "source": [
    "y_predicts_1 = model_1.predict(X_test)\n",
    "plot_predictions(prediction = y_predicts_1)"
   ]
  },
  {
   "cell_type": "code",
   "execution_count": 86,
   "metadata": {},
   "outputs": [
    {
     "output_type": "execute_result",
     "data": {
      "text/plain": [
       "(18.745327, 353.57336)"
      ]
     },
     "metadata": {},
     "execution_count": 86
    }
   ],
   "source": [
    "mae_1 = mae(y_test, y_predicts_1.squeeze()).numpy()\n",
    "mse_1 = mse(y_test, y_predicts_1.squeeze()).numpy()\n",
    "mae_1, mse_1"
   ]
  },
  {
   "source": [
    "## model_2 생성"
   ],
   "cell_type": "markdown",
   "metadata": {}
  },
  {
   "cell_type": "code",
   "execution_count": 87,
   "metadata": {},
   "outputs": [
    {
     "output_type": "execute_result",
     "data": {
      "text/plain": [
       "<tensorflow.python.keras.callbacks.History at 0x1a5304dda90>"
      ]
     },
     "metadata": {},
     "execution_count": 87
    }
   ],
   "source": [
    "tf.random.set_seed(42)\n",
    "\n",
    "model_2 = tf.keras.Sequential([\n",
    "    tf.keras.layers.Dense(1),\n",
    "    tf.keras.layers.Dense(1),\n",
    "])\n",
    "\n",
    "model_2.compile(\n",
    "    loss = tf.keras.losses.mae,\n",
    "    optimizer = tf.keras.optimizers.SGD(),\n",
    "    metrics = [\"mae\"]\n",
    ")\n",
    "\n",
    "model_2.fit(X_train, y_train, epochs=100, verbose=0)"
   ]
  },
  {
   "cell_type": "code",
   "execution_count": 88,
   "metadata": {},
   "outputs": [
    {
     "output_type": "display_data",
     "data": {
      "text/plain": "<Figure size 720x504 with 1 Axes>",
      "image/svg+xml": "<?xml version=\"1.0\" encoding=\"utf-8\" standalone=\"no\"?>\r\n<!DOCTYPE svg PUBLIC \"-//W3C//DTD SVG 1.1//EN\"\r\n  \"http://www.w3.org/Graphics/SVG/1.1/DTD/svg11.dtd\">\r\n<svg height=\"411.598125pt\" version=\"1.1\" viewBox=\"0 0 606.867188 411.598125\" width=\"606.867188pt\" xmlns=\"http://www.w3.org/2000/svg\" xmlns:xlink=\"http://www.w3.org/1999/xlink\">\r\n <metadata>\r\n  <rdf:RDF xmlns:cc=\"http://creativecommons.org/ns#\" xmlns:dc=\"http://purl.org/dc/elements/1.1/\" xmlns:rdf=\"http://www.w3.org/1999/02/22-rdf-syntax-ns#\">\r\n   <cc:Work>\r\n    <dc:type rdf:resource=\"http://purl.org/dc/dcmitype/StillImage\"/>\r\n    <dc:date>2021-05-30T14:25:34.233944</dc:date>\r\n    <dc:format>image/svg+xml</dc:format>\r\n    <dc:creator>\r\n     <cc:Agent>\r\n      <dc:title>Matplotlib v3.4.2, https://matplotlib.org/</dc:title>\r\n     </cc:Agent>\r\n    </dc:creator>\r\n   </cc:Work>\r\n  </rdf:RDF>\r\n </metadata>\r\n <defs>\r\n  <style type=\"text/css\">*{stroke-linecap:butt;stroke-linejoin:round;}</style>\r\n </defs>\r\n <g id=\"figure_1\">\r\n  <g id=\"patch_1\">\r\n   <path d=\"M 0 411.598125 \r\nL 606.867188 411.598125 \r\nL 606.867188 0 \r\nL 0 0 \r\nz\r\n\" style=\"fill:none;\"/>\r\n  </g>\r\n  <g id=\"axes_1\">\r\n   <g id=\"patch_2\">\r\n    <path d=\"M 41.667188 387.72 \r\nL 599.667187 387.72 \r\nL 599.667187 7.2 \r\nL 41.667188 7.2 \r\nz\r\n\" style=\"fill:#ffffff;\"/>\r\n   </g>\r\n   <g id=\"PathCollection_1\">\r\n    <defs>\r\n     <path d=\"M 0 3 \r\nC 0.795609 3 1.55874 2.683901 2.12132 2.12132 \r\nC 2.683901 1.55874 3 0.795609 3 0 \r\nC 3 -0.795609 2.683901 -1.55874 2.12132 -2.12132 \r\nC 1.55874 -2.683901 0.795609 -3 0 -3 \r\nC -0.795609 -3 -1.55874 -2.683901 -2.12132 -2.12132 \r\nC -2.683901 -1.55874 -3 -0.795609 -3 0 \r\nC -3 0.795609 -2.683901 1.55874 -2.12132 2.12132 \r\nC -1.55874 2.683901 -0.795609 3 0 3 \r\nz\r\n\" id=\"m3aab979eec\" style=\"stroke:#0000ff;\"/>\r\n    </defs>\r\n    <g clip-path=\"url(#p6267c91bd5)\">\r\n     <use style=\"fill:#0000ff;stroke:#0000ff;\" x=\"67.030824\" xlink:href=\"#m3aab979eec\" y=\"370.423636\"/>\r\n     <use style=\"fill:#0000ff;stroke:#0000ff;\" x=\"77.383329\" xlink:href=\"#m3aab979eec\" y=\"363.509704\"/>\r\n     <use style=\"fill:#0000ff;stroke:#0000ff;\" x=\"87.735833\" xlink:href=\"#m3aab979eec\" y=\"356.595771\"/>\r\n     <use style=\"fill:#0000ff;stroke:#0000ff;\" x=\"98.088338\" xlink:href=\"#m3aab979eec\" y=\"349.681839\"/>\r\n     <use style=\"fill:#0000ff;stroke:#0000ff;\" x=\"108.440842\" xlink:href=\"#m3aab979eec\" y=\"342.767906\"/>\r\n     <use style=\"fill:#0000ff;stroke:#0000ff;\" x=\"118.793347\" xlink:href=\"#m3aab979eec\" y=\"335.853974\"/>\r\n     <use style=\"fill:#0000ff;stroke:#0000ff;\" x=\"129.145852\" xlink:href=\"#m3aab979eec\" y=\"328.940041\"/>\r\n     <use style=\"fill:#0000ff;stroke:#0000ff;\" x=\"139.498356\" xlink:href=\"#m3aab979eec\" y=\"322.026109\"/>\r\n     <use style=\"fill:#0000ff;stroke:#0000ff;\" x=\"149.850861\" xlink:href=\"#m3aab979eec\" y=\"315.112176\"/>\r\n     <use style=\"fill:#0000ff;stroke:#0000ff;\" x=\"160.203366\" xlink:href=\"#m3aab979eec\" y=\"308.198243\"/>\r\n     <use style=\"fill:#0000ff;stroke:#0000ff;\" x=\"170.55587\" xlink:href=\"#m3aab979eec\" y=\"301.284311\"/>\r\n     <use style=\"fill:#0000ff;stroke:#0000ff;\" x=\"180.908375\" xlink:href=\"#m3aab979eec\" y=\"294.370378\"/>\r\n     <use style=\"fill:#0000ff;stroke:#0000ff;\" x=\"191.26088\" xlink:href=\"#m3aab979eec\" y=\"287.456446\"/>\r\n     <use style=\"fill:#0000ff;stroke:#0000ff;\" x=\"201.613384\" xlink:href=\"#m3aab979eec\" y=\"280.542513\"/>\r\n     <use style=\"fill:#0000ff;stroke:#0000ff;\" x=\"211.965889\" xlink:href=\"#m3aab979eec\" y=\"273.628581\"/>\r\n     <use style=\"fill:#0000ff;stroke:#0000ff;\" x=\"222.318393\" xlink:href=\"#m3aab979eec\" y=\"266.714648\"/>\r\n     <use style=\"fill:#0000ff;stroke:#0000ff;\" x=\"232.670898\" xlink:href=\"#m3aab979eec\" y=\"259.800716\"/>\r\n     <use style=\"fill:#0000ff;stroke:#0000ff;\" x=\"243.023403\" xlink:href=\"#m3aab979eec\" y=\"252.886783\"/>\r\n     <use style=\"fill:#0000ff;stroke:#0000ff;\" x=\"253.375907\" xlink:href=\"#m3aab979eec\" y=\"245.972851\"/>\r\n     <use style=\"fill:#0000ff;stroke:#0000ff;\" x=\"263.728412\" xlink:href=\"#m3aab979eec\" y=\"239.058918\"/>\r\n     <use style=\"fill:#0000ff;stroke:#0000ff;\" x=\"274.080917\" xlink:href=\"#m3aab979eec\" y=\"232.144985\"/>\r\n     <use style=\"fill:#0000ff;stroke:#0000ff;\" x=\"284.433421\" xlink:href=\"#m3aab979eec\" y=\"225.231053\"/>\r\n     <use style=\"fill:#0000ff;stroke:#0000ff;\" x=\"294.785926\" xlink:href=\"#m3aab979eec\" y=\"218.31712\"/>\r\n     <use style=\"fill:#0000ff;stroke:#0000ff;\" x=\"305.138431\" xlink:href=\"#m3aab979eec\" y=\"211.403188\"/>\r\n     <use style=\"fill:#0000ff;stroke:#0000ff;\" x=\"315.490935\" xlink:href=\"#m3aab979eec\" y=\"204.489255\"/>\r\n     <use style=\"fill:#0000ff;stroke:#0000ff;\" x=\"325.84344\" xlink:href=\"#m3aab979eec\" y=\"197.575323\"/>\r\n     <use style=\"fill:#0000ff;stroke:#0000ff;\" x=\"336.195944\" xlink:href=\"#m3aab979eec\" y=\"190.66139\"/>\r\n     <use style=\"fill:#0000ff;stroke:#0000ff;\" x=\"346.548449\" xlink:href=\"#m3aab979eec\" y=\"183.747458\"/>\r\n     <use style=\"fill:#0000ff;stroke:#0000ff;\" x=\"356.900954\" xlink:href=\"#m3aab979eec\" y=\"176.833525\"/>\r\n     <use style=\"fill:#0000ff;stroke:#0000ff;\" x=\"367.253458\" xlink:href=\"#m3aab979eec\" y=\"169.919593\"/>\r\n     <use style=\"fill:#0000ff;stroke:#0000ff;\" x=\"377.605963\" xlink:href=\"#m3aab979eec\" y=\"163.00566\"/>\r\n     <use style=\"fill:#0000ff;stroke:#0000ff;\" x=\"387.958468\" xlink:href=\"#m3aab979eec\" y=\"156.091727\"/>\r\n     <use style=\"fill:#0000ff;stroke:#0000ff;\" x=\"398.310972\" xlink:href=\"#m3aab979eec\" y=\"149.177795\"/>\r\n     <use style=\"fill:#0000ff;stroke:#0000ff;\" x=\"408.663477\" xlink:href=\"#m3aab979eec\" y=\"142.263862\"/>\r\n     <use style=\"fill:#0000ff;stroke:#0000ff;\" x=\"419.015982\" xlink:href=\"#m3aab979eec\" y=\"135.34993\"/>\r\n     <use style=\"fill:#0000ff;stroke:#0000ff;\" x=\"429.368486\" xlink:href=\"#m3aab979eec\" y=\"128.435997\"/>\r\n     <use style=\"fill:#0000ff;stroke:#0000ff;\" x=\"439.720991\" xlink:href=\"#m3aab979eec\" y=\"121.522065\"/>\r\n     <use style=\"fill:#0000ff;stroke:#0000ff;\" x=\"450.073495\" xlink:href=\"#m3aab979eec\" y=\"114.608132\"/>\r\n     <use style=\"fill:#0000ff;stroke:#0000ff;\" x=\"460.426\" xlink:href=\"#m3aab979eec\" y=\"107.6942\"/>\r\n     <use style=\"fill:#0000ff;stroke:#0000ff;\" x=\"470.778505\" xlink:href=\"#m3aab979eec\" y=\"100.780267\"/>\r\n    </g>\r\n   </g>\r\n   <g id=\"PathCollection_2\">\r\n    <defs>\r\n     <path d=\"M 0 3 \r\nC 0.795609 3 1.55874 2.683901 2.12132 2.12132 \r\nC 2.683901 1.55874 3 0.795609 3 0 \r\nC 3 -0.795609 2.683901 -1.55874 2.12132 -2.12132 \r\nC 1.55874 -2.683901 0.795609 -3 0 -3 \r\nC -0.795609 -3 -1.55874 -2.683901 -2.12132 -2.12132 \r\nC -2.683901 -1.55874 -3 -0.795609 -3 0 \r\nC -3 0.795609 -2.683901 1.55874 -2.12132 2.12132 \r\nC -1.55874 2.683901 -0.795609 3 0 3 \r\nz\r\n\" id=\"m759ed0480e\" style=\"stroke:#008000;\"/>\r\n    </defs>\r\n    <g clip-path=\"url(#p6267c91bd5)\">\r\n     <use style=\"fill:#008000;stroke:#008000;\" x=\"481.131009\" xlink:href=\"#m759ed0480e\" y=\"93.866335\"/>\r\n     <use style=\"fill:#008000;stroke:#008000;\" x=\"491.483514\" xlink:href=\"#m759ed0480e\" y=\"86.952402\"/>\r\n     <use style=\"fill:#008000;stroke:#008000;\" x=\"501.836019\" xlink:href=\"#m759ed0480e\" y=\"80.03847\"/>\r\n     <use style=\"fill:#008000;stroke:#008000;\" x=\"512.188523\" xlink:href=\"#m759ed0480e\" y=\"73.124537\"/>\r\n     <use style=\"fill:#008000;stroke:#008000;\" x=\"522.541028\" xlink:href=\"#m759ed0480e\" y=\"66.210604\"/>\r\n     <use style=\"fill:#008000;stroke:#008000;\" x=\"532.893533\" xlink:href=\"#m759ed0480e\" y=\"59.296672\"/>\r\n     <use style=\"fill:#008000;stroke:#008000;\" x=\"543.246037\" xlink:href=\"#m759ed0480e\" y=\"52.382739\"/>\r\n     <use style=\"fill:#008000;stroke:#008000;\" x=\"553.598542\" xlink:href=\"#m759ed0480e\" y=\"45.468807\"/>\r\n     <use style=\"fill:#008000;stroke:#008000;\" x=\"563.951046\" xlink:href=\"#m759ed0480e\" y=\"38.554874\"/>\r\n     <use style=\"fill:#008000;stroke:#008000;\" x=\"574.303551\" xlink:href=\"#m759ed0480e\" y=\"31.640942\"/>\r\n    </g>\r\n   </g>\r\n   <g id=\"PathCollection_3\">\r\n    <defs>\r\n     <path d=\"M 0 3 \r\nC 0.795609 3 1.55874 2.683901 2.12132 2.12132 \r\nC 2.683901 1.55874 3 0.795609 3 0 \r\nC 3 -0.795609 2.683901 -1.55874 2.12132 -2.12132 \r\nC 1.55874 -2.683901 0.795609 -3 0 -3 \r\nC -0.795609 -3 -1.55874 -2.683901 -2.12132 -2.12132 \r\nC -2.683901 -1.55874 -3 -0.795609 -3 0 \r\nC -3 0.795609 -2.683901 1.55874 -2.12132 2.12132 \r\nC -1.55874 2.683901 -0.795609 3 0 3 \r\nz\r\n\" id=\"m0c19cd441f\" style=\"stroke:#ff0000;\"/>\r\n    </defs>\r\n    <g clip-path=\"url(#p6267c91bd5)\">\r\n     <use style=\"fill:#ff0000;stroke:#ff0000;\" x=\"481.131009\" xlink:href=\"#m0c19cd441f\" y=\"94.7874\"/>\r\n     <use style=\"fill:#ff0000;stroke:#ff0000;\" x=\"491.483514\" xlink:href=\"#m0c19cd441f\" y=\"86.977286\"/>\r\n     <use style=\"fill:#ff0000;stroke:#ff0000;\" x=\"501.836019\" xlink:href=\"#m0c19cd441f\" y=\"79.167173\"/>\r\n     <use style=\"fill:#ff0000;stroke:#ff0000;\" x=\"512.188523\" xlink:href=\"#m0c19cd441f\" y=\"71.357059\"/>\r\n     <use style=\"fill:#ff0000;stroke:#ff0000;\" x=\"522.541028\" xlink:href=\"#m0c19cd441f\" y=\"63.546945\"/>\r\n     <use style=\"fill:#ff0000;stroke:#ff0000;\" x=\"532.893533\" xlink:href=\"#m0c19cd441f\" y=\"55.736832\"/>\r\n     <use style=\"fill:#ff0000;stroke:#ff0000;\" x=\"543.246037\" xlink:href=\"#m0c19cd441f\" y=\"47.926718\"/>\r\n     <use style=\"fill:#ff0000;stroke:#ff0000;\" x=\"553.598542\" xlink:href=\"#m0c19cd441f\" y=\"40.116604\"/>\r\n     <use style=\"fill:#ff0000;stroke:#ff0000;\" x=\"563.951046\" xlink:href=\"#m0c19cd441f\" y=\"32.306491\"/>\r\n     <use style=\"fill:#ff0000;stroke:#ff0000;\" x=\"574.303551\" xlink:href=\"#m0c19cd441f\" y=\"24.496364\"/>\r\n    </g>\r\n   </g>\r\n   <g id=\"matplotlib.axis_1\">\r\n    <g id=\"xtick_1\">\r\n     <g id=\"line2d_1\">\r\n      <defs>\r\n       <path d=\"M 0 0 \r\nL 0 3.5 \r\n\" id=\"m9fecd87d4e\" style=\"stroke:#000000;stroke-width:0.8;\"/>\r\n      </defs>\r\n      <g>\r\n       <use style=\"stroke:#000000;stroke-width:0.8;\" x=\"67.030824\" xlink:href=\"#m9fecd87d4e\" y=\"387.72\"/>\r\n      </g>\r\n     </g>\r\n     <g id=\"text_1\">\r\n      <!-- −100 -->\r\n      <g transform=\"translate(53.29723 402.318437)scale(0.1 -0.1)\">\r\n       <defs>\r\n        <path d=\"M 678 2272 \r\nL 4684 2272 \r\nL 4684 1741 \r\nL 678 1741 \r\nL 678 2272 \r\nz\r\n\" id=\"DejaVuSans-2212\" transform=\"scale(0.015625)\"/>\r\n        <path d=\"M 794 531 \r\nL 1825 531 \r\nL 1825 4091 \r\nL 703 3866 \r\nL 703 4441 \r\nL 1819 4666 \r\nL 2450 4666 \r\nL 2450 531 \r\nL 3481 531 \r\nL 3481 0 \r\nL 794 0 \r\nL 794 531 \r\nz\r\n\" id=\"DejaVuSans-31\" transform=\"scale(0.015625)\"/>\r\n        <path d=\"M 2034 4250 \r\nQ 1547 4250 1301 3770 \r\nQ 1056 3291 1056 2328 \r\nQ 1056 1369 1301 889 \r\nQ 1547 409 2034 409 \r\nQ 2525 409 2770 889 \r\nQ 3016 1369 3016 2328 \r\nQ 3016 3291 2770 3770 \r\nQ 2525 4250 2034 4250 \r\nz\r\nM 2034 4750 \r\nQ 2819 4750 3233 4129 \r\nQ 3647 3509 3647 2328 \r\nQ 3647 1150 3233 529 \r\nQ 2819 -91 2034 -91 \r\nQ 1250 -91 836 529 \r\nQ 422 1150 422 2328 \r\nQ 422 3509 836 4129 \r\nQ 1250 4750 2034 4750 \r\nz\r\n\" id=\"DejaVuSans-30\" transform=\"scale(0.015625)\"/>\r\n       </defs>\r\n       <use xlink:href=\"#DejaVuSans-2212\"/>\r\n       <use x=\"83.789062\" xlink:href=\"#DejaVuSans-31\"/>\r\n       <use x=\"147.412109\" xlink:href=\"#DejaVuSans-30\"/>\r\n       <use x=\"211.035156\" xlink:href=\"#DejaVuSans-30\"/>\r\n      </g>\r\n     </g>\r\n    </g>\r\n    <g id=\"xtick_2\">\r\n     <g id=\"line2d_2\">\r\n      <g>\r\n       <use style=\"stroke:#000000;stroke-width:0.8;\" x=\"131.733978\" xlink:href=\"#m9fecd87d4e\" y=\"387.72\"/>\r\n      </g>\r\n     </g>\r\n     <g id=\"text_2\">\r\n      <!-- −75 -->\r\n      <g transform=\"translate(121.181634 402.318437)scale(0.1 -0.1)\">\r\n       <defs>\r\n        <path d=\"M 525 4666 \r\nL 3525 4666 \r\nL 3525 4397 \r\nL 1831 0 \r\nL 1172 0 \r\nL 2766 4134 \r\nL 525 4134 \r\nL 525 4666 \r\nz\r\n\" id=\"DejaVuSans-37\" transform=\"scale(0.015625)\"/>\r\n        <path d=\"M 691 4666 \r\nL 3169 4666 \r\nL 3169 4134 \r\nL 1269 4134 \r\nL 1269 2991 \r\nQ 1406 3038 1543 3061 \r\nQ 1681 3084 1819 3084 \r\nQ 2600 3084 3056 2656 \r\nQ 3513 2228 3513 1497 \r\nQ 3513 744 3044 326 \r\nQ 2575 -91 1722 -91 \r\nQ 1428 -91 1123 -41 \r\nQ 819 9 494 109 \r\nL 494 744 \r\nQ 775 591 1075 516 \r\nQ 1375 441 1709 441 \r\nQ 2250 441 2565 725 \r\nQ 2881 1009 2881 1497 \r\nQ 2881 1984 2565 2268 \r\nQ 2250 2553 1709 2553 \r\nQ 1456 2553 1204 2497 \r\nQ 953 2441 691 2322 \r\nL 691 4666 \r\nz\r\n\" id=\"DejaVuSans-35\" transform=\"scale(0.015625)\"/>\r\n       </defs>\r\n       <use xlink:href=\"#DejaVuSans-2212\"/>\r\n       <use x=\"83.789062\" xlink:href=\"#DejaVuSans-37\"/>\r\n       <use x=\"147.412109\" xlink:href=\"#DejaVuSans-35\"/>\r\n      </g>\r\n     </g>\r\n    </g>\r\n    <g id=\"xtick_3\">\r\n     <g id=\"line2d_3\">\r\n      <g>\r\n       <use style=\"stroke:#000000;stroke-width:0.8;\" x=\"196.437132\" xlink:href=\"#m9fecd87d4e\" y=\"387.72\"/>\r\n      </g>\r\n     </g>\r\n     <g id=\"text_3\">\r\n      <!-- −50 -->\r\n      <g transform=\"translate(185.884788 402.318437)scale(0.1 -0.1)\">\r\n       <use xlink:href=\"#DejaVuSans-2212\"/>\r\n       <use x=\"83.789062\" xlink:href=\"#DejaVuSans-35\"/>\r\n       <use x=\"147.412109\" xlink:href=\"#DejaVuSans-30\"/>\r\n      </g>\r\n     </g>\r\n    </g>\r\n    <g id=\"xtick_4\">\r\n     <g id=\"line2d_4\">\r\n      <g>\r\n       <use style=\"stroke:#000000;stroke-width:0.8;\" x=\"261.140286\" xlink:href=\"#m9fecd87d4e\" y=\"387.72\"/>\r\n      </g>\r\n     </g>\r\n     <g id=\"text_4\">\r\n      <!-- −25 -->\r\n      <g transform=\"translate(250.587942 402.318437)scale(0.1 -0.1)\">\r\n       <defs>\r\n        <path d=\"M 1228 531 \r\nL 3431 531 \r\nL 3431 0 \r\nL 469 0 \r\nL 469 531 \r\nQ 828 903 1448 1529 \r\nQ 2069 2156 2228 2338 \r\nQ 2531 2678 2651 2914 \r\nQ 2772 3150 2772 3378 \r\nQ 2772 3750 2511 3984 \r\nQ 2250 4219 1831 4219 \r\nQ 1534 4219 1204 4116 \r\nQ 875 4013 500 3803 \r\nL 500 4441 \r\nQ 881 4594 1212 4672 \r\nQ 1544 4750 1819 4750 \r\nQ 2544 4750 2975 4387 \r\nQ 3406 4025 3406 3419 \r\nQ 3406 3131 3298 2873 \r\nQ 3191 2616 2906 2266 \r\nQ 2828 2175 2409 1742 \r\nQ 1991 1309 1228 531 \r\nz\r\n\" id=\"DejaVuSans-32\" transform=\"scale(0.015625)\"/>\r\n       </defs>\r\n       <use xlink:href=\"#DejaVuSans-2212\"/>\r\n       <use x=\"83.789062\" xlink:href=\"#DejaVuSans-32\"/>\r\n       <use x=\"147.412109\" xlink:href=\"#DejaVuSans-35\"/>\r\n      </g>\r\n     </g>\r\n    </g>\r\n    <g id=\"xtick_5\">\r\n     <g id=\"line2d_5\">\r\n      <g>\r\n       <use style=\"stroke:#000000;stroke-width:0.8;\" x=\"325.84344\" xlink:href=\"#m9fecd87d4e\" y=\"387.72\"/>\r\n      </g>\r\n     </g>\r\n     <g id=\"text_5\">\r\n      <!-- 0 -->\r\n      <g transform=\"translate(322.66219 402.318437)scale(0.1 -0.1)\">\r\n       <use xlink:href=\"#DejaVuSans-30\"/>\r\n      </g>\r\n     </g>\r\n    </g>\r\n    <g id=\"xtick_6\">\r\n     <g id=\"line2d_6\">\r\n      <g>\r\n       <use style=\"stroke:#000000;stroke-width:0.8;\" x=\"390.546594\" xlink:href=\"#m9fecd87d4e\" y=\"387.72\"/>\r\n      </g>\r\n     </g>\r\n     <g id=\"text_6\">\r\n      <!-- 25 -->\r\n      <g transform=\"translate(384.184094 402.318437)scale(0.1 -0.1)\">\r\n       <use xlink:href=\"#DejaVuSans-32\"/>\r\n       <use x=\"63.623047\" xlink:href=\"#DejaVuSans-35\"/>\r\n      </g>\r\n     </g>\r\n    </g>\r\n    <g id=\"xtick_7\">\r\n     <g id=\"line2d_7\">\r\n      <g>\r\n       <use style=\"stroke:#000000;stroke-width:0.8;\" x=\"455.249748\" xlink:href=\"#m9fecd87d4e\" y=\"387.72\"/>\r\n      </g>\r\n     </g>\r\n     <g id=\"text_7\">\r\n      <!-- 50 -->\r\n      <g transform=\"translate(448.887248 402.318437)scale(0.1 -0.1)\">\r\n       <use xlink:href=\"#DejaVuSans-35\"/>\r\n       <use x=\"63.623047\" xlink:href=\"#DejaVuSans-30\"/>\r\n      </g>\r\n     </g>\r\n    </g>\r\n    <g id=\"xtick_8\">\r\n     <g id=\"line2d_8\">\r\n      <g>\r\n       <use style=\"stroke:#000000;stroke-width:0.8;\" x=\"519.952902\" xlink:href=\"#m9fecd87d4e\" y=\"387.72\"/>\r\n      </g>\r\n     </g>\r\n     <g id=\"text_8\">\r\n      <!-- 75 -->\r\n      <g transform=\"translate(513.590402 402.318437)scale(0.1 -0.1)\">\r\n       <use xlink:href=\"#DejaVuSans-37\"/>\r\n       <use x=\"63.623047\" xlink:href=\"#DejaVuSans-35\"/>\r\n      </g>\r\n     </g>\r\n    </g>\r\n    <g id=\"xtick_9\">\r\n     <g id=\"line2d_9\">\r\n      <g>\r\n       <use style=\"stroke:#000000;stroke-width:0.8;\" x=\"584.656056\" xlink:href=\"#m9fecd87d4e\" y=\"387.72\"/>\r\n      </g>\r\n     </g>\r\n     <g id=\"text_9\">\r\n      <!-- 100 -->\r\n      <g transform=\"translate(575.112306 402.318437)scale(0.1 -0.1)\">\r\n       <use xlink:href=\"#DejaVuSans-31\"/>\r\n       <use x=\"63.623047\" xlink:href=\"#DejaVuSans-30\"/>\r\n       <use x=\"127.246094\" xlink:href=\"#DejaVuSans-30\"/>\r\n      </g>\r\n     </g>\r\n    </g>\r\n   </g>\r\n   <g id=\"matplotlib.axis_2\">\r\n    <g id=\"ytick_1\">\r\n     <g id=\"line2d_10\">\r\n      <defs>\r\n       <path d=\"M 0 0 \r\nL -3.5 0 \r\n\" id=\"mb91c8c81a3\" style=\"stroke:#000000;stroke-width:0.8;\"/>\r\n      </defs>\r\n      <g>\r\n       <use style=\"stroke:#000000;stroke-width:0.8;\" x=\"41.667188\" xlink:href=\"#mb91c8c81a3\" y=\"387.708468\"/>\r\n      </g>\r\n     </g>\r\n     <g id=\"text_10\">\r\n      <!-- −100 -->\r\n      <g transform=\"translate(7.2 391.507686)scale(0.1 -0.1)\">\r\n       <use xlink:href=\"#DejaVuSans-2212\"/>\r\n       <use x=\"83.789062\" xlink:href=\"#DejaVuSans-31\"/>\r\n       <use x=\"147.412109\" xlink:href=\"#DejaVuSans-30\"/>\r\n       <use x=\"211.035156\" xlink:href=\"#DejaVuSans-30\"/>\r\n      </g>\r\n     </g>\r\n    </g>\r\n    <g id=\"ytick_2\">\r\n     <g id=\"line2d_11\">\r\n      <g>\r\n       <use style=\"stroke:#000000;stroke-width:0.8;\" x=\"41.667188\" xlink:href=\"#mb91c8c81a3\" y=\"344.496389\"/>\r\n      </g>\r\n     </g>\r\n     <g id=\"text_11\">\r\n      <!-- −75 -->\r\n      <g transform=\"translate(13.5625 348.295608)scale(0.1 -0.1)\">\r\n       <use xlink:href=\"#DejaVuSans-2212\"/>\r\n       <use x=\"83.789062\" xlink:href=\"#DejaVuSans-37\"/>\r\n       <use x=\"147.412109\" xlink:href=\"#DejaVuSans-35\"/>\r\n      </g>\r\n     </g>\r\n    </g>\r\n    <g id=\"ytick_3\">\r\n     <g id=\"line2d_12\">\r\n      <g>\r\n       <use style=\"stroke:#000000;stroke-width:0.8;\" x=\"41.667188\" xlink:href=\"#mb91c8c81a3\" y=\"301.284311\"/>\r\n      </g>\r\n     </g>\r\n     <g id=\"text_12\">\r\n      <!-- −50 -->\r\n      <g transform=\"translate(13.5625 305.08353)scale(0.1 -0.1)\">\r\n       <use xlink:href=\"#DejaVuSans-2212\"/>\r\n       <use x=\"83.789062\" xlink:href=\"#DejaVuSans-35\"/>\r\n       <use x=\"147.412109\" xlink:href=\"#DejaVuSans-30\"/>\r\n      </g>\r\n     </g>\r\n    </g>\r\n    <g id=\"ytick_4\">\r\n     <g id=\"line2d_13\">\r\n      <g>\r\n       <use style=\"stroke:#000000;stroke-width:0.8;\" x=\"41.667188\" xlink:href=\"#mb91c8c81a3\" y=\"258.072233\"/>\r\n      </g>\r\n     </g>\r\n     <g id=\"text_13\">\r\n      <!-- −25 -->\r\n      <g transform=\"translate(13.5625 261.871451)scale(0.1 -0.1)\">\r\n       <use xlink:href=\"#DejaVuSans-2212\"/>\r\n       <use x=\"83.789062\" xlink:href=\"#DejaVuSans-32\"/>\r\n       <use x=\"147.412109\" xlink:href=\"#DejaVuSans-35\"/>\r\n      </g>\r\n     </g>\r\n    </g>\r\n    <g id=\"ytick_5\">\r\n     <g id=\"line2d_14\">\r\n      <g>\r\n       <use style=\"stroke:#000000;stroke-width:0.8;\" x=\"41.667188\" xlink:href=\"#mb91c8c81a3\" y=\"214.860154\"/>\r\n      </g>\r\n     </g>\r\n     <g id=\"text_14\">\r\n      <!-- 0 -->\r\n      <g transform=\"translate(28.304688 218.659373)scale(0.1 -0.1)\">\r\n       <use xlink:href=\"#DejaVuSans-30\"/>\r\n      </g>\r\n     </g>\r\n    </g>\r\n    <g id=\"ytick_6\">\r\n     <g id=\"line2d_15\">\r\n      <g>\r\n       <use style=\"stroke:#000000;stroke-width:0.8;\" x=\"41.667188\" xlink:href=\"#mb91c8c81a3\" y=\"171.648076\"/>\r\n      </g>\r\n     </g>\r\n     <g id=\"text_15\">\r\n      <!-- 25 -->\r\n      <g transform=\"translate(21.942188 175.447294)scale(0.1 -0.1)\">\r\n       <use xlink:href=\"#DejaVuSans-32\"/>\r\n       <use x=\"63.623047\" xlink:href=\"#DejaVuSans-35\"/>\r\n      </g>\r\n     </g>\r\n    </g>\r\n    <g id=\"ytick_7\">\r\n     <g id=\"line2d_16\">\r\n      <g>\r\n       <use style=\"stroke:#000000;stroke-width:0.8;\" x=\"41.667188\" xlink:href=\"#mb91c8c81a3\" y=\"128.435997\"/>\r\n      </g>\r\n     </g>\r\n     <g id=\"text_16\">\r\n      <!-- 50 -->\r\n      <g transform=\"translate(21.942188 132.235216)scale(0.1 -0.1)\">\r\n       <use xlink:href=\"#DejaVuSans-35\"/>\r\n       <use x=\"63.623047\" xlink:href=\"#DejaVuSans-30\"/>\r\n      </g>\r\n     </g>\r\n    </g>\r\n    <g id=\"ytick_8\">\r\n     <g id=\"line2d_17\">\r\n      <g>\r\n       <use style=\"stroke:#000000;stroke-width:0.8;\" x=\"41.667188\" xlink:href=\"#mb91c8c81a3\" y=\"85.223919\"/>\r\n      </g>\r\n     </g>\r\n     <g id=\"text_17\">\r\n      <!-- 75 -->\r\n      <g transform=\"translate(21.942188 89.023138)scale(0.1 -0.1)\">\r\n       <use xlink:href=\"#DejaVuSans-37\"/>\r\n       <use x=\"63.623047\" xlink:href=\"#DejaVuSans-35\"/>\r\n      </g>\r\n     </g>\r\n    </g>\r\n    <g id=\"ytick_9\">\r\n     <g id=\"line2d_18\">\r\n      <g>\r\n       <use style=\"stroke:#000000;stroke-width:0.8;\" x=\"41.667188\" xlink:href=\"#mb91c8c81a3\" y=\"42.011841\"/>\r\n      </g>\r\n     </g>\r\n     <g id=\"text_18\">\r\n      <!-- 100 -->\r\n      <g transform=\"translate(15.579688 45.811059)scale(0.1 -0.1)\">\r\n       <use xlink:href=\"#DejaVuSans-31\"/>\r\n       <use x=\"63.623047\" xlink:href=\"#DejaVuSans-30\"/>\r\n       <use x=\"127.246094\" xlink:href=\"#DejaVuSans-30\"/>\r\n      </g>\r\n     </g>\r\n    </g>\r\n   </g>\r\n   <g id=\"patch_3\">\r\n    <path d=\"M 41.667188 387.72 \r\nL 41.667188 7.2 \r\n\" style=\"fill:none;stroke:#000000;stroke-linecap:square;stroke-linejoin:miter;stroke-width:0.8;\"/>\r\n   </g>\r\n   <g id=\"patch_4\">\r\n    <path d=\"M 599.667187 387.72 \r\nL 599.667187 7.2 \r\n\" style=\"fill:none;stroke:#000000;stroke-linecap:square;stroke-linejoin:miter;stroke-width:0.8;\"/>\r\n   </g>\r\n   <g id=\"patch_5\">\r\n    <path d=\"M 41.667188 387.72 \r\nL 599.667188 387.72 \r\n\" style=\"fill:none;stroke:#000000;stroke-linecap:square;stroke-linejoin:miter;stroke-width:0.8;\"/>\r\n   </g>\r\n   <g id=\"patch_6\">\r\n    <path d=\"M 41.667188 7.2 \r\nL 599.667188 7.2 \r\n\" style=\"fill:none;stroke:#000000;stroke-linecap:square;stroke-linejoin:miter;stroke-width:0.8;\"/>\r\n   </g>\r\n   <g id=\"legend_1\">\r\n    <g id=\"patch_7\">\r\n     <path d=\"M 48.667188 59.234375 \r\nL 147.173438 59.234375 \r\nQ 149.173438 59.234375 149.173438 57.234375 \r\nL 149.173438 14.2 \r\nQ 149.173438 12.2 147.173438 12.2 \r\nL 48.667188 12.2 \r\nQ 46.667188 12.2 46.667188 14.2 \r\nL 46.667188 57.234375 \r\nQ 46.667188 59.234375 48.667188 59.234375 \r\nz\r\n\" style=\"fill:#ffffff;opacity:0.8;stroke:#cccccc;stroke-linejoin:miter;\"/>\r\n    </g>\r\n    <g id=\"PathCollection_4\">\r\n     <g>\r\n      <use style=\"fill:#0000ff;stroke:#0000ff;\" x=\"60.667188\" xlink:href=\"#m3aab979eec\" y=\"21.173437\"/>\r\n     </g>\r\n    </g>\r\n    <g id=\"text_19\">\r\n     <!-- Training Data -->\r\n     <g transform=\"translate(78.667188 23.798437)scale(0.1 -0.1)\">\r\n      <defs>\r\n       <path d=\"M -19 4666 \r\nL 3928 4666 \r\nL 3928 4134 \r\nL 2272 4134 \r\nL 2272 0 \r\nL 1638 0 \r\nL 1638 4134 \r\nL -19 4134 \r\nL -19 4666 \r\nz\r\n\" id=\"DejaVuSans-54\" transform=\"scale(0.015625)\"/>\r\n       <path d=\"M 2631 2963 \r\nQ 2534 3019 2420 3045 \r\nQ 2306 3072 2169 3072 \r\nQ 1681 3072 1420 2755 \r\nQ 1159 2438 1159 1844 \r\nL 1159 0 \r\nL 581 0 \r\nL 581 3500 \r\nL 1159 3500 \r\nL 1159 2956 \r\nQ 1341 3275 1631 3429 \r\nQ 1922 3584 2338 3584 \r\nQ 2397 3584 2469 3576 \r\nQ 2541 3569 2628 3553 \r\nL 2631 2963 \r\nz\r\n\" id=\"DejaVuSans-72\" transform=\"scale(0.015625)\"/>\r\n       <path d=\"M 2194 1759 \r\nQ 1497 1759 1228 1600 \r\nQ 959 1441 959 1056 \r\nQ 959 750 1161 570 \r\nQ 1363 391 1709 391 \r\nQ 2188 391 2477 730 \r\nQ 2766 1069 2766 1631 \r\nL 2766 1759 \r\nL 2194 1759 \r\nz\r\nM 3341 1997 \r\nL 3341 0 \r\nL 2766 0 \r\nL 2766 531 \r\nQ 2569 213 2275 61 \r\nQ 1981 -91 1556 -91 \r\nQ 1019 -91 701 211 \r\nQ 384 513 384 1019 \r\nQ 384 1609 779 1909 \r\nQ 1175 2209 1959 2209 \r\nL 2766 2209 \r\nL 2766 2266 \r\nQ 2766 2663 2505 2880 \r\nQ 2244 3097 1772 3097 \r\nQ 1472 3097 1187 3025 \r\nQ 903 2953 641 2809 \r\nL 641 3341 \r\nQ 956 3463 1253 3523 \r\nQ 1550 3584 1831 3584 \r\nQ 2591 3584 2966 3190 \r\nQ 3341 2797 3341 1997 \r\nz\r\n\" id=\"DejaVuSans-61\" transform=\"scale(0.015625)\"/>\r\n       <path d=\"M 603 3500 \r\nL 1178 3500 \r\nL 1178 0 \r\nL 603 0 \r\nL 603 3500 \r\nz\r\nM 603 4863 \r\nL 1178 4863 \r\nL 1178 4134 \r\nL 603 4134 \r\nL 603 4863 \r\nz\r\n\" id=\"DejaVuSans-69\" transform=\"scale(0.015625)\"/>\r\n       <path d=\"M 3513 2113 \r\nL 3513 0 \r\nL 2938 0 \r\nL 2938 2094 \r\nQ 2938 2591 2744 2837 \r\nQ 2550 3084 2163 3084 \r\nQ 1697 3084 1428 2787 \r\nQ 1159 2491 1159 1978 \r\nL 1159 0 \r\nL 581 0 \r\nL 581 3500 \r\nL 1159 3500 \r\nL 1159 2956 \r\nQ 1366 3272 1645 3428 \r\nQ 1925 3584 2291 3584 \r\nQ 2894 3584 3203 3211 \r\nQ 3513 2838 3513 2113 \r\nz\r\n\" id=\"DejaVuSans-6e\" transform=\"scale(0.015625)\"/>\r\n       <path d=\"M 2906 1791 \r\nQ 2906 2416 2648 2759 \r\nQ 2391 3103 1925 3103 \r\nQ 1463 3103 1205 2759 \r\nQ 947 2416 947 1791 \r\nQ 947 1169 1205 825 \r\nQ 1463 481 1925 481 \r\nQ 2391 481 2648 825 \r\nQ 2906 1169 2906 1791 \r\nz\r\nM 3481 434 \r\nQ 3481 -459 3084 -895 \r\nQ 2688 -1331 1869 -1331 \r\nQ 1566 -1331 1297 -1286 \r\nQ 1028 -1241 775 -1147 \r\nL 775 -588 \r\nQ 1028 -725 1275 -790 \r\nQ 1522 -856 1778 -856 \r\nQ 2344 -856 2625 -561 \r\nQ 2906 -266 2906 331 \r\nL 2906 616 \r\nQ 2728 306 2450 153 \r\nQ 2172 0 1784 0 \r\nQ 1141 0 747 490 \r\nQ 353 981 353 1791 \r\nQ 353 2603 747 3093 \r\nQ 1141 3584 1784 3584 \r\nQ 2172 3584 2450 3431 \r\nQ 2728 3278 2906 2969 \r\nL 2906 3500 \r\nL 3481 3500 \r\nL 3481 434 \r\nz\r\n\" id=\"DejaVuSans-67\" transform=\"scale(0.015625)\"/>\r\n       <path id=\"DejaVuSans-20\" transform=\"scale(0.015625)\"/>\r\n       <path d=\"M 1259 4147 \r\nL 1259 519 \r\nL 2022 519 \r\nQ 2988 519 3436 956 \r\nQ 3884 1394 3884 2338 \r\nQ 3884 3275 3436 3711 \r\nQ 2988 4147 2022 4147 \r\nL 1259 4147 \r\nz\r\nM 628 4666 \r\nL 1925 4666 \r\nQ 3281 4666 3915 4102 \r\nQ 4550 3538 4550 2338 \r\nQ 4550 1131 3912 565 \r\nQ 3275 0 1925 0 \r\nL 628 0 \r\nL 628 4666 \r\nz\r\n\" id=\"DejaVuSans-44\" transform=\"scale(0.015625)\"/>\r\n       <path d=\"M 1172 4494 \r\nL 1172 3500 \r\nL 2356 3500 \r\nL 2356 3053 \r\nL 1172 3053 \r\nL 1172 1153 \r\nQ 1172 725 1289 603 \r\nQ 1406 481 1766 481 \r\nL 2356 481 \r\nL 2356 0 \r\nL 1766 0 \r\nQ 1100 0 847 248 \r\nQ 594 497 594 1153 \r\nL 594 3053 \r\nL 172 3053 \r\nL 172 3500 \r\nL 594 3500 \r\nL 594 4494 \r\nL 1172 4494 \r\nz\r\n\" id=\"DejaVuSans-74\" transform=\"scale(0.015625)\"/>\r\n      </defs>\r\n      <use xlink:href=\"#DejaVuSans-54\"/>\r\n      <use x=\"46.333984\" xlink:href=\"#DejaVuSans-72\"/>\r\n      <use x=\"87.447266\" xlink:href=\"#DejaVuSans-61\"/>\r\n      <use x=\"148.726562\" xlink:href=\"#DejaVuSans-69\"/>\r\n      <use x=\"176.509766\" xlink:href=\"#DejaVuSans-6e\"/>\r\n      <use x=\"239.888672\" xlink:href=\"#DejaVuSans-69\"/>\r\n      <use x=\"267.671875\" xlink:href=\"#DejaVuSans-6e\"/>\r\n      <use x=\"331.050781\" xlink:href=\"#DejaVuSans-67\"/>\r\n      <use x=\"394.527344\" xlink:href=\"#DejaVuSans-20\"/>\r\n      <use x=\"426.314453\" xlink:href=\"#DejaVuSans-44\"/>\r\n      <use x=\"503.316406\" xlink:href=\"#DejaVuSans-61\"/>\r\n      <use x=\"564.595703\" xlink:href=\"#DejaVuSans-74\"/>\r\n      <use x=\"603.804688\" xlink:href=\"#DejaVuSans-61\"/>\r\n     </g>\r\n    </g>\r\n    <g id=\"PathCollection_5\">\r\n     <g>\r\n      <use style=\"fill:#008000;stroke:#008000;\" x=\"60.667188\" xlink:href=\"#m759ed0480e\" y=\"35.851562\"/>\r\n     </g>\r\n    </g>\r\n    <g id=\"text_20\">\r\n     <!-- Testing data -->\r\n     <g transform=\"translate(78.667188 38.476562)scale(0.1 -0.1)\">\r\n      <defs>\r\n       <path d=\"M 3597 1894 \r\nL 3597 1613 \r\nL 953 1613 \r\nQ 991 1019 1311 708 \r\nQ 1631 397 2203 397 \r\nQ 2534 397 2845 478 \r\nQ 3156 559 3463 722 \r\nL 3463 178 \r\nQ 3153 47 2828 -22 \r\nQ 2503 -91 2169 -91 \r\nQ 1331 -91 842 396 \r\nQ 353 884 353 1716 \r\nQ 353 2575 817 3079 \r\nQ 1281 3584 2069 3584 \r\nQ 2775 3584 3186 3129 \r\nQ 3597 2675 3597 1894 \r\nz\r\nM 3022 2063 \r\nQ 3016 2534 2758 2815 \r\nQ 2500 3097 2075 3097 \r\nQ 1594 3097 1305 2825 \r\nQ 1016 2553 972 2059 \r\nL 3022 2063 \r\nz\r\n\" id=\"DejaVuSans-65\" transform=\"scale(0.015625)\"/>\r\n       <path d=\"M 2834 3397 \r\nL 2834 2853 \r\nQ 2591 2978 2328 3040 \r\nQ 2066 3103 1784 3103 \r\nQ 1356 3103 1142 2972 \r\nQ 928 2841 928 2578 \r\nQ 928 2378 1081 2264 \r\nQ 1234 2150 1697 2047 \r\nL 1894 2003 \r\nQ 2506 1872 2764 1633 \r\nQ 3022 1394 3022 966 \r\nQ 3022 478 2636 193 \r\nQ 2250 -91 1575 -91 \r\nQ 1294 -91 989 -36 \r\nQ 684 19 347 128 \r\nL 347 722 \r\nQ 666 556 975 473 \r\nQ 1284 391 1588 391 \r\nQ 1994 391 2212 530 \r\nQ 2431 669 2431 922 \r\nQ 2431 1156 2273 1281 \r\nQ 2116 1406 1581 1522 \r\nL 1381 1569 \r\nQ 847 1681 609 1914 \r\nQ 372 2147 372 2553 \r\nQ 372 3047 722 3315 \r\nQ 1072 3584 1716 3584 \r\nQ 2034 3584 2315 3537 \r\nQ 2597 3491 2834 3397 \r\nz\r\n\" id=\"DejaVuSans-73\" transform=\"scale(0.015625)\"/>\r\n       <path d=\"M 2906 2969 \r\nL 2906 4863 \r\nL 3481 4863 \r\nL 3481 0 \r\nL 2906 0 \r\nL 2906 525 \r\nQ 2725 213 2448 61 \r\nQ 2172 -91 1784 -91 \r\nQ 1150 -91 751 415 \r\nQ 353 922 353 1747 \r\nQ 353 2572 751 3078 \r\nQ 1150 3584 1784 3584 \r\nQ 2172 3584 2448 3432 \r\nQ 2725 3281 2906 2969 \r\nz\r\nM 947 1747 \r\nQ 947 1113 1208 752 \r\nQ 1469 391 1925 391 \r\nQ 2381 391 2643 752 \r\nQ 2906 1113 2906 1747 \r\nQ 2906 2381 2643 2742 \r\nQ 2381 3103 1925 3103 \r\nQ 1469 3103 1208 2742 \r\nQ 947 2381 947 1747 \r\nz\r\n\" id=\"DejaVuSans-64\" transform=\"scale(0.015625)\"/>\r\n      </defs>\r\n      <use xlink:href=\"#DejaVuSans-54\"/>\r\n      <use x=\"44.083984\" xlink:href=\"#DejaVuSans-65\"/>\r\n      <use x=\"105.607422\" xlink:href=\"#DejaVuSans-73\"/>\r\n      <use x=\"157.707031\" xlink:href=\"#DejaVuSans-74\"/>\r\n      <use x=\"196.916016\" xlink:href=\"#DejaVuSans-69\"/>\r\n      <use x=\"224.699219\" xlink:href=\"#DejaVuSans-6e\"/>\r\n      <use x=\"288.078125\" xlink:href=\"#DejaVuSans-67\"/>\r\n      <use x=\"351.554688\" xlink:href=\"#DejaVuSans-20\"/>\r\n      <use x=\"383.341797\" xlink:href=\"#DejaVuSans-64\"/>\r\n      <use x=\"446.818359\" xlink:href=\"#DejaVuSans-61\"/>\r\n      <use x=\"508.097656\" xlink:href=\"#DejaVuSans-74\"/>\r\n      <use x=\"547.306641\" xlink:href=\"#DejaVuSans-61\"/>\r\n     </g>\r\n    </g>\r\n    <g id=\"PathCollection_6\">\r\n     <g>\r\n      <use style=\"fill:#ff0000;stroke:#ff0000;\" x=\"60.667188\" xlink:href=\"#m0c19cd441f\" y=\"50.529687\"/>\r\n     </g>\r\n    </g>\r\n    <g id=\"text_21\">\r\n     <!-- Predictions -->\r\n     <g transform=\"translate(78.667188 53.154687)scale(0.1 -0.1)\">\r\n      <defs>\r\n       <path d=\"M 1259 4147 \r\nL 1259 2394 \r\nL 2053 2394 \r\nQ 2494 2394 2734 2622 \r\nQ 2975 2850 2975 3272 \r\nQ 2975 3691 2734 3919 \r\nQ 2494 4147 2053 4147 \r\nL 1259 4147 \r\nz\r\nM 628 4666 \r\nL 2053 4666 \r\nQ 2838 4666 3239 4311 \r\nQ 3641 3956 3641 3272 \r\nQ 3641 2581 3239 2228 \r\nQ 2838 1875 2053 1875 \r\nL 1259 1875 \r\nL 1259 0 \r\nL 628 0 \r\nL 628 4666 \r\nz\r\n\" id=\"DejaVuSans-50\" transform=\"scale(0.015625)\"/>\r\n       <path d=\"M 3122 3366 \r\nL 3122 2828 \r\nQ 2878 2963 2633 3030 \r\nQ 2388 3097 2138 3097 \r\nQ 1578 3097 1268 2742 \r\nQ 959 2388 959 1747 \r\nQ 959 1106 1268 751 \r\nQ 1578 397 2138 397 \r\nQ 2388 397 2633 464 \r\nQ 2878 531 3122 666 \r\nL 3122 134 \r\nQ 2881 22 2623 -34 \r\nQ 2366 -91 2075 -91 \r\nQ 1284 -91 818 406 \r\nQ 353 903 353 1747 \r\nQ 353 2603 823 3093 \r\nQ 1294 3584 2113 3584 \r\nQ 2378 3584 2631 3529 \r\nQ 2884 3475 3122 3366 \r\nz\r\n\" id=\"DejaVuSans-63\" transform=\"scale(0.015625)\"/>\r\n       <path d=\"M 1959 3097 \r\nQ 1497 3097 1228 2736 \r\nQ 959 2375 959 1747 \r\nQ 959 1119 1226 758 \r\nQ 1494 397 1959 397 \r\nQ 2419 397 2687 759 \r\nQ 2956 1122 2956 1747 \r\nQ 2956 2369 2687 2733 \r\nQ 2419 3097 1959 3097 \r\nz\r\nM 1959 3584 \r\nQ 2709 3584 3137 3096 \r\nQ 3566 2609 3566 1747 \r\nQ 3566 888 3137 398 \r\nQ 2709 -91 1959 -91 \r\nQ 1206 -91 779 398 \r\nQ 353 888 353 1747 \r\nQ 353 2609 779 3096 \r\nQ 1206 3584 1959 3584 \r\nz\r\n\" id=\"DejaVuSans-6f\" transform=\"scale(0.015625)\"/>\r\n      </defs>\r\n      <use xlink:href=\"#DejaVuSans-50\"/>\r\n      <use x=\"58.552734\" xlink:href=\"#DejaVuSans-72\"/>\r\n      <use x=\"97.416016\" xlink:href=\"#DejaVuSans-65\"/>\r\n      <use x=\"158.939453\" xlink:href=\"#DejaVuSans-64\"/>\r\n      <use x=\"222.416016\" xlink:href=\"#DejaVuSans-69\"/>\r\n      <use x=\"250.199219\" xlink:href=\"#DejaVuSans-63\"/>\r\n      <use x=\"305.179688\" xlink:href=\"#DejaVuSans-74\"/>\r\n      <use x=\"344.388672\" xlink:href=\"#DejaVuSans-69\"/>\r\n      <use x=\"372.171875\" xlink:href=\"#DejaVuSans-6f\"/>\r\n      <use x=\"433.353516\" xlink:href=\"#DejaVuSans-6e\"/>\r\n      <use x=\"496.732422\" xlink:href=\"#DejaVuSans-73\"/>\r\n     </g>\r\n    </g>\r\n   </g>\r\n  </g>\r\n </g>\r\n <defs>\r\n  <clipPath id=\"p6267c91bd5\">\r\n   <rect height=\"380.52\" width=\"558\" x=\"41.667188\" y=\"7.2\"/>\r\n  </clipPath>\r\n </defs>\r\n</svg>\r\n",
      "image/png": "[encoded data removed]"
     },
     "metadata": {
      "needs_background": "light"
     }
    }
   ],
   "source": [
    "y_predicts_2 = model_2.predict(X_test)\n",
    "plot_predictions(prediction = y_predicts_2)"
   ]
  },
  {
   "cell_type": "code",
   "execution_count": 89,
   "metadata": {},
   "outputs": [
    {
     "output_type": "execute_result",
     "data": {
      "text/plain": [
       "(1.9097328, 5.45877)"
      ]
     },
     "metadata": {},
     "execution_count": 89
    }
   ],
   "source": [
    "mae_2 = mae(y_test, y_predicts_2.squeeze()).numpy()\n",
    "mse_2 = mse(y_test, y_predicts_2.squeeze()).numpy()\n",
    "mae_2, mse_2"
   ]
  },
  {
   "source": [
    "## model_3 생성"
   ],
   "cell_type": "markdown",
   "metadata": {}
  },
  {
   "cell_type": "code",
   "execution_count": 109,
   "metadata": {},
   "outputs": [
    {
     "output_type": "execute_result",
     "data": {
      "text/plain": [
       "<tensorflow.python.keras.callbacks.History at 0x1a533839100>"
      ]
     },
     "metadata": {},
     "execution_count": 109
    }
   ],
   "source": [
    "tf.random.set_seed(42)\n",
    "\n",
    "model_3 = tf.keras.Sequential([\n",
    "    tf.keras.layers.Dense(1),\n",
    "    tf.keras.layers.Dense(1),\n",
    "])\n",
    "\n",
    "model_3.compile(\n",
    "    loss = tf.keras.losses.mae,\n",
    "    optimizer = tf.keras.optimizers.SGD(),\n",
    "    metrics = [\"mae\"]\n",
    ")\n",
    "\n",
    "model_3.fit(X_train, y_train, epochs=5000, verbose=0)"
   ]
  },
  {
   "cell_type": "code",
   "execution_count": 110,
   "metadata": {},
   "outputs": [
    {
     "output_type": "display_data",
     "data": {
      "text/plain": "<Figure size 720x504 with 1 Axes>",
      "image/svg+xml": "<?xml version=\"1.0\" encoding=\"utf-8\" standalone=\"no\"?>\r\n<!DOCTYPE svg PUBLIC \"-//W3C//DTD SVG 1.1//EN\"\r\n  \"http://www.w3.org/Graphics/SVG/1.1/DTD/svg11.dtd\">\r\n<svg height=\"411.598125pt\" version=\"1.1\" viewBox=\"0 0 600.504688 411.598125\" width=\"600.504688pt\" xmlns=\"http://www.w3.org/2000/svg\" xmlns:xlink=\"http://www.w3.org/1999/xlink\">\r\n <metadata>\r\n  <rdf:RDF xmlns:cc=\"http://creativecommons.org/ns#\" xmlns:dc=\"http://purl.org/dc/elements/1.1/\" xmlns:rdf=\"http://www.w3.org/1999/02/22-rdf-syntax-ns#\">\r\n   <cc:Work>\r\n    <dc:type rdf:resource=\"http://purl.org/dc/dcmitype/StillImage\"/>\r\n    <dc:date>2021-05-30T14:37:59.122524</dc:date>\r\n    <dc:format>image/svg+xml</dc:format>\r\n    <dc:creator>\r\n     <cc:Agent>\r\n      <dc:title>Matplotlib v3.4.2, https://matplotlib.org/</dc:title>\r\n     </cc:Agent>\r\n    </dc:creator>\r\n   </cc:Work>\r\n  </rdf:RDF>\r\n </metadata>\r\n <defs>\r\n  <style type=\"text/css\">*{stroke-linecap:butt;stroke-linejoin:round;}</style>\r\n </defs>\r\n <g id=\"figure_1\">\r\n  <g id=\"patch_1\">\r\n   <path d=\"M 0 411.598125 \r\nL 600.504688 411.598125 \r\nL 600.504688 0 \r\nL 0 0 \r\nz\r\n\" style=\"fill:none;\"/>\r\n  </g>\r\n  <g id=\"axes_1\">\r\n   <g id=\"patch_2\">\r\n    <path d=\"M 35.304688 387.72 \r\nL 593.304688 387.72 \r\nL 593.304688 7.2 \r\nL 35.304688 7.2 \r\nz\r\n\" style=\"fill:#ffffff;\"/>\r\n   </g>\r\n   <g id=\"PathCollection_1\">\r\n    <defs>\r\n     <path d=\"M 0 3 \r\nC 0.795609 3 1.55874 2.683901 2.12132 2.12132 \r\nC 2.683901 1.55874 3 0.795609 3 0 \r\nC 3 -0.795609 2.683901 -1.55874 2.12132 -2.12132 \r\nC 1.55874 -2.683901 0.795609 -3 0 -3 \r\nC -0.795609 -3 -1.55874 -2.683901 -2.12132 -2.12132 \r\nC -2.683901 -1.55874 -3 -0.795609 -3 0 \r\nC -3 0.795609 -2.683901 1.55874 -2.12132 2.12132 \r\nC -1.55874 2.683901 -0.795609 3 0 3 \r\nz\r\n\" id=\"mc333d89c86\" style=\"stroke:#0000ff;\"/>\r\n    </defs>\r\n    <g clip-path=\"url(#p20e9c85288)\">\r\n     <use style=\"fill:#0000ff;stroke:#0000ff;\" x=\"60.668324\" xlink:href=\"#mc333d89c86\" y=\"370.423636\"/>\r\n     <use style=\"fill:#0000ff;stroke:#0000ff;\" x=\"71.020829\" xlink:href=\"#mc333d89c86\" y=\"363.363896\"/>\r\n     <use style=\"fill:#0000ff;stroke:#0000ff;\" x=\"81.373333\" xlink:href=\"#mc333d89c86\" y=\"356.304156\"/>\r\n     <use style=\"fill:#0000ff;stroke:#0000ff;\" x=\"91.725838\" xlink:href=\"#mc333d89c86\" y=\"349.244416\"/>\r\n     <use style=\"fill:#0000ff;stroke:#0000ff;\" x=\"102.078342\" xlink:href=\"#mc333d89c86\" y=\"342.184675\"/>\r\n     <use style=\"fill:#0000ff;stroke:#0000ff;\" x=\"112.430847\" xlink:href=\"#mc333d89c86\" y=\"335.124935\"/>\r\n     <use style=\"fill:#0000ff;stroke:#0000ff;\" x=\"122.783352\" xlink:href=\"#mc333d89c86\" y=\"328.065195\"/>\r\n     <use style=\"fill:#0000ff;stroke:#0000ff;\" x=\"133.135856\" xlink:href=\"#mc333d89c86\" y=\"321.005455\"/>\r\n     <use style=\"fill:#0000ff;stroke:#0000ff;\" x=\"143.488361\" xlink:href=\"#mc333d89c86\" y=\"313.945714\"/>\r\n     <use style=\"fill:#0000ff;stroke:#0000ff;\" x=\"153.840866\" xlink:href=\"#mc333d89c86\" y=\"306.885974\"/>\r\n     <use style=\"fill:#0000ff;stroke:#0000ff;\" x=\"164.19337\" xlink:href=\"#mc333d89c86\" y=\"299.826234\"/>\r\n     <use style=\"fill:#0000ff;stroke:#0000ff;\" x=\"174.545875\" xlink:href=\"#mc333d89c86\" y=\"292.766494\"/>\r\n     <use style=\"fill:#0000ff;stroke:#0000ff;\" x=\"184.89838\" xlink:href=\"#mc333d89c86\" y=\"285.706753\"/>\r\n     <use style=\"fill:#0000ff;stroke:#0000ff;\" x=\"195.250884\" xlink:href=\"#mc333d89c86\" y=\"278.647013\"/>\r\n     <use style=\"fill:#0000ff;stroke:#0000ff;\" x=\"205.603389\" xlink:href=\"#mc333d89c86\" y=\"271.587273\"/>\r\n     <use style=\"fill:#0000ff;stroke:#0000ff;\" x=\"215.955893\" xlink:href=\"#mc333d89c86\" y=\"264.527532\"/>\r\n     <use style=\"fill:#0000ff;stroke:#0000ff;\" x=\"226.308398\" xlink:href=\"#mc333d89c86\" y=\"257.467792\"/>\r\n     <use style=\"fill:#0000ff;stroke:#0000ff;\" x=\"236.660903\" xlink:href=\"#mc333d89c86\" y=\"250.408052\"/>\r\n     <use style=\"fill:#0000ff;stroke:#0000ff;\" x=\"247.013407\" xlink:href=\"#mc333d89c86\" y=\"243.348312\"/>\r\n     <use style=\"fill:#0000ff;stroke:#0000ff;\" x=\"257.365912\" xlink:href=\"#mc333d89c86\" y=\"236.288571\"/>\r\n     <use style=\"fill:#0000ff;stroke:#0000ff;\" x=\"267.718417\" xlink:href=\"#mc333d89c86\" y=\"229.228831\"/>\r\n     <use style=\"fill:#0000ff;stroke:#0000ff;\" x=\"278.070921\" xlink:href=\"#mc333d89c86\" y=\"222.169091\"/>\r\n     <use style=\"fill:#0000ff;stroke:#0000ff;\" x=\"288.423426\" xlink:href=\"#mc333d89c86\" y=\"215.109351\"/>\r\n     <use style=\"fill:#0000ff;stroke:#0000ff;\" x=\"298.775931\" xlink:href=\"#mc333d89c86\" y=\"208.04961\"/>\r\n     <use style=\"fill:#0000ff;stroke:#0000ff;\" x=\"309.128435\" xlink:href=\"#mc333d89c86\" y=\"200.98987\"/>\r\n     <use style=\"fill:#0000ff;stroke:#0000ff;\" x=\"319.48094\" xlink:href=\"#mc333d89c86\" y=\"193.93013\"/>\r\n     <use style=\"fill:#0000ff;stroke:#0000ff;\" x=\"329.833444\" xlink:href=\"#mc333d89c86\" y=\"186.87039\"/>\r\n     <use style=\"fill:#0000ff;stroke:#0000ff;\" x=\"340.185949\" xlink:href=\"#mc333d89c86\" y=\"179.810649\"/>\r\n     <use style=\"fill:#0000ff;stroke:#0000ff;\" x=\"350.538454\" xlink:href=\"#mc333d89c86\" y=\"172.750909\"/>\r\n     <use style=\"fill:#0000ff;stroke:#0000ff;\" x=\"360.890958\" xlink:href=\"#mc333d89c86\" y=\"165.691169\"/>\r\n     <use style=\"fill:#0000ff;stroke:#0000ff;\" x=\"371.243463\" xlink:href=\"#mc333d89c86\" y=\"158.631429\"/>\r\n     <use style=\"fill:#0000ff;stroke:#0000ff;\" x=\"381.595968\" xlink:href=\"#mc333d89c86\" y=\"151.571688\"/>\r\n     <use style=\"fill:#0000ff;stroke:#0000ff;\" x=\"391.948472\" xlink:href=\"#mc333d89c86\" y=\"144.511948\"/>\r\n     <use style=\"fill:#0000ff;stroke:#0000ff;\" x=\"402.300977\" xlink:href=\"#mc333d89c86\" y=\"137.452208\"/>\r\n     <use style=\"fill:#0000ff;stroke:#0000ff;\" x=\"412.653482\" xlink:href=\"#mc333d89c86\" y=\"130.392468\"/>\r\n     <use style=\"fill:#0000ff;stroke:#0000ff;\" x=\"423.005986\" xlink:href=\"#mc333d89c86\" y=\"123.332727\"/>\r\n     <use style=\"fill:#0000ff;stroke:#0000ff;\" x=\"433.358491\" xlink:href=\"#mc333d89c86\" y=\"116.272987\"/>\r\n     <use style=\"fill:#0000ff;stroke:#0000ff;\" x=\"443.710995\" xlink:href=\"#mc333d89c86\" y=\"109.213247\"/>\r\n     <use style=\"fill:#0000ff;stroke:#0000ff;\" x=\"454.0635\" xlink:href=\"#mc333d89c86\" y=\"102.153506\"/>\r\n     <use style=\"fill:#0000ff;stroke:#0000ff;\" x=\"464.416005\" xlink:href=\"#mc333d89c86\" y=\"95.093766\"/>\r\n    </g>\r\n   </g>\r\n   <g id=\"PathCollection_2\">\r\n    <defs>\r\n     <path d=\"M 0 3 \r\nC 0.795609 3 1.55874 2.683901 2.12132 2.12132 \r\nC 2.683901 1.55874 3 0.795609 3 0 \r\nC 3 -0.795609 2.683901 -1.55874 2.12132 -2.12132 \r\nC 1.55874 -2.683901 0.795609 -3 0 -3 \r\nC -0.795609 -3 -1.55874 -2.683901 -2.12132 -2.12132 \r\nC -2.683901 -1.55874 -3 -0.795609 -3 0 \r\nC -3 0.795609 -2.683901 1.55874 -2.12132 2.12132 \r\nC -1.55874 2.683901 -0.795609 3 0 3 \r\nz\r\n\" id=\"mc480f76385\" style=\"stroke:#008000;\"/>\r\n    </defs>\r\n    <g clip-path=\"url(#p20e9c85288)\">\r\n     <use style=\"fill:#008000;stroke:#008000;\" x=\"474.768509\" xlink:href=\"#mc480f76385\" y=\"88.034026\"/>\r\n     <use style=\"fill:#008000;stroke:#008000;\" x=\"485.121014\" xlink:href=\"#mc480f76385\" y=\"80.974286\"/>\r\n     <use style=\"fill:#008000;stroke:#008000;\" x=\"495.473519\" xlink:href=\"#mc480f76385\" y=\"73.914545\"/>\r\n     <use style=\"fill:#008000;stroke:#008000;\" x=\"505.826023\" xlink:href=\"#mc480f76385\" y=\"66.854805\"/>\r\n     <use style=\"fill:#008000;stroke:#008000;\" x=\"516.178528\" xlink:href=\"#mc480f76385\" y=\"59.795065\"/>\r\n     <use style=\"fill:#008000;stroke:#008000;\" x=\"526.531033\" xlink:href=\"#mc480f76385\" y=\"52.735325\"/>\r\n     <use style=\"fill:#008000;stroke:#008000;\" x=\"536.883537\" xlink:href=\"#mc480f76385\" y=\"45.675584\"/>\r\n     <use style=\"fill:#008000;stroke:#008000;\" x=\"547.236042\" xlink:href=\"#mc480f76385\" y=\"38.615844\"/>\r\n     <use style=\"fill:#008000;stroke:#008000;\" x=\"557.588546\" xlink:href=\"#mc480f76385\" y=\"31.556104\"/>\r\n     <use style=\"fill:#008000;stroke:#008000;\" x=\"567.941051\" xlink:href=\"#mc480f76385\" y=\"24.496364\"/>\r\n    </g>\r\n   </g>\r\n   <g id=\"PathCollection_3\">\r\n    <defs>\r\n     <path d=\"M 0 3 \r\nC 0.795609 3 1.55874 2.683901 2.12132 2.12132 \r\nC 2.683901 1.55874 3 0.795609 3 0 \r\nC 3 -0.795609 2.683901 -1.55874 2.12132 -2.12132 \r\nC 1.55874 -2.683901 0.795609 -3 0 -3 \r\nC -0.795609 -3 -1.55874 -2.683901 -2.12132 -2.12132 \r\nC -2.683901 -1.55874 -3 -0.795609 -3 0 \r\nC -3 0.795609 -2.683901 1.55874 -2.12132 2.12132 \r\nC -1.55874 2.683901 -0.795609 3 0 3 \r\nz\r\n\" id=\"m0c17846316\" style=\"stroke:#ff0000;\"/>\r\n    </defs>\r\n    <g clip-path=\"url(#p20e9c85288)\">\r\n     <use style=\"fill:#ff0000;stroke:#ff0000;\" x=\"474.768509\" xlink:href=\"#m0c17846316\" y=\"158.992597\"/>\r\n     <use style=\"fill:#ff0000;stroke:#ff0000;\" x=\"485.121014\" xlink:href=\"#m0c17846316\" y=\"156.339014\"/>\r\n     <use style=\"fill:#ff0000;stroke:#ff0000;\" x=\"495.473519\" xlink:href=\"#m0c17846316\" y=\"153.685431\"/>\r\n     <use style=\"fill:#ff0000;stroke:#ff0000;\" x=\"505.826023\" xlink:href=\"#m0c17846316\" y=\"151.031848\"/>\r\n     <use style=\"fill:#ff0000;stroke:#ff0000;\" x=\"516.178528\" xlink:href=\"#m0c17846316\" y=\"148.378258\"/>\r\n     <use style=\"fill:#ff0000;stroke:#ff0000;\" x=\"526.531033\" xlink:href=\"#m0c17846316\" y=\"145.724674\"/>\r\n     <use style=\"fill:#ff0000;stroke:#ff0000;\" x=\"536.883537\" xlink:href=\"#m0c17846316\" y=\"143.071091\"/>\r\n     <use style=\"fill:#ff0000;stroke:#ff0000;\" x=\"547.236042\" xlink:href=\"#m0c17846316\" y=\"140.417494\"/>\r\n     <use style=\"fill:#ff0000;stroke:#ff0000;\" x=\"557.588546\" xlink:href=\"#m0c17846316\" y=\"137.763911\"/>\r\n     <use style=\"fill:#ff0000;stroke:#ff0000;\" x=\"567.941051\" xlink:href=\"#m0c17846316\" y=\"135.110328\"/>\r\n    </g>\r\n   </g>\r\n   <g id=\"matplotlib.axis_1\">\r\n    <g id=\"xtick_1\">\r\n     <g id=\"line2d_1\">\r\n      <defs>\r\n       <path d=\"M 0 0 \r\nL 0 3.5 \r\n\" id=\"m039bf577af\" style=\"stroke:#000000;stroke-width:0.8;\"/>\r\n      </defs>\r\n      <g>\r\n       <use style=\"stroke:#000000;stroke-width:0.8;\" x=\"60.668324\" xlink:href=\"#m039bf577af\" y=\"387.72\"/>\r\n      </g>\r\n     </g>\r\n     <g id=\"text_1\">\r\n      <!-- −100 -->\r\n      <g transform=\"translate(46.93473 402.318437)scale(0.1 -0.1)\">\r\n       <defs>\r\n        <path d=\"M 678 2272 \r\nL 4684 2272 \r\nL 4684 1741 \r\nL 678 1741 \r\nL 678 2272 \r\nz\r\n\" id=\"DejaVuSans-2212\" transform=\"scale(0.015625)\"/>\r\n        <path d=\"M 794 531 \r\nL 1825 531 \r\nL 1825 4091 \r\nL 703 3866 \r\nL 703 4441 \r\nL 1819 4666 \r\nL 2450 4666 \r\nL 2450 531 \r\nL 3481 531 \r\nL 3481 0 \r\nL 794 0 \r\nL 794 531 \r\nz\r\n\" id=\"DejaVuSans-31\" transform=\"scale(0.015625)\"/>\r\n        <path d=\"M 2034 4250 \r\nQ 1547 4250 1301 3770 \r\nQ 1056 3291 1056 2328 \r\nQ 1056 1369 1301 889 \r\nQ 1547 409 2034 409 \r\nQ 2525 409 2770 889 \r\nQ 3016 1369 3016 2328 \r\nQ 3016 3291 2770 3770 \r\nQ 2525 4250 2034 4250 \r\nz\r\nM 2034 4750 \r\nQ 2819 4750 3233 4129 \r\nQ 3647 3509 3647 2328 \r\nQ 3647 1150 3233 529 \r\nQ 2819 -91 2034 -91 \r\nQ 1250 -91 836 529 \r\nQ 422 1150 422 2328 \r\nQ 422 3509 836 4129 \r\nQ 1250 4750 2034 4750 \r\nz\r\n\" id=\"DejaVuSans-30\" transform=\"scale(0.015625)\"/>\r\n       </defs>\r\n       <use xlink:href=\"#DejaVuSans-2212\"/>\r\n       <use x=\"83.789062\" xlink:href=\"#DejaVuSans-31\"/>\r\n       <use x=\"147.412109\" xlink:href=\"#DejaVuSans-30\"/>\r\n       <use x=\"211.035156\" xlink:href=\"#DejaVuSans-30\"/>\r\n      </g>\r\n     </g>\r\n    </g>\r\n    <g id=\"xtick_2\">\r\n     <g id=\"line2d_2\">\r\n      <g>\r\n       <use style=\"stroke:#000000;stroke-width:0.8;\" x=\"125.371478\" xlink:href=\"#m039bf577af\" y=\"387.72\"/>\r\n      </g>\r\n     </g>\r\n     <g id=\"text_2\">\r\n      <!-- −75 -->\r\n      <g transform=\"translate(114.819134 402.318437)scale(0.1 -0.1)\">\r\n       <defs>\r\n        <path d=\"M 525 4666 \r\nL 3525 4666 \r\nL 3525 4397 \r\nL 1831 0 \r\nL 1172 0 \r\nL 2766 4134 \r\nL 525 4134 \r\nL 525 4666 \r\nz\r\n\" id=\"DejaVuSans-37\" transform=\"scale(0.015625)\"/>\r\n        <path d=\"M 691 4666 \r\nL 3169 4666 \r\nL 3169 4134 \r\nL 1269 4134 \r\nL 1269 2991 \r\nQ 1406 3038 1543 3061 \r\nQ 1681 3084 1819 3084 \r\nQ 2600 3084 3056 2656 \r\nQ 3513 2228 3513 1497 \r\nQ 3513 744 3044 326 \r\nQ 2575 -91 1722 -91 \r\nQ 1428 -91 1123 -41 \r\nQ 819 9 494 109 \r\nL 494 744 \r\nQ 775 591 1075 516 \r\nQ 1375 441 1709 441 \r\nQ 2250 441 2565 725 \r\nQ 2881 1009 2881 1497 \r\nQ 2881 1984 2565 2268 \r\nQ 2250 2553 1709 2553 \r\nQ 1456 2553 1204 2497 \r\nQ 953 2441 691 2322 \r\nL 691 4666 \r\nz\r\n\" id=\"DejaVuSans-35\" transform=\"scale(0.015625)\"/>\r\n       </defs>\r\n       <use xlink:href=\"#DejaVuSans-2212\"/>\r\n       <use x=\"83.789062\" xlink:href=\"#DejaVuSans-37\"/>\r\n       <use x=\"147.412109\" xlink:href=\"#DejaVuSans-35\"/>\r\n      </g>\r\n     </g>\r\n    </g>\r\n    <g id=\"xtick_3\">\r\n     <g id=\"line2d_3\">\r\n      <g>\r\n       <use style=\"stroke:#000000;stroke-width:0.8;\" x=\"190.074632\" xlink:href=\"#m039bf577af\" y=\"387.72\"/>\r\n      </g>\r\n     </g>\r\n     <g id=\"text_3\">\r\n      <!-- −50 -->\r\n      <g transform=\"translate(179.522288 402.318437)scale(0.1 -0.1)\">\r\n       <use xlink:href=\"#DejaVuSans-2212\"/>\r\n       <use x=\"83.789062\" xlink:href=\"#DejaVuSans-35\"/>\r\n       <use x=\"147.412109\" xlink:href=\"#DejaVuSans-30\"/>\r\n      </g>\r\n     </g>\r\n    </g>\r\n    <g id=\"xtick_4\">\r\n     <g id=\"line2d_4\">\r\n      <g>\r\n       <use style=\"stroke:#000000;stroke-width:0.8;\" x=\"254.777786\" xlink:href=\"#m039bf577af\" y=\"387.72\"/>\r\n      </g>\r\n     </g>\r\n     <g id=\"text_4\">\r\n      <!-- −25 -->\r\n      <g transform=\"translate(244.225442 402.318437)scale(0.1 -0.1)\">\r\n       <defs>\r\n        <path d=\"M 1228 531 \r\nL 3431 531 \r\nL 3431 0 \r\nL 469 0 \r\nL 469 531 \r\nQ 828 903 1448 1529 \r\nQ 2069 2156 2228 2338 \r\nQ 2531 2678 2651 2914 \r\nQ 2772 3150 2772 3378 \r\nQ 2772 3750 2511 3984 \r\nQ 2250 4219 1831 4219 \r\nQ 1534 4219 1204 4116 \r\nQ 875 4013 500 3803 \r\nL 500 4441 \r\nQ 881 4594 1212 4672 \r\nQ 1544 4750 1819 4750 \r\nQ 2544 4750 2975 4387 \r\nQ 3406 4025 3406 3419 \r\nQ 3406 3131 3298 2873 \r\nQ 3191 2616 2906 2266 \r\nQ 2828 2175 2409 1742 \r\nQ 1991 1309 1228 531 \r\nz\r\n\" id=\"DejaVuSans-32\" transform=\"scale(0.015625)\"/>\r\n       </defs>\r\n       <use xlink:href=\"#DejaVuSans-2212\"/>\r\n       <use x=\"83.789062\" xlink:href=\"#DejaVuSans-32\"/>\r\n       <use x=\"147.412109\" xlink:href=\"#DejaVuSans-35\"/>\r\n      </g>\r\n     </g>\r\n    </g>\r\n    <g id=\"xtick_5\">\r\n     <g id=\"line2d_5\">\r\n      <g>\r\n       <use style=\"stroke:#000000;stroke-width:0.8;\" x=\"319.48094\" xlink:href=\"#m039bf577af\" y=\"387.72\"/>\r\n      </g>\r\n     </g>\r\n     <g id=\"text_5\">\r\n      <!-- 0 -->\r\n      <g transform=\"translate(316.29969 402.318437)scale(0.1 -0.1)\">\r\n       <use xlink:href=\"#DejaVuSans-30\"/>\r\n      </g>\r\n     </g>\r\n    </g>\r\n    <g id=\"xtick_6\">\r\n     <g id=\"line2d_6\">\r\n      <g>\r\n       <use style=\"stroke:#000000;stroke-width:0.8;\" x=\"384.184094\" xlink:href=\"#m039bf577af\" y=\"387.72\"/>\r\n      </g>\r\n     </g>\r\n     <g id=\"text_6\">\r\n      <!-- 25 -->\r\n      <g transform=\"translate(377.821594 402.318437)scale(0.1 -0.1)\">\r\n       <use xlink:href=\"#DejaVuSans-32\"/>\r\n       <use x=\"63.623047\" xlink:href=\"#DejaVuSans-35\"/>\r\n      </g>\r\n     </g>\r\n    </g>\r\n    <g id=\"xtick_7\">\r\n     <g id=\"line2d_7\">\r\n      <g>\r\n       <use style=\"stroke:#000000;stroke-width:0.8;\" x=\"448.887248\" xlink:href=\"#m039bf577af\" y=\"387.72\"/>\r\n      </g>\r\n     </g>\r\n     <g id=\"text_7\">\r\n      <!-- 50 -->\r\n      <g transform=\"translate(442.524748 402.318437)scale(0.1 -0.1)\">\r\n       <use xlink:href=\"#DejaVuSans-35\"/>\r\n       <use x=\"63.623047\" xlink:href=\"#DejaVuSans-30\"/>\r\n      </g>\r\n     </g>\r\n    </g>\r\n    <g id=\"xtick_8\">\r\n     <g id=\"line2d_8\">\r\n      <g>\r\n       <use style=\"stroke:#000000;stroke-width:0.8;\" x=\"513.590402\" xlink:href=\"#m039bf577af\" y=\"387.72\"/>\r\n      </g>\r\n     </g>\r\n     <g id=\"text_8\">\r\n      <!-- 75 -->\r\n      <g transform=\"translate(507.227902 402.318437)scale(0.1 -0.1)\">\r\n       <use xlink:href=\"#DejaVuSans-37\"/>\r\n       <use x=\"63.623047\" xlink:href=\"#DejaVuSans-35\"/>\r\n      </g>\r\n     </g>\r\n    </g>\r\n    <g id=\"xtick_9\">\r\n     <g id=\"line2d_9\">\r\n      <g>\r\n       <use style=\"stroke:#000000;stroke-width:0.8;\" x=\"578.293556\" xlink:href=\"#m039bf577af\" y=\"387.72\"/>\r\n      </g>\r\n     </g>\r\n     <g id=\"text_9\">\r\n      <!-- 100 -->\r\n      <g transform=\"translate(568.749806 402.318437)scale(0.1 -0.1)\">\r\n       <use xlink:href=\"#DejaVuSans-31\"/>\r\n       <use x=\"63.623047\" xlink:href=\"#DejaVuSans-30\"/>\r\n       <use x=\"127.246094\" xlink:href=\"#DejaVuSans-30\"/>\r\n      </g>\r\n     </g>\r\n    </g>\r\n   </g>\r\n   <g id=\"matplotlib.axis_2\">\r\n    <g id=\"ytick_1\">\r\n     <g id=\"line2d_10\">\r\n      <defs>\r\n       <path d=\"M 0 0 \r\nL -3.5 0 \r\n\" id=\"m5c12ffe404\" style=\"stroke:#000000;stroke-width:0.8;\"/>\r\n      </defs>\r\n      <g>\r\n       <use style=\"stroke:#000000;stroke-width:0.8;\" x=\"35.304688\" xlink:href=\"#m5c12ffe404\" y=\"343.94961\"/>\r\n      </g>\r\n     </g>\r\n     <g id=\"text_10\">\r\n      <!-- −75 -->\r\n      <g transform=\"translate(7.2 347.748829)scale(0.1 -0.1)\">\r\n       <use xlink:href=\"#DejaVuSans-2212\"/>\r\n       <use x=\"83.789062\" xlink:href=\"#DejaVuSans-37\"/>\r\n       <use x=\"147.412109\" xlink:href=\"#DejaVuSans-35\"/>\r\n      </g>\r\n     </g>\r\n    </g>\r\n    <g id=\"ytick_2\">\r\n     <g id=\"line2d_11\">\r\n      <g>\r\n       <use style=\"stroke:#000000;stroke-width:0.8;\" x=\"35.304688\" xlink:href=\"#m5c12ffe404\" y=\"299.826234\"/>\r\n      </g>\r\n     </g>\r\n     <g id=\"text_11\">\r\n      <!-- −50 -->\r\n      <g transform=\"translate(7.2 303.625453)scale(0.1 -0.1)\">\r\n       <use xlink:href=\"#DejaVuSans-2212\"/>\r\n       <use x=\"83.789062\" xlink:href=\"#DejaVuSans-35\"/>\r\n       <use x=\"147.412109\" xlink:href=\"#DejaVuSans-30\"/>\r\n      </g>\r\n     </g>\r\n    </g>\r\n    <g id=\"ytick_3\">\r\n     <g id=\"line2d_12\">\r\n      <g>\r\n       <use style=\"stroke:#000000;stroke-width:0.8;\" x=\"35.304688\" xlink:href=\"#m5c12ffe404\" y=\"255.702857\"/>\r\n      </g>\r\n     </g>\r\n     <g id=\"text_12\">\r\n      <!-- −25 -->\r\n      <g transform=\"translate(7.2 259.502076)scale(0.1 -0.1)\">\r\n       <use xlink:href=\"#DejaVuSans-2212\"/>\r\n       <use x=\"83.789062\" xlink:href=\"#DejaVuSans-32\"/>\r\n       <use x=\"147.412109\" xlink:href=\"#DejaVuSans-35\"/>\r\n      </g>\r\n     </g>\r\n    </g>\r\n    <g id=\"ytick_4\">\r\n     <g id=\"line2d_13\">\r\n      <g>\r\n       <use style=\"stroke:#000000;stroke-width:0.8;\" x=\"35.304688\" xlink:href=\"#m5c12ffe404\" y=\"211.579481\"/>\r\n      </g>\r\n     </g>\r\n     <g id=\"text_13\">\r\n      <!-- 0 -->\r\n      <g transform=\"translate(21.942187 215.378699)scale(0.1 -0.1)\">\r\n       <use xlink:href=\"#DejaVuSans-30\"/>\r\n      </g>\r\n     </g>\r\n    </g>\r\n    <g id=\"ytick_5\">\r\n     <g id=\"line2d_14\">\r\n      <g>\r\n       <use style=\"stroke:#000000;stroke-width:0.8;\" x=\"35.304688\" xlink:href=\"#m5c12ffe404\" y=\"167.456104\"/>\r\n      </g>\r\n     </g>\r\n     <g id=\"text_14\">\r\n      <!-- 25 -->\r\n      <g transform=\"translate(15.579687 171.255323)scale(0.1 -0.1)\">\r\n       <use xlink:href=\"#DejaVuSans-32\"/>\r\n       <use x=\"63.623047\" xlink:href=\"#DejaVuSans-35\"/>\r\n      </g>\r\n     </g>\r\n    </g>\r\n    <g id=\"ytick_6\">\r\n     <g id=\"line2d_15\">\r\n      <g>\r\n       <use style=\"stroke:#000000;stroke-width:0.8;\" x=\"35.304688\" xlink:href=\"#m5c12ffe404\" y=\"123.332727\"/>\r\n      </g>\r\n     </g>\r\n     <g id=\"text_15\">\r\n      <!-- 50 -->\r\n      <g transform=\"translate(15.579687 127.131946)scale(0.1 -0.1)\">\r\n       <use xlink:href=\"#DejaVuSans-35\"/>\r\n       <use x=\"63.623047\" xlink:href=\"#DejaVuSans-30\"/>\r\n      </g>\r\n     </g>\r\n    </g>\r\n    <g id=\"ytick_7\">\r\n     <g id=\"line2d_16\">\r\n      <g>\r\n       <use style=\"stroke:#000000;stroke-width:0.8;\" x=\"35.304688\" xlink:href=\"#m5c12ffe404\" y=\"79.209351\"/>\r\n      </g>\r\n     </g>\r\n     <g id=\"text_16\">\r\n      <!-- 75 -->\r\n      <g transform=\"translate(15.579687 83.008569)scale(0.1 -0.1)\">\r\n       <use xlink:href=\"#DejaVuSans-37\"/>\r\n       <use x=\"63.623047\" xlink:href=\"#DejaVuSans-35\"/>\r\n      </g>\r\n     </g>\r\n    </g>\r\n    <g id=\"ytick_8\">\r\n     <g id=\"line2d_17\">\r\n      <g>\r\n       <use style=\"stroke:#000000;stroke-width:0.8;\" x=\"35.304688\" xlink:href=\"#m5c12ffe404\" y=\"35.085974\"/>\r\n      </g>\r\n     </g>\r\n     <g id=\"text_17\">\r\n      <!-- 100 -->\r\n      <g transform=\"translate(9.217187 38.885193)scale(0.1 -0.1)\">\r\n       <use xlink:href=\"#DejaVuSans-31\"/>\r\n       <use x=\"63.623047\" xlink:href=\"#DejaVuSans-30\"/>\r\n       <use x=\"127.246094\" xlink:href=\"#DejaVuSans-30\"/>\r\n      </g>\r\n     </g>\r\n    </g>\r\n   </g>\r\n   <g id=\"patch_3\">\r\n    <path d=\"M 35.304688 387.72 \r\nL 35.304688 7.2 \r\n\" style=\"fill:none;stroke:#000000;stroke-linecap:square;stroke-linejoin:miter;stroke-width:0.8;\"/>\r\n   </g>\r\n   <g id=\"patch_4\">\r\n    <path d=\"M 593.304688 387.72 \r\nL 593.304688 7.2 \r\n\" style=\"fill:none;stroke:#000000;stroke-linecap:square;stroke-linejoin:miter;stroke-width:0.8;\"/>\r\n   </g>\r\n   <g id=\"patch_5\">\r\n    <path d=\"M 35.304688 387.72 \r\nL 593.304688 387.72 \r\n\" style=\"fill:none;stroke:#000000;stroke-linecap:square;stroke-linejoin:miter;stroke-width:0.8;\"/>\r\n   </g>\r\n   <g id=\"patch_6\">\r\n    <path d=\"M 35.304688 7.2 \r\nL 593.304688 7.2 \r\n\" style=\"fill:none;stroke:#000000;stroke-linecap:square;stroke-linejoin:miter;stroke-width:0.8;\"/>\r\n   </g>\r\n   <g id=\"legend_1\">\r\n    <g id=\"patch_7\">\r\n     <path d=\"M 42.304688 59.234375 \r\nL 140.810938 59.234375 \r\nQ 142.810938 59.234375 142.810938 57.234375 \r\nL 142.810938 14.2 \r\nQ 142.810938 12.2 140.810938 12.2 \r\nL 42.304688 12.2 \r\nQ 40.304688 12.2 40.304688 14.2 \r\nL 40.304688 57.234375 \r\nQ 40.304688 59.234375 42.304688 59.234375 \r\nz\r\n\" style=\"fill:#ffffff;opacity:0.8;stroke:#cccccc;stroke-linejoin:miter;\"/>\r\n    </g>\r\n    <g id=\"PathCollection_4\">\r\n     <g>\r\n      <use style=\"fill:#0000ff;stroke:#0000ff;\" x=\"54.304688\" xlink:href=\"#mc333d89c86\" y=\"21.173437\"/>\r\n     </g>\r\n    </g>\r\n    <g id=\"text_18\">\r\n     <!-- Training Data -->\r\n     <g transform=\"translate(72.304688 23.798437)scale(0.1 -0.1)\">\r\n      <defs>\r\n       <path d=\"M -19 4666 \r\nL 3928 4666 \r\nL 3928 4134 \r\nL 2272 4134 \r\nL 2272 0 \r\nL 1638 0 \r\nL 1638 4134 \r\nL -19 4134 \r\nL -19 4666 \r\nz\r\n\" id=\"DejaVuSans-54\" transform=\"scale(0.015625)\"/>\r\n       <path d=\"M 2631 2963 \r\nQ 2534 3019 2420 3045 \r\nQ 2306 3072 2169 3072 \r\nQ 1681 3072 1420 2755 \r\nQ 1159 2438 1159 1844 \r\nL 1159 0 \r\nL 581 0 \r\nL 581 3500 \r\nL 1159 3500 \r\nL 1159 2956 \r\nQ 1341 3275 1631 3429 \r\nQ 1922 3584 2338 3584 \r\nQ 2397 3584 2469 3576 \r\nQ 2541 3569 2628 3553 \r\nL 2631 2963 \r\nz\r\n\" id=\"DejaVuSans-72\" transform=\"scale(0.015625)\"/>\r\n       <path d=\"M 2194 1759 \r\nQ 1497 1759 1228 1600 \r\nQ 959 1441 959 1056 \r\nQ 959 750 1161 570 \r\nQ 1363 391 1709 391 \r\nQ 2188 391 2477 730 \r\nQ 2766 1069 2766 1631 \r\nL 2766 1759 \r\nL 2194 1759 \r\nz\r\nM 3341 1997 \r\nL 3341 0 \r\nL 2766 0 \r\nL 2766 531 \r\nQ 2569 213 2275 61 \r\nQ 1981 -91 1556 -91 \r\nQ 1019 -91 701 211 \r\nQ 384 513 384 1019 \r\nQ 384 1609 779 1909 \r\nQ 1175 2209 1959 2209 \r\nL 2766 2209 \r\nL 2766 2266 \r\nQ 2766 2663 2505 2880 \r\nQ 2244 3097 1772 3097 \r\nQ 1472 3097 1187 3025 \r\nQ 903 2953 641 2809 \r\nL 641 3341 \r\nQ 956 3463 1253 3523 \r\nQ 1550 3584 1831 3584 \r\nQ 2591 3584 2966 3190 \r\nQ 3341 2797 3341 1997 \r\nz\r\n\" id=\"DejaVuSans-61\" transform=\"scale(0.015625)\"/>\r\n       <path d=\"M 603 3500 \r\nL 1178 3500 \r\nL 1178 0 \r\nL 603 0 \r\nL 603 3500 \r\nz\r\nM 603 4863 \r\nL 1178 4863 \r\nL 1178 4134 \r\nL 603 4134 \r\nL 603 4863 \r\nz\r\n\" id=\"DejaVuSans-69\" transform=\"scale(0.015625)\"/>\r\n       <path d=\"M 3513 2113 \r\nL 3513 0 \r\nL 2938 0 \r\nL 2938 2094 \r\nQ 2938 2591 2744 2837 \r\nQ 2550 3084 2163 3084 \r\nQ 1697 3084 1428 2787 \r\nQ 1159 2491 1159 1978 \r\nL 1159 0 \r\nL 581 0 \r\nL 581 3500 \r\nL 1159 3500 \r\nL 1159 2956 \r\nQ 1366 3272 1645 3428 \r\nQ 1925 3584 2291 3584 \r\nQ 2894 3584 3203 3211 \r\nQ 3513 2838 3513 2113 \r\nz\r\n\" id=\"DejaVuSans-6e\" transform=\"scale(0.015625)\"/>\r\n       <path d=\"M 2906 1791 \r\nQ 2906 2416 2648 2759 \r\nQ 2391 3103 1925 3103 \r\nQ 1463 3103 1205 2759 \r\nQ 947 2416 947 1791 \r\nQ 947 1169 1205 825 \r\nQ 1463 481 1925 481 \r\nQ 2391 481 2648 825 \r\nQ 2906 1169 2906 1791 \r\nz\r\nM 3481 434 \r\nQ 3481 -459 3084 -895 \r\nQ 2688 -1331 1869 -1331 \r\nQ 1566 -1331 1297 -1286 \r\nQ 1028 -1241 775 -1147 \r\nL 775 -588 \r\nQ 1028 -725 1275 -790 \r\nQ 1522 -856 1778 -856 \r\nQ 2344 -856 2625 -561 \r\nQ 2906 -266 2906 331 \r\nL 2906 616 \r\nQ 2728 306 2450 153 \r\nQ 2172 0 1784 0 \r\nQ 1141 0 747 490 \r\nQ 353 981 353 1791 \r\nQ 353 2603 747 3093 \r\nQ 1141 3584 1784 3584 \r\nQ 2172 3584 2450 3431 \r\nQ 2728 3278 2906 2969 \r\nL 2906 3500 \r\nL 3481 3500 \r\nL 3481 434 \r\nz\r\n\" id=\"DejaVuSans-67\" transform=\"scale(0.015625)\"/>\r\n       <path id=\"DejaVuSans-20\" transform=\"scale(0.015625)\"/>\r\n       <path d=\"M 1259 4147 \r\nL 1259 519 \r\nL 2022 519 \r\nQ 2988 519 3436 956 \r\nQ 3884 1394 3884 2338 \r\nQ 3884 3275 3436 3711 \r\nQ 2988 4147 2022 4147 \r\nL 1259 4147 \r\nz\r\nM 628 4666 \r\nL 1925 4666 \r\nQ 3281 4666 3915 4102 \r\nQ 4550 3538 4550 2338 \r\nQ 4550 1131 3912 565 \r\nQ 3275 0 1925 0 \r\nL 628 0 \r\nL 628 4666 \r\nz\r\n\" id=\"DejaVuSans-44\" transform=\"scale(0.015625)\"/>\r\n       <path d=\"M 1172 4494 \r\nL 1172 3500 \r\nL 2356 3500 \r\nL 2356 3053 \r\nL 1172 3053 \r\nL 1172 1153 \r\nQ 1172 725 1289 603 \r\nQ 1406 481 1766 481 \r\nL 2356 481 \r\nL 2356 0 \r\nL 1766 0 \r\nQ 1100 0 847 248 \r\nQ 594 497 594 1153 \r\nL 594 3053 \r\nL 172 3053 \r\nL 172 3500 \r\nL 594 3500 \r\nL 594 4494 \r\nL 1172 4494 \r\nz\r\n\" id=\"DejaVuSans-74\" transform=\"scale(0.015625)\"/>\r\n      </defs>\r\n      <use xlink:href=\"#DejaVuSans-54\"/>\r\n      <use x=\"46.333984\" xlink:href=\"#DejaVuSans-72\"/>\r\n      <use x=\"87.447266\" xlink:href=\"#DejaVuSans-61\"/>\r\n      <use x=\"148.726562\" xlink:href=\"#DejaVuSans-69\"/>\r\n      <use x=\"176.509766\" xlink:href=\"#DejaVuSans-6e\"/>\r\n      <use x=\"239.888672\" xlink:href=\"#DejaVuSans-69\"/>\r\n      <use x=\"267.671875\" xlink:href=\"#DejaVuSans-6e\"/>\r\n      <use x=\"331.050781\" xlink:href=\"#DejaVuSans-67\"/>\r\n      <use x=\"394.527344\" xlink:href=\"#DejaVuSans-20\"/>\r\n      <use x=\"426.314453\" xlink:href=\"#DejaVuSans-44\"/>\r\n      <use x=\"503.316406\" xlink:href=\"#DejaVuSans-61\"/>\r\n      <use x=\"564.595703\" xlink:href=\"#DejaVuSans-74\"/>\r\n      <use x=\"603.804688\" xlink:href=\"#DejaVuSans-61\"/>\r\n     </g>\r\n    </g>\r\n    <g id=\"PathCollection_5\">\r\n     <g>\r\n      <use style=\"fill:#008000;stroke:#008000;\" x=\"54.304688\" xlink:href=\"#mc480f76385\" y=\"35.851562\"/>\r\n     </g>\r\n    </g>\r\n    <g id=\"text_19\">\r\n     <!-- Testing data -->\r\n     <g transform=\"translate(72.304688 38.476562)scale(0.1 -0.1)\">\r\n      <defs>\r\n       <path d=\"M 3597 1894 \r\nL 3597 1613 \r\nL 953 1613 \r\nQ 991 1019 1311 708 \r\nQ 1631 397 2203 397 \r\nQ 2534 397 2845 478 \r\nQ 3156 559 3463 722 \r\nL 3463 178 \r\nQ 3153 47 2828 -22 \r\nQ 2503 -91 2169 -91 \r\nQ 1331 -91 842 396 \r\nQ 353 884 353 1716 \r\nQ 353 2575 817 3079 \r\nQ 1281 3584 2069 3584 \r\nQ 2775 3584 3186 3129 \r\nQ 3597 2675 3597 1894 \r\nz\r\nM 3022 2063 \r\nQ 3016 2534 2758 2815 \r\nQ 2500 3097 2075 3097 \r\nQ 1594 3097 1305 2825 \r\nQ 1016 2553 972 2059 \r\nL 3022 2063 \r\nz\r\n\" id=\"DejaVuSans-65\" transform=\"scale(0.015625)\"/>\r\n       <path d=\"M 2834 3397 \r\nL 2834 2853 \r\nQ 2591 2978 2328 3040 \r\nQ 2066 3103 1784 3103 \r\nQ 1356 3103 1142 2972 \r\nQ 928 2841 928 2578 \r\nQ 928 2378 1081 2264 \r\nQ 1234 2150 1697 2047 \r\nL 1894 2003 \r\nQ 2506 1872 2764 1633 \r\nQ 3022 1394 3022 966 \r\nQ 3022 478 2636 193 \r\nQ 2250 -91 1575 -91 \r\nQ 1294 -91 989 -36 \r\nQ 684 19 347 128 \r\nL 347 722 \r\nQ 666 556 975 473 \r\nQ 1284 391 1588 391 \r\nQ 1994 391 2212 530 \r\nQ 2431 669 2431 922 \r\nQ 2431 1156 2273 1281 \r\nQ 2116 1406 1581 1522 \r\nL 1381 1569 \r\nQ 847 1681 609 1914 \r\nQ 372 2147 372 2553 \r\nQ 372 3047 722 3315 \r\nQ 1072 3584 1716 3584 \r\nQ 2034 3584 2315 3537 \r\nQ 2597 3491 2834 3397 \r\nz\r\n\" id=\"DejaVuSans-73\" transform=\"scale(0.015625)\"/>\r\n       <path d=\"M 2906 2969 \r\nL 2906 4863 \r\nL 3481 4863 \r\nL 3481 0 \r\nL 2906 0 \r\nL 2906 525 \r\nQ 2725 213 2448 61 \r\nQ 2172 -91 1784 -91 \r\nQ 1150 -91 751 415 \r\nQ 353 922 353 1747 \r\nQ 353 2572 751 3078 \r\nQ 1150 3584 1784 3584 \r\nQ 2172 3584 2448 3432 \r\nQ 2725 3281 2906 2969 \r\nz\r\nM 947 1747 \r\nQ 947 1113 1208 752 \r\nQ 1469 391 1925 391 \r\nQ 2381 391 2643 752 \r\nQ 2906 1113 2906 1747 \r\nQ 2906 2381 2643 2742 \r\nQ 2381 3103 1925 3103 \r\nQ 1469 3103 1208 2742 \r\nQ 947 2381 947 1747 \r\nz\r\n\" id=\"DejaVuSans-64\" transform=\"scale(0.015625)\"/>\r\n      </defs>\r\n      <use xlink:href=\"#DejaVuSans-54\"/>\r\n      <use x=\"44.083984\" xlink:href=\"#DejaVuSans-65\"/>\r\n      <use x=\"105.607422\" xlink:href=\"#DejaVuSans-73\"/>\r\n      <use x=\"157.707031\" xlink:href=\"#DejaVuSans-74\"/>\r\n      <use x=\"196.916016\" xlink:href=\"#DejaVuSans-69\"/>\r\n      <use x=\"224.699219\" xlink:href=\"#DejaVuSans-6e\"/>\r\n      <use x=\"288.078125\" xlink:href=\"#DejaVuSans-67\"/>\r\n      <use x=\"351.554688\" xlink:href=\"#DejaVuSans-20\"/>\r\n      <use x=\"383.341797\" xlink:href=\"#DejaVuSans-64\"/>\r\n      <use x=\"446.818359\" xlink:href=\"#DejaVuSans-61\"/>\r\n      <use x=\"508.097656\" xlink:href=\"#DejaVuSans-74\"/>\r\n      <use x=\"547.306641\" xlink:href=\"#DejaVuSans-61\"/>\r\n     </g>\r\n    </g>\r\n    <g id=\"PathCollection_6\">\r\n     <g>\r\n      <use style=\"fill:#ff0000;stroke:#ff0000;\" x=\"54.304688\" xlink:href=\"#m0c17846316\" y=\"50.529687\"/>\r\n     </g>\r\n    </g>\r\n    <g id=\"text_20\">\r\n     <!-- Predictions -->\r\n     <g transform=\"translate(72.304688 53.154687)scale(0.1 -0.1)\">\r\n      <defs>\r\n       <path d=\"M 1259 4147 \r\nL 1259 2394 \r\nL 2053 2394 \r\nQ 2494 2394 2734 2622 \r\nQ 2975 2850 2975 3272 \r\nQ 2975 3691 2734 3919 \r\nQ 2494 4147 2053 4147 \r\nL 1259 4147 \r\nz\r\nM 628 4666 \r\nL 2053 4666 \r\nQ 2838 4666 3239 4311 \r\nQ 3641 3956 3641 3272 \r\nQ 3641 2581 3239 2228 \r\nQ 2838 1875 2053 1875 \r\nL 1259 1875 \r\nL 1259 0 \r\nL 628 0 \r\nL 628 4666 \r\nz\r\n\" id=\"DejaVuSans-50\" transform=\"scale(0.015625)\"/>\r\n       <path d=\"M 3122 3366 \r\nL 3122 2828 \r\nQ 2878 2963 2633 3030 \r\nQ 2388 3097 2138 3097 \r\nQ 1578 3097 1268 2742 \r\nQ 959 2388 959 1747 \r\nQ 959 1106 1268 751 \r\nQ 1578 397 2138 397 \r\nQ 2388 397 2633 464 \r\nQ 2878 531 3122 666 \r\nL 3122 134 \r\nQ 2881 22 2623 -34 \r\nQ 2366 -91 2075 -91 \r\nQ 1284 -91 818 406 \r\nQ 353 903 353 1747 \r\nQ 353 2603 823 3093 \r\nQ 1294 3584 2113 3584 \r\nQ 2378 3584 2631 3529 \r\nQ 2884 3475 3122 3366 \r\nz\r\n\" id=\"DejaVuSans-63\" transform=\"scale(0.015625)\"/>\r\n       <path d=\"M 1959 3097 \r\nQ 1497 3097 1228 2736 \r\nQ 959 2375 959 1747 \r\nQ 959 1119 1226 758 \r\nQ 1494 397 1959 397 \r\nQ 2419 397 2687 759 \r\nQ 2956 1122 2956 1747 \r\nQ 2956 2369 2687 2733 \r\nQ 2419 3097 1959 3097 \r\nz\r\nM 1959 3584 \r\nQ 2709 3584 3137 3096 \r\nQ 3566 2609 3566 1747 \r\nQ 3566 888 3137 398 \r\nQ 2709 -91 1959 -91 \r\nQ 1206 -91 779 398 \r\nQ 353 888 353 1747 \r\nQ 353 2609 779 3096 \r\nQ 1206 3584 1959 3584 \r\nz\r\n\" id=\"DejaVuSans-6f\" transform=\"scale(0.015625)\"/>\r\n      </defs>\r\n      <use xlink:href=\"#DejaVuSans-50\"/>\r\n      <use x=\"58.552734\" xlink:href=\"#DejaVuSans-72\"/>\r\n      <use x=\"97.416016\" xlink:href=\"#DejaVuSans-65\"/>\r\n      <use x=\"158.939453\" xlink:href=\"#DejaVuSans-64\"/>\r\n      <use x=\"222.416016\" xlink:href=\"#DejaVuSans-69\"/>\r\n      <use x=\"250.199219\" xlink:href=\"#DejaVuSans-63\"/>\r\n      <use x=\"305.179688\" xlink:href=\"#DejaVuSans-74\"/>\r\n      <use x=\"344.388672\" xlink:href=\"#DejaVuSans-69\"/>\r\n      <use x=\"372.171875\" xlink:href=\"#DejaVuSans-6f\"/>\r\n      <use x=\"433.353516\" xlink:href=\"#DejaVuSans-6e\"/>\r\n      <use x=\"496.732422\" xlink:href=\"#DejaVuSans-73\"/>\r\n     </g>\r\n    </g>\r\n   </g>\r\n  </g>\r\n </g>\r\n <defs>\r\n  <clipPath id=\"p20e9c85288\">\r\n   <rect height=\"380.52\" width=\"558\" x=\"35.304688\" y=\"7.2\"/>\r\n  </clipPath>\r\n </defs>\r\n</svg>\r\n",
      "image/png": "[encoded data removed]"
     },
     "metadata": {
      "needs_background": "light"
     }
    }
   ],
   "source": [
    "y_predicts_3 = model_3.predict(X_test)\n",
    "plot_predictions(prediction = y_predicts_3)"
   ]
  },
  {
   "cell_type": "code",
   "execution_count": 111,
   "metadata": {},
   "outputs": [
    {
     "output_type": "execute_result",
     "data": {
      "text/plain": [
       "(51.438873, 2697.3755)"
      ]
     },
     "metadata": {},
     "execution_count": 111
    }
   ],
   "source": [
    "mae_3 = mae(y_test, y_predicts_3.squeeze()).numpy()\n",
    "mse_3 = mse(y_test, y_predicts_3.squeeze()).numpy()\n",
    "mae_3, mse_3"
   ]
  },
  {
   "cell_type": "code",
   "execution_count": 107,
   "metadata": {},
   "outputs": [
    {
     "output_type": "execute_result",
     "data": {
      "text/plain": [
       "[['model_1', 18.745327, 353.57336],\n",
       " ['model_2', 1.9097328, 5.45877],\n",
       " ['model_3', 8.614498, 75.60722]]"
      ]
     },
     "metadata": {},
     "execution_count": 107
    }
   ],
   "source": [
    "model_results = [\n",
    "    [\"model_1\", mae_1, mse_1],\n",
    "    [\"model_2\", mae_2, mse_2],\n",
    "    [\"model_3\", mae_3, mse_3],\n",
    "]\n",
    "model_results"
   ]
  },
  {
   "cell_type": "code",
   "execution_count": 108,
   "metadata": {},
   "outputs": [
    {
     "output_type": "execute_result",
     "data": {
      "text/plain": [
       "     model        mae         mse\n",
       "0  model_1  18.745327  353.573364\n",
       "1  model_2   1.909733    5.458770\n",
       "2  model_3   8.614498   75.607224"
      ],
      "text/html": "<div>\n<style scoped>\n    .dataframe tbody tr th:only-of-type {\n        vertical-align: middle;\n    }\n\n    .dataframe tbody tr th {\n        vertical-align: top;\n    }\n\n    .dataframe thead th {\n        text-align: right;\n    }\n</style>\n<table border=\"1\" class=\"dataframe\">\n  <thead>\n    <tr style=\"text-align: right;\">\n      <th></th>\n      <th>model</th>\n      <th>mae</th>\n      <th>mse</th>\n    </tr>\n  </thead>\n  <tbody>\n    <tr>\n      <th>0</th>\n      <td>model_1</td>\n      <td>18.745327</td>\n      <td>353.573364</td>\n    </tr>\n    <tr>\n      <th>1</th>\n      <td>model_2</td>\n      <td>1.909733</td>\n      <td>5.458770</td>\n    </tr>\n    <tr>\n      <th>2</th>\n      <td>model_3</td>\n      <td>8.614498</td>\n      <td>75.607224</td>\n    </tr>\n  </tbody>\n</table>\n</div>"
     },
     "metadata": {},
     "execution_count": 108
    }
   ],
   "source": [
    "all_results = pd.DataFrame(model_results, columns = [\"model\", \"mae\", \"mse\"])\n",
    "all_results"
   ]
  },
  {
   "source": [
    "### 위의 결과를 보면 model_2가 가장 좋은 결과를 얻는다는 것을 알 수 있다.\n",
    "### 이런 과정이 머신 러닝 모델링 과정이며, 이런 여러가지 조합을 해보고 최고의 성능내는 조합을 선택하는 과정 \n",
    "\n",
    "## 우리의 목표는 예측과 실제값의 차이를 줄이는 것이 목표\n",
    "## 실험을 하면 할 수록, 무엇이 잘 안 되고 무엇인 잘 되는지 알 수 있습니다.\n",
    "## 실험 실험 실험"
   ],
   "cell_type": "markdown",
   "metadata": {}
  },
  {
   "source": [
    "## 현재까지 고생해서\n",
    "### 모델을 학습시키고\n",
    "### 가장 좋은 결과를 낼 수 있도록 모델을 튜닝했고\n",
    "### 이제 우리는 그 모델을 저장해야 합니다! 왜? 나중에 사용하고! 어디에? 웹 애플리케이션이나 모바일 장비 등등\n",
    "---\n",
    "**model.save()**를 사용합니다\n",
    "\n",
    "**Tensorflow**에서 (모델을 저장하는 방법)[https://www.tensorflow.org/tutorials/keras/save_and_load#savedmodel_format]\n",
    "\n",
    "1. SavedModel 형식 (default) : 대부분의 경우 이 형식을 사용합니다.\n",
    "\n",
    "2. HDF5 형식\n",
    "\n"
   ],
   "cell_type": "markdown",
   "metadata": {}
  },
  {
   "cell_type": "code",
   "execution_count": 112,
   "metadata": {},
   "outputs": [
    {
     "output_type": "stream",
     "name": "stdout",
     "text": [
      "INFO:tensorflow:Assets written to: best_model_SavedModel_format\\assets\n"
     ]
    }
   ],
   "source": [
    "# SavedModel 형식\n",
    "model_2.save(\"best_model_SavedModel_format\")"
   ]
  },
  {
   "cell_type": "code",
   "execution_count": 115,
   "metadata": {},
   "outputs": [],
   "source": [
    "# HDF5 형식\n",
    "model_2.save(\"best_model_HDF5_format.h5\")"
   ]
  },
  {
   "source": [
    "## 저장된 모델을 불러와서 활용!\n",
    "load_model()"
   ],
   "cell_type": "markdown",
   "metadata": {}
  },
  {
   "cell_type": "code",
   "execution_count": 1,
   "metadata": {},
   "outputs": [],
   "source": [
    "import tensorflow as tf\n",
    "import pandas as pd\n",
    "import numpy as np\n",
    "import matplotlib.pyplot as plt"
   ]
  },
  {
   "cell_type": "code",
   "execution_count": 4,
   "metadata": {},
   "outputs": [],
   "source": [
    "X = np.arange(-100, 100, 4)\n",
    "y = np.arange(-90, 110, 4)\n",
    "\n",
    "X_train = X[:40]\n",
    "y_train = y[:40]\n",
    "\n",
    "X_test = X[40:]\n",
    "y_test = y[40:]"
   ]
  },
  {
   "cell_type": "code",
   "execution_count": 7,
   "metadata": {},
   "outputs": [],
   "source": [
    "def mae(y_test, y_predicts):\n",
    "    return tf.metrics.mean_absolute_error(y_test, y_predicts)\n",
    "\n",
    "def mse(y_test, y_predicts):\n",
    "    return tf.metrics.mean_squared_error(y_test, y_predicts)"
   ]
  },
  {
   "cell_type": "code",
   "execution_count": 13,
   "metadata": {},
   "outputs": [
    {
     "output_type": "stream",
     "name": "stdout",
     "text": [
      "Model: \"sequential_14\"\n_________________________________________________________________\nLayer (type)                 Output Shape              Param #   \n=================================================================\ndense_16 (Dense)             (None, 1)                 2         \n_________________________________________________________________\ndense_17 (Dense)             (None, 1)                 2         \n=================================================================\nTotal params: 4\nTrainable params: 4\nNon-trainable params: 0\n_________________________________________________________________\n"
     ]
    }
   ],
   "source": [
    "# SaveModel 형식의 모델을 불러오기\n",
    "loaded_saved_model = tf.keras.models.load_model(\"best_model_SavedModel_format\")\n",
    "loaded_saved_model.summary()"
   ]
  },
  {
   "cell_type": "code",
   "execution_count": 15,
   "metadata": {},
   "outputs": [
    {
     "output_type": "execute_result",
     "data": {
      "text/plain": [
       "array([[ 69.467125],\n",
       "       [ 73.9856  ],\n",
       "       [ 78.50408 ],\n",
       "       [ 83.02256 ],\n",
       "       [ 87.54104 ],\n",
       "       [ 92.05952 ],\n",
       "       [ 96.577995],\n",
       "       [101.09647 ],\n",
       "       [105.61495 ],\n",
       "       [110.13344 ]], dtype=float32)"
      ]
     },
     "metadata": {},
     "execution_count": 15
    }
   ],
   "source": [
    "model_2_predicts_saved_model = loaded_saved_model.predict(X_test)\n",
    "model_2_predicts_saved_model"
   ]
  },
  {
   "cell_type": "code",
   "execution_count": 17,
   "metadata": {},
   "outputs": [
    {
     "output_type": "execute_result",
     "data": {
      "text/plain": [
       "(1.9097328, 5.45877)"
      ]
     },
     "metadata": {},
     "execution_count": 17
    }
   ],
   "source": [
    "mae(y_test, model_2_predicts_saved_model.squeeze()).numpy(), mse(y_test, model_2_predicts_saved_model.squeeze()).numpy()"
   ]
  },
  {
   "cell_type": "code",
   "execution_count": 18,
   "metadata": {},
   "outputs": [
    {
     "output_type": "stream",
     "name": "stdout",
     "text": [
      "Model: \"sequential_14\"\n_________________________________________________________________\nLayer (type)                 Output Shape              Param #   \n=================================================================\ndense_16 (Dense)             (None, 1)                 2         \n_________________________________________________________________\ndense_17 (Dense)             (None, 1)                 2         \n=================================================================\nTotal params: 4\nTrainable params: 4\nNon-trainable params: 0\n_________________________________________________________________\n"
     ]
    }
   ],
   "source": [
    "# HDF5 형식의 모델을 불러오기\n",
    "loaded_saved_model_h5 = tf.keras.models.load_model(\"best_model_HDF5_format.h5\")\n",
    "loaded_saved_model_h5.summary()"
   ]
  },
  {
   "cell_type": "code",
   "execution_count": 19,
   "metadata": {},
   "outputs": [
    {
     "output_type": "execute_result",
     "data": {
      "text/plain": [
       "array([[ 69.467125],\n",
       "       [ 73.9856  ],\n",
       "       [ 78.50408 ],\n",
       "       [ 83.02256 ],\n",
       "       [ 87.54104 ],\n",
       "       [ 92.05952 ],\n",
       "       [ 96.577995],\n",
       "       [101.09647 ],\n",
       "       [105.61495 ],\n",
       "       [110.13344 ]], dtype=float32)"
      ]
     },
     "metadata": {},
     "execution_count": 19
    }
   ],
   "source": [
    "model_2_predicts_h5 = loaded_saved_model_h5.predict(X_test)\n",
    "model_2_predicts_h5"
   ]
  },
  {
   "cell_type": "code",
   "execution_count": 20,
   "metadata": {},
   "outputs": [
    {
     "output_type": "execute_result",
     "data": {
      "text/plain": [
       "(1.9097328, 5.45877)"
      ]
     },
     "metadata": {},
     "execution_count": 20
    }
   ],
   "source": [
    "mae(y_test, model_2_predicts_h5.squeeze()).numpy(), mse(y_test, model_2_predicts_h5.squeeze()).numpy()"
   ]
  },
  {
   "cell_type": "code",
   "execution_count": 21,
   "metadata": {},
   "outputs": [
    {
     "output_type": "execute_result",
     "data": {
      "text/plain": [
       "(1.9097328, 5.45877, 1.9097328, 5.45877)"
      ]
     },
     "metadata": {},
     "execution_count": 21
    }
   ],
   "source": [
    "mae(y_test, model_2_predicts_saved_model.squeeze()).numpy(), mse(y_test, model_2_predicts_saved_model.squeeze()).numpy(), mae(y_test, model_2_predicts_h5.squeeze()).numpy(), mse(y_test, model_2_predicts_h5.squeeze()).numpy()"
   ]
  },
  {
   "cell_type": "code",
   "execution_count": null,
   "metadata": {},
   "outputs": [],
   "source": []
  }
 ]
}