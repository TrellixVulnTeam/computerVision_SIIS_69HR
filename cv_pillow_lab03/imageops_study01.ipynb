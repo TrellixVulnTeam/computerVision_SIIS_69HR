{
 "metadata": {
  "language_info": {
   "codemirror_mode": {
    "name": "ipython",
    "version": 3
   },
   "file_extension": ".py",
   "mimetype": "text/x-python",
   "name": "python",
   "nbconvert_exporter": "python",
   "pygments_lexer": "ipython3",
   "version": "3.7.4"
  },
  "orig_nbformat": 2,
  "kernelspec": {
   "name": "python374jvsc74a57bd0e8011cca1dfa95b9a31caea52f30f809d14704b9dcb70c755ce9743acea54d29",
   "display_name": "Python 3.7.4 64-bit ('base': conda)"
  }
 },
 "nbformat": 4,
 "nbformat_minor": 2,
 "cells": [
  {
   "cell_type": "code",
   "execution_count": 1,
   "metadata": {},
   "outputs": [],
   "source": [
    "from PIL import Image, ImageOps\n",
    "\n",
    "def autocontrast(image_path, output_path, cutoff=0, ignore=None):\n",
    "    image = Image.open(image_path)\n",
    "    converted_image = ImageOps.autocontrast(image,cutoff,ignore)\n",
    "    converted_image.save(output_path)\n",
    "\n",
    "\n",
    "if __name__ == \"__main__\":\n",
    "    autocontrast(\"hummingbird.jpg\", \"autocontrast.jpg\", cutoff=0.5)\n"
   ]
  },
  {
   "cell_type": "code",
   "execution_count": 4,
   "metadata": {},
   "outputs": [],
   "source": [
    "# colorize (gray scale의 이미지에 대해서 colorize 해줌)\n",
    "from PIL import Image, ImageOps\n",
    "\n",
    "def colorize(image_path, output_path, black, white):\n",
    "    image = Image.open(image_path).convert(\"L\")\n",
    "    converted_image = ImageOps.colorize(image,black,white)\n",
    "    converted_image.save(output_path)\n",
    "\n",
    "\n",
    "if __name__ == \"__main__\":\n",
    "    colorize(\"hummingbird.jpg\", \"colorize.jpg\", black=\"green\", white=\"white\")\n"
   ]
  },
  {
   "cell_type": "code",
   "execution_count": 8,
   "metadata": {},
   "outputs": [],
   "source": [
    "from PIL import Image, ImageOps\n",
    "\n",
    "def pad(image_path, output_path, size):\n",
    "    image = Image.open(image_path)\n",
    "    converted_image = ImageOps.pad(image, size=size, color=\"red\")\n",
    "    converted_image.save(output_path)\n",
    "\n",
    "if __name__ == \"__main__\":\n",
    "    pad(\"hummingbird.jpg\", \"hummingbird_padded.jpg\", size = (1500,1300))"
   ]
  },
  {
   "cell_type": "code",
   "execution_count": 9,
   "metadata": {},
   "outputs": [],
   "source": [
    "from PIL import Image, ImageOps\n",
    "\n",
    "def expand(image_path, output_path, border, fill):\n",
    "    image = Image.open(image_path)\n",
    "    converted_image = ImageOps.expand(image, border, fill)\n",
    "    converted_image.save(output_path)\n",
    "\n",
    "if __name__ == \"__main__\":\n",
    "    expand(\"hummingbird.jpg\", \"expand.jpg\", border=100, fill=\"red\")"
   ]
  },
  {
   "cell_type": "code",
   "execution_count": 10,
   "metadata": {},
   "outputs": [],
   "source": [
    "from PIL import Image, ImageOps\n",
    "\n",
    "def crop(image_path, output_path, border):\n",
    "    image = Image.open(image_path)\n",
    "    converted_image = ImageOps.crop(image, border)\n",
    "    converted_image.save(output_path)\n",
    "\n",
    "if __name__ == \"__main__\":\n",
    "    crop(\"hummingbird.jpg\", \"crop.jpg\", border=100)"
   ]
  },
  {
   "cell_type": "code",
   "execution_count": 13,
   "metadata": {},
   "outputs": [],
   "source": [
    "from PIL import Image, ImageOps\n",
    "\n",
    "def scale(image_path, output_path, factor):\n",
    "    image = Image.open(image_path)\n",
    "    scale_image = ImageOps.scale(image, factor)\n",
    "    scale_image.save(output_path)\n",
    "\n",
    "if __name__ == \"__main__\":\n",
    "    scale(\"hummingbird.jpg\", \"scaled.jpg\", factor=0.6)"
   ]
  },
  {
   "cell_type": "code",
   "execution_count": 14,
   "metadata": {},
   "outputs": [],
   "source": [
    "# histogram\n",
    "from PIL import Image, ImageOps\n",
    "\n",
    "def equalize(image_path, output_path):\n",
    "    image = Image.open(image_path)\n",
    "    equalize_image = ImageOps.equalize(image)\n",
    "    equalize_image.save(output_path)\n",
    "\n",
    "if __name__ == \"__main__\":\n",
    "    equalize(\"hummingbird.jpg\", \"equalize.jpg\",)"
   ]
  },
  {
   "cell_type": "code",
   "execution_count": 15,
   "metadata": {},
   "outputs": [],
   "source": [
    "# fit() : crop()과 scale()이 합쳐진 것.\n",
    "from PIL import Image, ImageOps\n",
    "\n",
    "def fit(image_path, output_path, size, centering=(0.5,0.5)):\n",
    "    image = Image.open(image_path)\n",
    "    fit_image = ImageOps.fit(image, size, centering=centering)\n",
    "    fit_image.save(output_path)\n",
    "\n",
    "if __name__ == \"__main__\":\n",
    "    fit(\"hummingbird.jpg\", \"hm_fit.jpg\", size=(400,400))"
   ]
  },
  {
   "cell_type": "code",
   "execution_count": 16,
   "metadata": {},
   "outputs": [],
   "source": [
    "\n",
    "from PIL import Image, ImageOps\n",
    "\n",
    "def flip(image_path, output_path):\n",
    "    image = Image.open(image_path)\n",
    "    flip_image = ImageOps.flip(image)\n",
    "    flip_image.save(output_path)\n",
    "\n",
    "if __name__ == \"__main__\":\n",
    "    flip(\"hummingbird.jpg\", \"hm_flip.jpg\")"
   ]
  },
  {
   "cell_type": "code",
   "execution_count": 17,
   "metadata": {},
   "outputs": [],
   "source": [
    "# flip : 위 아래 바꾸어주는 것\n",
    "from PIL import Image, ImageOps\n",
    "\n",
    "def flip(image_path, output_path):\n",
    "    image = Image.open(image_path)\n",
    "    flip_image = ImageOps.flip(image)\n",
    "    flip_image.save(output_path)\n",
    "\n",
    "if __name__ == \"__main__\":\n",
    "    flip(\"hummingbird.jpg\", \"hm_flip.jpg\")"
   ]
  },
  {
   "cell_type": "code",
   "execution_count": 19,
   "metadata": {},
   "outputs": [],
   "source": [
    "# mirror : 좌우를 바꾸어 주는것\n",
    "from PIL import Image, ImageOps\n",
    "\n",
    "def mirror(image_path, output_path):\n",
    "    image = Image.open(image_path)\n",
    "    mirror_image = ImageOps.mirror(image)\n",
    "    mirror_image.save(output_path)\n",
    "\n",
    "if __name__ == \"__main__\":\n",
    "    mirror(\"hummingbird.jpg\", \"hm_mirrored.jpg\")"
   ]
  },
  {
   "cell_type": "code",
   "execution_count": 20,
   "metadata": {},
   "outputs": [],
   "source": [
    "# mirror : 좌우를 바꾸어 주는것\n",
    "from PIL import Image, ImageOps\n",
    "\n",
    "def mirror(image_path, output_path):\n",
    "    image = Image.open(image_path)\n",
    "    mirror_image = ImageOps.mirror(image)\n",
    "    mirror_image.save(output_path)\n",
    "\n",
    "if __name__ == \"__main__\":\n",
    "    mirror(\"hummingbird.jpg\", \"hm_mirrored.jpg\")"
   ]
  },
  {
   "cell_type": "code",
   "execution_count": 22,
   "metadata": {},
   "outputs": [],
   "source": [
    "\n",
    "from PIL import Image, ImageOps\n",
    "\n",
    "def invert(image_path, output_path):\n",
    "    image = Image.open(image_path)\n",
    "    invert_image = ImageOps.invert(image)\n",
    "    invert_image.save(output_path)\n",
    "\n",
    "if __name__ == \"__main__\":\n",
    "    invert(\"hummingbird.jpg\", \"hm_inverted.jpg\")"
   ]
  },
  {
   "cell_type": "code",
   "execution_count": 24,
   "metadata": {},
   "outputs": [],
   "source": [
    "\n",
    "from PIL import Image, ImageOps\n",
    "\n",
    "def posterize(image_path, output_path, bits):\n",
    "    image = Image.open(image_path)\n",
    "    posterize_image = ImageOps.posterize(image, bits=bits)\n",
    "    posterize_image.save(output_path)\n",
    "\n",
    "if __name__ == \"__main__\":\n",
    "    posterize(\"hummingbird.jpg\", \"hm_posterize.jpg\", bits=2) # bits= 1~8\n",
    "    "
   ]
  },
  {
   "cell_type": "code",
   "execution_count": 25,
   "metadata": {},
   "outputs": [],
   "source": [
    "# \n",
    "from PIL import Image, ImageOps\n",
    "\n",
    "def solarize(image_path, output_path, threshold=128):\n",
    "    image = Image.open(image_path)\n",
    "    solarize_image = ImageOps.solarize(image, threshold=threshold)\n",
    "    solarize_image.save(output_path)\n",
    "\n",
    "if __name__ == \"__main__\":\n",
    "    solarize(\"hummingbird.jpg\", \"hm_solarize.jpg\")\n",
    "    "
   ]
  },
  {
   "cell_type": "code",
   "execution_count": 26,
   "metadata": {},
   "outputs": [],
   "source": [
    "# \n",
    "from PIL import Image, ImageOps\n",
    "\n",
    "def exif_transpose(image_path, output_path, threshold=250):\n",
    "    image = Image.open(image_path)\n",
    "\n",
    "    exif = image.getexif()\n",
    "    orientaion = exif.get(0x0112)\n",
    "    print(f\"Orientation = {orientaion}\")\n",
    "\n",
    "    exif_transpose_image = ImageOps.exif_transpose(image)\n",
    "    exif_transpose_image.save(output_path)\n",
    "\n",
    "if __name__ == \"__main__\":\n",
    "    solarize(\"snowman.jpg\", \"sm_exif_transpose.jpg\")\n",
    "    "
   ]
  },
  {
   "cell_type": "code",
   "execution_count": null,
   "metadata": {},
   "outputs": [],
   "source": []
  }
 ]
}