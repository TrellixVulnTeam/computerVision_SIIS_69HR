{
 "metadata": {
  "language_info": {
   "codemirror_mode": {
    "name": "ipython",
    "version": 3
   },
   "file_extension": ".py",
   "mimetype": "text/x-python",
   "name": "python",
   "nbconvert_exporter": "python",
   "pygments_lexer": "ipython3",
   "version": "3.8.2"
  },
  "orig_nbformat": 4,
  "kernelspec": {
   "name": "python3",
   "display_name": "Python 3.8.2 64-bit"
  },
  "interpreter": {
   "hash": "aee8b7b246df8f9039afb4144a1f6fd8d2ca17a180786b69acc140d282b71a49"
  }
 },
 "nbformat": 4,
 "nbformat_minor": 2,
 "cells": [
  {
   "source": [
    "## transferlearning004.ipynb\n",
    "#### Model 03을 만들 예정 (fine-tuning transfer learning)\n",
    "#### Model 02는 전체 데이터의 10%, 그리고 data augmentation을 적용해 epoch 5로 전이 학습 실행.\n",
    "#### base model 의 가중치를 변경하지 않았습니다.\n",
    "\n",
    "\n",
    "#### fine-tuning의 의미는 자신의 데이터로 사전에 학습된 모델을 자신의 데이터에 맞도록 하는 과정"
   ],
   "cell_type": "markdown",
   "metadata": {}
  },
  {
   "cell_type": "code",
   "execution_count": 1,
   "metadata": {},
   "outputs": [],
   "source": [
    "from helper_functions import unzip_data, walk_through_dir, create_tensorboard_callback, plot_loss_curves"
   ]
  },
  {
   "cell_type": "code",
   "execution_count": 2,
   "metadata": {},
   "outputs": [],
   "source": [
    "import tensorflow as tf\n",
    "import pandas as pd\n",
    "import numpy as np\n",
    "import matplotlib.pyplot as plt\n",
    "%matplotlib inline"
   ]
  },
  {
   "cell_type": "code",
   "execution_count": 3,
   "metadata": {},
   "outputs": [],
   "source": [
    "# 데이터 다운로드\n",
    "!wget -q https://storage.googleapis.com/ztm_tf_course/food_vision/10_food_classes_10_percent.zip"
   ]
  },
  {
   "cell_type": "code",
   "execution_count": 4,
   "metadata": {},
   "outputs": [],
   "source": [
    "# 10_food_classes_10_percent.zip 압축 해제\n",
    "unzip_data(\"10_food_classes_10_percent.zip\")"
   ]
  },
  {
   "cell_type": "code",
   "execution_count": 5,
   "metadata": {},
   "outputs": [
    {
     "output_type": "stream",
     "name": "stdout",
     "text": [
      "10_food_classes_10_percent 폴더에는 2개의 폴더와 0개의 파일이 존재합니다.\n10_food_classes_10_percent/test 폴더에는 10개의 폴더와 0개의 파일이 존재합니다.\n10_food_classes_10_percent/test/ice_cream 폴더에는 0개의 폴더와 250개의 파일이 존재합니다.\n10_food_classes_10_percent/test/chicken_curry 폴더에는 0개의 폴더와 250개의 파일이 존재합니다.\n10_food_classes_10_percent/test/steak 폴더에는 0개의 폴더와 250개의 파일이 존재합니다.\n10_food_classes_10_percent/test/sushi 폴더에는 0개의 폴더와 250개의 파일이 존재합니다.\n10_food_classes_10_percent/test/chicken_wings 폴더에는 0개의 폴더와 250개의 파일이 존재합니다.\n10_food_classes_10_percent/test/grilled_salmon 폴더에는 0개의 폴더와 250개의 파일이 존재합니다.\n10_food_classes_10_percent/test/hamburger 폴더에는 0개의 폴더와 250개의 파일이 존재합니다.\n10_food_classes_10_percent/test/pizza 폴더에는 0개의 폴더와 250개의 파일이 존재합니다.\n10_food_classes_10_percent/test/ramen 폴더에는 0개의 폴더와 250개의 파일이 존재합니다.\n10_food_classes_10_percent/test/fried_rice 폴더에는 0개의 폴더와 250개의 파일이 존재합니다.\n10_food_classes_10_percent/train 폴더에는 10개의 폴더와 0개의 파일이 존재합니다.\n10_food_classes_10_percent/train/ice_cream 폴더에는 0개의 폴더와 75개의 파일이 존재합니다.\n10_food_classes_10_percent/train/chicken_curry 폴더에는 0개의 폴더와 75개의 파일이 존재합니다.\n10_food_classes_10_percent/train/steak 폴더에는 0개의 폴더와 75개의 파일이 존재합니다.\n10_food_classes_10_percent/train/sushi 폴더에는 0개의 폴더와 75개의 파일이 존재합니다.\n10_food_classes_10_percent/train/chicken_wings 폴더에는 0개의 폴더와 75개의 파일이 존재합니다.\n10_food_classes_10_percent/train/grilled_salmon 폴더에는 0개의 폴더와 75개의 파일이 존재합니다.\n10_food_classes_10_percent/train/hamburger 폴더에는 0개의 폴더와 75개의 파일이 존재합니다.\n10_food_classes_10_percent/train/pizza 폴더에는 0개의 폴더와 75개의 파일이 존재합니다.\n10_food_classes_10_percent/train/ramen 폴더에는 0개의 폴더와 75개의 파일이 존재합니다.\n10_food_classes_10_percent/train/fried_rice 폴더에는 0개의 폴더와 75개의 파일이 존재합니다.\n"
     ]
    }
   ],
   "source": [
    "walk_through_dir(\"10_food_classes_10_percent\")"
   ]
  },
  {
   "cell_type": "code",
   "execution_count": 6,
   "metadata": {},
   "outputs": [],
   "source": [
    "# 상수 선언\n",
    "IMAGE_SIZE = (224, 224)\n",
    "BATCH_SIZE = 32\n",
    "EPOCH_COUNT = 5\n",
    "\n",
    "train_dir_10_percent = \"10_food_classes_10_percent/train/\"\n",
    "test_dir_10_percent = \"10_food_classes_10_percent/test/\""
   ]
  },
  {
   "cell_type": "code",
   "execution_count": 7,
   "metadata": {},
   "outputs": [
    {
     "output_type": "stream",
     "name": "stdout",
     "text": [
      "Found 750 files belonging to 10 classes.\n",
      "Found 2500 files belonging to 10 classes.\n"
     ]
    }
   ],
   "source": [
    "# 데이터 셋 준비\n",
    "train_data_10_percent = tf.keras.preprocessing.image_dataset_from_directory(\n",
    "    directory = train_dir_10_percent,\n",
    "    image_size = IMAGE_SIZE,\n",
    "    label_mode = \"categorical\",\n",
    "    batch_size = BATCH_SIZE\n",
    ")\n",
    "\n",
    "test_data_10_percent = tf.keras.preprocessing.image_dataset_from_directory(\n",
    "    directory = test_dir_10_percent,\n",
    "    image_size = IMAGE_SIZE,\n",
    "    label_mode = \"categorical\",\n",
    "    batch_size = BATCH_SIZE\n",
    ")"
   ]
  },
  {
   "cell_type": "code",
   "execution_count": 8,
   "metadata": {},
   "outputs": [
    {
     "output_type": "execute_result",
     "data": {
      "text/plain": [
       "<BatchDataset shapes: ((None, 224, 224, 3), (None, 10)), types: (tf.float32, tf.float32)>"
      ]
     },
     "metadata": {},
     "execution_count": 8
    }
   ],
   "source": [
    "train_data_10_percent"
   ]
  },
  {
   "cell_type": "code",
   "execution_count": 7,
   "metadata": {},
   "outputs": [],
   "source": [
    "# Data Augmentation\n",
    "from tensorflow import keras\n",
    "from tensorflow.keras import layers\n",
    "from tensorflow.keras.layers.experimental import preprocessing\n",
    "\n",
    "data_augmentation = keras.Sequential([\n",
    "    preprocessing.RandomFlip(\"horizontal\"),\n",
    "    preprocessing.RandomRotation(0.2),\n",
    "    preprocessing.RandomZoom(0.2),\n",
    "    preprocessing.RandomRotation(0.2),\n",
    "    preprocessing.RandomWidth(0.2)\n",
    "], name=\"data_augmentation\")"
   ]
  },
  {
   "cell_type": "code",
   "execution_count": 8,
   "metadata": {},
   "outputs": [],
   "source": [
    "# Model 2 : 10%의 데이터 + Data Augmentation \n",
    "\n",
    "input_shape = (224, 224, 3)\n",
    "base_model = tf.keras.applications.EfficientNetB0(include_top=False)\n",
    "base_model.trainable = False\n",
    "\n",
    "inputs = layers.Input(shape = input_shape, name = \"model_2_input_layer\")\n",
    "x = data_augmentation(inputs)\n",
    "x = base_model(x, training=False)\n",
    "x = layers.GlobalAveragePooling2D(name = \"model_2_global_average_pooling_layer\")(x)\n",
    "outputs = layers.Dense(10, activation = \"softmax\", name = \"model_2_output_layer\")(x)\n",
    "\n",
    "model_2 = keras.Model(inputs, outputs)\n",
    "\n",
    "\n",
    "# 컴파일과 fitting\n",
    "model_2.compile(\n",
    "    loss = \"categorical_crossentropy\",\n",
    "    optimizer = tf.keras.optimizers.Adam(),\n",
    "    metrics = [\"accuracy\"]\n",
    ")"
   ]
  },
  {
   "cell_type": "code",
   "execution_count": 9,
   "metadata": {},
   "outputs": [],
   "source": [
    "# checkpoint 위치 지정\n",
    "checkpoint_path = \"10_percent_model_checkpoints_weights/chechpoint.ckpt\"\n",
    "\n",
    "checkpoint_callback = tf.keras.callbacks.ModelCheckpoint(\n",
    "    filepath = checkpoint_path,\n",
    "    save_weights_only = True, # 전체 모델을 저장하려면 False로 지정\n",
    "    save_best_only = False, # 각 epoch의 모델 대신 최적화 된 모델을 지정하려면 True로 지정\n",
    "    save_freq = \"epoch\", # 매 epoch 저장\n",
    ")"
   ]
  },
  {
   "cell_type": "code",
   "execution_count": null,
   "metadata": {},
   "outputs": [],
   "source": []
  },
  {
   "cell_type": "code",
   "execution_count": 10,
   "metadata": {},
   "outputs": [
    {
     "output_type": "execute_result",
     "data": {
      "text/plain": [
       "<tensorflow.python.training.tracking.util.CheckpointLoadStatus at 0x7f821d0e4100>"
      ]
     },
     "metadata": {},
     "execution_count": 10
    }
   ],
   "source": [
    "model_2.load_weights(checkpoint_path)\n"
   ]
  },
  {
   "cell_type": "code",
   "execution_count": 22,
   "metadata": {},
   "outputs": [
    {
     "output_type": "stream",
     "name": "stdout",
     "text": [
      "<class 'list'>\n"
     ]
    },
    {
     "output_type": "execute_result",
     "data": {
      "text/plain": [
       "[<tensorflow.python.keras.engine.input_layer.InputLayer at 0x7f821daa9ee0>,\n",
       " <tensorflow.python.keras.engine.sequential.Sequential at 0x7f821d07cc70>,\n",
       " <tensorflow.python.keras.engine.functional.Functional at 0x7f821dabc4f0>,\n",
       " <tensorflow.python.keras.layers.pooling.GlobalAveragePooling2D at 0x7f821cab5ca0>,\n",
       " <tensorflow.python.keras.layers.core.Dense at 0x7f821da04f40>]"
      ]
     },
     "metadata": {},
     "execution_count": 22
    }
   ],
   "source": [
    "print(type(model_2.layers))\n",
    "model_2.layers\n"
   ]
  },
  {
   "cell_type": "code",
   "execution_count": 18,
   "metadata": {},
   "outputs": [
    {
     "output_type": "stream",
     "name": "stdout",
     "text": [
      "True\nTrue\nFalse\nTrue\nTrue\n"
     ]
    },
    {
     "output_type": "execute_result",
     "data": {
      "text/plain": [
       "[None, None, None, None, None]"
      ]
     },
     "metadata": {},
     "execution_count": 18
    }
   ],
   "source": [
    "[ print(layer.trainable) for layer in model_2.layers ]\n",
    "# for layer in model_2.layers:\n",
    "#     print(layer.trainable)   \n",
    "\n",
    "# input_layer : 입력층\n",
    "# sequential : data augmentation\n",
    "# functional : base model (EfficientNetB0)"
   ]
  },
  {
   "cell_type": "code",
   "execution_count": 19,
   "metadata": {},
   "outputs": [
    {
     "output_type": "stream",
     "name": "stdout",
     "text": [
      "Model: \"model\"\n_________________________________________________________________\nLayer (type)                 Output Shape              Param #   \n=================================================================\nmodel_2_input_layer (InputLa [(None, 224, 224, 3)]     0         \n_________________________________________________________________\ndata_augmentation (Sequentia (None, 224, None, 3)      0         \n_________________________________________________________________\nefficientnetb0 (Functional)  (None, None, None, 1280)  4049571   \n_________________________________________________________________\nmodel_2_global_average_pooli (None, 1280)              0         \n_________________________________________________________________\nmodel_2_output_layer (Dense) (None, 10)                12810     \n=================================================================\nTotal params: 4,062,381\nTrainable params: 12,810\nNon-trainable params: 4,049,571\n_________________________________________________________________\n"
     ]
    }
   ],
   "source": [
    "model_2.summary()"
   ]
  },
  {
   "cell_type": "code",
   "execution_count": 26,
   "metadata": {},
   "outputs": [
    {
     "output_type": "stream",
     "name": "stdout",
     "text": [
      "0\n"
     ]
    }
   ],
   "source": [
    "print(len(model_2.layers[2].trainable_variables))"
   ]
  },
  {
   "cell_type": "code",
   "execution_count": 25,
   "metadata": {},
   "outputs": [
    {
     "output_type": "stream",
     "name": "stdout",
     "text": [
      "0\n"
     ]
    }
   ],
   "source": [
    "print(len(base_model.trainable_variables))"
   ]
  },
  {
   "cell_type": "code",
   "execution_count": 30,
   "metadata": {},
   "outputs": [
    {
     "output_type": "stream",
     "name": "stdout",
     "text": [
      "0 input_1 False\n1 rescaling False\n2 normalization False\n3 stem_conv_pad False\n4 stem_conv False\n5 stem_bn False\n6 stem_activation False\n7 block1a_dwconv False\n8 block1a_bn False\n9 block1a_activation False\n10 block1a_se_squeeze False\n11 block1a_se_reshape False\n12 block1a_se_reduce False\n13 block1a_se_expand False\n14 block1a_se_excite False\n15 block1a_project_conv False\n16 block1a_project_bn False\n17 block2a_expand_conv False\n18 block2a_expand_bn False\n19 block2a_expand_activation False\n20 block2a_dwconv_pad False\n21 block2a_dwconv False\n22 block2a_bn False\n23 block2a_activation False\n24 block2a_se_squeeze False\n25 block2a_se_reshape False\n26 block2a_se_reduce False\n27 block2a_se_expand False\n28 block2a_se_excite False\n29 block2a_project_conv False\n30 block2a_project_bn False\n31 block2b_expand_conv False\n32 block2b_expand_bn False\n33 block2b_expand_activation False\n34 block2b_dwconv False\n35 block2b_bn False\n36 block2b_activation False\n37 block2b_se_squeeze False\n38 block2b_se_reshape False\n39 block2b_se_reduce False\n40 block2b_se_expand False\n41 block2b_se_excite False\n42 block2b_project_conv False\n43 block2b_project_bn False\n44 block2b_drop False\n45 block2b_add False\n46 block3a_expand_conv False\n47 block3a_expand_bn False\n48 block3a_expand_activation False\n49 block3a_dwconv_pad False\n50 block3a_dwconv False\n51 block3a_bn False\n52 block3a_activation False\n53 block3a_se_squeeze False\n54 block3a_se_reshape False\n55 block3a_se_reduce False\n56 block3a_se_expand False\n57 block3a_se_excite False\n58 block3a_project_conv False\n59 block3a_project_bn False\n60 block3b_expand_conv False\n61 block3b_expand_bn False\n62 block3b_expand_activation False\n63 block3b_dwconv False\n64 block3b_bn False\n65 block3b_activation False\n66 block3b_se_squeeze False\n67 block3b_se_reshape False\n68 block3b_se_reduce False\n69 block3b_se_expand False\n70 block3b_se_excite False\n71 block3b_project_conv False\n72 block3b_project_bn False\n73 block3b_drop False\n74 block3b_add False\n75 block4a_expand_conv False\n76 block4a_expand_bn False\n77 block4a_expand_activation False\n78 block4a_dwconv_pad False\n79 block4a_dwconv False\n80 block4a_bn False\n81 block4a_activation False\n82 block4a_se_squeeze False\n83 block4a_se_reshape False\n84 block4a_se_reduce False\n85 block4a_se_expand False\n86 block4a_se_excite False\n87 block4a_project_conv False\n88 block4a_project_bn False\n89 block4b_expand_conv False\n90 block4b_expand_bn False\n91 block4b_expand_activation False\n92 block4b_dwconv False\n93 block4b_bn False\n94 block4b_activation False\n95 block4b_se_squeeze False\n96 block4b_se_reshape False\n97 block4b_se_reduce False\n98 block4b_se_expand False\n99 block4b_se_excite False\n100 block4b_project_conv False\n101 block4b_project_bn False\n102 block4b_drop False\n103 block4b_add False\n104 block4c_expand_conv False\n105 block4c_expand_bn False\n106 block4c_expand_activation False\n107 block4c_dwconv False\n108 block4c_bn False\n109 block4c_activation False\n110 block4c_se_squeeze False\n111 block4c_se_reshape False\n112 block4c_se_reduce False\n113 block4c_se_expand False\n114 block4c_se_excite False\n115 block4c_project_conv False\n116 block4c_project_bn False\n117 block4c_drop False\n118 block4c_add False\n119 block5a_expand_conv False\n120 block5a_expand_bn False\n121 block5a_expand_activation False\n122 block5a_dwconv False\n123 block5a_bn False\n124 block5a_activation False\n125 block5a_se_squeeze False\n126 block5a_se_reshape False\n127 block5a_se_reduce False\n128 block5a_se_expand False\n129 block5a_se_excite False\n130 block5a_project_conv False\n131 block5a_project_bn False\n132 block5b_expand_conv False\n133 block5b_expand_bn False\n134 block5b_expand_activation False\n135 block5b_dwconv False\n136 block5b_bn False\n137 block5b_activation False\n138 block5b_se_squeeze False\n139 block5b_se_reshape False\n140 block5b_se_reduce False\n141 block5b_se_expand False\n142 block5b_se_excite False\n143 block5b_project_conv False\n144 block5b_project_bn False\n145 block5b_drop False\n146 block5b_add False\n147 block5c_expand_conv False\n148 block5c_expand_bn False\n149 block5c_expand_activation False\n150 block5c_dwconv False\n151 block5c_bn False\n152 block5c_activation False\n153 block5c_se_squeeze False\n154 block5c_se_reshape False\n155 block5c_se_reduce False\n156 block5c_se_expand False\n157 block5c_se_excite False\n158 block5c_project_conv False\n159 block5c_project_bn False\n160 block5c_drop False\n161 block5c_add False\n162 block6a_expand_conv False\n163 block6a_expand_bn False\n164 block6a_expand_activation False\n165 block6a_dwconv_pad False\n166 block6a_dwconv False\n167 block6a_bn False\n168 block6a_activation False\n169 block6a_se_squeeze False\n170 block6a_se_reshape False\n171 block6a_se_reduce False\n172 block6a_se_expand False\n173 block6a_se_excite False\n174 block6a_project_conv False\n175 block6a_project_bn False\n176 block6b_expand_conv False\n177 block6b_expand_bn False\n178 block6b_expand_activation False\n179 block6b_dwconv False\n180 block6b_bn False\n181 block6b_activation False\n182 block6b_se_squeeze False\n183 block6b_se_reshape False\n184 block6b_se_reduce False\n185 block6b_se_expand False\n186 block6b_se_excite False\n187 block6b_project_conv False\n188 block6b_project_bn False\n189 block6b_drop False\n190 block6b_add False\n191 block6c_expand_conv False\n192 block6c_expand_bn False\n193 block6c_expand_activation False\n194 block6c_dwconv False\n195 block6c_bn False\n196 block6c_activation False\n197 block6c_se_squeeze False\n198 block6c_se_reshape False\n199 block6c_se_reduce False\n200 block6c_se_expand False\n201 block6c_se_excite False\n202 block6c_project_conv False\n203 block6c_project_bn False\n204 block6c_drop False\n205 block6c_add False\n206 block6d_expand_conv False\n207 block6d_expand_bn False\n208 block6d_expand_activation False\n209 block6d_dwconv False\n210 block6d_bn False\n211 block6d_activation False\n212 block6d_se_squeeze False\n213 block6d_se_reshape False\n214 block6d_se_reduce False\n215 block6d_se_expand False\n216 block6d_se_excite False\n217 block6d_project_conv False\n218 block6d_project_bn False\n219 block6d_drop False\n220 block6d_add False\n221 block7a_expand_conv False\n222 block7a_expand_bn False\n223 block7a_expand_activation False\n224 block7a_dwconv False\n225 block7a_bn False\n226 block7a_activation False\n227 block7a_se_squeeze False\n228 block7a_se_reshape False\n229 block7a_se_reduce False\n230 block7a_se_expand False\n231 block7a_se_excite False\n232 block7a_project_conv False\n233 block7a_project_bn False\n234 top_conv False\n235 top_bn False\n236 top_activation False\n"
     ]
    }
   ],
   "source": [
    "for layer_number, layer in enumerate(base_model.layers):\n",
    "    print(layer_number,  layer.name, layer.trainable)"
   ]
  },
  {
   "cell_type": "code",
   "execution_count": 32,
   "metadata": {},
   "outputs": [
    {
     "output_type": "execute_result",
     "data": {
      "text/plain": [
       "227"
      ]
     },
     "metadata": {},
     "execution_count": 32
    }
   ],
   "source": [
    "len(base_model.layers[:-10])"
   ]
  },
  {
   "cell_type": "code",
   "execution_count": 33,
   "metadata": {},
   "outputs": [],
   "source": [
    "base_model.trainable = True"
   ]
  },
  {
   "cell_type": "code",
   "execution_count": 35,
   "metadata": {},
   "outputs": [],
   "source": [
    "for layer in base_model.layers[:-10]:\n",
    "    layer.trainable = False"
   ]
  },
  {
   "cell_type": "code",
   "execution_count": 36,
   "metadata": {},
   "outputs": [
    {
     "output_type": "stream",
     "name": "stdout",
     "text": [
      "0 input_1 False\n1 rescaling False\n2 normalization False\n3 stem_conv_pad False\n4 stem_conv False\n5 stem_bn False\n6 stem_activation False\n7 block1a_dwconv False\n8 block1a_bn False\n9 block1a_activation False\n10 block1a_se_squeeze False\n11 block1a_se_reshape False\n12 block1a_se_reduce False\n13 block1a_se_expand False\n14 block1a_se_excite False\n15 block1a_project_conv False\n16 block1a_project_bn False\n17 block2a_expand_conv False\n18 block2a_expand_bn False\n19 block2a_expand_activation False\n20 block2a_dwconv_pad False\n21 block2a_dwconv False\n22 block2a_bn False\n23 block2a_activation False\n24 block2a_se_squeeze False\n25 block2a_se_reshape False\n26 block2a_se_reduce False\n27 block2a_se_expand False\n28 block2a_se_excite False\n29 block2a_project_conv False\n30 block2a_project_bn False\n31 block2b_expand_conv False\n32 block2b_expand_bn False\n33 block2b_expand_activation False\n34 block2b_dwconv False\n35 block2b_bn False\n36 block2b_activation False\n37 block2b_se_squeeze False\n38 block2b_se_reshape False\n39 block2b_se_reduce False\n40 block2b_se_expand False\n41 block2b_se_excite False\n42 block2b_project_conv False\n43 block2b_project_bn False\n44 block2b_drop False\n45 block2b_add False\n46 block3a_expand_conv False\n47 block3a_expand_bn False\n48 block3a_expand_activation False\n49 block3a_dwconv_pad False\n50 block3a_dwconv False\n51 block3a_bn False\n52 block3a_activation False\n53 block3a_se_squeeze False\n54 block3a_se_reshape False\n55 block3a_se_reduce False\n56 block3a_se_expand False\n57 block3a_se_excite False\n58 block3a_project_conv False\n59 block3a_project_bn False\n60 block3b_expand_conv False\n61 block3b_expand_bn False\n62 block3b_expand_activation False\n63 block3b_dwconv False\n64 block3b_bn False\n65 block3b_activation False\n66 block3b_se_squeeze False\n67 block3b_se_reshape False\n68 block3b_se_reduce False\n69 block3b_se_expand False\n70 block3b_se_excite False\n71 block3b_project_conv False\n72 block3b_project_bn False\n73 block3b_drop False\n74 block3b_add False\n75 block4a_expand_conv False\n76 block4a_expand_bn False\n77 block4a_expand_activation False\n78 block4a_dwconv_pad False\n79 block4a_dwconv False\n80 block4a_bn False\n81 block4a_activation False\n82 block4a_se_squeeze False\n83 block4a_se_reshape False\n84 block4a_se_reduce False\n85 block4a_se_expand False\n86 block4a_se_excite False\n87 block4a_project_conv False\n88 block4a_project_bn False\n89 block4b_expand_conv False\n90 block4b_expand_bn False\n91 block4b_expand_activation False\n92 block4b_dwconv False\n93 block4b_bn False\n94 block4b_activation False\n95 block4b_se_squeeze False\n96 block4b_se_reshape False\n97 block4b_se_reduce False\n98 block4b_se_expand False\n99 block4b_se_excite False\n100 block4b_project_conv False\n101 block4b_project_bn False\n102 block4b_drop False\n103 block4b_add False\n104 block4c_expand_conv False\n105 block4c_expand_bn False\n106 block4c_expand_activation False\n107 block4c_dwconv False\n108 block4c_bn False\n109 block4c_activation False\n110 block4c_se_squeeze False\n111 block4c_se_reshape False\n112 block4c_se_reduce False\n113 block4c_se_expand False\n114 block4c_se_excite False\n115 block4c_project_conv False\n116 block4c_project_bn False\n117 block4c_drop False\n118 block4c_add False\n119 block5a_expand_conv False\n120 block5a_expand_bn False\n121 block5a_expand_activation False\n122 block5a_dwconv False\n123 block5a_bn False\n124 block5a_activation False\n125 block5a_se_squeeze False\n126 block5a_se_reshape False\n127 block5a_se_reduce False\n128 block5a_se_expand False\n129 block5a_se_excite False\n130 block5a_project_conv False\n131 block5a_project_bn False\n132 block5b_expand_conv False\n133 block5b_expand_bn False\n134 block5b_expand_activation False\n135 block5b_dwconv False\n136 block5b_bn False\n137 block5b_activation False\n138 block5b_se_squeeze False\n139 block5b_se_reshape False\n140 block5b_se_reduce False\n141 block5b_se_expand False\n142 block5b_se_excite False\n143 block5b_project_conv False\n144 block5b_project_bn False\n145 block5b_drop False\n146 block5b_add False\n147 block5c_expand_conv False\n148 block5c_expand_bn False\n149 block5c_expand_activation False\n150 block5c_dwconv False\n151 block5c_bn False\n152 block5c_activation False\n153 block5c_se_squeeze False\n154 block5c_se_reshape False\n155 block5c_se_reduce False\n156 block5c_se_expand False\n157 block5c_se_excite False\n158 block5c_project_conv False\n159 block5c_project_bn False\n160 block5c_drop False\n161 block5c_add False\n162 block6a_expand_conv False\n163 block6a_expand_bn False\n164 block6a_expand_activation False\n165 block6a_dwconv_pad False\n166 block6a_dwconv False\n167 block6a_bn False\n168 block6a_activation False\n169 block6a_se_squeeze False\n170 block6a_se_reshape False\n171 block6a_se_reduce False\n172 block6a_se_expand False\n173 block6a_se_excite False\n174 block6a_project_conv False\n175 block6a_project_bn False\n176 block6b_expand_conv False\n177 block6b_expand_bn False\n178 block6b_expand_activation False\n179 block6b_dwconv False\n180 block6b_bn False\n181 block6b_activation False\n182 block6b_se_squeeze False\n183 block6b_se_reshape False\n184 block6b_se_reduce False\n185 block6b_se_expand False\n186 block6b_se_excite False\n187 block6b_project_conv False\n188 block6b_project_bn False\n189 block6b_drop False\n190 block6b_add False\n191 block6c_expand_conv False\n192 block6c_expand_bn False\n193 block6c_expand_activation False\n194 block6c_dwconv False\n195 block6c_bn False\n196 block6c_activation False\n197 block6c_se_squeeze False\n198 block6c_se_reshape False\n199 block6c_se_reduce False\n200 block6c_se_expand False\n201 block6c_se_excite False\n202 block6c_project_conv False\n203 block6c_project_bn False\n204 block6c_drop False\n205 block6c_add False\n206 block6d_expand_conv False\n207 block6d_expand_bn False\n208 block6d_expand_activation False\n209 block6d_dwconv False\n210 block6d_bn False\n211 block6d_activation False\n212 block6d_se_squeeze False\n213 block6d_se_reshape False\n214 block6d_se_reduce False\n215 block6d_se_expand False\n216 block6d_se_excite False\n217 block6d_project_conv False\n218 block6d_project_bn False\n219 block6d_drop False\n220 block6d_add False\n221 block7a_expand_conv False\n222 block7a_expand_bn False\n223 block7a_expand_activation False\n224 block7a_dwconv False\n225 block7a_bn False\n226 block7a_activation False\n227 block7a_se_squeeze True\n228 block7a_se_reshape True\n229 block7a_se_reduce True\n230 block7a_se_expand True\n231 block7a_se_excite True\n232 block7a_project_conv True\n233 block7a_project_bn True\n234 top_conv True\n235 top_bn True\n236 top_activation True\n"
     ]
    }
   ],
   "source": [
    "for layer_number, layer in enumerate(base_model.layers):\n",
    "    print(layer_number,  layer.name, layer.trainable)"
   ]
  },
  {
   "cell_type": "code",
   "execution_count": 37,
   "metadata": {},
   "outputs": [],
   "source": [
    "\n",
    "# 컴파일과 fitting\n",
    "model_2.compile(\n",
    "    loss = \"categorical_crossentropy\",\n",
    "    optimizer = tf.keras.optimizers.Adam(),\n",
    "    metrics = [\"accuracy\"]\n",
    ")"
   ]
  },
  {
   "cell_type": "code",
   "execution_count": 40,
   "metadata": {},
   "outputs": [
    {
     "output_type": "stream",
     "name": "stdout",
     "text": [
      "12\n"
     ]
    }
   ],
   "source": [
    "print(len(model_2.trainable_variables)) # 학습할수 있는 애들"
   ]
  },
  {
   "cell_type": "code",
   "execution_count": 41,
   "metadata": {},
   "outputs": [
    {
     "output_type": "stream",
     "name": "stdout",
     "text": [
      "TensorBoard 로그 파일을 저장한 디렉토리 : transfer_learning/10_percent_data_augment_fine_tuning/20210620-140329\n",
      "Epoch 1/10\n",
      "24/24 [==============================] - 164s 7s/step - loss: 0.8422 - accuracy: 0.7253 - val_loss: 0.5607 - val_accuracy: 0.8180\n",
      "Epoch 2/10\n",
      "24/24 [==============================] - 140s 6s/step - loss: 0.4845 - accuracy: 0.8480 - val_loss: 0.5688 - val_accuracy: 0.8112\n",
      "Epoch 3/10\n",
      "24/24 [==============================] - 147s 6s/step - loss: 0.2677 - accuracy: 0.9147 - val_loss: 0.6350 - val_accuracy: 0.8012\n",
      "Epoch 4/10\n",
      "24/24 [==============================] - 152s 7s/step - loss: 0.2115 - accuracy: 0.9333 - val_loss: 0.5736 - val_accuracy: 0.8252\n",
      "Epoch 5/10\n",
      "24/24 [==============================] - 140s 6s/step - loss: 0.1625 - accuracy: 0.9600 - val_loss: 0.5828 - val_accuracy: 0.8292\n",
      "Epoch 6/10\n",
      "24/24 [==============================] - 148s 6s/step - loss: 0.1193 - accuracy: 0.9640 - val_loss: 0.5813 - val_accuracy: 0.8348\n",
      "Epoch 7/10\n",
      "24/24 [==============================] - 147s 6s/step - loss: 0.1062 - accuracy: 0.9693 - val_loss: 0.6517 - val_accuracy: 0.8236\n",
      "Epoch 8/10\n",
      "24/24 [==============================] - 120s 5s/step - loss: 0.1023 - accuracy: 0.9653 - val_loss: 0.5977 - val_accuracy: 0.8368\n",
      "Epoch 9/10\n",
      "24/24 [==============================] - 118s 5s/step - loss: 0.0990 - accuracy: 0.9787 - val_loss: 0.6541 - val_accuracy: 0.8180\n",
      "Epoch 10/10\n",
      "24/24 [==============================] - 146s 6s/step - loss: 0.1109 - accuracy: 0.9613 - val_loss: 0.7082 - val_accuracy: 0.8108\n"
     ]
    }
   ],
   "source": [
    "fine_tune_epoch = EPOCH_COUNT + 5\n",
    "\n",
    "history_10_percent_data_augment_fine_tuning = model_2.fit(\n",
    "    train_data_10_percent,\n",
    "    epochs = fine_tune_epoch,\n",
    "    steps_per_epoch = len(train_data_10_percent),\n",
    "    validation_data = test_data_10_percent,\n",
    "    validation_steps = len(test_data_10_percent),\n",
    "    callbacks = [\n",
    "        create_tensorboard_callback(\"transfer_learning\", \"10_percent_data_augment_fine_tuning\"),\n",
    "        checkpoint_callback\n",
    "    ]\n",
    ")"
   ]
  },
  {
   "cell_type": "code",
   "execution_count": 48,
   "metadata": {},
   "outputs": [
    {
     "output_type": "stream",
     "name": "stdout",
     "text": [
      "79/79 [==============================] - 130s 2s/step - loss: 0.7082 - accuracy: 0.8108\n"
     ]
    },
    {
     "output_type": "execute_result",
     "data": {
      "text/plain": [
       "[0.7082114815711975, 0.8108000159263611]"
      ]
     },
     "metadata": {},
     "execution_count": 48
    }
   ],
   "source": [
    "result_10_percent_data_augment_fine_tuning = model_2.evaluate(test_data_10_percent)\n",
    "result_10_percent_data_augment_fine_tuning"
   ]
  },
  {
   "cell_type": "code",
   "execution_count": 47,
   "metadata": {},
   "outputs": [
    {
     "output_type": "display_data",
     "data": {
      "text/plain": "<Figure size 432x288 with 1 Axes>",
      "image/svg+xml": "<?xml version=\"1.0\" encoding=\"utf-8\" standalone=\"no\"?>\n<!DOCTYPE svg PUBLIC \"-//W3C//DTD SVG 1.1//EN\"\n  \"http://www.w3.org/Graphics/SVG/1.1/DTD/svg11.dtd\">\n<svg height=\"280.963594pt\" version=\"1.1\" viewBox=\"0 0 373.99 280.963594\" width=\"373.99pt\" xmlns=\"http://www.w3.org/2000/svg\" xmlns:xlink=\"http://www.w3.org/1999/xlink\">\n <metadata>\n  <rdf:RDF xmlns:cc=\"http://creativecommons.org/ns#\" xmlns:dc=\"http://purl.org/dc/elements/1.1/\" xmlns:rdf=\"http://www.w3.org/1999/02/22-rdf-syntax-ns#\">\n   <cc:Work>\n    <dc:type rdf:resource=\"http://purl.org/dc/dcmitype/StillImage\"/>\n    <dc:date>2021-06-20T14:28:14.963100</dc:date>\n    <dc:format>image/svg+xml</dc:format>\n    <dc:creator>\n     <cc:Agent>\n      <dc:title>Matplotlib v3.4.2, https://matplotlib.org/</dc:title>\n     </cc:Agent>\n    </dc:creator>\n   </cc:Work>\n  </rdf:RDF>\n </metadata>\n <defs>\n  <style type=\"text/css\">*{stroke-linecap:butt;stroke-linejoin:round;}</style>\n </defs>\n <g id=\"figure_1\">\n  <g id=\"patch_1\">\n   <path d=\"M 0 280.963594 \nL 373.99 280.963594 \nL 373.99 0 \nL 0 0 \nz\n\" style=\"fill:none;\"/>\n  </g>\n  <g id=\"axes_1\">\n   <g id=\"patch_2\">\n    <path d=\"M 31.99 239.229375 \nL 366.79 239.229375 \nL 366.79 21.789375 \nL 31.99 21.789375 \nz\n\" style=\"fill:#ffffff;\"/>\n   </g>\n   <g id=\"matplotlib.axis_1\">\n    <g id=\"xtick_1\">\n     <g id=\"line2d_1\">\n      <path clip-path=\"url(#pd59ae7f8b9)\" d=\"M 47.208182 239.229375 \nL 47.208182 21.789375 \n\" style=\"fill:none;stroke:#cccccc;stroke-linecap:round;\"/>\n     </g>\n     <g id=\"text_1\">\n      <!-- 0 -->\n      <g style=\"fill:#262626;\" transform=\"translate(44.149666 256.602969)scale(0.11 -0.11)\">\n       <defs>\n        <path d=\"M 266 2259 \nQ 266 3072 433 3567 \nQ 600 4063 929 4331 \nQ 1259 4600 1759 4600 \nQ 2128 4600 2406 4451 \nQ 2684 4303 2865 4023 \nQ 3047 3744 3150 3342 \nQ 3253 2941 3253 2259 \nQ 3253 1453 3087 958 \nQ 2922 463 2592 192 \nQ 2263 -78 1759 -78 \nQ 1097 -78 719 397 \nQ 266 969 266 2259 \nz\nM 844 2259 \nQ 844 1131 1108 757 \nQ 1372 384 1759 384 \nQ 2147 384 2411 759 \nQ 2675 1134 2675 2259 \nQ 2675 3391 2411 3762 \nQ 2147 4134 1753 4134 \nQ 1366 4134 1134 3806 \nQ 844 3388 844 2259 \nz\n\" id=\"ArialMT-30\" transform=\"scale(0.015625)\"/>\n       </defs>\n       <use xlink:href=\"#ArialMT-30\"/>\n      </g>\n     </g>\n    </g>\n    <g id=\"xtick_2\">\n     <g id=\"line2d_2\">\n      <path clip-path=\"url(#pd59ae7f8b9)\" d=\"M 114.844545 239.229375 \nL 114.844545 21.789375 \n\" style=\"fill:none;stroke:#cccccc;stroke-linecap:round;\"/>\n     </g>\n     <g id=\"text_2\">\n      <!-- 2 -->\n      <g style=\"fill:#262626;\" transform=\"translate(111.78603 256.602969)scale(0.11 -0.11)\">\n       <defs>\n        <path d=\"M 3222 541 \nL 3222 0 \nL 194 0 \nQ 188 203 259 391 \nQ 375 700 629 1000 \nQ 884 1300 1366 1694 \nQ 2113 2306 2375 2664 \nQ 2638 3022 2638 3341 \nQ 2638 3675 2398 3904 \nQ 2159 4134 1775 4134 \nQ 1369 4134 1125 3890 \nQ 881 3647 878 3216 \nL 300 3275 \nQ 359 3922 746 4261 \nQ 1134 4600 1788 4600 \nQ 2447 4600 2831 4234 \nQ 3216 3869 3216 3328 \nQ 3216 3053 3103 2787 \nQ 2991 2522 2730 2228 \nQ 2469 1934 1863 1422 \nQ 1356 997 1212 845 \nQ 1069 694 975 541 \nL 3222 541 \nz\n\" id=\"ArialMT-32\" transform=\"scale(0.015625)\"/>\n       </defs>\n       <use xlink:href=\"#ArialMT-32\"/>\n      </g>\n     </g>\n    </g>\n    <g id=\"xtick_3\">\n     <g id=\"line2d_3\">\n      <path clip-path=\"url(#pd59ae7f8b9)\" d=\"M 182.480909 239.229375 \nL 182.480909 21.789375 \n\" style=\"fill:none;stroke:#cccccc;stroke-linecap:round;\"/>\n     </g>\n     <g id=\"text_3\">\n      <!-- 4 -->\n      <g style=\"fill:#262626;\" transform=\"translate(179.422393 256.602969)scale(0.11 -0.11)\">\n       <defs>\n        <path d=\"M 2069 0 \nL 2069 1097 \nL 81 1097 \nL 81 1613 \nL 2172 4581 \nL 2631 4581 \nL 2631 1613 \nL 3250 1613 \nL 3250 1097 \nL 2631 1097 \nL 2631 0 \nL 2069 0 \nz\nM 2069 1613 \nL 2069 3678 \nL 634 1613 \nL 2069 1613 \nz\n\" id=\"ArialMT-34\" transform=\"scale(0.015625)\"/>\n       </defs>\n       <use xlink:href=\"#ArialMT-34\"/>\n      </g>\n     </g>\n    </g>\n    <g id=\"xtick_4\">\n     <g id=\"line2d_4\">\n      <path clip-path=\"url(#pd59ae7f8b9)\" d=\"M 250.117273 239.229375 \nL 250.117273 21.789375 \n\" style=\"fill:none;stroke:#cccccc;stroke-linecap:round;\"/>\n     </g>\n     <g id=\"text_4\">\n      <!-- 6 -->\n      <g style=\"fill:#262626;\" transform=\"translate(247.058757 256.602969)scale(0.11 -0.11)\">\n       <defs>\n        <path d=\"M 3184 3459 \nL 2625 3416 \nQ 2550 3747 2413 3897 \nQ 2184 4138 1850 4138 \nQ 1581 4138 1378 3988 \nQ 1113 3794 959 3422 \nQ 806 3050 800 2363 \nQ 1003 2672 1297 2822 \nQ 1591 2972 1913 2972 \nQ 2475 2972 2870 2558 \nQ 3266 2144 3266 1488 \nQ 3266 1056 3080 686 \nQ 2894 316 2569 119 \nQ 2244 -78 1831 -78 \nQ 1128 -78 684 439 \nQ 241 956 241 2144 \nQ 241 3472 731 4075 \nQ 1159 4600 1884 4600 \nQ 2425 4600 2770 4297 \nQ 3116 3994 3184 3459 \nz\nM 888 1484 \nQ 888 1194 1011 928 \nQ 1134 663 1356 523 \nQ 1578 384 1822 384 \nQ 2178 384 2434 671 \nQ 2691 959 2691 1453 \nQ 2691 1928 2437 2201 \nQ 2184 2475 1800 2475 \nQ 1419 2475 1153 2201 \nQ 888 1928 888 1484 \nz\n\" id=\"ArialMT-36\" transform=\"scale(0.015625)\"/>\n       </defs>\n       <use xlink:href=\"#ArialMT-36\"/>\n      </g>\n     </g>\n    </g>\n    <g id=\"xtick_5\">\n     <g id=\"line2d_5\">\n      <path clip-path=\"url(#pd59ae7f8b9)\" d=\"M 317.753636 239.229375 \nL 317.753636 21.789375 \n\" style=\"fill:none;stroke:#cccccc;stroke-linecap:round;\"/>\n     </g>\n     <g id=\"text_5\">\n      <!-- 8 -->\n      <g style=\"fill:#262626;\" transform=\"translate(314.695121 256.602969)scale(0.11 -0.11)\">\n       <defs>\n        <path d=\"M 1131 2484 \nQ 781 2613 612 2850 \nQ 444 3088 444 3419 \nQ 444 3919 803 4259 \nQ 1163 4600 1759 4600 \nQ 2359 4600 2725 4251 \nQ 3091 3903 3091 3403 \nQ 3091 3084 2923 2848 \nQ 2756 2613 2416 2484 \nQ 2838 2347 3058 2040 \nQ 3278 1734 3278 1309 \nQ 3278 722 2862 322 \nQ 2447 -78 1769 -78 \nQ 1091 -78 675 323 \nQ 259 725 259 1325 \nQ 259 1772 486 2073 \nQ 713 2375 1131 2484 \nz\nM 1019 3438 \nQ 1019 3113 1228 2906 \nQ 1438 2700 1772 2700 \nQ 2097 2700 2305 2904 \nQ 2513 3109 2513 3406 \nQ 2513 3716 2298 3927 \nQ 2084 4138 1766 4138 \nQ 1444 4138 1231 3931 \nQ 1019 3725 1019 3438 \nz\nM 838 1322 \nQ 838 1081 952 856 \nQ 1066 631 1291 507 \nQ 1516 384 1775 384 \nQ 2178 384 2440 643 \nQ 2703 903 2703 1303 \nQ 2703 1709 2433 1975 \nQ 2163 2241 1756 2241 \nQ 1359 2241 1098 1978 \nQ 838 1716 838 1322 \nz\n\" id=\"ArialMT-38\" transform=\"scale(0.015625)\"/>\n       </defs>\n       <use xlink:href=\"#ArialMT-38\"/>\n      </g>\n     </g>\n    </g>\n    <g id=\"text_6\">\n     <!-- Epochs -->\n     <g style=\"fill:#262626;\" transform=\"translate(179.378125 271.378594)scale(0.12 -0.12)\">\n      <defs>\n       <path d=\"M 506 0 \nL 506 4581 \nL 3819 4581 \nL 3819 4041 \nL 1113 4041 \nL 1113 2638 \nL 3647 2638 \nL 3647 2100 \nL 1113 2100 \nL 1113 541 \nL 3925 541 \nL 3925 0 \nL 506 0 \nz\n\" id=\"ArialMT-45\" transform=\"scale(0.015625)\"/>\n       <path d=\"M 422 -1272 \nL 422 3319 \nL 934 3319 \nL 934 2888 \nQ 1116 3141 1344 3267 \nQ 1572 3394 1897 3394 \nQ 2322 3394 2647 3175 \nQ 2972 2956 3137 2557 \nQ 3303 2159 3303 1684 \nQ 3303 1175 3120 767 \nQ 2938 359 2589 142 \nQ 2241 -75 1856 -75 \nQ 1575 -75 1351 44 \nQ 1128 163 984 344 \nL 984 -1272 \nL 422 -1272 \nz\nM 931 1641 \nQ 931 1000 1190 694 \nQ 1450 388 1819 388 \nQ 2194 388 2461 705 \nQ 2728 1022 2728 1688 \nQ 2728 2322 2467 2637 \nQ 2206 2953 1844 2953 \nQ 1484 2953 1207 2617 \nQ 931 2281 931 1641 \nz\n\" id=\"ArialMT-70\" transform=\"scale(0.015625)\"/>\n       <path d=\"M 213 1659 \nQ 213 2581 725 3025 \nQ 1153 3394 1769 3394 \nQ 2453 3394 2887 2945 \nQ 3322 2497 3322 1706 \nQ 3322 1066 3130 698 \nQ 2938 331 2570 128 \nQ 2203 -75 1769 -75 \nQ 1072 -75 642 372 \nQ 213 819 213 1659 \nz\nM 791 1659 \nQ 791 1022 1069 705 \nQ 1347 388 1769 388 \nQ 2188 388 2466 706 \nQ 2744 1025 2744 1678 \nQ 2744 2294 2464 2611 \nQ 2184 2928 1769 2928 \nQ 1347 2928 1069 2612 \nQ 791 2297 791 1659 \nz\n\" id=\"ArialMT-6f\" transform=\"scale(0.015625)\"/>\n       <path d=\"M 2588 1216 \nL 3141 1144 \nQ 3050 572 2676 248 \nQ 2303 -75 1759 -75 \nQ 1078 -75 664 370 \nQ 250 816 250 1647 \nQ 250 2184 428 2587 \nQ 606 2991 970 3192 \nQ 1334 3394 1763 3394 \nQ 2303 3394 2647 3120 \nQ 2991 2847 3088 2344 \nL 2541 2259 \nQ 2463 2594 2264 2762 \nQ 2066 2931 1784 2931 \nQ 1359 2931 1093 2626 \nQ 828 2322 828 1663 \nQ 828 994 1084 691 \nQ 1341 388 1753 388 \nQ 2084 388 2306 591 \nQ 2528 794 2588 1216 \nz\n\" id=\"ArialMT-63\" transform=\"scale(0.015625)\"/>\n       <path d=\"M 422 0 \nL 422 4581 \nL 984 4581 \nL 984 2938 \nQ 1378 3394 1978 3394 \nQ 2347 3394 2619 3248 \nQ 2891 3103 3008 2847 \nQ 3125 2591 3125 2103 \nL 3125 0 \nL 2563 0 \nL 2563 2103 \nQ 2563 2525 2380 2717 \nQ 2197 2909 1863 2909 \nQ 1613 2909 1392 2779 \nQ 1172 2650 1078 2428 \nQ 984 2206 984 1816 \nL 984 0 \nL 422 0 \nz\n\" id=\"ArialMT-68\" transform=\"scale(0.015625)\"/>\n       <path d=\"M 197 991 \nL 753 1078 \nQ 800 744 1014 566 \nQ 1228 388 1613 388 \nQ 2000 388 2187 545 \nQ 2375 703 2375 916 \nQ 2375 1106 2209 1216 \nQ 2094 1291 1634 1406 \nQ 1016 1563 777 1677 \nQ 538 1791 414 1992 \nQ 291 2194 291 2438 \nQ 291 2659 392 2848 \nQ 494 3038 669 3163 \nQ 800 3259 1026 3326 \nQ 1253 3394 1513 3394 \nQ 1903 3394 2198 3281 \nQ 2494 3169 2634 2976 \nQ 2775 2784 2828 2463 \nL 2278 2388 \nQ 2241 2644 2061 2787 \nQ 1881 2931 1553 2931 \nQ 1166 2931 1000 2803 \nQ 834 2675 834 2503 \nQ 834 2394 903 2306 \nQ 972 2216 1119 2156 \nQ 1203 2125 1616 2013 \nQ 2213 1853 2448 1751 \nQ 2684 1650 2818 1456 \nQ 2953 1263 2953 975 \nQ 2953 694 2789 445 \nQ 2625 197 2315 61 \nQ 2006 -75 1616 -75 \nQ 969 -75 630 194 \nQ 291 463 197 991 \nz\n\" id=\"ArialMT-73\" transform=\"scale(0.015625)\"/>\n      </defs>\n      <use xlink:href=\"#ArialMT-45\"/>\n      <use x=\"66.699219\" xlink:href=\"#ArialMT-70\"/>\n      <use x=\"122.314453\" xlink:href=\"#ArialMT-6f\"/>\n      <use x=\"177.929688\" xlink:href=\"#ArialMT-63\"/>\n      <use x=\"227.929688\" xlink:href=\"#ArialMT-68\"/>\n      <use x=\"283.544922\" xlink:href=\"#ArialMT-73\"/>\n     </g>\n    </g>\n   </g>\n   <g id=\"matplotlib.axis_2\">\n    <g id=\"ytick_1\">\n     <g id=\"line2d_6\">\n      <path clip-path=\"url(#pd59ae7f8b9)\" d=\"M 31.99 229.07278 \nL 366.79 229.07278 \n\" style=\"fill:none;stroke:#cccccc;stroke-linecap:round;\"/>\n     </g>\n     <g id=\"text_7\">\n      <!-- 0.1 -->\n      <g style=\"fill:#262626;\" transform=\"translate(7.2 233.009577)scale(0.11 -0.11)\">\n       <defs>\n        <path d=\"M 581 0 \nL 581 641 \nL 1222 641 \nL 1222 0 \nL 581 0 \nz\n\" id=\"ArialMT-2e\" transform=\"scale(0.015625)\"/>\n        <path d=\"M 2384 0 \nL 1822 0 \nL 1822 3584 \nQ 1619 3391 1289 3197 \nQ 959 3003 697 2906 \nL 697 3450 \nQ 1169 3672 1522 3987 \nQ 1875 4303 2022 4600 \nL 2384 4600 \nL 2384 0 \nz\n\" id=\"ArialMT-31\" transform=\"scale(0.015625)\"/>\n       </defs>\n       <use xlink:href=\"#ArialMT-30\"/>\n       <use x=\"55.615234\" xlink:href=\"#ArialMT-2e\"/>\n       <use x=\"83.398438\" xlink:href=\"#ArialMT-31\"/>\n      </g>\n     </g>\n    </g>\n    <g id=\"ytick_2\">\n     <g id=\"line2d_7\">\n      <path clip-path=\"url(#pd59ae7f8b9)\" d=\"M 31.99 202.476637 \nL 366.79 202.476637 \n\" style=\"fill:none;stroke:#cccccc;stroke-linecap:round;\"/>\n     </g>\n     <g id=\"text_8\">\n      <!-- 0.2 -->\n      <g style=\"fill:#262626;\" transform=\"translate(7.2 206.413434)scale(0.11 -0.11)\">\n       <use xlink:href=\"#ArialMT-30\"/>\n       <use x=\"55.615234\" xlink:href=\"#ArialMT-2e\"/>\n       <use x=\"83.398438\" xlink:href=\"#ArialMT-32\"/>\n      </g>\n     </g>\n    </g>\n    <g id=\"ytick_3\">\n     <g id=\"line2d_8\">\n      <path clip-path=\"url(#pd59ae7f8b9)\" d=\"M 31.99 175.880495 \nL 366.79 175.880495 \n\" style=\"fill:none;stroke:#cccccc;stroke-linecap:round;\"/>\n     </g>\n     <g id=\"text_9\">\n      <!-- 0.3 -->\n      <g style=\"fill:#262626;\" transform=\"translate(7.2 179.817292)scale(0.11 -0.11)\">\n       <defs>\n        <path d=\"M 269 1209 \nL 831 1284 \nQ 928 806 1161 595 \nQ 1394 384 1728 384 \nQ 2125 384 2398 659 \nQ 2672 934 2672 1341 \nQ 2672 1728 2419 1979 \nQ 2166 2231 1775 2231 \nQ 1616 2231 1378 2169 \nL 1441 2663 \nQ 1497 2656 1531 2656 \nQ 1891 2656 2178 2843 \nQ 2466 3031 2466 3422 \nQ 2466 3731 2256 3934 \nQ 2047 4138 1716 4138 \nQ 1388 4138 1169 3931 \nQ 950 3725 888 3313 \nL 325 3413 \nQ 428 3978 793 4289 \nQ 1159 4600 1703 4600 \nQ 2078 4600 2393 4439 \nQ 2709 4278 2876 4000 \nQ 3044 3722 3044 3409 \nQ 3044 3113 2884 2869 \nQ 2725 2625 2413 2481 \nQ 2819 2388 3044 2092 \nQ 3269 1797 3269 1353 \nQ 3269 753 2831 336 \nQ 2394 -81 1725 -81 \nQ 1122 -81 723 278 \nQ 325 638 269 1209 \nz\n\" id=\"ArialMT-33\" transform=\"scale(0.015625)\"/>\n       </defs>\n       <use xlink:href=\"#ArialMT-30\"/>\n       <use x=\"55.615234\" xlink:href=\"#ArialMT-2e\"/>\n       <use x=\"83.398438\" xlink:href=\"#ArialMT-33\"/>\n      </g>\n     </g>\n    </g>\n    <g id=\"ytick_4\">\n     <g id=\"line2d_9\">\n      <path clip-path=\"url(#pd59ae7f8b9)\" d=\"M 31.99 149.284352 \nL 366.79 149.284352 \n\" style=\"fill:none;stroke:#cccccc;stroke-linecap:round;\"/>\n     </g>\n     <g id=\"text_10\">\n      <!-- 0.4 -->\n      <g style=\"fill:#262626;\" transform=\"translate(7.2 153.221149)scale(0.11 -0.11)\">\n       <use xlink:href=\"#ArialMT-30\"/>\n       <use x=\"55.615234\" xlink:href=\"#ArialMT-2e\"/>\n       <use x=\"83.398438\" xlink:href=\"#ArialMT-34\"/>\n      </g>\n     </g>\n    </g>\n    <g id=\"ytick_5\">\n     <g id=\"line2d_10\">\n      <path clip-path=\"url(#pd59ae7f8b9)\" d=\"M 31.99 122.688209 \nL 366.79 122.688209 \n\" style=\"fill:none;stroke:#cccccc;stroke-linecap:round;\"/>\n     </g>\n     <g id=\"text_11\">\n      <!-- 0.5 -->\n      <g style=\"fill:#262626;\" transform=\"translate(7.2 126.625006)scale(0.11 -0.11)\">\n       <defs>\n        <path d=\"M 266 1200 \nL 856 1250 \nQ 922 819 1161 601 \nQ 1400 384 1738 384 \nQ 2144 384 2425 690 \nQ 2706 997 2706 1503 \nQ 2706 1984 2436 2262 \nQ 2166 2541 1728 2541 \nQ 1456 2541 1237 2417 \nQ 1019 2294 894 2097 \nL 366 2166 \nL 809 4519 \nL 3088 4519 \nL 3088 3981 \nL 1259 3981 \nL 1013 2750 \nQ 1425 3038 1878 3038 \nQ 2478 3038 2890 2622 \nQ 3303 2206 3303 1553 \nQ 3303 931 2941 478 \nQ 2500 -78 1738 -78 \nQ 1113 -78 717 272 \nQ 322 622 266 1200 \nz\n\" id=\"ArialMT-35\" transform=\"scale(0.015625)\"/>\n       </defs>\n       <use xlink:href=\"#ArialMT-30\"/>\n       <use x=\"55.615234\" xlink:href=\"#ArialMT-2e\"/>\n       <use x=\"83.398438\" xlink:href=\"#ArialMT-35\"/>\n      </g>\n     </g>\n    </g>\n    <g id=\"ytick_6\">\n     <g id=\"line2d_11\">\n      <path clip-path=\"url(#pd59ae7f8b9)\" d=\"M 31.99 96.092066 \nL 366.79 96.092066 \n\" style=\"fill:none;stroke:#cccccc;stroke-linecap:round;\"/>\n     </g>\n     <g id=\"text_12\">\n      <!-- 0.6 -->\n      <g style=\"fill:#262626;\" transform=\"translate(7.2 100.028863)scale(0.11 -0.11)\">\n       <use xlink:href=\"#ArialMT-30\"/>\n       <use x=\"55.615234\" xlink:href=\"#ArialMT-2e\"/>\n       <use x=\"83.398438\" xlink:href=\"#ArialMT-36\"/>\n      </g>\n     </g>\n    </g>\n    <g id=\"ytick_7\">\n     <g id=\"line2d_12\">\n      <path clip-path=\"url(#pd59ae7f8b9)\" d=\"M 31.99 69.495924 \nL 366.79 69.495924 \n\" style=\"fill:none;stroke:#cccccc;stroke-linecap:round;\"/>\n     </g>\n     <g id=\"text_13\">\n      <!-- 0.7 -->\n      <g style=\"fill:#262626;\" transform=\"translate(7.2 73.43272)scale(0.11 -0.11)\">\n       <defs>\n        <path d=\"M 303 3981 \nL 303 4522 \nL 3269 4522 \nL 3269 4084 \nQ 2831 3619 2401 2847 \nQ 1972 2075 1738 1259 \nQ 1569 684 1522 0 \nL 944 0 \nQ 953 541 1156 1306 \nQ 1359 2072 1739 2783 \nQ 2119 3494 2547 3981 \nL 303 3981 \nz\n\" id=\"ArialMT-37\" transform=\"scale(0.015625)\"/>\n       </defs>\n       <use xlink:href=\"#ArialMT-30\"/>\n       <use x=\"55.615234\" xlink:href=\"#ArialMT-2e\"/>\n       <use x=\"83.398438\" xlink:href=\"#ArialMT-37\"/>\n      </g>\n     </g>\n    </g>\n    <g id=\"ytick_8\">\n     <g id=\"line2d_13\">\n      <path clip-path=\"url(#pd59ae7f8b9)\" d=\"M 31.99 42.899781 \nL 366.79 42.899781 \n\" style=\"fill:none;stroke:#cccccc;stroke-linecap:round;\"/>\n     </g>\n     <g id=\"text_14\">\n      <!-- 0.8 -->\n      <g style=\"fill:#262626;\" transform=\"translate(7.2 46.836578)scale(0.11 -0.11)\">\n       <use xlink:href=\"#ArialMT-30\"/>\n       <use x=\"55.615234\" xlink:href=\"#ArialMT-2e\"/>\n       <use x=\"83.398438\" xlink:href=\"#ArialMT-38\"/>\n      </g>\n     </g>\n    </g>\n   </g>\n   <g id=\"line2d_14\">\n    <path clip-path=\"url(#pd59ae7f8b9)\" d=\"M 47.208182 31.673011 \nL 81.026364 126.811216 \nL 114.844545 184.47771 \nL 148.662727 199.43077 \nL 182.480909 212.457176 \nL 216.299091 223.937626 \nL 250.117273 227.423619 \nL 283.935455 228.451049 \nL 317.753636 229.345739 \nL 351.571818 226.170614 \n\" style=\"fill:none;stroke:#4c72b0;stroke-linecap:round;stroke-width:1.5;\"/>\n   </g>\n   <g id=\"line2d_15\">\n    <path clip-path=\"url(#pd59ae7f8b9)\" d=\"M 47.208182 106.551896 \nL 81.026364 104.393669 \nL 114.844545 86.795451 \nL 148.662727 103.105777 \nL 182.480909 100.666515 \nL 216.299091 101.05327 \nL 250.117273 82.346865 \nL 283.935455 96.69685 \nL 317.753636 81.701444 \nL 351.571818 67.312002 \n\" style=\"fill:none;stroke:#dd8452;stroke-linecap:round;stroke-width:1.5;\"/>\n   </g>\n   <g id=\"patch_3\">\n    <path d=\"M 31.99 239.229375 \nL 31.99 21.789375 \n\" style=\"fill:none;stroke:#cccccc;stroke-linecap:square;stroke-linejoin:miter;stroke-width:1.25;\"/>\n   </g>\n   <g id=\"patch_4\">\n    <path d=\"M 366.79 239.229375 \nL 366.79 21.789375 \n\" style=\"fill:none;stroke:#cccccc;stroke-linecap:square;stroke-linejoin:miter;stroke-width:1.25;\"/>\n   </g>\n   <g id=\"patch_5\">\n    <path d=\"M 31.99 239.229375 \nL 366.79 239.229375 \n\" style=\"fill:none;stroke:#cccccc;stroke-linecap:square;stroke-linejoin:miter;stroke-width:1.25;\"/>\n   </g>\n   <g id=\"patch_6\">\n    <path d=\"M 31.99 21.789375 \nL 366.79 21.789375 \n\" style=\"fill:none;stroke:#cccccc;stroke-linecap:square;stroke-linejoin:miter;stroke-width:1.25;\"/>\n   </g>\n   <g id=\"text_15\">\n    <!-- Loss -->\n    <g style=\"fill:#262626;\" transform=\"translate(186.716875 15.789375)scale(0.12 -0.12)\">\n     <defs>\n      <path d=\"M 469 0 \nL 469 4581 \nL 1075 4581 \nL 1075 541 \nL 3331 541 \nL 3331 0 \nL 469 0 \nz\n\" id=\"ArialMT-4c\" transform=\"scale(0.015625)\"/>\n     </defs>\n     <use xlink:href=\"#ArialMT-4c\"/>\n     <use x=\"55.615234\" xlink:href=\"#ArialMT-6f\"/>\n     <use x=\"111.230469\" xlink:href=\"#ArialMT-73\"/>\n     <use x=\"161.230469\" xlink:href=\"#ArialMT-73\"/>\n    </g>\n   </g>\n   <g id=\"legend_1\">\n    <g id=\"patch_7\">\n     <path d=\"M 254.799687 61.837969 \nL 359.09 61.837969 \nQ 361.29 61.837969 361.29 59.637969 \nL 361.29 29.489375 \nQ 361.29 27.289375 359.09 27.289375 \nL 254.799687 27.289375 \nQ 252.599687 27.289375 252.599687 29.489375 \nL 252.599687 59.637969 \nQ 252.599687 61.837969 254.799687 61.837969 \nz\n\" style=\"fill:#ffffff;opacity:0.8;stroke:#cccccc;stroke-linejoin:miter;\"/>\n    </g>\n    <g id=\"line2d_16\">\n     <path d=\"M 256.999687 35.712969 \nL 278.999687 35.712969 \n\" style=\"fill:none;stroke:#4c72b0;stroke-linecap:round;stroke-width:1.5;\"/>\n    </g>\n    <g id=\"line2d_17\"/>\n    <g id=\"text_16\">\n     <!-- training loss -->\n     <g style=\"fill:#262626;\" transform=\"translate(287.799688 39.562969)scale(0.11 -0.11)\">\n      <defs>\n       <path d=\"M 1650 503 \nL 1731 6 \nQ 1494 -44 1306 -44 \nQ 1000 -44 831 53 \nQ 663 150 594 308 \nQ 525 466 525 972 \nL 525 2881 \nL 113 2881 \nL 113 3319 \nL 525 3319 \nL 525 4141 \nL 1084 4478 \nL 1084 3319 \nL 1650 3319 \nL 1650 2881 \nL 1084 2881 \nL 1084 941 \nQ 1084 700 1114 631 \nQ 1144 563 1211 522 \nQ 1278 481 1403 481 \nQ 1497 481 1650 503 \nz\n\" id=\"ArialMT-74\" transform=\"scale(0.015625)\"/>\n       <path d=\"M 416 0 \nL 416 3319 \nL 922 3319 \nL 922 2816 \nQ 1116 3169 1280 3281 \nQ 1444 3394 1641 3394 \nQ 1925 3394 2219 3213 \nL 2025 2691 \nQ 1819 2813 1613 2813 \nQ 1428 2813 1281 2702 \nQ 1134 2591 1072 2394 \nQ 978 2094 978 1738 \nL 978 0 \nL 416 0 \nz\n\" id=\"ArialMT-72\" transform=\"scale(0.015625)\"/>\n       <path d=\"M 2588 409 \nQ 2275 144 1986 34 \nQ 1697 -75 1366 -75 \nQ 819 -75 525 192 \nQ 231 459 231 875 \nQ 231 1119 342 1320 \nQ 453 1522 633 1644 \nQ 813 1766 1038 1828 \nQ 1203 1872 1538 1913 \nQ 2219 1994 2541 2106 \nQ 2544 2222 2544 2253 \nQ 2544 2597 2384 2738 \nQ 2169 2928 1744 2928 \nQ 1347 2928 1158 2789 \nQ 969 2650 878 2297 \nL 328 2372 \nQ 403 2725 575 2942 \nQ 747 3159 1072 3276 \nQ 1397 3394 1825 3394 \nQ 2250 3394 2515 3294 \nQ 2781 3194 2906 3042 \nQ 3031 2891 3081 2659 \nQ 3109 2516 3109 2141 \nL 3109 1391 \nQ 3109 606 3145 398 \nQ 3181 191 3288 0 \nL 2700 0 \nQ 2613 175 2588 409 \nz\nM 2541 1666 \nQ 2234 1541 1622 1453 \nQ 1275 1403 1131 1340 \nQ 988 1278 909 1158 \nQ 831 1038 831 891 \nQ 831 666 1001 516 \nQ 1172 366 1500 366 \nQ 1825 366 2078 508 \nQ 2331 650 2450 897 \nQ 2541 1088 2541 1459 \nL 2541 1666 \nz\n\" id=\"ArialMT-61\" transform=\"scale(0.015625)\"/>\n       <path d=\"M 425 3934 \nL 425 4581 \nL 988 4581 \nL 988 3934 \nL 425 3934 \nz\nM 425 0 \nL 425 3319 \nL 988 3319 \nL 988 0 \nL 425 0 \nz\n\" id=\"ArialMT-69\" transform=\"scale(0.015625)\"/>\n       <path d=\"M 422 0 \nL 422 3319 \nL 928 3319 \nL 928 2847 \nQ 1294 3394 1984 3394 \nQ 2284 3394 2536 3286 \nQ 2788 3178 2913 3003 \nQ 3038 2828 3088 2588 \nQ 3119 2431 3119 2041 \nL 3119 0 \nL 2556 0 \nL 2556 2019 \nQ 2556 2363 2490 2533 \nQ 2425 2703 2258 2804 \nQ 2091 2906 1866 2906 \nQ 1506 2906 1245 2678 \nQ 984 2450 984 1813 \nL 984 0 \nL 422 0 \nz\n\" id=\"ArialMT-6e\" transform=\"scale(0.015625)\"/>\n       <path d=\"M 319 -275 \nL 866 -356 \nQ 900 -609 1056 -725 \nQ 1266 -881 1628 -881 \nQ 2019 -881 2231 -725 \nQ 2444 -569 2519 -288 \nQ 2563 -116 2559 434 \nQ 2191 0 1641 0 \nQ 956 0 581 494 \nQ 206 988 206 1678 \nQ 206 2153 378 2554 \nQ 550 2956 876 3175 \nQ 1203 3394 1644 3394 \nQ 2231 3394 2613 2919 \nL 2613 3319 \nL 3131 3319 \nL 3131 450 \nQ 3131 -325 2973 -648 \nQ 2816 -972 2473 -1159 \nQ 2131 -1347 1631 -1347 \nQ 1038 -1347 672 -1080 \nQ 306 -813 319 -275 \nz\nM 784 1719 \nQ 784 1066 1043 766 \nQ 1303 466 1694 466 \nQ 2081 466 2343 764 \nQ 2606 1063 2606 1700 \nQ 2606 2309 2336 2618 \nQ 2066 2928 1684 2928 \nQ 1309 2928 1046 2623 \nQ 784 2319 784 1719 \nz\n\" id=\"ArialMT-67\" transform=\"scale(0.015625)\"/>\n       <path id=\"ArialMT-20\" transform=\"scale(0.015625)\"/>\n       <path d=\"M 409 0 \nL 409 4581 \nL 972 4581 \nL 972 0 \nL 409 0 \nz\n\" id=\"ArialMT-6c\" transform=\"scale(0.015625)\"/>\n      </defs>\n      <use xlink:href=\"#ArialMT-74\"/>\n      <use x=\"27.783203\" xlink:href=\"#ArialMT-72\"/>\n      <use x=\"61.083984\" xlink:href=\"#ArialMT-61\"/>\n      <use x=\"116.699219\" xlink:href=\"#ArialMT-69\"/>\n      <use x=\"138.916016\" xlink:href=\"#ArialMT-6e\"/>\n      <use x=\"194.53125\" xlink:href=\"#ArialMT-69\"/>\n      <use x=\"216.748047\" xlink:href=\"#ArialMT-6e\"/>\n      <use x=\"272.363281\" xlink:href=\"#ArialMT-67\"/>\n      <use x=\"327.978516\" xlink:href=\"#ArialMT-20\"/>\n      <use x=\"355.761719\" xlink:href=\"#ArialMT-6c\"/>\n      <use x=\"377.978516\" xlink:href=\"#ArialMT-6f\"/>\n      <use x=\"433.59375\" xlink:href=\"#ArialMT-73\"/>\n      <use x=\"483.59375\" xlink:href=\"#ArialMT-73\"/>\n     </g>\n    </g>\n    <g id=\"line2d_18\">\n     <path d=\"M 256.999687 51.401719 \nL 278.999687 51.401719 \n\" style=\"fill:none;stroke:#dd8452;stroke-linecap:round;stroke-width:1.5;\"/>\n    </g>\n    <g id=\"line2d_19\"/>\n    <g id=\"text_17\">\n     <!-- validation loss -->\n     <g style=\"fill:#262626;\" transform=\"translate(287.799688 55.251719)scale(0.11 -0.11)\">\n      <defs>\n       <path d=\"M 1344 0 \nL 81 3319 \nL 675 3319 \nL 1388 1331 \nQ 1503 1009 1600 663 \nQ 1675 925 1809 1294 \nL 2547 3319 \nL 3125 3319 \nL 1869 0 \nL 1344 0 \nz\n\" id=\"ArialMT-76\" transform=\"scale(0.015625)\"/>\n       <path d=\"M 2575 0 \nL 2575 419 \nQ 2259 -75 1647 -75 \nQ 1250 -75 917 144 \nQ 584 363 401 755 \nQ 219 1147 219 1656 \nQ 219 2153 384 2558 \nQ 550 2963 881 3178 \nQ 1213 3394 1622 3394 \nQ 1922 3394 2156 3267 \nQ 2391 3141 2538 2938 \nL 2538 4581 \nL 3097 4581 \nL 3097 0 \nL 2575 0 \nz\nM 797 1656 \nQ 797 1019 1065 703 \nQ 1334 388 1700 388 \nQ 2069 388 2326 689 \nQ 2584 991 2584 1609 \nQ 2584 2291 2321 2609 \nQ 2059 2928 1675 2928 \nQ 1300 2928 1048 2622 \nQ 797 2316 797 1656 \nz\n\" id=\"ArialMT-64\" transform=\"scale(0.015625)\"/>\n      </defs>\n      <use xlink:href=\"#ArialMT-76\"/>\n      <use x=\"50\" xlink:href=\"#ArialMT-61\"/>\n      <use x=\"105.615234\" xlink:href=\"#ArialMT-6c\"/>\n      <use x=\"127.832031\" xlink:href=\"#ArialMT-69\"/>\n      <use x=\"150.048828\" xlink:href=\"#ArialMT-64\"/>\n      <use x=\"205.664062\" xlink:href=\"#ArialMT-61\"/>\n      <use x=\"261.279297\" xlink:href=\"#ArialMT-74\"/>\n      <use x=\"289.0625\" xlink:href=\"#ArialMT-69\"/>\n      <use x=\"311.279297\" xlink:href=\"#ArialMT-6f\"/>\n      <use x=\"366.894531\" xlink:href=\"#ArialMT-6e\"/>\n      <use x=\"422.509766\" xlink:href=\"#ArialMT-20\"/>\n      <use x=\"450.292969\" xlink:href=\"#ArialMT-6c\"/>\n      <use x=\"472.509766\" xlink:href=\"#ArialMT-6f\"/>\n      <use x=\"528.125\" xlink:href=\"#ArialMT-73\"/>\n      <use x=\"578.125\" xlink:href=\"#ArialMT-73\"/>\n     </g>\n    </g>\n   </g>\n  </g>\n </g>\n <defs>\n  <clipPath id=\"pd59ae7f8b9\">\n   <rect height=\"217.44\" width=\"334.8\" x=\"31.99\" y=\"21.789375\"/>\n  </clipPath>\n </defs>\n</svg>\n",
      "image/png": "[encoded data removed]"
     },
     "metadata": {
      "needs_background": "light"
     }
    },
    {
     "output_type": "display_data",
     "data": {
      "text/plain": "<Figure size 432x288 with 1 Axes>",
      "image/svg+xml": "<?xml version=\"1.0\" encoding=\"utf-8\" standalone=\"no\"?>\n<!DOCTYPE svg PUBLIC \"-//W3C//DTD SVG 1.1//EN\"\n  \"http://www.w3.org/Graphics/SVG/1.1/DTD/svg11.dtd\">\n<svg height=\"280.963594pt\" version=\"1.1\" viewBox=\"0 0 380.107031 280.963594\" width=\"380.107031pt\" xmlns=\"http://www.w3.org/2000/svg\" xmlns:xlink=\"http://www.w3.org/1999/xlink\">\n <metadata>\n  <rdf:RDF xmlns:cc=\"http://creativecommons.org/ns#\" xmlns:dc=\"http://purl.org/dc/elements/1.1/\" xmlns:rdf=\"http://www.w3.org/1999/02/22-rdf-syntax-ns#\">\n   <cc:Work>\n    <dc:type rdf:resource=\"http://purl.org/dc/dcmitype/StillImage\"/>\n    <dc:date>2021-06-20T14:28:15.424393</dc:date>\n    <dc:format>image/svg+xml</dc:format>\n    <dc:creator>\n     <cc:Agent>\n      <dc:title>Matplotlib v3.4.2, https://matplotlib.org/</dc:title>\n     </cc:Agent>\n    </dc:creator>\n   </cc:Work>\n  </rdf:RDF>\n </metadata>\n <defs>\n  <style type=\"text/css\">*{stroke-linecap:butt;stroke-linejoin:round;}</style>\n </defs>\n <g id=\"figure_1\">\n  <g id=\"patch_1\">\n   <path d=\"M 0 280.963594 \nL 380.107031 280.963594 \nL 380.107031 0 \nL 0 0 \nz\n\" style=\"fill:none;\"/>\n  </g>\n  <g id=\"axes_1\">\n   <g id=\"patch_2\">\n    <path d=\"M 38.107031 239.229375 \nL 372.907031 239.229375 \nL 372.907031 21.789375 \nL 38.107031 21.789375 \nz\n\" style=\"fill:#ffffff;\"/>\n   </g>\n   <g id=\"matplotlib.axis_1\">\n    <g id=\"xtick_1\">\n     <g id=\"line2d_1\">\n      <path clip-path=\"url(#pb9bc2cfe3f)\" d=\"M 53.325213 239.229375 \nL 53.325213 21.789375 \n\" style=\"fill:none;stroke:#cccccc;stroke-linecap:round;\"/>\n     </g>\n     <g id=\"text_1\">\n      <!-- 0 -->\n      <g style=\"fill:#262626;\" transform=\"translate(50.266697 256.602969)scale(0.11 -0.11)\">\n       <defs>\n        <path d=\"M 266 2259 \nQ 266 3072 433 3567 \nQ 600 4063 929 4331 \nQ 1259 4600 1759 4600 \nQ 2128 4600 2406 4451 \nQ 2684 4303 2865 4023 \nQ 3047 3744 3150 3342 \nQ 3253 2941 3253 2259 \nQ 3253 1453 3087 958 \nQ 2922 463 2592 192 \nQ 2263 -78 1759 -78 \nQ 1097 -78 719 397 \nQ 266 969 266 2259 \nz\nM 844 2259 \nQ 844 1131 1108 757 \nQ 1372 384 1759 384 \nQ 2147 384 2411 759 \nQ 2675 1134 2675 2259 \nQ 2675 3391 2411 3762 \nQ 2147 4134 1753 4134 \nQ 1366 4134 1134 3806 \nQ 844 3388 844 2259 \nz\n\" id=\"ArialMT-30\" transform=\"scale(0.015625)\"/>\n       </defs>\n       <use xlink:href=\"#ArialMT-30\"/>\n      </g>\n     </g>\n    </g>\n    <g id=\"xtick_2\">\n     <g id=\"line2d_2\">\n      <path clip-path=\"url(#pb9bc2cfe3f)\" d=\"M 120.961577 239.229375 \nL 120.961577 21.789375 \n\" style=\"fill:none;stroke:#cccccc;stroke-linecap:round;\"/>\n     </g>\n     <g id=\"text_2\">\n      <!-- 2 -->\n      <g style=\"fill:#262626;\" transform=\"translate(117.903061 256.602969)scale(0.11 -0.11)\">\n       <defs>\n        <path d=\"M 3222 541 \nL 3222 0 \nL 194 0 \nQ 188 203 259 391 \nQ 375 700 629 1000 \nQ 884 1300 1366 1694 \nQ 2113 2306 2375 2664 \nQ 2638 3022 2638 3341 \nQ 2638 3675 2398 3904 \nQ 2159 4134 1775 4134 \nQ 1369 4134 1125 3890 \nQ 881 3647 878 3216 \nL 300 3275 \nQ 359 3922 746 4261 \nQ 1134 4600 1788 4600 \nQ 2447 4600 2831 4234 \nQ 3216 3869 3216 3328 \nQ 3216 3053 3103 2787 \nQ 2991 2522 2730 2228 \nQ 2469 1934 1863 1422 \nQ 1356 997 1212 845 \nQ 1069 694 975 541 \nL 3222 541 \nz\n\" id=\"ArialMT-32\" transform=\"scale(0.015625)\"/>\n       </defs>\n       <use xlink:href=\"#ArialMT-32\"/>\n      </g>\n     </g>\n    </g>\n    <g id=\"xtick_3\">\n     <g id=\"line2d_3\">\n      <path clip-path=\"url(#pb9bc2cfe3f)\" d=\"M 188.59794 239.229375 \nL 188.59794 21.789375 \n\" style=\"fill:none;stroke:#cccccc;stroke-linecap:round;\"/>\n     </g>\n     <g id=\"text_3\">\n      <!-- 4 -->\n      <g style=\"fill:#262626;\" transform=\"translate(185.539425 256.602969)scale(0.11 -0.11)\">\n       <defs>\n        <path d=\"M 2069 0 \nL 2069 1097 \nL 81 1097 \nL 81 1613 \nL 2172 4581 \nL 2631 4581 \nL 2631 1613 \nL 3250 1613 \nL 3250 1097 \nL 2631 1097 \nL 2631 0 \nL 2069 0 \nz\nM 2069 1613 \nL 2069 3678 \nL 634 1613 \nL 2069 1613 \nz\n\" id=\"ArialMT-34\" transform=\"scale(0.015625)\"/>\n       </defs>\n       <use xlink:href=\"#ArialMT-34\"/>\n      </g>\n     </g>\n    </g>\n    <g id=\"xtick_4\">\n     <g id=\"line2d_4\">\n      <path clip-path=\"url(#pb9bc2cfe3f)\" d=\"M 256.234304 239.229375 \nL 256.234304 21.789375 \n\" style=\"fill:none;stroke:#cccccc;stroke-linecap:round;\"/>\n     </g>\n     <g id=\"text_4\">\n      <!-- 6 -->\n      <g style=\"fill:#262626;\" transform=\"translate(253.175788 256.602969)scale(0.11 -0.11)\">\n       <defs>\n        <path d=\"M 3184 3459 \nL 2625 3416 \nQ 2550 3747 2413 3897 \nQ 2184 4138 1850 4138 \nQ 1581 4138 1378 3988 \nQ 1113 3794 959 3422 \nQ 806 3050 800 2363 \nQ 1003 2672 1297 2822 \nQ 1591 2972 1913 2972 \nQ 2475 2972 2870 2558 \nQ 3266 2144 3266 1488 \nQ 3266 1056 3080 686 \nQ 2894 316 2569 119 \nQ 2244 -78 1831 -78 \nQ 1128 -78 684 439 \nQ 241 956 241 2144 \nQ 241 3472 731 4075 \nQ 1159 4600 1884 4600 \nQ 2425 4600 2770 4297 \nQ 3116 3994 3184 3459 \nz\nM 888 1484 \nQ 888 1194 1011 928 \nQ 1134 663 1356 523 \nQ 1578 384 1822 384 \nQ 2178 384 2434 671 \nQ 2691 959 2691 1453 \nQ 2691 1928 2437 2201 \nQ 2184 2475 1800 2475 \nQ 1419 2475 1153 2201 \nQ 888 1928 888 1484 \nz\n\" id=\"ArialMT-36\" transform=\"scale(0.015625)\"/>\n       </defs>\n       <use xlink:href=\"#ArialMT-36\"/>\n      </g>\n     </g>\n    </g>\n    <g id=\"xtick_5\">\n     <g id=\"line2d_5\">\n      <path clip-path=\"url(#pb9bc2cfe3f)\" d=\"M 323.870668 239.229375 \nL 323.870668 21.789375 \n\" style=\"fill:none;stroke:#cccccc;stroke-linecap:round;\"/>\n     </g>\n     <g id=\"text_5\">\n      <!-- 8 -->\n      <g style=\"fill:#262626;\" transform=\"translate(320.812152 256.602969)scale(0.11 -0.11)\">\n       <defs>\n        <path d=\"M 1131 2484 \nQ 781 2613 612 2850 \nQ 444 3088 444 3419 \nQ 444 3919 803 4259 \nQ 1163 4600 1759 4600 \nQ 2359 4600 2725 4251 \nQ 3091 3903 3091 3403 \nQ 3091 3084 2923 2848 \nQ 2756 2613 2416 2484 \nQ 2838 2347 3058 2040 \nQ 3278 1734 3278 1309 \nQ 3278 722 2862 322 \nQ 2447 -78 1769 -78 \nQ 1091 -78 675 323 \nQ 259 725 259 1325 \nQ 259 1772 486 2073 \nQ 713 2375 1131 2484 \nz\nM 1019 3438 \nQ 1019 3113 1228 2906 \nQ 1438 2700 1772 2700 \nQ 2097 2700 2305 2904 \nQ 2513 3109 2513 3406 \nQ 2513 3716 2298 3927 \nQ 2084 4138 1766 4138 \nQ 1444 4138 1231 3931 \nQ 1019 3725 1019 3438 \nz\nM 838 1322 \nQ 838 1081 952 856 \nQ 1066 631 1291 507 \nQ 1516 384 1775 384 \nQ 2178 384 2440 643 \nQ 2703 903 2703 1303 \nQ 2703 1709 2433 1975 \nQ 2163 2241 1756 2241 \nQ 1359 2241 1098 1978 \nQ 838 1716 838 1322 \nz\n\" id=\"ArialMT-38\" transform=\"scale(0.015625)\"/>\n       </defs>\n       <use xlink:href=\"#ArialMT-38\"/>\n      </g>\n     </g>\n    </g>\n    <g id=\"text_6\">\n     <!-- Epochs -->\n     <g style=\"fill:#262626;\" transform=\"translate(185.495156 271.378594)scale(0.12 -0.12)\">\n      <defs>\n       <path d=\"M 506 0 \nL 506 4581 \nL 3819 4581 \nL 3819 4041 \nL 1113 4041 \nL 1113 2638 \nL 3647 2638 \nL 3647 2100 \nL 1113 2100 \nL 1113 541 \nL 3925 541 \nL 3925 0 \nL 506 0 \nz\n\" id=\"ArialMT-45\" transform=\"scale(0.015625)\"/>\n       <path d=\"M 422 -1272 \nL 422 3319 \nL 934 3319 \nL 934 2888 \nQ 1116 3141 1344 3267 \nQ 1572 3394 1897 3394 \nQ 2322 3394 2647 3175 \nQ 2972 2956 3137 2557 \nQ 3303 2159 3303 1684 \nQ 3303 1175 3120 767 \nQ 2938 359 2589 142 \nQ 2241 -75 1856 -75 \nQ 1575 -75 1351 44 \nQ 1128 163 984 344 \nL 984 -1272 \nL 422 -1272 \nz\nM 931 1641 \nQ 931 1000 1190 694 \nQ 1450 388 1819 388 \nQ 2194 388 2461 705 \nQ 2728 1022 2728 1688 \nQ 2728 2322 2467 2637 \nQ 2206 2953 1844 2953 \nQ 1484 2953 1207 2617 \nQ 931 2281 931 1641 \nz\n\" id=\"ArialMT-70\" transform=\"scale(0.015625)\"/>\n       <path d=\"M 213 1659 \nQ 213 2581 725 3025 \nQ 1153 3394 1769 3394 \nQ 2453 3394 2887 2945 \nQ 3322 2497 3322 1706 \nQ 3322 1066 3130 698 \nQ 2938 331 2570 128 \nQ 2203 -75 1769 -75 \nQ 1072 -75 642 372 \nQ 213 819 213 1659 \nz\nM 791 1659 \nQ 791 1022 1069 705 \nQ 1347 388 1769 388 \nQ 2188 388 2466 706 \nQ 2744 1025 2744 1678 \nQ 2744 2294 2464 2611 \nQ 2184 2928 1769 2928 \nQ 1347 2928 1069 2612 \nQ 791 2297 791 1659 \nz\n\" id=\"ArialMT-6f\" transform=\"scale(0.015625)\"/>\n       <path d=\"M 2588 1216 \nL 3141 1144 \nQ 3050 572 2676 248 \nQ 2303 -75 1759 -75 \nQ 1078 -75 664 370 \nQ 250 816 250 1647 \nQ 250 2184 428 2587 \nQ 606 2991 970 3192 \nQ 1334 3394 1763 3394 \nQ 2303 3394 2647 3120 \nQ 2991 2847 3088 2344 \nL 2541 2259 \nQ 2463 2594 2264 2762 \nQ 2066 2931 1784 2931 \nQ 1359 2931 1093 2626 \nQ 828 2322 828 1663 \nQ 828 994 1084 691 \nQ 1341 388 1753 388 \nQ 2084 388 2306 591 \nQ 2528 794 2588 1216 \nz\n\" id=\"ArialMT-63\" transform=\"scale(0.015625)\"/>\n       <path d=\"M 422 0 \nL 422 4581 \nL 984 4581 \nL 984 2938 \nQ 1378 3394 1978 3394 \nQ 2347 3394 2619 3248 \nQ 2891 3103 3008 2847 \nQ 3125 2591 3125 2103 \nL 3125 0 \nL 2563 0 \nL 2563 2103 \nQ 2563 2525 2380 2717 \nQ 2197 2909 1863 2909 \nQ 1613 2909 1392 2779 \nQ 1172 2650 1078 2428 \nQ 984 2206 984 1816 \nL 984 0 \nL 422 0 \nz\n\" id=\"ArialMT-68\" transform=\"scale(0.015625)\"/>\n       <path d=\"M 197 991 \nL 753 1078 \nQ 800 744 1014 566 \nQ 1228 388 1613 388 \nQ 2000 388 2187 545 \nQ 2375 703 2375 916 \nQ 2375 1106 2209 1216 \nQ 2094 1291 1634 1406 \nQ 1016 1563 777 1677 \nQ 538 1791 414 1992 \nQ 291 2194 291 2438 \nQ 291 2659 392 2848 \nQ 494 3038 669 3163 \nQ 800 3259 1026 3326 \nQ 1253 3394 1513 3394 \nQ 1903 3394 2198 3281 \nQ 2494 3169 2634 2976 \nQ 2775 2784 2828 2463 \nL 2278 2388 \nQ 2241 2644 2061 2787 \nQ 1881 2931 1553 2931 \nQ 1166 2931 1000 2803 \nQ 834 2675 834 2503 \nQ 834 2394 903 2306 \nQ 972 2216 1119 2156 \nQ 1203 2125 1616 2013 \nQ 2213 1853 2448 1751 \nQ 2684 1650 2818 1456 \nQ 2953 1263 2953 975 \nQ 2953 694 2789 445 \nQ 2625 197 2315 61 \nQ 2006 -75 1616 -75 \nQ 969 -75 630 194 \nQ 291 463 197 991 \nz\n\" id=\"ArialMT-73\" transform=\"scale(0.015625)\"/>\n      </defs>\n      <use xlink:href=\"#ArialMT-45\"/>\n      <use x=\"66.699219\" xlink:href=\"#ArialMT-70\"/>\n      <use x=\"122.314453\" xlink:href=\"#ArialMT-6f\"/>\n      <use x=\"177.929688\" xlink:href=\"#ArialMT-63\"/>\n      <use x=\"227.929688\" xlink:href=\"#ArialMT-68\"/>\n      <use x=\"283.544922\" xlink:href=\"#ArialMT-73\"/>\n     </g>\n    </g>\n   </g>\n   <g id=\"matplotlib.axis_2\">\n    <g id=\"ytick_1\">\n     <g id=\"line2d_6\">\n      <path clip-path=\"url(#pb9bc2cfe3f)\" d=\"M 38.107031 210.098657 \nL 372.907031 210.098657 \n\" style=\"fill:none;stroke:#cccccc;stroke-linecap:round;\"/>\n     </g>\n     <g id=\"text_7\">\n      <!-- 0.75 -->\n      <g style=\"fill:#262626;\" transform=\"translate(7.2 214.035454)scale(0.11 -0.11)\">\n       <defs>\n        <path d=\"M 581 0 \nL 581 641 \nL 1222 641 \nL 1222 0 \nL 581 0 \nz\n\" id=\"ArialMT-2e\" transform=\"scale(0.015625)\"/>\n        <path d=\"M 303 3981 \nL 303 4522 \nL 3269 4522 \nL 3269 4084 \nQ 2831 3619 2401 2847 \nQ 1972 2075 1738 1259 \nQ 1569 684 1522 0 \nL 944 0 \nQ 953 541 1156 1306 \nQ 1359 2072 1739 2783 \nQ 2119 3494 2547 3981 \nL 303 3981 \nz\n\" id=\"ArialMT-37\" transform=\"scale(0.015625)\"/>\n        <path d=\"M 266 1200 \nL 856 1250 \nQ 922 819 1161 601 \nQ 1400 384 1738 384 \nQ 2144 384 2425 690 \nQ 2706 997 2706 1503 \nQ 2706 1984 2436 2262 \nQ 2166 2541 1728 2541 \nQ 1456 2541 1237 2417 \nQ 1019 2294 894 2097 \nL 366 2166 \nL 809 4519 \nL 3088 4519 \nL 3088 3981 \nL 1259 3981 \nL 1013 2750 \nQ 1425 3038 1878 3038 \nQ 2478 3038 2890 2622 \nQ 3303 2206 3303 1553 \nQ 3303 931 2941 478 \nQ 2500 -78 1738 -78 \nQ 1113 -78 717 272 \nQ 322 622 266 1200 \nz\n\" id=\"ArialMT-35\" transform=\"scale(0.015625)\"/>\n       </defs>\n       <use xlink:href=\"#ArialMT-30\"/>\n       <use x=\"55.615234\" xlink:href=\"#ArialMT-2e\"/>\n       <use x=\"83.398438\" xlink:href=\"#ArialMT-37\"/>\n       <use x=\"139.013672\" xlink:href=\"#ArialMT-35\"/>\n      </g>\n     </g>\n    </g>\n    <g id=\"ytick_2\">\n     <g id=\"line2d_7\">\n      <path clip-path=\"url(#pb9bc2cfe3f)\" d=\"M 38.107031 171.084302 \nL 372.907031 171.084302 \n\" style=\"fill:none;stroke:#cccccc;stroke-linecap:round;\"/>\n     </g>\n     <g id=\"text_8\">\n      <!-- 0.80 -->\n      <g style=\"fill:#262626;\" transform=\"translate(7.2 175.021099)scale(0.11 -0.11)\">\n       <use xlink:href=\"#ArialMT-30\"/>\n       <use x=\"55.615234\" xlink:href=\"#ArialMT-2e\"/>\n       <use x=\"83.398438\" xlink:href=\"#ArialMT-38\"/>\n       <use x=\"139.013672\" xlink:href=\"#ArialMT-30\"/>\n      </g>\n     </g>\n    </g>\n    <g id=\"ytick_3\">\n     <g id=\"line2d_8\">\n      <path clip-path=\"url(#pb9bc2cfe3f)\" d=\"M 38.107031 132.069948 \nL 372.907031 132.069948 \n\" style=\"fill:none;stroke:#cccccc;stroke-linecap:round;\"/>\n     </g>\n     <g id=\"text_9\">\n      <!-- 0.85 -->\n      <g style=\"fill:#262626;\" transform=\"translate(7.2 136.006745)scale(0.11 -0.11)\">\n       <use xlink:href=\"#ArialMT-30\"/>\n       <use x=\"55.615234\" xlink:href=\"#ArialMT-2e\"/>\n       <use x=\"83.398438\" xlink:href=\"#ArialMT-38\"/>\n       <use x=\"139.013672\" xlink:href=\"#ArialMT-35\"/>\n      </g>\n     </g>\n    </g>\n    <g id=\"ytick_4\">\n     <g id=\"line2d_9\">\n      <path clip-path=\"url(#pb9bc2cfe3f)\" d=\"M 38.107031 93.055593 \nL 372.907031 93.055593 \n\" style=\"fill:none;stroke:#cccccc;stroke-linecap:round;\"/>\n     </g>\n     <g id=\"text_10\">\n      <!-- 0.90 -->\n      <g style=\"fill:#262626;\" transform=\"translate(7.2 96.99239)scale(0.11 -0.11)\">\n       <defs>\n        <path d=\"M 350 1059 \nL 891 1109 \nQ 959 728 1153 556 \nQ 1347 384 1650 384 \nQ 1909 384 2104 503 \nQ 2300 622 2425 820 \nQ 2550 1019 2634 1356 \nQ 2719 1694 2719 2044 \nQ 2719 2081 2716 2156 \nQ 2547 1888 2255 1720 \nQ 1963 1553 1622 1553 \nQ 1053 1553 659 1965 \nQ 266 2378 266 3053 \nQ 266 3750 677 4175 \nQ 1088 4600 1706 4600 \nQ 2153 4600 2523 4359 \nQ 2894 4119 3086 3673 \nQ 3278 3228 3278 2384 \nQ 3278 1506 3087 986 \nQ 2897 466 2520 194 \nQ 2144 -78 1638 -78 \nQ 1100 -78 759 220 \nQ 419 519 350 1059 \nz\nM 2653 3081 \nQ 2653 3566 2395 3850 \nQ 2138 4134 1775 4134 \nQ 1400 4134 1122 3828 \nQ 844 3522 844 3034 \nQ 844 2597 1108 2323 \nQ 1372 2050 1759 2050 \nQ 2150 2050 2401 2323 \nQ 2653 2597 2653 3081 \nz\n\" id=\"ArialMT-39\" transform=\"scale(0.015625)\"/>\n       </defs>\n       <use xlink:href=\"#ArialMT-30\"/>\n       <use x=\"55.615234\" xlink:href=\"#ArialMT-2e\"/>\n       <use x=\"83.398438\" xlink:href=\"#ArialMT-39\"/>\n       <use x=\"139.013672\" xlink:href=\"#ArialMT-30\"/>\n      </g>\n     </g>\n    </g>\n    <g id=\"ytick_5\">\n     <g id=\"line2d_10\">\n      <path clip-path=\"url(#pb9bc2cfe3f)\" d=\"M 38.107031 54.041239 \nL 372.907031 54.041239 \n\" style=\"fill:none;stroke:#cccccc;stroke-linecap:round;\"/>\n     </g>\n     <g id=\"text_11\">\n      <!-- 0.95 -->\n      <g style=\"fill:#262626;\" transform=\"translate(7.2 57.978035)scale(0.11 -0.11)\">\n       <use xlink:href=\"#ArialMT-30\"/>\n       <use x=\"55.615234\" xlink:href=\"#ArialMT-2e\"/>\n       <use x=\"83.398438\" xlink:href=\"#ArialMT-39\"/>\n       <use x=\"139.013672\" xlink:href=\"#ArialMT-35\"/>\n      </g>\n     </g>\n    </g>\n   </g>\n   <g id=\"line2d_11\">\n    <path clip-path=\"url(#pb9bc2cfe3f)\" d=\"M 53.325213 229.345739 \nL 87.143395 133.63053 \nL 120.961577 81.611393 \nL 154.779759 67.04602 \nL 188.59794 46.238384 \nL 222.416122 43.11723 \nL 256.234304 38.955675 \nL 290.052486 42.076829 \nL 323.870668 31.673011 \nL 357.688849 45.197984 \n\" style=\"fill:none;stroke:#4c72b0;stroke-linecap:round;stroke-width:1.5;\"/>\n   </g>\n   <g id=\"line2d_12\">\n    <path clip-path=\"url(#pb9bc2cfe3f)\" d=\"M 53.325213 157.03912 \nL 87.143395 162.345069 \nL 120.961577 170.147979 \nL 154.779759 151.421051 \nL 188.59794 148.299896 \nL 222.416122 143.930308 \nL 256.234304 152.669531 \nL 290.052486 142.369754 \nL 323.870668 157.03912 \nL 357.688849 162.657189 \n\" style=\"fill:none;stroke:#dd8452;stroke-linecap:round;stroke-width:1.5;\"/>\n   </g>\n   <g id=\"patch_3\">\n    <path d=\"M 38.107031 239.229375 \nL 38.107031 21.789375 \n\" style=\"fill:none;stroke:#cccccc;stroke-linecap:square;stroke-linejoin:miter;stroke-width:1.25;\"/>\n   </g>\n   <g id=\"patch_4\">\n    <path d=\"M 372.907031 239.229375 \nL 372.907031 21.789375 \n\" style=\"fill:none;stroke:#cccccc;stroke-linecap:square;stroke-linejoin:miter;stroke-width:1.25;\"/>\n   </g>\n   <g id=\"patch_5\">\n    <path d=\"M 38.107031 239.229375 \nL 372.907031 239.229375 \n\" style=\"fill:none;stroke:#cccccc;stroke-linecap:square;stroke-linejoin:miter;stroke-width:1.25;\"/>\n   </g>\n   <g id=\"patch_6\">\n    <path d=\"M 38.107031 21.789375 \nL 372.907031 21.789375 \n\" style=\"fill:none;stroke:#cccccc;stroke-linecap:square;stroke-linejoin:miter;stroke-width:1.25;\"/>\n   </g>\n   <g id=\"text_12\">\n    <!-- Accuracy -->\n    <g style=\"fill:#262626;\" transform=\"translate(180.833906 15.789375)scale(0.12 -0.12)\">\n     <defs>\n      <path d=\"M -9 0 \nL 1750 4581 \nL 2403 4581 \nL 4278 0 \nL 3588 0 \nL 3053 1388 \nL 1138 1388 \nL 634 0 \nL -9 0 \nz\nM 1313 1881 \nL 2866 1881 \nL 2388 3150 \nQ 2169 3728 2063 4100 \nQ 1975 3659 1816 3225 \nL 1313 1881 \nz\n\" id=\"ArialMT-41\" transform=\"scale(0.015625)\"/>\n      <path d=\"M 2597 0 \nL 2597 488 \nQ 2209 -75 1544 -75 \nQ 1250 -75 995 37 \nQ 741 150 617 320 \nQ 494 491 444 738 \nQ 409 903 409 1263 \nL 409 3319 \nL 972 3319 \nL 972 1478 \nQ 972 1038 1006 884 \nQ 1059 663 1231 536 \nQ 1403 409 1656 409 \nQ 1909 409 2131 539 \nQ 2353 669 2445 892 \nQ 2538 1116 2538 1541 \nL 2538 3319 \nL 3100 3319 \nL 3100 0 \nL 2597 0 \nz\n\" id=\"ArialMT-75\" transform=\"scale(0.015625)\"/>\n      <path d=\"M 416 0 \nL 416 3319 \nL 922 3319 \nL 922 2816 \nQ 1116 3169 1280 3281 \nQ 1444 3394 1641 3394 \nQ 1925 3394 2219 3213 \nL 2025 2691 \nQ 1819 2813 1613 2813 \nQ 1428 2813 1281 2702 \nQ 1134 2591 1072 2394 \nQ 978 2094 978 1738 \nL 978 0 \nL 416 0 \nz\n\" id=\"ArialMT-72\" transform=\"scale(0.015625)\"/>\n      <path d=\"M 2588 409 \nQ 2275 144 1986 34 \nQ 1697 -75 1366 -75 \nQ 819 -75 525 192 \nQ 231 459 231 875 \nQ 231 1119 342 1320 \nQ 453 1522 633 1644 \nQ 813 1766 1038 1828 \nQ 1203 1872 1538 1913 \nQ 2219 1994 2541 2106 \nQ 2544 2222 2544 2253 \nQ 2544 2597 2384 2738 \nQ 2169 2928 1744 2928 \nQ 1347 2928 1158 2789 \nQ 969 2650 878 2297 \nL 328 2372 \nQ 403 2725 575 2942 \nQ 747 3159 1072 3276 \nQ 1397 3394 1825 3394 \nQ 2250 3394 2515 3294 \nQ 2781 3194 2906 3042 \nQ 3031 2891 3081 2659 \nQ 3109 2516 3109 2141 \nL 3109 1391 \nQ 3109 606 3145 398 \nQ 3181 191 3288 0 \nL 2700 0 \nQ 2613 175 2588 409 \nz\nM 2541 1666 \nQ 2234 1541 1622 1453 \nQ 1275 1403 1131 1340 \nQ 988 1278 909 1158 \nQ 831 1038 831 891 \nQ 831 666 1001 516 \nQ 1172 366 1500 366 \nQ 1825 366 2078 508 \nQ 2331 650 2450 897 \nQ 2541 1088 2541 1459 \nL 2541 1666 \nz\n\" id=\"ArialMT-61\" transform=\"scale(0.015625)\"/>\n      <path d=\"M 397 -1278 \nL 334 -750 \nQ 519 -800 656 -800 \nQ 844 -800 956 -737 \nQ 1069 -675 1141 -563 \nQ 1194 -478 1313 -144 \nQ 1328 -97 1363 -6 \nL 103 3319 \nL 709 3319 \nL 1400 1397 \nQ 1534 1031 1641 628 \nQ 1738 1016 1872 1384 \nL 2581 3319 \nL 3144 3319 \nL 1881 -56 \nQ 1678 -603 1566 -809 \nQ 1416 -1088 1222 -1217 \nQ 1028 -1347 759 -1347 \nQ 597 -1347 397 -1278 \nz\n\" id=\"ArialMT-79\" transform=\"scale(0.015625)\"/>\n     </defs>\n     <use xlink:href=\"#ArialMT-41\"/>\n     <use x=\"66.699219\" xlink:href=\"#ArialMT-63\"/>\n     <use x=\"116.699219\" xlink:href=\"#ArialMT-63\"/>\n     <use x=\"166.699219\" xlink:href=\"#ArialMT-75\"/>\n     <use x=\"222.314453\" xlink:href=\"#ArialMT-72\"/>\n     <use x=\"255.615234\" xlink:href=\"#ArialMT-61\"/>\n     <use x=\"311.230469\" xlink:href=\"#ArialMT-63\"/>\n     <use x=\"361.230469\" xlink:href=\"#ArialMT-79\"/>\n    </g>\n   </g>\n   <g id=\"legend_1\">\n    <g id=\"patch_7\">\n     <path d=\"M 236.464062 233.729375 \nL 365.207031 233.729375 \nQ 367.407031 233.729375 367.407031 231.529375 \nL 367.407031 201.251875 \nQ 367.407031 199.051875 365.207031 199.051875 \nL 236.464062 199.051875 \nQ 234.264062 199.051875 234.264062 201.251875 \nL 234.264062 231.529375 \nQ 234.264062 233.729375 236.464062 233.729375 \nz\n\" style=\"fill:#ffffff;opacity:0.8;stroke:#cccccc;stroke-linejoin:miter;\"/>\n    </g>\n    <g id=\"line2d_13\">\n     <path d=\"M 238.664062 207.475469 \nL 260.664062 207.475469 \n\" style=\"fill:none;stroke:#4c72b0;stroke-linecap:round;stroke-width:1.5;\"/>\n    </g>\n    <g id=\"line2d_14\"/>\n    <g id=\"text_13\">\n     <!-- training accuracy -->\n     <g style=\"fill:#262626;\" transform=\"translate(269.464063 211.325469)scale(0.11 -0.11)\">\n      <defs>\n       <path d=\"M 1650 503 \nL 1731 6 \nQ 1494 -44 1306 -44 \nQ 1000 -44 831 53 \nQ 663 150 594 308 \nQ 525 466 525 972 \nL 525 2881 \nL 113 2881 \nL 113 3319 \nL 525 3319 \nL 525 4141 \nL 1084 4478 \nL 1084 3319 \nL 1650 3319 \nL 1650 2881 \nL 1084 2881 \nL 1084 941 \nQ 1084 700 1114 631 \nQ 1144 563 1211 522 \nQ 1278 481 1403 481 \nQ 1497 481 1650 503 \nz\n\" id=\"ArialMT-74\" transform=\"scale(0.015625)\"/>\n       <path d=\"M 425 3934 \nL 425 4581 \nL 988 4581 \nL 988 3934 \nL 425 3934 \nz\nM 425 0 \nL 425 3319 \nL 988 3319 \nL 988 0 \nL 425 0 \nz\n\" id=\"ArialMT-69\" transform=\"scale(0.015625)\"/>\n       <path d=\"M 422 0 \nL 422 3319 \nL 928 3319 \nL 928 2847 \nQ 1294 3394 1984 3394 \nQ 2284 3394 2536 3286 \nQ 2788 3178 2913 3003 \nQ 3038 2828 3088 2588 \nQ 3119 2431 3119 2041 \nL 3119 0 \nL 2556 0 \nL 2556 2019 \nQ 2556 2363 2490 2533 \nQ 2425 2703 2258 2804 \nQ 2091 2906 1866 2906 \nQ 1506 2906 1245 2678 \nQ 984 2450 984 1813 \nL 984 0 \nL 422 0 \nz\n\" id=\"ArialMT-6e\" transform=\"scale(0.015625)\"/>\n       <path d=\"M 319 -275 \nL 866 -356 \nQ 900 -609 1056 -725 \nQ 1266 -881 1628 -881 \nQ 2019 -881 2231 -725 \nQ 2444 -569 2519 -288 \nQ 2563 -116 2559 434 \nQ 2191 0 1641 0 \nQ 956 0 581 494 \nQ 206 988 206 1678 \nQ 206 2153 378 2554 \nQ 550 2956 876 3175 \nQ 1203 3394 1644 3394 \nQ 2231 3394 2613 2919 \nL 2613 3319 \nL 3131 3319 \nL 3131 450 \nQ 3131 -325 2973 -648 \nQ 2816 -972 2473 -1159 \nQ 2131 -1347 1631 -1347 \nQ 1038 -1347 672 -1080 \nQ 306 -813 319 -275 \nz\nM 784 1719 \nQ 784 1066 1043 766 \nQ 1303 466 1694 466 \nQ 2081 466 2343 764 \nQ 2606 1063 2606 1700 \nQ 2606 2309 2336 2618 \nQ 2066 2928 1684 2928 \nQ 1309 2928 1046 2623 \nQ 784 2319 784 1719 \nz\n\" id=\"ArialMT-67\" transform=\"scale(0.015625)\"/>\n       <path id=\"ArialMT-20\" transform=\"scale(0.015625)\"/>\n      </defs>\n      <use xlink:href=\"#ArialMT-74\"/>\n      <use x=\"27.783203\" xlink:href=\"#ArialMT-72\"/>\n      <use x=\"61.083984\" xlink:href=\"#ArialMT-61\"/>\n      <use x=\"116.699219\" xlink:href=\"#ArialMT-69\"/>\n      <use x=\"138.916016\" xlink:href=\"#ArialMT-6e\"/>\n      <use x=\"194.53125\" xlink:href=\"#ArialMT-69\"/>\n      <use x=\"216.748047\" xlink:href=\"#ArialMT-6e\"/>\n      <use x=\"272.363281\" xlink:href=\"#ArialMT-67\"/>\n      <use x=\"327.978516\" xlink:href=\"#ArialMT-20\"/>\n      <use x=\"355.761719\" xlink:href=\"#ArialMT-61\"/>\n      <use x=\"411.376953\" xlink:href=\"#ArialMT-63\"/>\n      <use x=\"461.376953\" xlink:href=\"#ArialMT-63\"/>\n      <use x=\"511.376953\" xlink:href=\"#ArialMT-75\"/>\n      <use x=\"566.992188\" xlink:href=\"#ArialMT-72\"/>\n      <use x=\"600.292969\" xlink:href=\"#ArialMT-61\"/>\n      <use x=\"655.908203\" xlink:href=\"#ArialMT-63\"/>\n      <use x=\"705.908203\" xlink:href=\"#ArialMT-79\"/>\n     </g>\n    </g>\n    <g id=\"line2d_15\">\n     <path d=\"M 238.664062 223.164219 \nL 260.664062 223.164219 \n\" style=\"fill:none;stroke:#dd8452;stroke-linecap:round;stroke-width:1.5;\"/>\n    </g>\n    <g id=\"line2d_16\"/>\n    <g id=\"text_14\">\n     <!-- validation accuracy -->\n     <g style=\"fill:#262626;\" transform=\"translate(269.464063 227.014219)scale(0.11 -0.11)\">\n      <defs>\n       <path d=\"M 1344 0 \nL 81 3319 \nL 675 3319 \nL 1388 1331 \nQ 1503 1009 1600 663 \nQ 1675 925 1809 1294 \nL 2547 3319 \nL 3125 3319 \nL 1869 0 \nL 1344 0 \nz\n\" id=\"ArialMT-76\" transform=\"scale(0.015625)\"/>\n       <path d=\"M 409 0 \nL 409 4581 \nL 972 4581 \nL 972 0 \nL 409 0 \nz\n\" id=\"ArialMT-6c\" transform=\"scale(0.015625)\"/>\n       <path d=\"M 2575 0 \nL 2575 419 \nQ 2259 -75 1647 -75 \nQ 1250 -75 917 144 \nQ 584 363 401 755 \nQ 219 1147 219 1656 \nQ 219 2153 384 2558 \nQ 550 2963 881 3178 \nQ 1213 3394 1622 3394 \nQ 1922 3394 2156 3267 \nQ 2391 3141 2538 2938 \nL 2538 4581 \nL 3097 4581 \nL 3097 0 \nL 2575 0 \nz\nM 797 1656 \nQ 797 1019 1065 703 \nQ 1334 388 1700 388 \nQ 2069 388 2326 689 \nQ 2584 991 2584 1609 \nQ 2584 2291 2321 2609 \nQ 2059 2928 1675 2928 \nQ 1300 2928 1048 2622 \nQ 797 2316 797 1656 \nz\n\" id=\"ArialMT-64\" transform=\"scale(0.015625)\"/>\n      </defs>\n      <use xlink:href=\"#ArialMT-76\"/>\n      <use x=\"50\" xlink:href=\"#ArialMT-61\"/>\n      <use x=\"105.615234\" xlink:href=\"#ArialMT-6c\"/>\n      <use x=\"127.832031\" xlink:href=\"#ArialMT-69\"/>\n      <use x=\"150.048828\" xlink:href=\"#ArialMT-64\"/>\n      <use x=\"205.664062\" xlink:href=\"#ArialMT-61\"/>\n      <use x=\"261.279297\" xlink:href=\"#ArialMT-74\"/>\n      <use x=\"289.0625\" xlink:href=\"#ArialMT-69\"/>\n      <use x=\"311.279297\" xlink:href=\"#ArialMT-6f\"/>\n      <use x=\"366.894531\" xlink:href=\"#ArialMT-6e\"/>\n      <use x=\"422.509766\" xlink:href=\"#ArialMT-20\"/>\n      <use x=\"450.292969\" xlink:href=\"#ArialMT-61\"/>\n      <use x=\"505.908203\" xlink:href=\"#ArialMT-63\"/>\n      <use x=\"555.908203\" xlink:href=\"#ArialMT-63\"/>\n      <use x=\"605.908203\" xlink:href=\"#ArialMT-75\"/>\n      <use x=\"661.523438\" xlink:href=\"#ArialMT-72\"/>\n      <use x=\"694.824219\" xlink:href=\"#ArialMT-61\"/>\n      <use x=\"750.439453\" xlink:href=\"#ArialMT-63\"/>\n      <use x=\"800.439453\" xlink:href=\"#ArialMT-79\"/>\n     </g>\n    </g>\n   </g>\n  </g>\n </g>\n <defs>\n  <clipPath id=\"pb9bc2cfe3f\">\n   <rect height=\"217.44\" width=\"334.8\" x=\"38.107031\" y=\"21.789375\"/>\n  </clipPath>\n </defs>\n</svg>\n",
      "image/png": "[encoded data removed]"
     },
     "metadata": {
      "needs_background": "light"
     }
    }
   ],
   "source": [
    "plot_loss_curves(history_10_percent_data_augment_fine_tuning)"
   ]
  },
  {
   "cell_type": "code",
   "execution_count": 53,
   "metadata": {},
   "outputs": [],
   "source": [
    "# 비교할 수 있는 함수\n",
    "def compare_historys(original_history, new_history, inital_epochs = 5):\n",
    "    acc = original_history.history[\"accuracy\"] \n",
    "    loss = original_history.history[\"loss\"] \n",
    "\n",
    "    print(len(acc))\n",
    "\n",
    "    val_acc = original_history.history[\"val_accuracy\"] \n",
    "    val_loss = original_history.history[\"val_loss\"] \n",
    "\n",
    "    total_acc = acc + new_history.history[\"accuracy\"]\n",
    "    total_loss = loss + new_history.history[\"loss\"]\n",
    "\n",
    "    total_val_acc = val_acc + new_history.history[\"val_accuracy\"]\n",
    "    total_val_loss = val_loss + new_history.history[\"val_loss\"]\n",
    "\n",
    "    print(len(total_acc))\n",
    "    print(total_acc)\n",
    "\n",
    "    plt.figure(figsize=(8,8))\n",
    "    plt.subplot(2,1,1)\n",
    "    plt.plot(total_acc, label=\"Training Accuracy\")\n",
    "    plt.plot(total_val_acc, label = \"Validation Accuracy\")\n",
    "    plt.plot(\n",
    "        [initial_epochs-1, initial_epochs-1],\n",
    "        plot.ylim(),\n",
    "        label = \"Start Fine Tuning\"\n",
    "        )\n",
    "    plt.legend(loc = \"lower right\")\n",
    "    plt.title(\"Training and Validation Accuracy\")\n",
    "\n",
    "    plt.subplot(2,1,2)\n",
    "    plt.plot(total_acc, label=\"Training Loss\")\n",
    "    plt.plot(total_val_acc, label = \"Validation Loss\")\n",
    "    plt.plot(\n",
    "        [initial_epochs-1, initial_epochs-1],\n",
    "        plt.ylim(),\n",
    "        label = \"Start Fine Tuning\"\n",
    "        )\n",
    "    plt.legend(loc = \"upper right\")\n",
    "    plt.title(\"Training and Validation Loss\")\n",
    "    plt.xlabel(\"epoch\")\n",
    "    plt.show()\n"
   ]
  },
  {
   "cell_type": "code",
   "execution_count": 50,
   "metadata": {},
   "outputs": [
    {
     "output_type": "stream",
     "name": "stdout",
     "text": [
      "TensorBoard 로그 파일을 저장한 디렉토리 : transfer_learning/10_percent_data_augment/20210620-144320\n",
      "Epoch 1/5\n",
      "24/24 [==============================] - 213s 9s/step - loss: 2.0483 - accuracy: 0.3200 - val_loss: 1.5323 - val_accuracy: 0.6180\n",
      "Epoch 2/5\n",
      "24/24 [==============================] - 177s 8s/step - loss: 1.4187 - accuracy: 0.6440 - val_loss: 1.1201 - val_accuracy: 0.7400\n",
      "Epoch 3/5\n",
      "24/24 [==============================] - 164s 7s/step - loss: 1.1375 - accuracy: 0.6947 - val_loss: 0.9241 - val_accuracy: 0.7684\n",
      "Epoch 4/5\n",
      "24/24 [==============================] - 174s 7s/step - loss: 0.9674 - accuracy: 0.7467 - val_loss: 0.8137 - val_accuracy: 0.7844\n",
      "Epoch 5/5\n",
      "24/24 [==============================] - 197s 8s/step - loss: 0.8654 - accuracy: 0.7747 - val_loss: 0.7471 - val_accuracy: 0.7920\n"
     ]
    }
   ],
   "source": [
    "# Model 2 : 10%의 데이터 + Data Augmentation \n",
    "\n",
    "input_shape = (224, 224, 3)\n",
    "base_model = tf.keras.applications.EfficientNetB0(include_top=False)\n",
    "base_model.trainable = False\n",
    "\n",
    "inputs = layers.Input(shape = input_shape, name = \"model_2_input_layer\")\n",
    "x = data_augmentation(inputs)\n",
    "x = base_model(x, training=False)\n",
    "x = layers.GlobalAveragePooling2D(name = \"model_2_global_average_pooling_layer\")(x)\n",
    "outputs = layers.Dense(10, activation = \"softmax\", name = \"model_2_output_layer\")(x)\n",
    "\n",
    "model_2 = keras.Model(inputs, outputs)\n",
    "\n",
    "\n",
    "# 컴파일과 fitting\n",
    "model_2.compile(\n",
    "    loss = \"categorical_crossentropy\",\n",
    "    optimizer = tf.keras.optimizers.Adam(),\n",
    "    metrics = [\"accuracy\"]\n",
    ")\n",
    "\n",
    "history_10_percent_data_augment = model_2.fit(\n",
    "    train_data_10_percent,\n",
    "    epochs = EPOCH_COUNT,\n",
    "    steps_per_epoch = len(train_data_10_percent),\n",
    "    validation_data = test_data_10_percent,\n",
    "    validation_steps = len(test_data_10_percent),\n",
    "    callbacks = [\n",
    "        create_tensorboard_callback(\"transfer_learning\", \"10_percent_data_augment\"),\n",
    "    ]\n",
    ")"
   ]
  },
  {
   "cell_type": "code",
   "execution_count": 55,
   "metadata": {},
   "outputs": [
    {
     "output_type": "stream",
     "name": "stdout",
     "text": [
      "5\n15\n[0.3199999928474426, 0.6439999938011169, 0.6946666836738586, 0.746666669845581, 0.7746666669845581, 0.7253333330154419, 0.8479999899864197, 0.9146666526794434, 0.9333333373069763, 0.9599999785423279, 0.9639999866485596, 0.9693333506584167, 0.9653333425521851, 0.9786666631698608, 0.9613333344459534]\n"
     ]
    },
    {
     "output_type": "error",
     "ename": "NameError",
     "evalue": "name 'initial_epochs' is not defined",
     "traceback": [
      "\u001b[0;31m---------------------------------------------------------------------------\u001b[0m",
      "\u001b[0;31mNameError\u001b[0m                                 Traceback (most recent call last)",
      "\u001b[0;32m<ipython-input-55-b1bba3557104>\u001b[0m in \u001b[0;36m<module>\u001b[0;34m\u001b[0m\n\u001b[0;32m----> 1\u001b[0;31m compare_historys(\n\u001b[0m\u001b[1;32m      2\u001b[0m     \u001b[0moriginal_history\u001b[0m \u001b[0;34m=\u001b[0m \u001b[0mhistory_10_percent_data_augment\u001b[0m\u001b[0;34m,\u001b[0m\u001b[0;34m\u001b[0m\u001b[0;34m\u001b[0m\u001b[0m\n\u001b[1;32m      3\u001b[0m     \u001b[0mnew_history\u001b[0m \u001b[0;34m=\u001b[0m \u001b[0mhistory_10_percent_data_augment_fine_tuning\u001b[0m\u001b[0;34m,\u001b[0m\u001b[0;34m\u001b[0m\u001b[0;34m\u001b[0m\u001b[0m\n\u001b[1;32m      4\u001b[0m     \u001b[0minital_epochs\u001b[0m \u001b[0;34m=\u001b[0m \u001b[0;36m5\u001b[0m\u001b[0;34m\u001b[0m\u001b[0;34m\u001b[0m\u001b[0m\n\u001b[1;32m      5\u001b[0m )\n",
      "\u001b[0;32m<ipython-input-53-5bc77db97c5b>\u001b[0m in \u001b[0;36mcompare_historys\u001b[0;34m(original_history, new_history, inital_epochs)\u001b[0m\n\u001b[1;32m     23\u001b[0m     \u001b[0mplt\u001b[0m\u001b[0;34m.\u001b[0m\u001b[0mplot\u001b[0m\u001b[0;34m(\u001b[0m\u001b[0mtotal_val_acc\u001b[0m\u001b[0;34m,\u001b[0m \u001b[0mlabel\u001b[0m \u001b[0;34m=\u001b[0m \u001b[0;34m\"Validation Accuracy\"\u001b[0m\u001b[0;34m)\u001b[0m\u001b[0;34m\u001b[0m\u001b[0;34m\u001b[0m\u001b[0m\n\u001b[1;32m     24\u001b[0m     plt.plot(\n\u001b[0;32m---> 25\u001b[0;31m         \u001b[0;34m[\u001b[0m\u001b[0minitial_epochs\u001b[0m\u001b[0;34m-\u001b[0m\u001b[0;36m1\u001b[0m\u001b[0;34m,\u001b[0m \u001b[0minitial_epochs\u001b[0m\u001b[0;34m-\u001b[0m\u001b[0;36m1\u001b[0m\u001b[0;34m]\u001b[0m\u001b[0;34m,\u001b[0m\u001b[0;34m\u001b[0m\u001b[0;34m\u001b[0m\u001b[0m\n\u001b[0m\u001b[1;32m     26\u001b[0m         \u001b[0mplot\u001b[0m\u001b[0;34m.\u001b[0m\u001b[0mylim\u001b[0m\u001b[0;34m(\u001b[0m\u001b[0;34m)\u001b[0m\u001b[0;34m,\u001b[0m\u001b[0;34m\u001b[0m\u001b[0;34m\u001b[0m\u001b[0m\n\u001b[1;32m     27\u001b[0m         \u001b[0mlabel\u001b[0m \u001b[0;34m=\u001b[0m \u001b[0;34m\"Start Fine Tuning\"\u001b[0m\u001b[0;34m\u001b[0m\u001b[0;34m\u001b[0m\u001b[0m\n",
      "\u001b[0;31mNameError\u001b[0m: name 'initial_epochs' is not defined"
     ]
    }
   ],
   "source": [
    "compare_historys(\n",
    "    original_history = history_10_percent_data_augment, \n",
    "    new_history = history_10_percent_data_augment_fine_tuning,\n",
    "    inital_epochs = 5\n",
    ")"
   ]
  },
  {
   "cell_type": "code",
   "execution_count": 56,
   "metadata": {},
   "outputs": [],
   "source": [
    "# Model 4 : 전체 데이터"
   ]
  },
  {
   "cell_type": "code",
   "execution_count": 58,
   "metadata": {},
   "outputs": [
    {
     "output_type": "stream",
     "name": "stdout",
     "text": [
      "--2021-06-20 15:04:55--  http://-/\n",
      "Resolving - (-)... failed: nodename nor servname provided, or not known.\n",
      "wget: unable to resolve host address `-'\n",
      "--2021-06-20 15:04:55--  http://q/\n",
      "Resolving q (q)... failed: nodename nor servname provided, or not known.\n",
      "wget: unable to resolve host address `q'\n",
      "--2021-06-20 15:04:55--  https://storage.googleapis.com/ztm_tf_course/food_vision/10_food_classes_all_data.zip\n",
      "Resolving storage.googleapis.com (storage.googleapis.com)... 34.64.4.48, 34.64.4.112, 34.64.4.16, ...\n",
      "Connecting to storage.googleapis.com (storage.googleapis.com)|34.64.4.48|:443... connected.\n",
      "HTTP request sent, awaiting response... 200 OK\n",
      "Length: 519183241 (495M) [application/zip]\n",
      "Saving to: `10_food_classes_all_data.zip'\n",
      "\n",
      "10_food_classes_all 100%[===================>] 495.13M  31.9MB/s    in 18s     \n",
      "\n",
      "2021-06-20 15:05:14 (27.8 MB/s) - `10_food_classes_all_data.zip' saved [519183241/519183241]\n",
      "\n",
      "FINISHED --2021-06-20 15:05:14--\n",
      "Total wall clock time: 18s\n",
      "Downloaded: 1 files, 495M in 18s (27.8 MB/s)\n"
     ]
    }
   ],
   "source": [
    "!wget - q https://storage.googleapis.com/ztm_tf_course/food_vision/10_food_classes_all_data.zip"
   ]
  },
  {
   "cell_type": "code",
   "execution_count": 59,
   "metadata": {},
   "outputs": [],
   "source": [
    "unzip_data(\"10_food_classes_all_data.zip\")"
   ]
  },
  {
   "cell_type": "code",
   "execution_count": 60,
   "metadata": {},
   "outputs": [
    {
     "output_type": "stream",
     "name": "stdout",
     "text": [
      "10_food_classes_all_data 폴더에는 2개의 폴더와 0개의 파일이 존재합니다.\n10_food_classes_all_data/test 폴더에는 10개의 폴더와 0개의 파일이 존재합니다.\n10_food_classes_all_data/test/ice_cream 폴더에는 0개의 폴더와 250개의 파일이 존재합니다.\n10_food_classes_all_data/test/chicken_curry 폴더에는 0개의 폴더와 250개의 파일이 존재합니다.\n10_food_classes_all_data/test/steak 폴더에는 0개의 폴더와 250개의 파일이 존재합니다.\n10_food_classes_all_data/test/sushi 폴더에는 0개의 폴더와 250개의 파일이 존재합니다.\n10_food_classes_all_data/test/chicken_wings 폴더에는 0개의 폴더와 250개의 파일이 존재합니다.\n10_food_classes_all_data/test/grilled_salmon 폴더에는 0개의 폴더와 250개의 파일이 존재합니다.\n10_food_classes_all_data/test/hamburger 폴더에는 0개의 폴더와 250개의 파일이 존재합니다.\n10_food_classes_all_data/test/pizza 폴더에는 0개의 폴더와 250개의 파일이 존재합니다.\n10_food_classes_all_data/test/ramen 폴더에는 0개의 폴더와 250개의 파일이 존재합니다.\n10_food_classes_all_data/test/fried_rice 폴더에는 0개의 폴더와 250개의 파일이 존재합니다.\n10_food_classes_all_data/train 폴더에는 10개의 폴더와 0개의 파일이 존재합니다.\n10_food_classes_all_data/train/ice_cream 폴더에는 0개의 폴더와 750개의 파일이 존재합니다.\n10_food_classes_all_data/train/chicken_curry 폴더에는 0개의 폴더와 750개의 파일이 존재합니다.\n10_food_classes_all_data/train/steak 폴더에는 0개의 폴더와 750개의 파일이 존재합니다.\n10_food_classes_all_data/train/sushi 폴더에는 0개의 폴더와 750개의 파일이 존재합니다.\n10_food_classes_all_data/train/chicken_wings 폴더에는 0개의 폴더와 750개의 파일이 존재합니다.\n10_food_classes_all_data/train/grilled_salmon 폴더에는 0개의 폴더와 750개의 파일이 존재합니다.\n10_food_classes_all_data/train/hamburger 폴더에는 0개의 폴더와 750개의 파일이 존재합니다.\n10_food_classes_all_data/train/pizza 폴더에는 0개의 폴더와 750개의 파일이 존재합니다.\n10_food_classes_all_data/train/ramen 폴더에는 0개의 폴더와 750개의 파일이 존재합니다.\n10_food_classes_all_data/train/fried_rice 폴더에는 0개의 폴더와 750개의 파일이 존재합니다.\n"
     ]
    }
   ],
   "source": [
    "walk_through_dir(\"10_food_classes_all_data\")"
   ]
  },
  {
   "cell_type": "code",
   "execution_count": 61,
   "metadata": {},
   "outputs": [],
   "source": [
    "IMAGE_SIZE = (224, 224)\n",
    "BATCH_SIZE = 32\n",
    "EPOCH_COUNT = 5\n",
    "\n",
    "train_dir = \"10_food_classes_all_data/train/\"\n",
    "test_dir = \"10_food_classes_all_data/test/\""
   ]
  },
  {
   "cell_type": "code",
   "execution_count": 62,
   "metadata": {},
   "outputs": [
    {
     "output_type": "stream",
     "name": "stdout",
     "text": [
      "Found 7500 files belonging to 10 classes.\n",
      "Found 2500 files belonging to 10 classes.\n"
     ]
    }
   ],
   "source": [
    "train_data_10_classes_full = tf.keras.preprocessing.image_dataset_from_directory(\n",
    "    train_dir,\n",
    "    label_mode = \"categorical\",\n",
    "    image_size = IMAGE_SIZE,\n",
    ")\n",
    "\n",
    "test_data_10_classes_full = tf.keras.preprocessing.image_dataset_from_directory(\n",
    "    test_dir,\n",
    "    label_mode = \"categorical\",\n",
    "    image_size = IMAGE_SIZE\n",
    ")"
   ]
  },
  {
   "cell_type": "code",
   "execution_count": 63,
   "metadata": {},
   "outputs": [
    {
     "output_type": "stream",
     "name": "stdout",
     "text": [
      "79/79 [==============================] - 121s 2s/step - loss: 0.7471 - accuracy: 0.7920\n"
     ]
    },
    {
     "output_type": "execute_result",
     "data": {
      "text/plain": [
       "[0.7470558881759644, 0.7919999957084656]"
      ]
     },
     "metadata": {},
     "execution_count": 63
    }
   ],
   "source": [
    "model_2.evaluate(test_data_10_classes_full)"
   ]
  },
  {
   "cell_type": "code",
   "execution_count": 64,
   "metadata": {},
   "outputs": [
    {
     "output_type": "stream",
     "name": "stdout",
     "text": [
      "0 model_2_input_layer True\n1 data_augmentation True\n2 efficientnetb0 False\n3 model_2_global_average_pooling_layer True\n4 model_2_output_layer True\n"
     ]
    }
   ],
   "source": [
    "for layer_number, layer in enumerate(model_2.layers):\n",
    "    print(layer_number, layer.name, layer.trainable)"
   ]
  },
  {
   "cell_type": "code",
   "execution_count": 65,
   "metadata": {},
   "outputs": [],
   "source": [
    "base_model.trainable = True\n",
    "\n",
    "for layer in base_model.layers[:-10]:\n",
    "    layer.trainable = False\n",
    "\n"
   ]
  },
  {
   "cell_type": "code",
   "execution_count": 66,
   "metadata": {},
   "outputs": [
    {
     "output_type": "stream",
     "name": "stdout",
     "text": [
      "0 model_2_input_layer True\n1 data_augmentation True\n2 efficientnetb0 True\n3 model_2_global_average_pooling_layer True\n4 model_2_output_layer True\n"
     ]
    }
   ],
   "source": [
    "for layer_number, layer in enumerate(model_2.layers):\n",
    "    print(layer_number, layer.name, layer.trainable)"
   ]
  },
  {
   "cell_type": "code",
   "execution_count": 67,
   "metadata": {},
   "outputs": [
    {
     "output_type": "stream",
     "name": "stdout",
     "text": [
      "0 input_2 False\n1 rescaling_1 False\n2 normalization_1 False\n3 stem_conv_pad False\n4 stem_conv False\n5 stem_bn False\n6 stem_activation False\n7 block1a_dwconv False\n8 block1a_bn False\n9 block1a_activation False\n10 block1a_se_squeeze False\n11 block1a_se_reshape False\n12 block1a_se_reduce False\n13 block1a_se_expand False\n14 block1a_se_excite False\n15 block1a_project_conv False\n16 block1a_project_bn False\n17 block2a_expand_conv False\n18 block2a_expand_bn False\n19 block2a_expand_activation False\n20 block2a_dwconv_pad False\n21 block2a_dwconv False\n22 block2a_bn False\n23 block2a_activation False\n24 block2a_se_squeeze False\n25 block2a_se_reshape False\n26 block2a_se_reduce False\n27 block2a_se_expand False\n28 block2a_se_excite False\n29 block2a_project_conv False\n30 block2a_project_bn False\n31 block2b_expand_conv False\n32 block2b_expand_bn False\n33 block2b_expand_activation False\n34 block2b_dwconv False\n35 block2b_bn False\n36 block2b_activation False\n37 block2b_se_squeeze False\n38 block2b_se_reshape False\n39 block2b_se_reduce False\n40 block2b_se_expand False\n41 block2b_se_excite False\n42 block2b_project_conv False\n43 block2b_project_bn False\n44 block2b_drop False\n45 block2b_add False\n46 block3a_expand_conv False\n47 block3a_expand_bn False\n48 block3a_expand_activation False\n49 block3a_dwconv_pad False\n50 block3a_dwconv False\n51 block3a_bn False\n52 block3a_activation False\n53 block3a_se_squeeze False\n54 block3a_se_reshape False\n55 block3a_se_reduce False\n56 block3a_se_expand False\n57 block3a_se_excite False\n58 block3a_project_conv False\n59 block3a_project_bn False\n60 block3b_expand_conv False\n61 block3b_expand_bn False\n62 block3b_expand_activation False\n63 block3b_dwconv False\n64 block3b_bn False\n65 block3b_activation False\n66 block3b_se_squeeze False\n67 block3b_se_reshape False\n68 block3b_se_reduce False\n69 block3b_se_expand False\n70 block3b_se_excite False\n71 block3b_project_conv False\n72 block3b_project_bn False\n73 block3b_drop False\n74 block3b_add False\n75 block4a_expand_conv False\n76 block4a_expand_bn False\n77 block4a_expand_activation False\n78 block4a_dwconv_pad False\n79 block4a_dwconv False\n80 block4a_bn False\n81 block4a_activation False\n82 block4a_se_squeeze False\n83 block4a_se_reshape False\n84 block4a_se_reduce False\n85 block4a_se_expand False\n86 block4a_se_excite False\n87 block4a_project_conv False\n88 block4a_project_bn False\n89 block4b_expand_conv False\n90 block4b_expand_bn False\n91 block4b_expand_activation False\n92 block4b_dwconv False\n93 block4b_bn False\n94 block4b_activation False\n95 block4b_se_squeeze False\n96 block4b_se_reshape False\n97 block4b_se_reduce False\n98 block4b_se_expand False\n99 block4b_se_excite False\n100 block4b_project_conv False\n101 block4b_project_bn False\n102 block4b_drop False\n103 block4b_add False\n104 block4c_expand_conv False\n105 block4c_expand_bn False\n106 block4c_expand_activation False\n107 block4c_dwconv False\n108 block4c_bn False\n109 block4c_activation False\n110 block4c_se_squeeze False\n111 block4c_se_reshape False\n112 block4c_se_reduce False\n113 block4c_se_expand False\n114 block4c_se_excite False\n115 block4c_project_conv False\n116 block4c_project_bn False\n117 block4c_drop False\n118 block4c_add False\n119 block5a_expand_conv False\n120 block5a_expand_bn False\n121 block5a_expand_activation False\n122 block5a_dwconv False\n123 block5a_bn False\n124 block5a_activation False\n125 block5a_se_squeeze False\n126 block5a_se_reshape False\n127 block5a_se_reduce False\n128 block5a_se_expand False\n129 block5a_se_excite False\n130 block5a_project_conv False\n131 block5a_project_bn False\n132 block5b_expand_conv False\n133 block5b_expand_bn False\n134 block5b_expand_activation False\n135 block5b_dwconv False\n136 block5b_bn False\n137 block5b_activation False\n138 block5b_se_squeeze False\n139 block5b_se_reshape False\n140 block5b_se_reduce False\n141 block5b_se_expand False\n142 block5b_se_excite False\n143 block5b_project_conv False\n144 block5b_project_bn False\n145 block5b_drop False\n146 block5b_add False\n147 block5c_expand_conv False\n148 block5c_expand_bn False\n149 block5c_expand_activation False\n150 block5c_dwconv False\n151 block5c_bn False\n152 block5c_activation False\n153 block5c_se_squeeze False\n154 block5c_se_reshape False\n155 block5c_se_reduce False\n156 block5c_se_expand False\n157 block5c_se_excite False\n158 block5c_project_conv False\n159 block5c_project_bn False\n160 block5c_drop False\n161 block5c_add False\n162 block6a_expand_conv False\n163 block6a_expand_bn False\n164 block6a_expand_activation False\n165 block6a_dwconv_pad False\n166 block6a_dwconv False\n167 block6a_bn False\n168 block6a_activation False\n169 block6a_se_squeeze False\n170 block6a_se_reshape False\n171 block6a_se_reduce False\n172 block6a_se_expand False\n173 block6a_se_excite False\n174 block6a_project_conv False\n175 block6a_project_bn False\n176 block6b_expand_conv False\n177 block6b_expand_bn False\n178 block6b_expand_activation False\n179 block6b_dwconv False\n180 block6b_bn False\n181 block6b_activation False\n182 block6b_se_squeeze False\n183 block6b_se_reshape False\n184 block6b_se_reduce False\n185 block6b_se_expand False\n186 block6b_se_excite False\n187 block6b_project_conv False\n188 block6b_project_bn False\n189 block6b_drop False\n190 block6b_add False\n191 block6c_expand_conv False\n192 block6c_expand_bn False\n193 block6c_expand_activation False\n194 block6c_dwconv False\n195 block6c_bn False\n196 block6c_activation False\n197 block6c_se_squeeze False\n198 block6c_se_reshape False\n199 block6c_se_reduce False\n200 block6c_se_expand False\n201 block6c_se_excite False\n202 block6c_project_conv False\n203 block6c_project_bn False\n204 block6c_drop False\n205 block6c_add False\n206 block6d_expand_conv False\n207 block6d_expand_bn False\n208 block6d_expand_activation False\n209 block6d_dwconv False\n210 block6d_bn False\n211 block6d_activation False\n212 block6d_se_squeeze False\n213 block6d_se_reshape False\n214 block6d_se_reduce False\n215 block6d_se_expand False\n216 block6d_se_excite False\n217 block6d_project_conv False\n218 block6d_project_bn False\n219 block6d_drop False\n220 block6d_add False\n221 block7a_expand_conv False\n222 block7a_expand_bn False\n223 block7a_expand_activation False\n224 block7a_dwconv False\n225 block7a_bn False\n226 block7a_activation False\n227 block7a_se_squeeze True\n228 block7a_se_reshape True\n229 block7a_se_reduce True\n230 block7a_se_expand True\n231 block7a_se_excite True\n232 block7a_project_conv True\n233 block7a_project_bn True\n234 top_conv True\n235 top_bn True\n236 top_activation True\n"
     ]
    }
   ],
   "source": [
    "for layer_number, layer in enumerate(base_model.layers):\n",
    "    print(layer_number,  layer.name, layer.trainable)"
   ]
  },
  {
   "cell_type": "code",
   "execution_count": 68,
   "metadata": {},
   "outputs": [
    {
     "output_type": "stream",
     "name": "stdout",
     "text": [
      "TensorBoard 로그 파일을 저장한 디렉토리 : transfer_learning/10_classes_full/20210620-151927\n",
      "Epoch 1/10\n",
      "235/235 [==============================] - 529s 2s/step - loss: 0.7276 - accuracy: 0.7628 - val_loss: 0.3944 - val_accuracy: 0.8744\n",
      "Epoch 2/10\n",
      "235/235 [==============================] - 465s 2s/step - loss: 0.5193 - accuracy: 0.8325 - val_loss: 0.3577 - val_accuracy: 0.8820\n",
      "Epoch 3/10\n",
      "235/235 [==============================] - 436s 2s/step - loss: 0.4280 - accuracy: 0.8580 - val_loss: 0.3646 - val_accuracy: 0.8768\n",
      "Epoch 4/10\n",
      "235/235 [==============================] - 414s 2s/step - loss: 0.3538 - accuracy: 0.8823 - val_loss: 0.3790 - val_accuracy: 0.8776\n",
      "Epoch 5/10\n",
      "235/235 [==============================] - 414s 2s/step - loss: 0.3108 - accuracy: 0.8967 - val_loss: 0.3052 - val_accuracy: 0.9020\n",
      "Epoch 6/10\n",
      "235/235 [==============================] - 406s 2s/step - loss: 0.2711 - accuracy: 0.9095 - val_loss: 0.3591 - val_accuracy: 0.8836\n",
      "Epoch 7/10\n",
      "235/235 [==============================] - 424s 2s/step - loss: 0.2241 - accuracy: 0.9239 - val_loss: 0.3382 - val_accuracy: 0.8956\n",
      "Epoch 8/10\n",
      "235/235 [==============================] - 433s 2s/step - loss: 0.2125 - accuracy: 0.9276 - val_loss: 0.3676 - val_accuracy: 0.8944\n",
      "Epoch 9/10\n",
      "235/235 [==============================] - 440s 2s/step - loss: 0.1967 - accuracy: 0.9303 - val_loss: 0.3418 - val_accuracy: 0.8956\n",
      "Epoch 10/10\n",
      "235/235 [==============================] - 389s 2s/step - loss: 0.1647 - accuracy: 0.9421 - val_loss: 0.3792 - val_accuracy: 0.8968\n"
     ]
    }
   ],
   "source": [
    "# 데이터 10배 증가 (750장 이미지 -> 7500장 이미지)\n",
    "\n",
    "# 컴파일과 fitting\n",
    "model_2.compile(\n",
    "    loss = \"categorical_crossentropy\",\n",
    "    optimizer = tf.keras.optimizers.Adam(),\n",
    "    metrics = [\"accuracy\"]\n",
    ")\n",
    "\n",
    "history_10_classese_full = model_2.fit(\n",
    "    train_data_10_classes_full,\n",
    "    epochs = EPOCH_COUNT + 5,\n",
    "    steps_per_epoch = len(train_data_10_classes_full),\n",
    "    validation_data = test_data_10_classes_full,\n",
    "    validation_steps = len(test_data_10_classes_full),\n",
    "    callbacks = [\n",
    "        create_tensorboard_callback(\"transfer_learning\", \"10_classes_full\"),\n",
    "    ]\n",
    ")"
   ]
  },
  {
   "cell_type": "code",
   "execution_count": null,
   "metadata": {},
   "outputs": [],
   "source": []
  }
 ]
}