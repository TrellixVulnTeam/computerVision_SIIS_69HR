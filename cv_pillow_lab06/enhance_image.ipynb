{
 "metadata": {
  "language_info": {
   "codemirror_mode": {
    "name": "ipython",
    "version": 3
   },
   "file_extension": ".py",
   "mimetype": "text/x-python",
   "name": "python",
   "nbconvert_exporter": "python",
   "pygments_lexer": "ipython3",
   "version": "3.9.4"
  },
  "orig_nbformat": 2,
  "kernelspec": {
   "name": "python394jvsc74a57bd0a0c887ef31711c6482a08a68af1f88a2fbe2698c12124906c37da4d78e6b13e9",
   "display_name": "Python 3.9.4 64-bit ('pillow_lab_venv')"
  },
  "metadata": {
   "interpreter": {
    "hash": "a0c887ef31711c6482a08a68af1f88a2fbe2698c12124906c37da4d78e6b13e9"
   }
  }
 },
 "nbformat": 4,
 "nbformat_minor": 2,
 "cells": [
  {
   "source": [
    "## ImageEnhance 모듈이 존재 : 이미지를 개선시켜주는 모듈\n",
    "## enhance() 메소드를 사용\n",
    " - 1) 색 균형 조정\n",
    " - 2) 이미지 음영 조정\n",
    " - 3) 이미지의 밝기 조정\n",
    " - 4) 이미지 선명도 조정"
   ],
   "cell_type": "markdown",
   "metadata": {}
  },
  {
   "cell_type": "code",
   "execution_count": 3,
   "metadata": {},
   "outputs": [],
   "source": [
    "# 색 균형(color banlance)\n",
    "\n",
    "from PIL import Image\n",
    "from PIL import ImageEnhance\n",
    "\n",
    "def enhance_color(image_path, enhance_factor, output_path):\n",
    "    image = Image.open(image_path)\n",
    "    enhancer = ImageEnhance.Color(image)\n",
    "    new_image = enhancer.enhance(enhance_factor)\n",
    "    new_image.save(output_path)\n",
    "\n",
    "# factor 값은 0.0~1.0 사이의 값을 갖는다.\n",
    "if __name__ == \"__main__\":\n",
    "    enhance_color(\"flowers_dallas.jpg\", 0.5, \"enhanced_flowers_dallas.jpg\")"
   ]
  },
  {
   "cell_type": "code",
   "execution_count": 6,
   "metadata": {},
   "outputs": [],
   "source": [
    "# image contrast (명암 대비)\n",
    "\n",
    "from PIL import Image\n",
    "from PIL import ImageEnhance\n",
    "\n",
    "def enhance_contrast(image_path, enhance_factor, output_path):\n",
    "    image = Image.open(image_path)\n",
    "    enhancer = ImageEnhance.Contrast(image)\n",
    "    new_image = enhancer.enhance(enhance_factor)\n",
    "    new_image.save(output_path)\n",
    "\n",
    "# factor 값은 0.0~1.0 사이의 값을 갖는다.\n",
    "if __name__ == \"__main__\":\n",
    "    enhance_contrast(\"flowers_dallas.jpg\", 3.0, \"enhance_contrast_flowers_dallas.jpg\")"
   ]
  },
  {
   "cell_type": "code",
   "execution_count": 7,
   "metadata": {},
   "outputs": [],
   "source": [
    "#Image Brightness (이미지 밝기)\n",
    "from PIL import Image\n",
    "from PIL import ImageEnhance\n",
    "\n",
    "def enhance_brightness(image_path, enhance_factor, output_path):\n",
    "    image = Image.open(image_path)\n",
    "    enhancer = ImageEnhance.Brightness(image)\n",
    "    new_image = enhancer.enhance(enhance_factor)\n",
    "    new_image.save(output_path)\n",
    "\n",
    "# factor 값은 0.0~1.0 사이의 값을 갖는다.\n",
    "if __name__ == \"__main__\":\n",
    "    enhance_brightness(\"flowers_dallas.jpg\", 3.0, \"enhance_brightness_flowers_dallas.jpg\")"
   ]
  },
  {
   "cell_type": "code",
   "execution_count": 9,
   "metadata": {},
   "outputs": [],
   "source": [
    "#Image sharpness (이미지 선명도)\n",
    "from PIL import Image\n",
    "from PIL import ImageEnhance\n",
    "\n",
    "def enhance_sharpness(image_path, enhance_factor, output_path):\n",
    "    image = Image.open(image_path)\n",
    "    enhancer = ImageEnhance.Sharpness(image)\n",
    "    new_image = enhancer.enhance(enhance_factor)\n",
    "    new_image.save(output_path)\n",
    "\n",
    "# factor 값은 0.0~1.0 사이의 값을 갖는다.\n",
    "if __name__ == \"__main__\":\n",
    "    enhance_sharpness(\"flowers_dallas.jpg\", 7.0, \"enhance_sharpness_flowers_dallas.jpg\")"
   ]
  },
  {
   "cell_type": "code",
   "execution_count": null,
   "metadata": {},
   "outputs": [],
   "source": []
  }
 ]
}