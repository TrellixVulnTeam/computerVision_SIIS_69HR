{
 "metadata": {
  "language_info": {
   "codemirror_mode": {
    "name": "ipython",
    "version": 3
   },
   "file_extension": ".py",
   "mimetype": "text/x-python",
   "name": "python",
   "nbconvert_exporter": "python",
   "pygments_lexer": "ipython3",
   "version": "3.9.4"
  },
  "orig_nbformat": 2,
  "kernelspec": {
   "name": "python394jvsc74a57bd0a0c887ef31711c6482a08a68af1f88a2fbe2698c12124906c37da4d78e6b13e9",
   "display_name": "Python 3.9.4 64-bit ('pillow_lab_venv')"
  },
  "metadata": {
   "interpreter": {
    "hash": "a0c887ef31711c6482a08a68af1f88a2fbe2698c12124906c37da4d78e6b13e9"
   }
  }
 },
 "nbformat": 4,
 "nbformat_minor": 2,
 "cells": [
  {
   "cell_type": "code",
   "execution_count": 2,
   "metadata": {},
   "outputs": [
    {
     "output_type": "execute_result",
     "data": {
      "text/plain": [
       "(960, 640)"
      ]
     },
     "metadata": {},
     "execution_count": 2
    }
   ],
   "source": [
    "from PIL import Image\n",
    "\n",
    "image = Image.open(\"flowers_dallas.jpg\")\n",
    "image.size"
   ]
  },
  {
   "cell_type": "code",
   "execution_count": 4,
   "metadata": {},
   "outputs": [],
   "source": [
    "from PIL import Image\n",
    "\n",
    "def crop_image(image_path, coords, output_image_path):\n",
    "    image = Image.open(image_path)\n",
    "    cropped_image = image.crop(coords)\n",
    "    cropped_image.save(output_image_path)\n",
    "\n",
    "if __name__ == \"__main__\":\n",
    "    crop_image(\"flowers_dallas.jpg\", (302,101,910,574), \"cropped_flowers_dallas.jpg\")\n",
    "    # 튜플 형태로 입력에서의 출력 형태를 정의해준다.\n"
   ]
  },
  {
   "cell_type": "code",
   "execution_count": 10,
   "metadata": {},
   "outputs": [],
   "source": [
    "from PIL import Image\n",
    "\n",
    "def rotate_image(image_path, degrees_to_rotate, output_image_path):\n",
    "    image = Image.open(image_path)\n",
    "    rotate_image = image.rotate(degrees_to_rotate)\n",
    "    rotate_image.save(output_image_path)\n",
    "\n",
    "if __name__ == \"__main__\":\n",
    "    rotate_image(\"flowers_dallas.jpg\", 90, \"rotate_image_flowers_dallas.jpg\")\n"
   ]
  },
  {
   "cell_type": "code",
   "execution_count": 11,
   "metadata": {},
   "outputs": [],
   "source": [
    "from PIL import Image\n",
    "\n",
    "def rotate_center_image(image_path, degrees_to_rotate, output_image_path):\n",
    "    image = Image.open(image_path)\n",
    "    rotate_image = image.rotate(degrees_to_rotate, center=(100, 100))\n",
    "    rotate_image.save(output_image_path)\n",
    "\n",
    "if __name__ == \"__main__\":\n",
    "    rotate_center_image(\"flowers_dallas.jpg\", 90, \"rotate_center_image_flowers_dallas.jpg\")\n"
   ]
  },
  {
   "cell_type": "code",
   "execution_count": 12,
   "metadata": {},
   "outputs": [],
   "source": [
    "from PIL import Image\n",
    "\n",
    "def rotate_fillcolor_image(image_path, degrees_to_rotate, output_image_path):\n",
    "    image = Image.open(image_path)\n",
    "    rotate_image = image.rotate(degrees_to_rotate, fillcolor=(255, 0,0))\n",
    "    rotate_image.save(output_image_path)\n",
    "\n",
    "if __name__ == \"__main__\":\n",
    "    rotate_fillcolor_image(\"flowers_dallas.jpg\", 90, \"rotate_fillcolor_image_flowers_dallas.jpg\")\n"
   ]
  },
  {
   "cell_type": "code",
   "execution_count": 14,
   "metadata": {},
   "outputs": [],
   "source": [
    "from PIL import Image\n",
    "\n",
    "def mirror_image(image_path, output_image_path):\n",
    "    image = Image.open(image_path)\n",
    "    mirror_image = image.transpose(Image.FLIP_LEFT_RIGHT)\n",
    "    mirror_image.save(output_image_path)\n",
    "\n",
    "if __name__ == \"__main__\":\n",
    "    mirror_image(\"flowers_dallas.jpg\", \"mirror_image_flowers_dallas.jpg\")\n"
   ]
  },
  {
   "cell_type": "code",
   "execution_count": 15,
   "metadata": {},
   "outputs": [
    {
     "output_type": "stream",
     "name": "stdout",
     "text": [
      "원래 사진의 크기 : 폭 960, 높이 640\nresize한 사진의 크기: 폭480, 높이320\n"
     ]
    }
   ],
   "source": [
    "from PIL import Image\n",
    "\n",
    "def resize(input_image_path, output_image, size):\n",
    "    image = Image.open(input_image_path)\n",
    "    width, height = image.size\n",
    "    print(f\"원래 사진의 크기 : 폭 {width}, 높이 {height}\")\n",
    "\n",
    "    resized_image = image.resize(size)\n",
    "    width, height = resized_image.size\n",
    "    print(f\"resize한 사진의 크기: 폭{width}, 높이{height}\")\n",
    "    resized_image.save(output_image)\n",
    "\n",
    "if __name__ == \"__main__\":\n",
    "    resize(\n",
    "        \"flowers_dallas.jpg\",\n",
    "        \"resized_flowers_dallas.jpg\",\n",
    "        size=(480, 320)\n",
    "    )"
   ]
  },
  {
   "cell_type": "code",
   "execution_count": 20,
   "metadata": {},
   "outputs": [
    {
     "output_type": "stream",
     "name": "stdout",
     "text": [
      "이미지의 크기: 폭 960/높이 640\n"
     ]
    },
    {
     "output_type": "error",
     "ename": "SystemExit",
     "evalue": "값을 넣어주세요",
     "traceback": [
      "An exception has occurred, use %tb to see the full traceback.\n",
      "\u001b[0;31mSystemExit\u001b[0m\u001b[0;31m:\u001b[0m 값을 넣어주세요\n"
     ]
    }
   ],
   "source": [
    "# 비율을 계산하여 이미지 크기를 조정\n",
    "\n",
    "비율을 계산하여 이미지 크기를 조정\n",
    "\n",
    "# 다시하기\n",
    "import sys \n",
    "from PIL import Image\n",
    "\n",
    "def scale(input_image_path, output_image_path, width=None, height=None):\n",
    "    image = Image.open(input_image_path)\n",
    "    width_original, height_original = image.size\n",
    "    print(f\"이미지의 크기: 폭 {width_original}/높이 {height_original}\")\n",
    "\n",
    "    if width and height:\n",
    "        max_size = (width, height)\n",
    "    elif width:\n",
    "        max_size = (width, height_original)\n",
    "    elif width:\n",
    "        max_size = (width_original, height)\n",
    "    else:\n",
    "        sys.exit(\"값을 넣어주세요\")\n",
    "\n",
    "    image.thumbnail(max_size, Image.ANTIALIAS)\n",
    "    image.save(output_image_path)\n",
    "\n",
    "    scaled_image = Image.open(output_image_path)\n",
    "    width, height = scaled_image.size\n",
    "    print(f\"조정한 이미지의 크기 : 폭 {width}/ 높이{height}\")\n",
    "\n",
    "if __name__ == \"__main__\":\n",
    "    scale(\n",
    "        \"flowers_dallas.jpg\",\n",
    "        \"scaled_flowers_dallas.jpg\",\n",
    "        height = 200\n",
    "    )"
   ]
  },
  {
   "cell_type": "code",
   "execution_count": null,
   "metadata": {},
   "outputs": [],
   "source": []
  }
 ]
}