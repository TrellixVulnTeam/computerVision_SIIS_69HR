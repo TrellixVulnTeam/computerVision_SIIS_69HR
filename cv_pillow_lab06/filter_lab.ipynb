{
 "metadata": {
  "language_info": {
   "codemirror_mode": {
    "name": "ipython",
    "version": 3
   },
   "file_extension": ".py",
   "mimetype": "text/x-python",
   "name": "python",
   "nbconvert_exporter": "python",
   "pygments_lexer": "ipython3",
   "version": "3.9.4"
  },
  "orig_nbformat": 2,
  "kernelspec": {
   "name": "python394jvsc74a57bd0a0c887ef31711c6482a08a68af1f88a2fbe2698c12124906c37da4d78e6b13e9",
   "display_name": "Python 3.9.4 64-bit ('pillow_lab_venv')"
  },
  "metadata": {
   "interpreter": {
    "hash": "a0c887ef31711c6482a08a68af1f88a2fbe2698c12124906c37da4d78e6b13e9"
   }
  }
 },
 "nbformat": 4,
 "nbformat_minor": 2,
 "cells": [
  {
   "source": [],
   "cell_type": "markdown",
   "metadata": {}
  },
  {
   "cell_type": "code",
   "execution_count": null,
   "metadata": {},
   "outputs": [],
   "source": [
    "## Filter (사진에 효과) : Computer Vision => Image Transformation or image transform\n",
    "\n",
    "### image transform 은 결국에는 어떤 함수 (function)이다. \n",
    "- 입력이 이미지, 출력은 함수가 가진 처리한 결과가 반영된 이미지\n",
    "\n",
    "### 필터들이 하는 역할\n",
    "- 1) 이미지의 색 변경 / 2장에서 grayscale도 하고, sepia\n",
    "- 2) 이미지를 선명하게 하거나 흐릿하하게 하기\n",
    "- 3) ...\n",
    "\n",
    "### pillow 내장 (build-in) 필터 존재한다.\n",
    "### ImageFilter 모듈을 사용\n",
    "\n",
    "- 이 모듈이 지원하는 필터\n",
    "\n",
    "- BLUR\n",
    "- CONTOUR\n",
    "- DETAIL\n",
    "- EDGE_ENHANCE\n",
    "- EDGE_ENHANCE_MORE\n",
    "- EMBOSS\n",
    "- FIND_EDGES\n",
    "- SHARPEN\n",
    "- SMOOTH\n",
    "- SMOOTH_MORE\n",
    "\n",
    "- ankFilters\n",
    "- ultibandFilters 등등"
   ]
  },
  {
   "cell_type": "code",
   "execution_count": 10,
   "metadata": {},
   "outputs": [],
   "source": [
    "# Blur\n",
    "from PIL import Image\n",
    "from PIL import ImageFilter\n",
    "\n",
    "def blur(input_image, output_image):\n",
    "    image = Image.open(input_image)\n",
    "    filtered_image = image.filter(ImageFilter.BLUR)\n",
    "    filtered_image.save(output_image)\n",
    "\n",
    "if __name__ == \"__main__\":\n",
    "    blur(\"butterfly.jpg\", \"blurred_butterfly.jpg\")"
   ]
  },
  {
   "cell_type": "code",
   "execution_count": 11,
   "metadata": {},
   "outputs": [],
   "source": [
    "# contour\n",
    "from PIL import Image\n",
    "from PIL import ImageFilter\n",
    "\n",
    "def contour(input_image, output_image):\n",
    "    image = Image.open(input_image)\n",
    "    filtered_image = image.filter(ImageFilter.CONTOUR)\n",
    "    filtered_image.save(output_image)\n",
    "\n",
    "if __name__ == \"__main__\":\n",
    "    contour(\"flowers_dallas.jpg\", \"contour_flowers.jpg\")"
   ]
  },
  {
   "cell_type": "code",
   "execution_count": 12,
   "metadata": {},
   "outputs": [],
   "source": [
    "# Detail\n",
    "from PIL import Image\n",
    "from PIL import ImageFilter\n",
    "\n",
    "def Detail(input_image, output_image):\n",
    "    image = Image.open(input_image)\n",
    "    filtered_image = image.filter(ImageFilter.DETAIL)\n",
    "    filtered_image.save(output_image)\n",
    "\n",
    "if __name__ == \"__main__\":\n",
    "    Detail(\"flowers_dallas.jpg\", \"detail_flowers.jpg\")"
   ]
  },
  {
   "cell_type": "code",
   "execution_count": 14,
   "metadata": {},
   "outputs": [],
   "source": [
    "# enhance\n",
    "from PIL import Image\n",
    "from PIL import ImageFilter\n",
    "\n",
    "def enhance(input_image, output_image):\n",
    "    image = Image.open(input_image)\n",
    "    filtered_image = image.filter(ImageFilter.EDGE_ENHANCE)\n",
    "    filtered_image.save(output_image)\n",
    "\n",
    "if __name__ == \"__main__\":\n",
    "    enhance(\"flowers_dallas.jpg\", \"enhance_flowers.jpg\")"
   ]
  },
  {
   "cell_type": "code",
   "execution_count": 15,
   "metadata": {},
   "outputs": [],
   "source": [
    "# emboss\n",
    "from PIL import Image\n",
    "from PIL import ImageFilter\n",
    "\n",
    "def emboss(input_image, output_image):\n",
    "    image = Image.open(input_image)\n",
    "    filtered_image = image.filter(ImageFilter.EMBOSS)\n",
    "    filtered_image.save(output_image)\n",
    "\n",
    "if __name__ == \"__main__\":\n",
    "    emboss(\"flowers_dallas.jpg\", \"emboss_flowers.jpg\")"
   ]
  },
  {
   "cell_type": "code",
   "execution_count": 18,
   "metadata": {},
   "outputs": [],
   "source": [
    "# find_edges 필터\n",
    "from PIL import Image\n",
    "from PIL import ImageFilter\n",
    "\n",
    "def find_edges(input_image, output_image):\n",
    "    image = Image.open(input_image)\n",
    "    filtered_image = image.filter(ImageFilter.FIND_EDGES)\n",
    "    filtered_image.save(output_image)\n",
    "\n",
    "if __name__ == \"__main__\":\n",
    "    find_edges(\"flowers_dallas.jpg\", \"find_edges_flowers.jpg\")"
   ]
  },
  {
   "cell_type": "code",
   "execution_count": 19,
   "metadata": {},
   "outputs": [],
   "source": [
    "# sharpen 필터\n",
    "from PIL import Image\n",
    "from PIL import ImageFilter\n",
    "\n",
    "def sharpen(input_image, output_image):\n",
    "    image = Image.open(input_image)\n",
    "    filtered_image = image.filter(ImageFilter.SHARPEN)\n",
    "    filtered_image.save(output_image)\n",
    "\n",
    "if __name__ == \"__main__\":\n",
    "    sharpen(\"flowers_dallas.jpg\", \"sharpen_flowers.jpg\")"
   ]
  },
  {
   "cell_type": "code",
   "execution_count": 20,
   "metadata": {},
   "outputs": [],
   "source": [
    "# smooth 필터\n",
    "from PIL import Image\n",
    "from PIL import ImageFilter\n",
    "\n",
    "def smooth(input_image, output_image):\n",
    "    image = Image.open(input_image)\n",
    "    filtered_image = image.filter(ImageFilter.SMOOTH)\n",
    "    filtered_image.save(output_image)\n",
    "\n",
    "if __name__ == \"__main__\":\n",
    "    smooth(\"flowers_dallas.jpg\", \"smooth_flowers.jpg\")"
   ]
  },
  {
   "cell_type": "code",
   "execution_count": 21,
   "metadata": {},
   "outputs": [],
   "source": [
    "# smooth_more 필터\n",
    "from PIL import Image\n",
    "from PIL import ImageFilter\n",
    "\n",
    "def smooth_more(input_image, output_image):\n",
    "    image = Image.open(input_image)\n",
    "    filtered_image = image.filter(ImageFilter.SMOOTH_MORE)\n",
    "    filtered_image.save(output_image)\n",
    "\n",
    "if __name__ == \"__main__\":\n",
    "    smooth_more(\"flowers_dallas.jpg\", \"smooth_more_flowers.jpg\")"
   ]
  },
  {
   "source": [
    "### RankFilters 필터\n",
    "### kernel = convolution matrix\n",
    "### blurring, sharpening, embossing, edge, detection, 기타 등등\n",
    "### convolution : 커널이 지나가는 동안 각 행렬의 요소와 픽셀간에 처리를 하는 과정\n",
    "### pillow에서는 3x3, 5x5 지원하고 이 행렬은 소수점을 가질 수 있다. \n",
    "- 1) MinFilter\n",
    "- 2) MedianFilter\n",
    "- 3) MaxFilter\n"
   ],
   "cell_type": "markdown",
   "metadata": {}
  },
  {
   "cell_type": "code",
   "execution_count": 40,
   "metadata": {},
   "outputs": [],
   "source": [
    "from PIL import Image\n",
    "from PIL import ImageFilter\n",
    "\n",
    "def minfilter(input_image, output_image):\n",
    "    image = Image.open(input_image)\n",
    "    filtered_image = image.filter(ImageFilter.MinFilter(size=3))\n",
    "    filtered_image.save(output_image)\n",
    "\n",
    "if __name__ == \"__main__\":\n",
    "    minfilter(\"flowers_dallas.jpg\", \"minFilter3_flowers.jpg\")"
   ]
  },
  {
   "cell_type": "code",
   "execution_count": 41,
   "metadata": {},
   "outputs": [],
   "source": [
    "from PIL import Image\n",
    "from PIL import ImageFilter\n",
    "\n",
    "def minfilter(input_image, output_image):\n",
    "    image = Image.open(input_image)\n",
    "    filtered_image = image.filter(ImageFilter.MinFilter(size=5))\n",
    "    filtered_image.save(output_image)\n",
    "\n",
    "if __name__ == \"__main__\":\n",
    "    minfilter(\"flowers_dallas.jpg\", \"minFilter5_flowers.jpg\")"
   ]
  },
  {
   "cell_type": "code",
   "execution_count": 42,
   "metadata": {},
   "outputs": [],
   "source": [
    "from PIL import Image\n",
    "from PIL import ImageFilter\n",
    "\n",
    "def medianFilter(input_image, output_image):\n",
    "    image = Image.open(input_image)\n",
    "    filtered_image = image.filter(ImageFilter.MedianFilter(size=5))\n",
    "    filtered_image.save(output_image)\n",
    "\n",
    "if __name__ == \"__main__\":\n",
    "    medianFilter(\"flowers_dallas.jpg\", \"medianFilter_flowers.jpg\")"
   ]
  },
  {
   "source": [
    "### MultiBand Filter 적용\n",
    "- 1) BoxBlur\n",
    "- 2) GaussianBlur\n",
    "- 3) Color3DLUT\n",
    "- 4) UnsharpMask"
   ],
   "cell_type": "markdown",
   "metadata": {}
  },
  {
   "cell_type": "code",
   "execution_count": 43,
   "metadata": {},
   "outputs": [],
   "source": [
    "# boxblur 필터\n",
    "# box linear filter\n",
    "# 1. 이미지의 한 픽셀이 있으면, 그 주위의 값(색의 값)을 기반으로 해서 평균을 구한다. \n",
    "from PIL import Image\n",
    "from PIL import ImageFilter\n",
    "\n",
    "def boxblur(input_image, output_image):\n",
    "    image = Image.open(input_image)\n",
    "    filtered_image = image.filter(ImageFilter.BoxBlur(radius=2))\n",
    "    filtered_image.save(output_image)\n",
    "\n",
    "if __name__ == \"__main__\":\n",
    "    boxblur(\"flowers_dallas.jpg\", \"boxblur_flowers.jpg\")"
   ]
  },
  {
   "cell_type": "code",
   "execution_count": 44,
   "metadata": {},
   "outputs": [],
   "source": [
    "\n",
    "from PIL import Image\n",
    "from PIL import ImageFilter\n",
    "\n",
    "def boxblur7(input_image, output_image):\n",
    "    image = Image.open(input_image)\n",
    "    filtered_image = image.filter(ImageFilter.BoxBlur(radius=7))\n",
    "    filtered_image.save(output_image)\n",
    "\n",
    "if __name__ == \"__main__\":\n",
    "    boxblur7(\"flowers_dallas.jpg\", \"boxblur7_flowers.jpg\")"
   ]
  },
  {
   "cell_type": "code",
   "execution_count": 45,
   "metadata": {},
   "outputs": [],
   "source": [
    "# gaussian blur 필터\n",
    "# 이미지의 노이즈(카메라의 먼지 등)를 줄여주거나, 이미지의 선명도를 줄어준다. => 반투명 효과\n",
    "# 몇몇 컴퓨터 비전 알고리즘에서는 이미지 전처리에 gaussian smoothing을 사용하기도 한다.\n",
    "# 외곽선이나 패턴을 찾기 쉽게하기 위해 처리\n",
    "\n",
    "from PIL import Image\n",
    "from PIL import ImageFilter\n",
    "\n",
    "def gaussian_blur(input_image, output_image):\n",
    "    image = Image.open(input_image)\n",
    "    filtered_image = image.filter(ImageFilter.GaussianBlur)\n",
    "    filtered_image.save(output_image)\n",
    "\n",
    "if __name__ == \"__main__\":\n",
    "    gaussian_blur(\"flowers_dallas.jpg\", \"gaussian_blur_flowers.jpg\")"
   ]
  },
  {
   "cell_type": "code",
   "execution_count": 46,
   "metadata": {},
   "outputs": [],
   "source": [
    "from PIL import Image\n",
    "from PIL import ImageFilter\n",
    "\n",
    "def gaussian_blur5(input_image, output_image):\n",
    "    image = Image.open(input_image)\n",
    "    filtered_image = image.filter(ImageFilter.GaussianBlur(radius=5))\n",
    "    filtered_image.save(output_image)\n",
    "\n",
    "if __name__ == \"__main__\":\n",
    "    gaussian_blur5(\"flowers_dallas.jpg\", \"gaussian_blur5_flowers.jpg\")"
   ]
  },
  {
   "cell_type": "code",
   "execution_count": 47,
   "metadata": {},
   "outputs": [],
   "source": [
    "# Color3DLUT 필터 \n",
    "# 3D Lookup Table라고도 함.\n",
    "# 특정 색의 공간 다른 색의 공간으로 이동시킨다.\n",
    "# Color Space (색 공간): 색들의 모임\n",
    "\n",
    "from PIL import Image\n",
    "from PIL import ImageFilter\n",
    "\n",
    "def color_lut(input_image, output_image):\n",
    "    image = Image.open(input_image)\n",
    "    filtered_image = image.filter(ImageFilter.Color3DLUT(2,[0,1,2]*8))\n",
    "    filtered_image.save(output_image)\n",
    "\n",
    "if __name__ == \"__main__\":\n",
    "    color_lut(\"flowers_dallas.jpg\", \"color_lut_flowers.jpg\")"
   ]
  },
  {
   "cell_type": "code",
   "execution_count": 48,
   "metadata": {},
   "outputs": [],
   "source": [
    "# unsharpmask\n",
    "# USM : 이미지의 처리할 mask로서 이미지의 blur 처리한 자기자신의 이미지를 사용해서 선명하게 만들어주는 방법 중 하나\n",
    "# 즉, 원래 이미지와 blur한 이미지를 합쳐주는 방식\n",
    "# UnsharpMask()는 \n",
    "# 1) radius 기본값: 2\n",
    "# 2) percent 기본값: 150\n",
    "# 3) threshold 기본값: 3\n",
    "\n",
    "\n",
    "from PIL import Image\n",
    "from PIL import ImageFilter\n",
    "\n",
    "def unsharp_mask(input_image, output_image):\n",
    "    image = Image.open(input_image)\n",
    "    filtered_image = image.filter(ImageFilter.UnsharpMask)\n",
    "    filtered_image.save(output_image)\n",
    "\n",
    "if __name__ == \"__main__\":\n",
    "    unsharp_mask(\"flowers_dallas.jpg\", \"unsharp_mask_flowers.jpg\")"
   ]
  },
  {
   "cell_type": "code",
   "execution_count": null,
   "metadata": {},
   "outputs": [],
   "source": []
  }
 ]
}